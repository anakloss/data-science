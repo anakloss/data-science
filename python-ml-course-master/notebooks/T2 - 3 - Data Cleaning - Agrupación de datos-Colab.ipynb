{
 "cells": [
  {
   "cell_type": "markdown",
   "metadata": {
    "colab_type": "text",
    "id": "view-in-github"
   },
   "source": [
    "<a href=\"https://colab.research.google.com/github/joanby/python-ml-course/blob/Collab---v-3.8/notebooks/T2%20-%203%20-%20Data%20Cleaning%20-%20Agrupaci%C3%B3n%20de%20datos.ipynb\" target=\"_parent\"><img src=\"https://colab.research.google.com/assets/colab-badge.svg\" alt=\"Open In Colab\"/></a>"
   ]
  },
  {
   "cell_type": "markdown",
   "metadata": {
    "colab_type": "text",
    "id": "K2teubACAkRb"
   },
   "source": [
    "# Agregación de datos por categoría"
   ]
  },
  {
   "cell_type": "code",
   "execution_count": 0,
   "metadata": {
    "colab": {},
    "colab_type": "code",
    "id": "VDV8LPSJA61J"
   },
   "outputs": [],
   "source": [
    "from google.colab import drive\n",
    "drive.mount('/content/drive')"
   ]
  },
  {
   "cell_type": "code",
   "execution_count": 0,
   "metadata": {
    "colab": {},
    "colab_type": "code",
    "id": "zwuY-TMgAkRc"
   },
   "outputs": [],
   "source": [
    "import numpy as np\n",
    "import pandas as pd"
   ]
  },
  {
   "cell_type": "code",
   "execution_count": 0,
   "metadata": {
    "colab": {},
    "colab_type": "code",
    "id": "0r6-BV-FAkRi"
   },
   "outputs": [],
   "source": [
    "gender = [\"Male\", \"Female\"]\n",
    "income = [\"Poor\", \"Middle Class\", \"Rich\"]"
   ]
  },
  {
   "cell_type": "code",
   "execution_count": 0,
   "metadata": {
    "colab": {},
    "colab_type": "code",
    "id": "dUOu8paRAkRl"
   },
   "outputs": [],
   "source": [
    "n = 500\n",
    "\n",
    "gender_data = []\n",
    "income_data = []\n",
    "\n",
    "for i in range(0,500):\n",
    "    gender_data.append(np.random.choice(gender))\n",
    "    income_data.append(np.random.choice(income))"
   ]
  },
  {
   "cell_type": "code",
   "execution_count": 4,
   "metadata": {
    "colab": {
     "base_uri": "https://localhost:8080/",
     "height": 170
    },
    "colab_type": "code",
    "id": "wz2m3fpuAkRo",
    "outputId": "fe626221-e112-4cdd-cfb3-6d68a36045b8"
   },
   "outputs": [
    {
     "data": {
      "text/plain": [
       "['Male',\n",
       " 'Female',\n",
       " 'Male',\n",
       " 'Male',\n",
       " 'Female',\n",
       " 'Female',\n",
       " 'Female',\n",
       " 'Female',\n",
       " 'Male']"
      ]
     },
     "execution_count": 4,
     "metadata": {
      "tags": []
     },
     "output_type": "execute_result"
    }
   ],
   "source": [
    "gender_data[1:10]"
   ]
  },
  {
   "cell_type": "code",
   "execution_count": 5,
   "metadata": {
    "colab": {
     "base_uri": "https://localhost:8080/",
     "height": 170
    },
    "colab_type": "code",
    "id": "CafW2UzYAkRr",
    "outputId": "748ee054-8376-4ff8-c445-9d4734231046"
   },
   "outputs": [
    {
     "data": {
      "text/plain": [
       "['Middle Class',\n",
       " 'Rich',\n",
       " 'Rich',\n",
       " 'Poor',\n",
       " 'Poor',\n",
       " 'Rich',\n",
       " 'Middle Class',\n",
       " 'Middle Class',\n",
       " 'Middle Class']"
      ]
     },
     "execution_count": 5,
     "metadata": {
      "tags": []
     },
     "output_type": "execute_result"
    }
   ],
   "source": [
    "income_data[1:10]"
   ]
  },
  {
   "cell_type": "code",
   "execution_count": 0,
   "metadata": {
    "colab": {},
    "colab_type": "code",
    "id": "Q53rIw03AkRu"
   },
   "outputs": [],
   "source": [
    "#Z -> N(0,1)\n",
    "#N(m, s) -> m + s * Z\n",
    "height = 160 + 30 * np.random.randn(n)\n",
    "weight = 65 + 25 * np.random.randn(n)\n",
    "age = 30 + 12 * np.random.randn(n)\n",
    "income = 18000 + 3500 * np.random.rand(n)"
   ]
  },
  {
   "cell_type": "code",
   "execution_count": 0,
   "metadata": {
    "colab": {},
    "colab_type": "code",
    "id": "tUaeOrqrAkRv"
   },
   "outputs": [],
   "source": [
    "data = pd.DataFrame(\n",
    "    {\n",
    "        \"Gender\" : gender_data,\n",
    "        \"Economic Status\" : income_data,\n",
    "        \"Height\" : height,\n",
    "        \"Weight\" : weight,\n",
    "        \"Age\" : age,\n",
    "        \"Income\" : income\n",
    "    }\n",
    ")"
   ]
  },
  {
   "cell_type": "code",
   "execution_count": 8,
   "metadata": {
    "colab": {
     "base_uri": "https://localhost:8080/",
     "height": 204
    },
    "colab_type": "code",
    "id": "MXeeNF_YAkRx",
    "outputId": "885503b1-4c71-4dea-f6cf-0aefe3c893e6"
   },
   "outputs": [
    {
     "data": {
      "text/html": [
       "<div>\n",
       "<style scoped>\n",
       "    .dataframe tbody tr th:only-of-type {\n",
       "        vertical-align: middle;\n",
       "    }\n",
       "\n",
       "    .dataframe tbody tr th {\n",
       "        vertical-align: top;\n",
       "    }\n",
       "\n",
       "    .dataframe thead th {\n",
       "        text-align: right;\n",
       "    }\n",
       "</style>\n",
       "<table border=\"1\" class=\"dataframe\">\n",
       "  <thead>\n",
       "    <tr style=\"text-align: right;\">\n",
       "      <th></th>\n",
       "      <th>Gender</th>\n",
       "      <th>Economic Status</th>\n",
       "      <th>Height</th>\n",
       "      <th>Weight</th>\n",
       "      <th>Age</th>\n",
       "      <th>Income</th>\n",
       "    </tr>\n",
       "  </thead>\n",
       "  <tbody>\n",
       "    <tr>\n",
       "      <th>0</th>\n",
       "      <td>Female</td>\n",
       "      <td>Rich</td>\n",
       "      <td>196.343940</td>\n",
       "      <td>60.909064</td>\n",
       "      <td>40.451221</td>\n",
       "      <td>21385.958772</td>\n",
       "    </tr>\n",
       "    <tr>\n",
       "      <th>1</th>\n",
       "      <td>Male</td>\n",
       "      <td>Middle Class</td>\n",
       "      <td>153.697110</td>\n",
       "      <td>48.005164</td>\n",
       "      <td>48.163870</td>\n",
       "      <td>19757.653998</td>\n",
       "    </tr>\n",
       "    <tr>\n",
       "      <th>2</th>\n",
       "      <td>Female</td>\n",
       "      <td>Rich</td>\n",
       "      <td>146.713926</td>\n",
       "      <td>53.476714</td>\n",
       "      <td>31.144568</td>\n",
       "      <td>20279.476735</td>\n",
       "    </tr>\n",
       "    <tr>\n",
       "      <th>3</th>\n",
       "      <td>Male</td>\n",
       "      <td>Rich</td>\n",
       "      <td>183.988501</td>\n",
       "      <td>71.785466</td>\n",
       "      <td>34.192437</td>\n",
       "      <td>19778.532678</td>\n",
       "    </tr>\n",
       "    <tr>\n",
       "      <th>4</th>\n",
       "      <td>Male</td>\n",
       "      <td>Poor</td>\n",
       "      <td>179.805582</td>\n",
       "      <td>58.547234</td>\n",
       "      <td>32.501684</td>\n",
       "      <td>19346.337986</td>\n",
       "    </tr>\n",
       "  </tbody>\n",
       "</table>\n",
       "</div>"
      ],
      "text/plain": [
       "   Gender Economic Status      Height     Weight        Age        Income\n",
       "0  Female            Rich  196.343940  60.909064  40.451221  21385.958772\n",
       "1    Male    Middle Class  153.697110  48.005164  48.163870  19757.653998\n",
       "2  Female            Rich  146.713926  53.476714  31.144568  20279.476735\n",
       "3    Male            Rich  183.988501  71.785466  34.192437  19778.532678\n",
       "4    Male            Poor  179.805582  58.547234  32.501684  19346.337986"
      ]
     },
     "execution_count": 8,
     "metadata": {
      "tags": []
     },
     "output_type": "execute_result"
    }
   ],
   "source": [
    "data.head()"
   ]
  },
  {
   "cell_type": "markdown",
   "metadata": {
    "colab_type": "text",
    "id": "lcIDvGCfAkRy"
   },
   "source": [
    "## Agrupación de datos"
   ]
  },
  {
   "cell_type": "code",
   "execution_count": 0,
   "metadata": {
    "colab": {},
    "colab_type": "code",
    "id": "b0ejXt6rAkRz"
   },
   "outputs": [],
   "source": [
    "grouped_gender = data.groupby(\"Gender\")"
   ]
  },
  {
   "cell_type": "code",
   "execution_count": 10,
   "metadata": {
    "colab": {
     "base_uri": "https://localhost:8080/",
     "height": 153
    },
    "colab_type": "code",
    "id": "aEiG5AFrAkR0",
    "outputId": "474eeb1c-4efa-4ecf-ba8e-1622a786f9cc"
   },
   "outputs": [
    {
     "data": {
      "text/plain": [
       "{'Female': Int64Index([  0,   2,   5,   6,   7,   8,  11,  12,  14,  15,\n",
       "             ...\n",
       "             480, 481, 484, 485, 488, 490, 491, 492, 493, 495],\n",
       "            dtype='int64', length=234),\n",
       " 'Male': Int64Index([  1,   3,   4,   9,  10,  13,  16,  17,  18,  19,\n",
       "             ...\n",
       "             482, 483, 486, 487, 489, 494, 496, 497, 498, 499],\n",
       "            dtype='int64', length=266)}"
      ]
     },
     "execution_count": 10,
     "metadata": {
      "tags": []
     },
     "output_type": "execute_result"
    }
   ],
   "source": [
    "grouped_gender.groups"
   ]
  },
  {
   "cell_type": "code",
   "execution_count": 11,
   "metadata": {
    "colab": {
     "base_uri": "https://localhost:8080/",
     "height": 527
    },
    "colab_type": "code",
    "id": "gSVmrowTAkR2",
    "outputId": "95eea914-8b1e-4c3f-ba12-3d28e821ff4b"
   },
   "outputs": [
    {
     "name": "stdout",
     "output_type": "stream",
     "text": [
      "Female\n",
      "     Gender Economic Status      Height     Weight        Age        Income\n",
      "0    Female            Rich  196.343940  60.909064  40.451221  21385.958772\n",
      "2    Female            Rich  146.713926  53.476714  31.144568  20279.476735\n",
      "5    Female            Poor  172.074560  28.192775  42.997942  21277.967078\n",
      "6    Female            Rich  182.532298  63.768421  57.426784  18952.149135\n",
      "7    Female    Middle Class  166.360472  33.332115  19.958657  19611.989916\n",
      "..      ...             ...         ...        ...        ...           ...\n",
      "490  Female            Rich  150.092007  67.726508  23.798001  19656.450662\n",
      "491  Female    Middle Class  156.545084  55.503196  26.584817  19038.000602\n",
      "492  Female    Middle Class  173.475638  52.248953  64.993034  20516.979828\n",
      "493  Female            Rich  169.567790  63.484671  29.763336  20821.406697\n",
      "495  Female    Middle Class  180.672252  51.029436  17.900334  20043.401932\n",
      "\n",
      "[234 rows x 6 columns]\n",
      "Male\n",
      "    Gender Economic Status      Height      Weight        Age        Income\n",
      "1     Male    Middle Class  153.697110   48.005164  48.163870  19757.653998\n",
      "3     Male            Rich  183.988501   71.785466  34.192437  19778.532678\n",
      "4     Male            Poor  179.805582   58.547234  32.501684  19346.337986\n",
      "9     Male    Middle Class  208.784072   72.931162  30.261495  18603.361929\n",
      "10    Male            Poor  166.139408  109.438657  38.757674  19853.349989\n",
      "..     ...             ...         ...         ...        ...           ...\n",
      "494   Male            Rich  185.358932   70.843868  31.240249  19538.632703\n",
      "496   Male            Rich  151.602650   43.765061  27.617103  20241.297735\n",
      "497   Male    Middle Class  149.973149   67.190925  36.479521  19335.750899\n",
      "498   Male            Rich  163.669365   98.571932  35.257657  18888.280373\n",
      "499   Male    Middle Class  148.236420   90.327894  13.374767  19467.309309\n",
      "\n",
      "[266 rows x 6 columns]\n"
     ]
    }
   ],
   "source": [
    "for names, groups in grouped_gender:\n",
    "    print(names)\n",
    "    print(groups)"
   ]
  },
  {
   "cell_type": "code",
   "execution_count": 12,
   "metadata": {
    "colab": {
     "base_uri": "https://localhost:8080/",
     "height": 419
    },
    "colab_type": "code",
    "id": "-eV8DVorAkR3",
    "outputId": "19c4888f-1ffc-47aa-9550-99fc166a5a93"
   },
   "outputs": [
    {
     "data": {
      "text/html": [
       "<div>\n",
       "<style scoped>\n",
       "    .dataframe tbody tr th:only-of-type {\n",
       "        vertical-align: middle;\n",
       "    }\n",
       "\n",
       "    .dataframe tbody tr th {\n",
       "        vertical-align: top;\n",
       "    }\n",
       "\n",
       "    .dataframe thead th {\n",
       "        text-align: right;\n",
       "    }\n",
       "</style>\n",
       "<table border=\"1\" class=\"dataframe\">\n",
       "  <thead>\n",
       "    <tr style=\"text-align: right;\">\n",
       "      <th></th>\n",
       "      <th>Gender</th>\n",
       "      <th>Economic Status</th>\n",
       "      <th>Height</th>\n",
       "      <th>Weight</th>\n",
       "      <th>Age</th>\n",
       "      <th>Income</th>\n",
       "    </tr>\n",
       "  </thead>\n",
       "  <tbody>\n",
       "    <tr>\n",
       "      <th>0</th>\n",
       "      <td>Female</td>\n",
       "      <td>Rich</td>\n",
       "      <td>196.343940</td>\n",
       "      <td>60.909064</td>\n",
       "      <td>40.451221</td>\n",
       "      <td>21385.958772</td>\n",
       "    </tr>\n",
       "    <tr>\n",
       "      <th>2</th>\n",
       "      <td>Female</td>\n",
       "      <td>Rich</td>\n",
       "      <td>146.713926</td>\n",
       "      <td>53.476714</td>\n",
       "      <td>31.144568</td>\n",
       "      <td>20279.476735</td>\n",
       "    </tr>\n",
       "    <tr>\n",
       "      <th>5</th>\n",
       "      <td>Female</td>\n",
       "      <td>Poor</td>\n",
       "      <td>172.074560</td>\n",
       "      <td>28.192775</td>\n",
       "      <td>42.997942</td>\n",
       "      <td>21277.967078</td>\n",
       "    </tr>\n",
       "    <tr>\n",
       "      <th>6</th>\n",
       "      <td>Female</td>\n",
       "      <td>Rich</td>\n",
       "      <td>182.532298</td>\n",
       "      <td>63.768421</td>\n",
       "      <td>57.426784</td>\n",
       "      <td>18952.149135</td>\n",
       "    </tr>\n",
       "    <tr>\n",
       "      <th>7</th>\n",
       "      <td>Female</td>\n",
       "      <td>Middle Class</td>\n",
       "      <td>166.360472</td>\n",
       "      <td>33.332115</td>\n",
       "      <td>19.958657</td>\n",
       "      <td>19611.989916</td>\n",
       "    </tr>\n",
       "    <tr>\n",
       "      <th>...</th>\n",
       "      <td>...</td>\n",
       "      <td>...</td>\n",
       "      <td>...</td>\n",
       "      <td>...</td>\n",
       "      <td>...</td>\n",
       "      <td>...</td>\n",
       "    </tr>\n",
       "    <tr>\n",
       "      <th>490</th>\n",
       "      <td>Female</td>\n",
       "      <td>Rich</td>\n",
       "      <td>150.092007</td>\n",
       "      <td>67.726508</td>\n",
       "      <td>23.798001</td>\n",
       "      <td>19656.450662</td>\n",
       "    </tr>\n",
       "    <tr>\n",
       "      <th>491</th>\n",
       "      <td>Female</td>\n",
       "      <td>Middle Class</td>\n",
       "      <td>156.545084</td>\n",
       "      <td>55.503196</td>\n",
       "      <td>26.584817</td>\n",
       "      <td>19038.000602</td>\n",
       "    </tr>\n",
       "    <tr>\n",
       "      <th>492</th>\n",
       "      <td>Female</td>\n",
       "      <td>Middle Class</td>\n",
       "      <td>173.475638</td>\n",
       "      <td>52.248953</td>\n",
       "      <td>64.993034</td>\n",
       "      <td>20516.979828</td>\n",
       "    </tr>\n",
       "    <tr>\n",
       "      <th>493</th>\n",
       "      <td>Female</td>\n",
       "      <td>Rich</td>\n",
       "      <td>169.567790</td>\n",
       "      <td>63.484671</td>\n",
       "      <td>29.763336</td>\n",
       "      <td>20821.406697</td>\n",
       "    </tr>\n",
       "    <tr>\n",
       "      <th>495</th>\n",
       "      <td>Female</td>\n",
       "      <td>Middle Class</td>\n",
       "      <td>180.672252</td>\n",
       "      <td>51.029436</td>\n",
       "      <td>17.900334</td>\n",
       "      <td>20043.401932</td>\n",
       "    </tr>\n",
       "  </tbody>\n",
       "</table>\n",
       "<p>234 rows × 6 columns</p>\n",
       "</div>"
      ],
      "text/plain": [
       "     Gender Economic Status      Height     Weight        Age        Income\n",
       "0    Female            Rich  196.343940  60.909064  40.451221  21385.958772\n",
       "2    Female            Rich  146.713926  53.476714  31.144568  20279.476735\n",
       "5    Female            Poor  172.074560  28.192775  42.997942  21277.967078\n",
       "6    Female            Rich  182.532298  63.768421  57.426784  18952.149135\n",
       "7    Female    Middle Class  166.360472  33.332115  19.958657  19611.989916\n",
       "..      ...             ...         ...        ...        ...           ...\n",
       "490  Female            Rich  150.092007  67.726508  23.798001  19656.450662\n",
       "491  Female    Middle Class  156.545084  55.503196  26.584817  19038.000602\n",
       "492  Female    Middle Class  173.475638  52.248953  64.993034  20516.979828\n",
       "493  Female            Rich  169.567790  63.484671  29.763336  20821.406697\n",
       "495  Female    Middle Class  180.672252  51.029436  17.900334  20043.401932\n",
       "\n",
       "[234 rows x 6 columns]"
      ]
     },
     "execution_count": 12,
     "metadata": {
      "tags": []
     },
     "output_type": "execute_result"
    }
   ],
   "source": [
    "grouped_gender.get_group(\"Female\")"
   ]
  },
  {
   "cell_type": "code",
   "execution_count": 0,
   "metadata": {
    "colab": {},
    "colab_type": "code",
    "id": "cSzGIkkTAkR4"
   },
   "outputs": [],
   "source": [
    "double_group = data.groupby([\"Gender\", \"Economic Status\"])"
   ]
  },
  {
   "cell_type": "code",
   "execution_count": 14,
   "metadata": {
    "colab": {
     "base_uri": "https://localhost:8080/",
     "height": 34
    },
    "colab_type": "code",
    "id": "ZQLuFUejAkR6",
    "outputId": "d42b8dad-d4aa-4be4-ee8c-71e6f15568f2"
   },
   "outputs": [
    {
     "data": {
      "text/plain": [
       "6"
      ]
     },
     "execution_count": 14,
     "metadata": {
      "tags": []
     },
     "output_type": "execute_result"
    }
   ],
   "source": [
    "len(double_group)"
   ]
  },
  {
   "cell_type": "code",
   "execution_count": 15,
   "metadata": {
    "colab": {
     "base_uri": "https://localhost:8080/",
     "height": 1000
    },
    "colab_type": "code",
    "id": "Eho6KDzUAkR7",
    "outputId": "a641a83c-cdcd-49d2-8c9b-c7f333a246d1"
   },
   "outputs": [
    {
     "name": "stdout",
     "output_type": "stream",
     "text": [
      "('Female', 'Middle Class')\n",
      "     Gender Economic Status      Height     Weight        Age        Income\n",
      "7    Female    Middle Class  166.360472  33.332115  19.958657  19611.989916\n",
      "8    Female    Middle Class  128.918824  76.401772  31.228420  21412.474051\n",
      "20   Female    Middle Class  178.792011  60.561514  42.988117  18128.069658\n",
      "30   Female    Middle Class  189.867726  54.644142  41.009437  19217.893656\n",
      "32   Female    Middle Class  175.316787  94.572508  31.077942  20033.912034\n",
      "..      ...             ...         ...        ...        ...           ...\n",
      "481  Female    Middle Class  198.371944  58.787997  30.735950  19162.782868\n",
      "488  Female    Middle Class  206.483490  77.263171  40.110498  20595.400103\n",
      "491  Female    Middle Class  156.545084  55.503196  26.584817  19038.000602\n",
      "492  Female    Middle Class  173.475638  52.248953  64.993034  20516.979828\n",
      "495  Female    Middle Class  180.672252  51.029436  17.900334  20043.401932\n",
      "\n",
      "[82 rows x 6 columns]\n",
      "('Female', 'Poor')\n",
      "     Gender Economic Status      Height      Weight        Age        Income\n",
      "5    Female            Poor  172.074560   28.192775  42.997942  21277.967078\n",
      "12   Female            Poor  153.654025   53.081185  15.043235  21227.230619\n",
      "15   Female            Poor  150.637828   59.962686  48.190578  20117.515158\n",
      "23   Female            Poor  169.697662  102.217818  20.978407  20540.140935\n",
      "24   Female            Poor  190.981807   65.731874  27.070750  19301.011334\n",
      "..      ...             ...         ...         ...        ...           ...\n",
      "440  Female            Poor  148.429338   98.029599  41.745566  19370.053905\n",
      "453  Female            Poor  115.551046   49.196529  32.176829  19887.500027\n",
      "456  Female            Poor  139.328070   58.870144  19.706834  19362.401595\n",
      "470  Female            Poor  215.296695   50.900935  45.546388  20787.032943\n",
      "484  Female            Poor  237.863120   19.951759  49.066417  19810.325445\n",
      "\n",
      "[75 rows x 6 columns]\n",
      "('Female', 'Rich')\n",
      "     Gender Economic Status      Height     Weight        Age        Income\n",
      "0    Female            Rich  196.343940  60.909064  40.451221  21385.958772\n",
      "2    Female            Rich  146.713926  53.476714  31.144568  20279.476735\n",
      "6    Female            Rich  182.532298  63.768421  57.426784  18952.149135\n",
      "11   Female            Rich  135.604574  43.813854  37.439586  20665.291519\n",
      "14   Female            Rich  165.719126  82.115136  19.543581  20145.928402\n",
      "..      ...             ...         ...        ...        ...           ...\n",
      "464  Female            Rich  240.729697  78.607448  49.416987  20748.672727\n",
      "474  Female            Rich  198.195999  80.450540  44.223839  19283.285635\n",
      "485  Female            Rich  192.922204  49.686179  19.355819  19586.770041\n",
      "490  Female            Rich  150.092007  67.726508  23.798001  19656.450662\n",
      "493  Female            Rich  169.567790  63.484671  29.763336  20821.406697\n",
      "\n",
      "[77 rows x 6 columns]\n",
      "('Male', 'Middle Class')\n",
      "    Gender Economic Status      Height      Weight        Age        Income\n",
      "1     Male    Middle Class  153.697110   48.005164  48.163870  19757.653998\n",
      "9     Male    Middle Class  208.784072   72.931162  30.261495  18603.361929\n",
      "16    Male    Middle Class  161.070008   68.680160  30.838949  18293.220540\n",
      "31    Male    Middle Class  114.204244   41.165313  31.326135  20729.504794\n",
      "36    Male    Middle Class  161.539602   68.489234  20.509221  19416.287680\n",
      "..     ...             ...         ...         ...        ...           ...\n",
      "461   Male    Middle Class  157.840594   66.737952  11.238893  18514.092443\n",
      "468   Male    Middle Class  149.264876  103.354641  36.840802  21094.214950\n",
      "477   Male    Middle Class  135.497506   36.109609  29.088379  19663.439572\n",
      "497   Male    Middle Class  149.973149   67.190925  36.479521  19335.750899\n",
      "499   Male    Middle Class  148.236420   90.327894  13.374767  19467.309309\n",
      "\n",
      "[77 rows x 6 columns]\n",
      "('Male', 'Poor')\n",
      "    Gender Economic Status      Height      Weight        Age        Income\n",
      "4     Male            Poor  179.805582   58.547234  32.501684  19346.337986\n",
      "10    Male            Poor  166.139408  109.438657  38.757674  19853.349989\n",
      "18    Male            Poor  201.007832   21.432816  29.880663  20623.543032\n",
      "43    Male            Poor  208.985044   51.847661  32.130139  18763.461212\n",
      "45    Male            Poor  188.868631   72.095984  27.091806  18039.870897\n",
      "..     ...             ...         ...         ...        ...           ...\n",
      "473   Male            Poor  129.216300   50.957336  20.444673  21010.592763\n",
      "479   Male            Poor  170.120335   44.637531  21.618054  20447.343548\n",
      "482   Male            Poor  187.008562   73.201562  41.575046  19288.194315\n",
      "486   Male            Poor  177.674228   79.068131  23.654781  20300.329345\n",
      "487   Male            Poor  227.539516   57.374036  25.997146  19157.948395\n",
      "\n",
      "[93 rows x 6 columns]\n",
      "('Male', 'Rich')\n",
      "    Gender Economic Status      Height     Weight        Age        Income\n",
      "3     Male            Rich  183.988501  71.785466  34.192437  19778.532678\n",
      "13    Male            Rich  173.761763  61.055417  47.740688  20994.127333\n",
      "17    Male            Rich  142.929235  52.884703  14.840861  20594.052895\n",
      "19    Male            Rich  105.096782  55.340929  12.126035  20594.083296\n",
      "21    Male            Rich  176.677934  99.600551  34.836404  19629.864461\n",
      "..     ...             ...         ...        ...        ...           ...\n",
      "483   Male            Rich  125.811314  47.194725  22.807730  18006.577638\n",
      "489   Male            Rich  123.332415  74.980695  28.021002  20640.865665\n",
      "494   Male            Rich  185.358932  70.843868  31.240249  19538.632703\n",
      "496   Male            Rich  151.602650  43.765061  27.617103  20241.297735\n",
      "498   Male            Rich  163.669365  98.571932  35.257657  18888.280373\n",
      "\n",
      "[96 rows x 6 columns]\n"
     ]
    }
   ],
   "source": [
    "for names, groups in double_group:\n",
    "    print(names)\n",
    "    print(groups)"
   ]
  },
  {
   "cell_type": "markdown",
   "metadata": {
    "colab_type": "text",
    "id": "bt-jzYaOAkR8"
   },
   "source": [
    "## Operaciones sobre datos agrupados"
   ]
  },
  {
   "cell_type": "code",
   "execution_count": 16,
   "metadata": {
    "colab": {
     "base_uri": "https://localhost:8080/",
     "height": 266
    },
    "colab_type": "code",
    "id": "IALClhg8AkR8",
    "outputId": "6f13982b-30f8-46c1-84c0-f7d82500c562"
   },
   "outputs": [
    {
     "data": {
      "text/html": [
       "<div>\n",
       "<style scoped>\n",
       "    .dataframe tbody tr th:only-of-type {\n",
       "        vertical-align: middle;\n",
       "    }\n",
       "\n",
       "    .dataframe tbody tr th {\n",
       "        vertical-align: top;\n",
       "    }\n",
       "\n",
       "    .dataframe thead th {\n",
       "        text-align: right;\n",
       "    }\n",
       "</style>\n",
       "<table border=\"1\" class=\"dataframe\">\n",
       "  <thead>\n",
       "    <tr style=\"text-align: right;\">\n",
       "      <th></th>\n",
       "      <th></th>\n",
       "      <th>Height</th>\n",
       "      <th>Weight</th>\n",
       "      <th>Age</th>\n",
       "      <th>Income</th>\n",
       "    </tr>\n",
       "    <tr>\n",
       "      <th>Gender</th>\n",
       "      <th>Economic Status</th>\n",
       "      <th></th>\n",
       "      <th></th>\n",
       "      <th></th>\n",
       "      <th></th>\n",
       "    </tr>\n",
       "  </thead>\n",
       "  <tbody>\n",
       "    <tr>\n",
       "      <th rowspan=\"3\" valign=\"top\">Female</th>\n",
       "      <th>Middle Class</th>\n",
       "      <td>13109.758475</td>\n",
       "      <td>5114.396788</td>\n",
       "      <td>2443.013144</td>\n",
       "      <td>1.609475e+06</td>\n",
       "    </tr>\n",
       "    <tr>\n",
       "      <th>Poor</th>\n",
       "      <td>12105.710834</td>\n",
       "      <td>5027.709669</td>\n",
       "      <td>2197.896111</td>\n",
       "      <td>1.477014e+06</td>\n",
       "    </tr>\n",
       "    <tr>\n",
       "      <th>Rich</th>\n",
       "      <td>12213.117719</td>\n",
       "      <td>5000.741333</td>\n",
       "      <td>2327.382814</td>\n",
       "      <td>1.521338e+06</td>\n",
       "    </tr>\n",
       "    <tr>\n",
       "      <th rowspan=\"3\" valign=\"top\">Male</th>\n",
       "      <th>Middle Class</th>\n",
       "      <td>12761.733997</td>\n",
       "      <td>4959.605170</td>\n",
       "      <td>2198.240962</td>\n",
       "      <td>1.512304e+06</td>\n",
       "    </tr>\n",
       "    <tr>\n",
       "      <th>Poor</th>\n",
       "      <td>15301.173067</td>\n",
       "      <td>5726.156969</td>\n",
       "      <td>2669.090332</td>\n",
       "      <td>1.847747e+06</td>\n",
       "    </tr>\n",
       "    <tr>\n",
       "      <th>Rich</th>\n",
       "      <td>15092.221858</td>\n",
       "      <td>6539.546423</td>\n",
       "      <td>2925.118149</td>\n",
       "      <td>1.906379e+06</td>\n",
       "    </tr>\n",
       "  </tbody>\n",
       "</table>\n",
       "</div>"
      ],
      "text/plain": [
       "                              Height       Weight          Age        Income\n",
       "Gender Economic Status                                                      \n",
       "Female Middle Class     13109.758475  5114.396788  2443.013144  1.609475e+06\n",
       "       Poor             12105.710834  5027.709669  2197.896111  1.477014e+06\n",
       "       Rich             12213.117719  5000.741333  2327.382814  1.521338e+06\n",
       "Male   Middle Class     12761.733997  4959.605170  2198.240962  1.512304e+06\n",
       "       Poor             15301.173067  5726.156969  2669.090332  1.847747e+06\n",
       "       Rich             15092.221858  6539.546423  2925.118149  1.906379e+06"
      ]
     },
     "execution_count": 16,
     "metadata": {
      "tags": []
     },
     "output_type": "execute_result"
    }
   ],
   "source": [
    "double_group.sum()"
   ]
  },
  {
   "cell_type": "code",
   "execution_count": 17,
   "metadata": {
    "colab": {
     "base_uri": "https://localhost:8080/",
     "height": 266
    },
    "colab_type": "code",
    "id": "XIG-ViIKAkR-",
    "outputId": "daa9cbd7-3175-49a8-ff93-92d29ca6f55b"
   },
   "outputs": [
    {
     "data": {
      "text/html": [
       "<div>\n",
       "<style scoped>\n",
       "    .dataframe tbody tr th:only-of-type {\n",
       "        vertical-align: middle;\n",
       "    }\n",
       "\n",
       "    .dataframe tbody tr th {\n",
       "        vertical-align: top;\n",
       "    }\n",
       "\n",
       "    .dataframe thead th {\n",
       "        text-align: right;\n",
       "    }\n",
       "</style>\n",
       "<table border=\"1\" class=\"dataframe\">\n",
       "  <thead>\n",
       "    <tr style=\"text-align: right;\">\n",
       "      <th></th>\n",
       "      <th></th>\n",
       "      <th>Height</th>\n",
       "      <th>Weight</th>\n",
       "      <th>Age</th>\n",
       "      <th>Income</th>\n",
       "    </tr>\n",
       "    <tr>\n",
       "      <th>Gender</th>\n",
       "      <th>Economic Status</th>\n",
       "      <th></th>\n",
       "      <th></th>\n",
       "      <th></th>\n",
       "      <th></th>\n",
       "    </tr>\n",
       "  </thead>\n",
       "  <tbody>\n",
       "    <tr>\n",
       "      <th rowspan=\"3\" valign=\"top\">Female</th>\n",
       "      <th>Middle Class</th>\n",
       "      <td>159.875103</td>\n",
       "      <td>62.370693</td>\n",
       "      <td>29.792843</td>\n",
       "      <td>19627.745015</td>\n",
       "    </tr>\n",
       "    <tr>\n",
       "      <th>Poor</th>\n",
       "      <td>161.409478</td>\n",
       "      <td>67.036129</td>\n",
       "      <td>29.305281</td>\n",
       "      <td>19693.513975</td>\n",
       "    </tr>\n",
       "    <tr>\n",
       "      <th>Rich</th>\n",
       "      <td>158.611918</td>\n",
       "      <td>64.944693</td>\n",
       "      <td>30.225751</td>\n",
       "      <td>19757.636531</td>\n",
       "    </tr>\n",
       "    <tr>\n",
       "      <th rowspan=\"3\" valign=\"top\">Male</th>\n",
       "      <th>Middle Class</th>\n",
       "      <td>165.736805</td>\n",
       "      <td>64.410457</td>\n",
       "      <td>28.548584</td>\n",
       "      <td>19640.313086</td>\n",
       "    </tr>\n",
       "    <tr>\n",
       "      <th>Poor</th>\n",
       "      <td>164.528743</td>\n",
       "      <td>61.571580</td>\n",
       "      <td>28.699896</td>\n",
       "      <td>19868.250726</td>\n",
       "    </tr>\n",
       "    <tr>\n",
       "      <th>Rich</th>\n",
       "      <td>157.210644</td>\n",
       "      <td>68.120275</td>\n",
       "      <td>30.469981</td>\n",
       "      <td>19858.115811</td>\n",
       "    </tr>\n",
       "  </tbody>\n",
       "</table>\n",
       "</div>"
      ],
      "text/plain": [
       "                            Height     Weight        Age        Income\n",
       "Gender Economic Status                                                \n",
       "Female Middle Class     159.875103  62.370693  29.792843  19627.745015\n",
       "       Poor             161.409478  67.036129  29.305281  19693.513975\n",
       "       Rich             158.611918  64.944693  30.225751  19757.636531\n",
       "Male   Middle Class     165.736805  64.410457  28.548584  19640.313086\n",
       "       Poor             164.528743  61.571580  28.699896  19868.250726\n",
       "       Rich             157.210644  68.120275  30.469981  19858.115811"
      ]
     },
     "execution_count": 17,
     "metadata": {
      "tags": []
     },
     "output_type": "execute_result"
    }
   ],
   "source": [
    "double_group.mean()"
   ]
  },
  {
   "cell_type": "code",
   "execution_count": 18,
   "metadata": {
    "colab": {
     "base_uri": "https://localhost:8080/",
     "height": 153
    },
    "colab_type": "code",
    "id": "Dp6clyJuAkR_",
    "outputId": "c43dbc59-2358-4e5e-a662-7ffad3e3b1a0"
   },
   "outputs": [
    {
     "data": {
      "text/plain": [
       "Gender  Economic Status\n",
       "Female  Middle Class       82\n",
       "        Poor               75\n",
       "        Rich               77\n",
       "Male    Middle Class       77\n",
       "        Poor               93\n",
       "        Rich               96\n",
       "dtype: int64"
      ]
     },
     "execution_count": 18,
     "metadata": {
      "tags": []
     },
     "output_type": "execute_result"
    }
   ],
   "source": [
    "double_group.size()"
   ]
  },
  {
   "cell_type": "code",
   "execution_count": 19,
   "metadata": {
    "colab": {
     "base_uri": "https://localhost:8080/",
     "height": 368
    },
    "colab_type": "code",
    "id": "MVRQed0CAkSA",
    "outputId": "9d2c6adf-a3c6-41d6-b728-3a9fbcc5902a"
   },
   "outputs": [
    {
     "data": {
      "text/html": [
       "<div>\n",
       "<style scoped>\n",
       "    .dataframe tbody tr th:only-of-type {\n",
       "        vertical-align: middle;\n",
       "    }\n",
       "\n",
       "    .dataframe tbody tr th {\n",
       "        vertical-align: top;\n",
       "    }\n",
       "\n",
       "    .dataframe thead tr th {\n",
       "        text-align: left;\n",
       "    }\n",
       "\n",
       "    .dataframe thead tr:last-of-type th {\n",
       "        text-align: right;\n",
       "    }\n",
       "</style>\n",
       "<table border=\"1\" class=\"dataframe\">\n",
       "  <thead>\n",
       "    <tr>\n",
       "      <th></th>\n",
       "      <th></th>\n",
       "      <th colspan=\"8\" halign=\"left\">Height</th>\n",
       "      <th colspan=\"8\" halign=\"left\">Weight</th>\n",
       "      <th colspan=\"8\" halign=\"left\">Age</th>\n",
       "      <th colspan=\"8\" halign=\"left\">Income</th>\n",
       "    </tr>\n",
       "    <tr>\n",
       "      <th></th>\n",
       "      <th></th>\n",
       "      <th>count</th>\n",
       "      <th>mean</th>\n",
       "      <th>std</th>\n",
       "      <th>min</th>\n",
       "      <th>25%</th>\n",
       "      <th>50%</th>\n",
       "      <th>75%</th>\n",
       "      <th>max</th>\n",
       "      <th>count</th>\n",
       "      <th>mean</th>\n",
       "      <th>std</th>\n",
       "      <th>min</th>\n",
       "      <th>25%</th>\n",
       "      <th>50%</th>\n",
       "      <th>75%</th>\n",
       "      <th>max</th>\n",
       "      <th>count</th>\n",
       "      <th>mean</th>\n",
       "      <th>std</th>\n",
       "      <th>min</th>\n",
       "      <th>25%</th>\n",
       "      <th>50%</th>\n",
       "      <th>75%</th>\n",
       "      <th>max</th>\n",
       "      <th>count</th>\n",
       "      <th>mean</th>\n",
       "      <th>std</th>\n",
       "      <th>min</th>\n",
       "      <th>25%</th>\n",
       "      <th>50%</th>\n",
       "      <th>75%</th>\n",
       "      <th>max</th>\n",
       "    </tr>\n",
       "    <tr>\n",
       "      <th>Gender</th>\n",
       "      <th>Economic Status</th>\n",
       "      <th></th>\n",
       "      <th></th>\n",
       "      <th></th>\n",
       "      <th></th>\n",
       "      <th></th>\n",
       "      <th></th>\n",
       "      <th></th>\n",
       "      <th></th>\n",
       "      <th></th>\n",
       "      <th></th>\n",
       "      <th></th>\n",
       "      <th></th>\n",
       "      <th></th>\n",
       "      <th></th>\n",
       "      <th></th>\n",
       "      <th></th>\n",
       "      <th></th>\n",
       "      <th></th>\n",
       "      <th></th>\n",
       "      <th></th>\n",
       "      <th></th>\n",
       "      <th></th>\n",
       "      <th></th>\n",
       "      <th></th>\n",
       "      <th></th>\n",
       "      <th></th>\n",
       "      <th></th>\n",
       "      <th></th>\n",
       "      <th></th>\n",
       "      <th></th>\n",
       "      <th></th>\n",
       "      <th></th>\n",
       "    </tr>\n",
       "  </thead>\n",
       "  <tbody>\n",
       "    <tr>\n",
       "      <th rowspan=\"3\" valign=\"top\">Female</th>\n",
       "      <th>Middle Class</th>\n",
       "      <td>82.0</td>\n",
       "      <td>159.875103</td>\n",
       "      <td>30.373012</td>\n",
       "      <td>80.236149</td>\n",
       "      <td>135.913928</td>\n",
       "      <td>160.514160</td>\n",
       "      <td>180.560591</td>\n",
       "      <td>228.409064</td>\n",
       "      <td>82.0</td>\n",
       "      <td>62.370693</td>\n",
       "      <td>23.546737</td>\n",
       "      <td>6.792281</td>\n",
       "      <td>47.414308</td>\n",
       "      <td>62.017350</td>\n",
       "      <td>77.201058</td>\n",
       "      <td>120.122674</td>\n",
       "      <td>82.0</td>\n",
       "      <td>29.792843</td>\n",
       "      <td>12.587559</td>\n",
       "      <td>-3.010737</td>\n",
       "      <td>22.525387</td>\n",
       "      <td>28.594280</td>\n",
       "      <td>40.046598</td>\n",
       "      <td>64.993034</td>\n",
       "      <td>82.0</td>\n",
       "      <td>19627.745015</td>\n",
       "      <td>994.118644</td>\n",
       "      <td>18040.895955</td>\n",
       "      <td>18793.937121</td>\n",
       "      <td>19615.513639</td>\n",
       "      <td>20359.835287</td>\n",
       "      <td>21488.883196</td>\n",
       "    </tr>\n",
       "    <tr>\n",
       "      <th>Poor</th>\n",
       "      <td>75.0</td>\n",
       "      <td>161.409478</td>\n",
       "      <td>31.477731</td>\n",
       "      <td>97.008895</td>\n",
       "      <td>140.289352</td>\n",
       "      <td>158.853184</td>\n",
       "      <td>178.470317</td>\n",
       "      <td>237.863120</td>\n",
       "      <td>75.0</td>\n",
       "      <td>67.036129</td>\n",
       "      <td>25.069293</td>\n",
       "      <td>1.907216</td>\n",
       "      <td>51.231780</td>\n",
       "      <td>66.089235</td>\n",
       "      <td>83.931587</td>\n",
       "      <td>119.492809</td>\n",
       "      <td>75.0</td>\n",
       "      <td>29.305281</td>\n",
       "      <td>12.185900</td>\n",
       "      <td>-3.837400</td>\n",
       "      <td>20.324882</td>\n",
       "      <td>28.187599</td>\n",
       "      <td>38.071412</td>\n",
       "      <td>58.123572</td>\n",
       "      <td>75.0</td>\n",
       "      <td>19693.513975</td>\n",
       "      <td>940.946942</td>\n",
       "      <td>18034.166483</td>\n",
       "      <td>19049.037827</td>\n",
       "      <td>19617.861260</td>\n",
       "      <td>20303.299142</td>\n",
       "      <td>21489.193581</td>\n",
       "    </tr>\n",
       "    <tr>\n",
       "      <th>Rich</th>\n",
       "      <td>77.0</td>\n",
       "      <td>158.611918</td>\n",
       "      <td>28.634846</td>\n",
       "      <td>90.772317</td>\n",
       "      <td>142.867855</td>\n",
       "      <td>157.166704</td>\n",
       "      <td>172.490364</td>\n",
       "      <td>240.729697</td>\n",
       "      <td>77.0</td>\n",
       "      <td>64.944693</td>\n",
       "      <td>26.263248</td>\n",
       "      <td>23.419552</td>\n",
       "      <td>44.661807</td>\n",
       "      <td>61.909200</td>\n",
       "      <td>79.491705</td>\n",
       "      <td>155.874851</td>\n",
       "      <td>77.0</td>\n",
       "      <td>30.225751</td>\n",
       "      <td>11.323115</td>\n",
       "      <td>-2.860013</td>\n",
       "      <td>22.581370</td>\n",
       "      <td>30.800982</td>\n",
       "      <td>37.451463</td>\n",
       "      <td>60.056761</td>\n",
       "      <td>77.0</td>\n",
       "      <td>19757.636531</td>\n",
       "      <td>1019.800743</td>\n",
       "      <td>18023.726084</td>\n",
       "      <td>18952.149135</td>\n",
       "      <td>19633.547998</td>\n",
       "      <td>20665.291519</td>\n",
       "      <td>21492.614880</td>\n",
       "    </tr>\n",
       "    <tr>\n",
       "      <th rowspan=\"3\" valign=\"top\">Male</th>\n",
       "      <th>Middle Class</th>\n",
       "      <td>77.0</td>\n",
       "      <td>165.736805</td>\n",
       "      <td>29.776044</td>\n",
       "      <td>112.820013</td>\n",
       "      <td>146.685426</td>\n",
       "      <td>161.936648</td>\n",
       "      <td>184.058166</td>\n",
       "      <td>256.194530</td>\n",
       "      <td>77.0</td>\n",
       "      <td>64.410457</td>\n",
       "      <td>28.036595</td>\n",
       "      <td>-7.328773</td>\n",
       "      <td>46.696287</td>\n",
       "      <td>65.738645</td>\n",
       "      <td>83.679865</td>\n",
       "      <td>139.494219</td>\n",
       "      <td>77.0</td>\n",
       "      <td>28.548584</td>\n",
       "      <td>10.917398</td>\n",
       "      <td>4.067120</td>\n",
       "      <td>21.499777</td>\n",
       "      <td>29.746838</td>\n",
       "      <td>35.230100</td>\n",
       "      <td>55.429845</td>\n",
       "      <td>77.0</td>\n",
       "      <td>19640.313086</td>\n",
       "      <td>995.486333</td>\n",
       "      <td>18019.519401</td>\n",
       "      <td>18745.929082</td>\n",
       "      <td>19643.106107</td>\n",
       "      <td>20363.599172</td>\n",
       "      <td>21453.931293</td>\n",
       "    </tr>\n",
       "    <tr>\n",
       "      <th>Poor</th>\n",
       "      <td>93.0</td>\n",
       "      <td>164.528743</td>\n",
       "      <td>27.822572</td>\n",
       "      <td>94.173624</td>\n",
       "      <td>142.346484</td>\n",
       "      <td>166.335510</td>\n",
       "      <td>184.756847</td>\n",
       "      <td>227.539516</td>\n",
       "      <td>93.0</td>\n",
       "      <td>61.571580</td>\n",
       "      <td>24.315991</td>\n",
       "      <td>-2.040686</td>\n",
       "      <td>48.078668</td>\n",
       "      <td>61.613466</td>\n",
       "      <td>75.239205</td>\n",
       "      <td>116.038660</td>\n",
       "      <td>93.0</td>\n",
       "      <td>28.699896</td>\n",
       "      <td>11.980531</td>\n",
       "      <td>-1.181704</td>\n",
       "      <td>21.141014</td>\n",
       "      <td>27.091806</td>\n",
       "      <td>38.711063</td>\n",
       "      <td>59.082634</td>\n",
       "      <td>93.0</td>\n",
       "      <td>19868.250726</td>\n",
       "      <td>1052.295893</td>\n",
       "      <td>18015.391664</td>\n",
       "      <td>18998.283089</td>\n",
       "      <td>19853.349989</td>\n",
       "      <td>20851.226702</td>\n",
       "      <td>21492.894772</td>\n",
       "    </tr>\n",
       "    <tr>\n",
       "      <th>Rich</th>\n",
       "      <td>96.0</td>\n",
       "      <td>157.210644</td>\n",
       "      <td>30.459835</td>\n",
       "      <td>71.472304</td>\n",
       "      <td>133.824171</td>\n",
       "      <td>160.216203</td>\n",
       "      <td>179.105247</td>\n",
       "      <td>214.449386</td>\n",
       "      <td>96.0</td>\n",
       "      <td>68.120275</td>\n",
       "      <td>25.263629</td>\n",
       "      <td>-2.789199</td>\n",
       "      <td>48.383348</td>\n",
       "      <td>65.760364</td>\n",
       "      <td>86.934608</td>\n",
       "      <td>130.364826</td>\n",
       "      <td>96.0</td>\n",
       "      <td>30.469981</td>\n",
       "      <td>11.385701</td>\n",
       "      <td>3.368029</td>\n",
       "      <td>22.619632</td>\n",
       "      <td>30.073195</td>\n",
       "      <td>38.002390</td>\n",
       "      <td>58.030748</td>\n",
       "      <td>96.0</td>\n",
       "      <td>19858.115811</td>\n",
       "      <td>978.823389</td>\n",
       "      <td>18006.577638</td>\n",
       "      <td>19040.921083</td>\n",
       "      <td>19804.216243</td>\n",
       "      <td>20686.405907</td>\n",
       "      <td>21497.428517</td>\n",
       "    </tr>\n",
       "  </tbody>\n",
       "</table>\n",
       "</div>"
      ],
      "text/plain": [
       "                       Height              ...        Income              \n",
       "                        count        mean  ...           75%           max\n",
       "Gender Economic Status                     ...                            \n",
       "Female Middle Class      82.0  159.875103  ...  20359.835287  21488.883196\n",
       "       Poor              75.0  161.409478  ...  20303.299142  21489.193581\n",
       "       Rich              77.0  158.611918  ...  20665.291519  21492.614880\n",
       "Male   Middle Class      77.0  165.736805  ...  20363.599172  21453.931293\n",
       "       Poor              93.0  164.528743  ...  20851.226702  21492.894772\n",
       "       Rich              96.0  157.210644  ...  20686.405907  21497.428517\n",
       "\n",
       "[6 rows x 32 columns]"
      ]
     },
     "execution_count": 19,
     "metadata": {
      "tags": []
     },
     "output_type": "execute_result"
    }
   ],
   "source": [
    "double_group.describe()"
   ]
  },
  {
   "cell_type": "code",
   "execution_count": 0,
   "metadata": {
    "colab": {},
    "colab_type": "code",
    "id": "m0tze5dCAkSB"
   },
   "outputs": [],
   "source": [
    "grouped_income = double_group[\"Income\"]"
   ]
  },
  {
   "cell_type": "code",
   "execution_count": 21,
   "metadata": {
    "colab": {
     "base_uri": "https://localhost:8080/",
     "height": 266
    },
    "colab_type": "code",
    "id": "GnO4smZWAkSC",
    "outputId": "d6a8c7d5-a0fd-4dbd-c1a3-252531f0dde2"
   },
   "outputs": [
    {
     "data": {
      "text/html": [
       "<div>\n",
       "<style scoped>\n",
       "    .dataframe tbody tr th:only-of-type {\n",
       "        vertical-align: middle;\n",
       "    }\n",
       "\n",
       "    .dataframe tbody tr th {\n",
       "        vertical-align: top;\n",
       "    }\n",
       "\n",
       "    .dataframe thead th {\n",
       "        text-align: right;\n",
       "    }\n",
       "</style>\n",
       "<table border=\"1\" class=\"dataframe\">\n",
       "  <thead>\n",
       "    <tr style=\"text-align: right;\">\n",
       "      <th></th>\n",
       "      <th></th>\n",
       "      <th>count</th>\n",
       "      <th>mean</th>\n",
       "      <th>std</th>\n",
       "      <th>min</th>\n",
       "      <th>25%</th>\n",
       "      <th>50%</th>\n",
       "      <th>75%</th>\n",
       "      <th>max</th>\n",
       "    </tr>\n",
       "    <tr>\n",
       "      <th>Gender</th>\n",
       "      <th>Economic Status</th>\n",
       "      <th></th>\n",
       "      <th></th>\n",
       "      <th></th>\n",
       "      <th></th>\n",
       "      <th></th>\n",
       "      <th></th>\n",
       "      <th></th>\n",
       "      <th></th>\n",
       "    </tr>\n",
       "  </thead>\n",
       "  <tbody>\n",
       "    <tr>\n",
       "      <th rowspan=\"3\" valign=\"top\">Female</th>\n",
       "      <th>Middle Class</th>\n",
       "      <td>82.0</td>\n",
       "      <td>19627.745015</td>\n",
       "      <td>994.118644</td>\n",
       "      <td>18040.895955</td>\n",
       "      <td>18793.937121</td>\n",
       "      <td>19615.513639</td>\n",
       "      <td>20359.835287</td>\n",
       "      <td>21488.883196</td>\n",
       "    </tr>\n",
       "    <tr>\n",
       "      <th>Poor</th>\n",
       "      <td>75.0</td>\n",
       "      <td>19693.513975</td>\n",
       "      <td>940.946942</td>\n",
       "      <td>18034.166483</td>\n",
       "      <td>19049.037827</td>\n",
       "      <td>19617.861260</td>\n",
       "      <td>20303.299142</td>\n",
       "      <td>21489.193581</td>\n",
       "    </tr>\n",
       "    <tr>\n",
       "      <th>Rich</th>\n",
       "      <td>77.0</td>\n",
       "      <td>19757.636531</td>\n",
       "      <td>1019.800743</td>\n",
       "      <td>18023.726084</td>\n",
       "      <td>18952.149135</td>\n",
       "      <td>19633.547998</td>\n",
       "      <td>20665.291519</td>\n",
       "      <td>21492.614880</td>\n",
       "    </tr>\n",
       "    <tr>\n",
       "      <th rowspan=\"3\" valign=\"top\">Male</th>\n",
       "      <th>Middle Class</th>\n",
       "      <td>77.0</td>\n",
       "      <td>19640.313086</td>\n",
       "      <td>995.486333</td>\n",
       "      <td>18019.519401</td>\n",
       "      <td>18745.929082</td>\n",
       "      <td>19643.106107</td>\n",
       "      <td>20363.599172</td>\n",
       "      <td>21453.931293</td>\n",
       "    </tr>\n",
       "    <tr>\n",
       "      <th>Poor</th>\n",
       "      <td>93.0</td>\n",
       "      <td>19868.250726</td>\n",
       "      <td>1052.295893</td>\n",
       "      <td>18015.391664</td>\n",
       "      <td>18998.283089</td>\n",
       "      <td>19853.349989</td>\n",
       "      <td>20851.226702</td>\n",
       "      <td>21492.894772</td>\n",
       "    </tr>\n",
       "    <tr>\n",
       "      <th>Rich</th>\n",
       "      <td>96.0</td>\n",
       "      <td>19858.115811</td>\n",
       "      <td>978.823389</td>\n",
       "      <td>18006.577638</td>\n",
       "      <td>19040.921083</td>\n",
       "      <td>19804.216243</td>\n",
       "      <td>20686.405907</td>\n",
       "      <td>21497.428517</td>\n",
       "    </tr>\n",
       "  </tbody>\n",
       "</table>\n",
       "</div>"
      ],
      "text/plain": [
       "                        count          mean  ...           75%           max\n",
       "Gender Economic Status                       ...                            \n",
       "Female Middle Class      82.0  19627.745015  ...  20359.835287  21488.883196\n",
       "       Poor              75.0  19693.513975  ...  20303.299142  21489.193581\n",
       "       Rich              77.0  19757.636531  ...  20665.291519  21492.614880\n",
       "Male   Middle Class      77.0  19640.313086  ...  20363.599172  21453.931293\n",
       "       Poor              93.0  19868.250726  ...  20851.226702  21492.894772\n",
       "       Rich              96.0  19858.115811  ...  20686.405907  21497.428517\n",
       "\n",
       "[6 rows x 8 columns]"
      ]
     },
     "execution_count": 21,
     "metadata": {
      "tags": []
     },
     "output_type": "execute_result"
    }
   ],
   "source": [
    "grouped_income.describe()"
   ]
  },
  {
   "cell_type": "code",
   "execution_count": 22,
   "metadata": {
    "colab": {
     "base_uri": "https://localhost:8080/",
     "height": 266
    },
    "colab_type": "code",
    "id": "kc8V5PfaAkSD",
    "outputId": "82aef21c-a5f8-4c6b-f7a8-fb80786af5bd"
   },
   "outputs": [
    {
     "data": {
      "text/html": [
       "<div>\n",
       "<style scoped>\n",
       "    .dataframe tbody tr th:only-of-type {\n",
       "        vertical-align: middle;\n",
       "    }\n",
       "\n",
       "    .dataframe tbody tr th {\n",
       "        vertical-align: top;\n",
       "    }\n",
       "\n",
       "    .dataframe thead th {\n",
       "        text-align: right;\n",
       "    }\n",
       "</style>\n",
       "<table border=\"1\" class=\"dataframe\">\n",
       "  <thead>\n",
       "    <tr style=\"text-align: right;\">\n",
       "      <th></th>\n",
       "      <th></th>\n",
       "      <th>Income</th>\n",
       "      <th>Age</th>\n",
       "      <th>Height</th>\n",
       "    </tr>\n",
       "    <tr>\n",
       "      <th>Gender</th>\n",
       "      <th>Economic Status</th>\n",
       "      <th></th>\n",
       "      <th></th>\n",
       "      <th></th>\n",
       "    </tr>\n",
       "  </thead>\n",
       "  <tbody>\n",
       "    <tr>\n",
       "      <th rowspan=\"3\" valign=\"top\">Female</th>\n",
       "      <th>Middle Class</th>\n",
       "      <td>1.609475e+06</td>\n",
       "      <td>29.792843</td>\n",
       "      <td>30.373012</td>\n",
       "    </tr>\n",
       "    <tr>\n",
       "      <th>Poor</th>\n",
       "      <td>1.477014e+06</td>\n",
       "      <td>29.305281</td>\n",
       "      <td>31.477731</td>\n",
       "    </tr>\n",
       "    <tr>\n",
       "      <th>Rich</th>\n",
       "      <td>1.521338e+06</td>\n",
       "      <td>30.225751</td>\n",
       "      <td>28.634846</td>\n",
       "    </tr>\n",
       "    <tr>\n",
       "      <th rowspan=\"3\" valign=\"top\">Male</th>\n",
       "      <th>Middle Class</th>\n",
       "      <td>1.512304e+06</td>\n",
       "      <td>28.548584</td>\n",
       "      <td>29.776044</td>\n",
       "    </tr>\n",
       "    <tr>\n",
       "      <th>Poor</th>\n",
       "      <td>1.847747e+06</td>\n",
       "      <td>28.699896</td>\n",
       "      <td>27.822572</td>\n",
       "    </tr>\n",
       "    <tr>\n",
       "      <th>Rich</th>\n",
       "      <td>1.906379e+06</td>\n",
       "      <td>30.469981</td>\n",
       "      <td>30.459835</td>\n",
       "    </tr>\n",
       "  </tbody>\n",
       "</table>\n",
       "</div>"
      ],
      "text/plain": [
       "                              Income        Age     Height\n",
       "Gender Economic Status                                    \n",
       "Female Middle Class     1.609475e+06  29.792843  30.373012\n",
       "       Poor             1.477014e+06  29.305281  31.477731\n",
       "       Rich             1.521338e+06  30.225751  28.634846\n",
       "Male   Middle Class     1.512304e+06  28.548584  29.776044\n",
       "       Poor             1.847747e+06  28.699896  27.822572\n",
       "       Rich             1.906379e+06  30.469981  30.459835"
      ]
     },
     "execution_count": 22,
     "metadata": {
      "tags": []
     },
     "output_type": "execute_result"
    }
   ],
   "source": [
    "double_group.aggregate(\n",
    "    {\n",
    "        \"Income\": np.sum,\n",
    "        \"Age\" : np.mean,\n",
    "        \"Height\" : np.std\n",
    "    }\n",
    ")"
   ]
  },
  {
   "cell_type": "code",
   "execution_count": 23,
   "metadata": {
    "colab": {
     "base_uri": "https://localhost:8080/",
     "height": 266
    },
    "colab_type": "code",
    "id": "hjThnV4yAkSE",
    "outputId": "c70ed120-8fc1-4f01-ca77-fe33e8518a11"
   },
   "outputs": [
    {
     "data": {
      "text/html": [
       "<div>\n",
       "<style scoped>\n",
       "    .dataframe tbody tr th:only-of-type {\n",
       "        vertical-align: middle;\n",
       "    }\n",
       "\n",
       "    .dataframe tbody tr th {\n",
       "        vertical-align: top;\n",
       "    }\n",
       "\n",
       "    .dataframe thead th {\n",
       "        text-align: right;\n",
       "    }\n",
       "</style>\n",
       "<table border=\"1\" class=\"dataframe\">\n",
       "  <thead>\n",
       "    <tr style=\"text-align: right;\">\n",
       "      <th></th>\n",
       "      <th></th>\n",
       "      <th>Age</th>\n",
       "      <th>Height</th>\n",
       "    </tr>\n",
       "    <tr>\n",
       "      <th>Gender</th>\n",
       "      <th>Economic Status</th>\n",
       "      <th></th>\n",
       "      <th></th>\n",
       "    </tr>\n",
       "  </thead>\n",
       "  <tbody>\n",
       "    <tr>\n",
       "      <th rowspan=\"3\" valign=\"top\">Female</th>\n",
       "      <th>Middle Class</th>\n",
       "      <td>29.792843</td>\n",
       "      <td>5.296115</td>\n",
       "    </tr>\n",
       "    <tr>\n",
       "      <th>Poor</th>\n",
       "      <td>29.305281</td>\n",
       "      <td>5.162266</td>\n",
       "    </tr>\n",
       "    <tr>\n",
       "      <th>Rich</th>\n",
       "      <td>30.225751</td>\n",
       "      <td>5.575445</td>\n",
       "    </tr>\n",
       "    <tr>\n",
       "      <th rowspan=\"3\" valign=\"top\">Male</th>\n",
       "      <th>Middle Class</th>\n",
       "      <td>28.548584</td>\n",
       "      <td>5.602612</td>\n",
       "    </tr>\n",
       "    <tr>\n",
       "      <th>Poor</th>\n",
       "      <td>28.699896</td>\n",
       "      <td>5.945550</td>\n",
       "    </tr>\n",
       "    <tr>\n",
       "      <th>Rich</th>\n",
       "      <td>30.469981</td>\n",
       "      <td>5.188337</td>\n",
       "    </tr>\n",
       "  </tbody>\n",
       "</table>\n",
       "</div>"
      ],
      "text/plain": [
       "                              Age    Height\n",
       "Gender Economic Status                     \n",
       "Female Middle Class     29.792843  5.296115\n",
       "       Poor             29.305281  5.162266\n",
       "       Rich             30.225751  5.575445\n",
       "Male   Middle Class     28.548584  5.602612\n",
       "       Poor             28.699896  5.945550\n",
       "       Rich             30.469981  5.188337"
      ]
     },
     "execution_count": 23,
     "metadata": {
      "tags": []
     },
     "output_type": "execute_result"
    }
   ],
   "source": [
    "double_group.aggregate(\n",
    "    {\n",
    "        \"Age\" : np.mean,\n",
    "        \"Height\" : lambda h:(np.mean(h))/np.std(h)\n",
    "    }\n",
    ")"
   ]
  },
  {
   "cell_type": "code",
   "execution_count": 24,
   "metadata": {
    "colab": {
     "base_uri": "https://localhost:8080/",
     "height": 297
    },
    "colab_type": "code",
    "id": "SGx9EOlFAkSF",
    "outputId": "46b278df-a199-4cd5-bb95-aff120b6ac43"
   },
   "outputs": [
    {
     "data": {
      "text/html": [
       "<div>\n",
       "<style scoped>\n",
       "    .dataframe tbody tr th:only-of-type {\n",
       "        vertical-align: middle;\n",
       "    }\n",
       "\n",
       "    .dataframe tbody tr th {\n",
       "        vertical-align: top;\n",
       "    }\n",
       "\n",
       "    .dataframe thead tr th {\n",
       "        text-align: left;\n",
       "    }\n",
       "\n",
       "    .dataframe thead tr:last-of-type th {\n",
       "        text-align: right;\n",
       "    }\n",
       "</style>\n",
       "<table border=\"1\" class=\"dataframe\">\n",
       "  <thead>\n",
       "    <tr>\n",
       "      <th></th>\n",
       "      <th></th>\n",
       "      <th colspan=\"3\" halign=\"left\">Height</th>\n",
       "      <th colspan=\"3\" halign=\"left\">Weight</th>\n",
       "      <th colspan=\"3\" halign=\"left\">Age</th>\n",
       "      <th colspan=\"3\" halign=\"left\">Income</th>\n",
       "    </tr>\n",
       "    <tr>\n",
       "      <th></th>\n",
       "      <th></th>\n",
       "      <th>sum</th>\n",
       "      <th>mean</th>\n",
       "      <th>std</th>\n",
       "      <th>sum</th>\n",
       "      <th>mean</th>\n",
       "      <th>std</th>\n",
       "      <th>sum</th>\n",
       "      <th>mean</th>\n",
       "      <th>std</th>\n",
       "      <th>sum</th>\n",
       "      <th>mean</th>\n",
       "      <th>std</th>\n",
       "    </tr>\n",
       "    <tr>\n",
       "      <th>Gender</th>\n",
       "      <th>Economic Status</th>\n",
       "      <th></th>\n",
       "      <th></th>\n",
       "      <th></th>\n",
       "      <th></th>\n",
       "      <th></th>\n",
       "      <th></th>\n",
       "      <th></th>\n",
       "      <th></th>\n",
       "      <th></th>\n",
       "      <th></th>\n",
       "      <th></th>\n",
       "      <th></th>\n",
       "    </tr>\n",
       "  </thead>\n",
       "  <tbody>\n",
       "    <tr>\n",
       "      <th rowspan=\"3\" valign=\"top\">Female</th>\n",
       "      <th>Middle Class</th>\n",
       "      <td>13109.758475</td>\n",
       "      <td>159.875103</td>\n",
       "      <td>30.373012</td>\n",
       "      <td>5114.396788</td>\n",
       "      <td>62.370693</td>\n",
       "      <td>23.546737</td>\n",
       "      <td>2443.013144</td>\n",
       "      <td>29.792843</td>\n",
       "      <td>12.587559</td>\n",
       "      <td>1.609475e+06</td>\n",
       "      <td>19627.745015</td>\n",
       "      <td>994.118644</td>\n",
       "    </tr>\n",
       "    <tr>\n",
       "      <th>Poor</th>\n",
       "      <td>12105.710834</td>\n",
       "      <td>161.409478</td>\n",
       "      <td>31.477731</td>\n",
       "      <td>5027.709669</td>\n",
       "      <td>67.036129</td>\n",
       "      <td>25.069293</td>\n",
       "      <td>2197.896111</td>\n",
       "      <td>29.305281</td>\n",
       "      <td>12.185900</td>\n",
       "      <td>1.477014e+06</td>\n",
       "      <td>19693.513975</td>\n",
       "      <td>940.946942</td>\n",
       "    </tr>\n",
       "    <tr>\n",
       "      <th>Rich</th>\n",
       "      <td>12213.117719</td>\n",
       "      <td>158.611918</td>\n",
       "      <td>28.634846</td>\n",
       "      <td>5000.741333</td>\n",
       "      <td>64.944693</td>\n",
       "      <td>26.263248</td>\n",
       "      <td>2327.382814</td>\n",
       "      <td>30.225751</td>\n",
       "      <td>11.323115</td>\n",
       "      <td>1.521338e+06</td>\n",
       "      <td>19757.636531</td>\n",
       "      <td>1019.800743</td>\n",
       "    </tr>\n",
       "    <tr>\n",
       "      <th rowspan=\"3\" valign=\"top\">Male</th>\n",
       "      <th>Middle Class</th>\n",
       "      <td>12761.733997</td>\n",
       "      <td>165.736805</td>\n",
       "      <td>29.776044</td>\n",
       "      <td>4959.605170</td>\n",
       "      <td>64.410457</td>\n",
       "      <td>28.036595</td>\n",
       "      <td>2198.240962</td>\n",
       "      <td>28.548584</td>\n",
       "      <td>10.917398</td>\n",
       "      <td>1.512304e+06</td>\n",
       "      <td>19640.313086</td>\n",
       "      <td>995.486333</td>\n",
       "    </tr>\n",
       "    <tr>\n",
       "      <th>Poor</th>\n",
       "      <td>15301.173067</td>\n",
       "      <td>164.528743</td>\n",
       "      <td>27.822572</td>\n",
       "      <td>5726.156969</td>\n",
       "      <td>61.571580</td>\n",
       "      <td>24.315991</td>\n",
       "      <td>2669.090332</td>\n",
       "      <td>28.699896</td>\n",
       "      <td>11.980531</td>\n",
       "      <td>1.847747e+06</td>\n",
       "      <td>19868.250726</td>\n",
       "      <td>1052.295893</td>\n",
       "    </tr>\n",
       "    <tr>\n",
       "      <th>Rich</th>\n",
       "      <td>15092.221858</td>\n",
       "      <td>157.210644</td>\n",
       "      <td>30.459835</td>\n",
       "      <td>6539.546423</td>\n",
       "      <td>68.120275</td>\n",
       "      <td>25.263629</td>\n",
       "      <td>2925.118149</td>\n",
       "      <td>30.469981</td>\n",
       "      <td>11.385701</td>\n",
       "      <td>1.906379e+06</td>\n",
       "      <td>19858.115811</td>\n",
       "      <td>978.823389</td>\n",
       "    </tr>\n",
       "  </tbody>\n",
       "</table>\n",
       "</div>"
      ],
      "text/plain": [
       "                              Height              ...        Income             \n",
       "                                 sum        mean  ...          mean          std\n",
       "Gender Economic Status                            ...                           \n",
       "Female Middle Class     13109.758475  159.875103  ...  19627.745015   994.118644\n",
       "       Poor             12105.710834  161.409478  ...  19693.513975   940.946942\n",
       "       Rich             12213.117719  158.611918  ...  19757.636531  1019.800743\n",
       "Male   Middle Class     12761.733997  165.736805  ...  19640.313086   995.486333\n",
       "       Poor             15301.173067  164.528743  ...  19868.250726  1052.295893\n",
       "       Rich             15092.221858  157.210644  ...  19858.115811   978.823389\n",
       "\n",
       "[6 rows x 12 columns]"
      ]
     },
     "execution_count": 24,
     "metadata": {
      "tags": []
     },
     "output_type": "execute_result"
    }
   ],
   "source": [
    "double_group.aggregate([np.sum, np.mean, np.std])"
   ]
  },
  {
   "cell_type": "code",
   "execution_count": 25,
   "metadata": {
    "colab": {
     "base_uri": "https://localhost:8080/",
     "height": 297
    },
    "colab_type": "code",
    "id": "UkktjSkgAkSG",
    "outputId": "649b4150-ed5f-434c-aba1-fd463463fa25"
   },
   "outputs": [
    {
     "data": {
      "text/html": [
       "<div>\n",
       "<style scoped>\n",
       "    .dataframe tbody tr th:only-of-type {\n",
       "        vertical-align: middle;\n",
       "    }\n",
       "\n",
       "    .dataframe tbody tr th {\n",
       "        vertical-align: top;\n",
       "    }\n",
       "\n",
       "    .dataframe thead tr th {\n",
       "        text-align: left;\n",
       "    }\n",
       "\n",
       "    .dataframe thead tr:last-of-type th {\n",
       "        text-align: right;\n",
       "    }\n",
       "</style>\n",
       "<table border=\"1\" class=\"dataframe\">\n",
       "  <thead>\n",
       "    <tr>\n",
       "      <th></th>\n",
       "      <th></th>\n",
       "      <th>Height</th>\n",
       "      <th>Weight</th>\n",
       "      <th>Age</th>\n",
       "      <th>Income</th>\n",
       "    </tr>\n",
       "    <tr>\n",
       "      <th></th>\n",
       "      <th></th>\n",
       "      <th>&lt;lambda&gt;</th>\n",
       "      <th>&lt;lambda&gt;</th>\n",
       "      <th>&lt;lambda&gt;</th>\n",
       "      <th>&lt;lambda&gt;</th>\n",
       "    </tr>\n",
       "    <tr>\n",
       "      <th>Gender</th>\n",
       "      <th>Economic Status</th>\n",
       "      <th></th>\n",
       "      <th></th>\n",
       "      <th></th>\n",
       "      <th></th>\n",
       "    </tr>\n",
       "  </thead>\n",
       "  <tbody>\n",
       "    <tr>\n",
       "      <th rowspan=\"3\" valign=\"top\">Female</th>\n",
       "      <th>Middle Class</th>\n",
       "      <td>5.296115</td>\n",
       "      <td>2.665104</td>\n",
       "      <td>2.381414</td>\n",
       "      <td>19.865368</td>\n",
       "    </tr>\n",
       "    <tr>\n",
       "      <th>Poor</th>\n",
       "      <td>5.162266</td>\n",
       "      <td>2.692041</td>\n",
       "      <td>2.421046</td>\n",
       "      <td>21.070403</td>\n",
       "    </tr>\n",
       "    <tr>\n",
       "      <th>Rich</th>\n",
       "      <td>5.575445</td>\n",
       "      <td>2.489051</td>\n",
       "      <td>2.686889</td>\n",
       "      <td>19.501061</td>\n",
       "    </tr>\n",
       "    <tr>\n",
       "      <th rowspan=\"3\" valign=\"top\">Male</th>\n",
       "      <th>Middle Class</th>\n",
       "      <td>5.602612</td>\n",
       "      <td>2.312436</td>\n",
       "      <td>2.632110</td>\n",
       "      <td>19.858739</td>\n",
       "    </tr>\n",
       "    <tr>\n",
       "      <th>Poor</th>\n",
       "      <td>5.945550</td>\n",
       "      <td>2.545868</td>\n",
       "      <td>2.408529</td>\n",
       "      <td>18.983195</td>\n",
       "    </tr>\n",
       "    <tr>\n",
       "      <th>Rich</th>\n",
       "      <td>5.188337</td>\n",
       "      <td>2.710532</td>\n",
       "      <td>2.690210</td>\n",
       "      <td>20.394239</td>\n",
       "    </tr>\n",
       "  </tbody>\n",
       "</table>\n",
       "</div>"
      ],
      "text/plain": [
       "                          Height    Weight       Age     Income\n",
       "                        <lambda>  <lambda>  <lambda>   <lambda>\n",
       "Gender Economic Status                                         \n",
       "Female Middle Class     5.296115  2.665104  2.381414  19.865368\n",
       "       Poor             5.162266  2.692041  2.421046  21.070403\n",
       "       Rich             5.575445  2.489051  2.686889  19.501061\n",
       "Male   Middle Class     5.602612  2.312436  2.632110  19.858739\n",
       "       Poor             5.945550  2.545868  2.408529  18.983195\n",
       "       Rich             5.188337  2.710532  2.690210  20.394239"
      ]
     },
     "execution_count": 25,
     "metadata": {
      "tags": []
     },
     "output_type": "execute_result"
    }
   ],
   "source": [
    "double_group.aggregate([lambda x: np.mean(x) / np.std(x)])"
   ]
  },
  {
   "cell_type": "markdown",
   "metadata": {
    "colab_type": "text",
    "id": "YqDrlXlFAkSH"
   },
   "source": [
    "## Filtrado de datos"
   ]
  },
  {
   "cell_type": "code",
   "execution_count": 26,
   "metadata": {
    "colab": {
     "base_uri": "https://localhost:8080/",
     "height": 221
    },
    "colab_type": "code",
    "id": "dD7rfKxSAkSH",
    "outputId": "324de0e9-e7f3-4d0a-f627-4502bf988198"
   },
   "outputs": [
    {
     "data": {
      "text/plain": [
       "3      34.192437\n",
       "4      32.501684\n",
       "7      19.958657\n",
       "8      31.228420\n",
       "10     38.757674\n",
       "         ...    \n",
       "492    64.993034\n",
       "494    31.240249\n",
       "495    17.900334\n",
       "496    27.617103\n",
       "498    35.257657\n",
       "Name: Age, Length: 271, dtype: float64"
      ]
     },
     "execution_count": 26,
     "metadata": {
      "tags": []
     },
     "output_type": "execute_result"
    }
   ],
   "source": [
    "double_group[\"Age\"].filter(lambda x: x.sum()>2400)"
   ]
  },
  {
   "cell_type": "markdown",
   "metadata": {
    "colab_type": "text",
    "id": "K8WuegM0AkSI"
   },
   "source": [
    "## Transformación de variables"
   ]
  },
  {
   "cell_type": "code",
   "execution_count": 0,
   "metadata": {
    "colab": {},
    "colab_type": "code",
    "id": "_3lvmdbVAkSI"
   },
   "outputs": [],
   "source": [
    "zscore = lambda x : (x - x.mean())/x.std()"
   ]
  },
  {
   "cell_type": "code",
   "execution_count": 0,
   "metadata": {
    "colab": {},
    "colab_type": "code",
    "id": "fLCs7OEOAkSJ"
   },
   "outputs": [],
   "source": [
    "z_group = double_group.transform(zscore)"
   ]
  },
  {
   "cell_type": "code",
   "execution_count": 0,
   "metadata": {
    "colab": {},
    "colab_type": "code",
    "id": "1_3gMroqAkSK"
   },
   "outputs": [],
   "source": [
    "import matplotlib.pyplot as plt"
   ]
  },
  {
   "cell_type": "code",
   "execution_count": 30,
   "metadata": {
    "colab": {
     "base_uri": "https://localhost:8080/",
     "height": 350
    },
    "colab_type": "code",
    "id": "CRgESBjmAkSL",
    "outputId": "3f2055ac-0d7e-4787-ab2a-aa6045c585db"
   },
   "outputs": [
    {
     "data": {
      "text/plain": [
       "(array([  6.,  10.,  38.,  80., 111., 104.,  80.,  47.,  15.,   9.]),\n",
       " array([-2.92196658, -2.35012721, -1.77828785, -1.20644848, -0.63460912,\n",
       "        -0.06276976,  0.50906961,  1.08090897,  1.65274833,  2.2245877 ,\n",
       "         2.79642706]),\n",
       " <a list of 10 Patch objects>)"
      ]
     },
     "execution_count": 30,
     "metadata": {
      "tags": []
     },
     "output_type": "execute_result"
    },
    {
     "data": {
      "image/png": "[encoded data removed]",
      "text/plain": [
       "<Figure size 432x288 with 1 Axes>"
      ]
     },
     "metadata": {
      "needs_background": "light",
      "tags": []
     },
     "output_type": "display_data"
    }
   ],
   "source": [
    "plt.hist(z_group[\"Age\"])"
   ]
  },
  {
   "cell_type": "code",
   "execution_count": 0,
   "metadata": {
    "colab": {},
    "colab_type": "code",
    "id": "V5OjiQoAAkSM"
   },
   "outputs": [],
   "source": [
    "fill_na_mean = lambda x : x.fillna(x.mean())"
   ]
  },
  {
   "cell_type": "code",
   "execution_count": 32,
   "metadata": {
    "colab": {
     "base_uri": "https://localhost:8080/",
     "height": 419
    },
    "colab_type": "code",
    "id": "Jt30Dhi7AkSN",
    "outputId": "ca1ea0dc-e6fe-4fbc-a412-9629628408b4"
   },
   "outputs": [
    {
     "data": {
      "text/html": [
       "<div>\n",
       "<style scoped>\n",
       "    .dataframe tbody tr th:only-of-type {\n",
       "        vertical-align: middle;\n",
       "    }\n",
       "\n",
       "    .dataframe tbody tr th {\n",
       "        vertical-align: top;\n",
       "    }\n",
       "\n",
       "    .dataframe thead th {\n",
       "        text-align: right;\n",
       "    }\n",
       "</style>\n",
       "<table border=\"1\" class=\"dataframe\">\n",
       "  <thead>\n",
       "    <tr style=\"text-align: right;\">\n",
       "      <th></th>\n",
       "      <th>Height</th>\n",
       "      <th>Weight</th>\n",
       "      <th>Age</th>\n",
       "      <th>Income</th>\n",
       "    </tr>\n",
       "  </thead>\n",
       "  <tbody>\n",
       "    <tr>\n",
       "      <th>0</th>\n",
       "      <td>196.343940</td>\n",
       "      <td>60.909064</td>\n",
       "      <td>40.451221</td>\n",
       "      <td>21385.958772</td>\n",
       "    </tr>\n",
       "    <tr>\n",
       "      <th>1</th>\n",
       "      <td>153.697110</td>\n",
       "      <td>48.005164</td>\n",
       "      <td>48.163870</td>\n",
       "      <td>19757.653998</td>\n",
       "    </tr>\n",
       "    <tr>\n",
       "      <th>2</th>\n",
       "      <td>146.713926</td>\n",
       "      <td>53.476714</td>\n",
       "      <td>31.144568</td>\n",
       "      <td>20279.476735</td>\n",
       "    </tr>\n",
       "    <tr>\n",
       "      <th>3</th>\n",
       "      <td>183.988501</td>\n",
       "      <td>71.785466</td>\n",
       "      <td>34.192437</td>\n",
       "      <td>19778.532678</td>\n",
       "    </tr>\n",
       "    <tr>\n",
       "      <th>4</th>\n",
       "      <td>179.805582</td>\n",
       "      <td>58.547234</td>\n",
       "      <td>32.501684</td>\n",
       "      <td>19346.337986</td>\n",
       "    </tr>\n",
       "    <tr>\n",
       "      <th>...</th>\n",
       "      <td>...</td>\n",
       "      <td>...</td>\n",
       "      <td>...</td>\n",
       "      <td>...</td>\n",
       "    </tr>\n",
       "    <tr>\n",
       "      <th>495</th>\n",
       "      <td>180.672252</td>\n",
       "      <td>51.029436</td>\n",
       "      <td>17.900334</td>\n",
       "      <td>20043.401932</td>\n",
       "    </tr>\n",
       "    <tr>\n",
       "      <th>496</th>\n",
       "      <td>151.602650</td>\n",
       "      <td>43.765061</td>\n",
       "      <td>27.617103</td>\n",
       "      <td>20241.297735</td>\n",
       "    </tr>\n",
       "    <tr>\n",
       "      <th>497</th>\n",
       "      <td>149.973149</td>\n",
       "      <td>67.190925</td>\n",
       "      <td>36.479521</td>\n",
       "      <td>19335.750899</td>\n",
       "    </tr>\n",
       "    <tr>\n",
       "      <th>498</th>\n",
       "      <td>163.669365</td>\n",
       "      <td>98.571932</td>\n",
       "      <td>35.257657</td>\n",
       "      <td>18888.280373</td>\n",
       "    </tr>\n",
       "    <tr>\n",
       "      <th>499</th>\n",
       "      <td>148.236420</td>\n",
       "      <td>90.327894</td>\n",
       "      <td>13.374767</td>\n",
       "      <td>19467.309309</td>\n",
       "    </tr>\n",
       "  </tbody>\n",
       "</table>\n",
       "<p>500 rows × 4 columns</p>\n",
       "</div>"
      ],
      "text/plain": [
       "         Height     Weight        Age        Income\n",
       "0    196.343940  60.909064  40.451221  21385.958772\n",
       "1    153.697110  48.005164  48.163870  19757.653998\n",
       "2    146.713926  53.476714  31.144568  20279.476735\n",
       "3    183.988501  71.785466  34.192437  19778.532678\n",
       "4    179.805582  58.547234  32.501684  19346.337986\n",
       "..          ...        ...        ...           ...\n",
       "495  180.672252  51.029436  17.900334  20043.401932\n",
       "496  151.602650  43.765061  27.617103  20241.297735\n",
       "497  149.973149  67.190925  36.479521  19335.750899\n",
       "498  163.669365  98.571932  35.257657  18888.280373\n",
       "499  148.236420  90.327894  13.374767  19467.309309\n",
       "\n",
       "[500 rows x 4 columns]"
      ]
     },
     "execution_count": 32,
     "metadata": {
      "tags": []
     },
     "output_type": "execute_result"
    }
   ],
   "source": [
    "double_group.transform(fill_na_mean)"
   ]
  },
  {
   "cell_type": "markdown",
   "metadata": {
    "colab_type": "text",
    "id": "REgLbwFpAkSO"
   },
   "source": [
    "## Operaciones diversas muy útiles"
   ]
  },
  {
   "cell_type": "code",
   "execution_count": 33,
   "metadata": {
    "colab": {
     "base_uri": "https://localhost:8080/",
     "height": 235
    },
    "colab_type": "code",
    "id": "Onxbpf_5AkSO",
    "outputId": "ec3f40b7-5e5e-4674-b0a8-01963860af19"
   },
   "outputs": [
    {
     "data": {
      "text/html": [
       "<div>\n",
       "<style scoped>\n",
       "    .dataframe tbody tr th:only-of-type {\n",
       "        vertical-align: middle;\n",
       "    }\n",
       "\n",
       "    .dataframe tbody tr th {\n",
       "        vertical-align: top;\n",
       "    }\n",
       "\n",
       "    .dataframe thead th {\n",
       "        text-align: right;\n",
       "    }\n",
       "</style>\n",
       "<table border=\"1\" class=\"dataframe\">\n",
       "  <thead>\n",
       "    <tr style=\"text-align: right;\">\n",
       "      <th></th>\n",
       "      <th>Gender</th>\n",
       "      <th>Economic Status</th>\n",
       "      <th>Height</th>\n",
       "      <th>Weight</th>\n",
       "      <th>Age</th>\n",
       "      <th>Income</th>\n",
       "    </tr>\n",
       "  </thead>\n",
       "  <tbody>\n",
       "    <tr>\n",
       "      <th>0</th>\n",
       "      <td>Female</td>\n",
       "      <td>Rich</td>\n",
       "      <td>196.343940</td>\n",
       "      <td>60.909064</td>\n",
       "      <td>40.451221</td>\n",
       "      <td>21385.958772</td>\n",
       "    </tr>\n",
       "    <tr>\n",
       "      <th>1</th>\n",
       "      <td>Male</td>\n",
       "      <td>Middle Class</td>\n",
       "      <td>153.697110</td>\n",
       "      <td>48.005164</td>\n",
       "      <td>48.163870</td>\n",
       "      <td>19757.653998</td>\n",
       "    </tr>\n",
       "    <tr>\n",
       "      <th>3</th>\n",
       "      <td>Male</td>\n",
       "      <td>Rich</td>\n",
       "      <td>183.988501</td>\n",
       "      <td>71.785466</td>\n",
       "      <td>34.192437</td>\n",
       "      <td>19778.532678</td>\n",
       "    </tr>\n",
       "    <tr>\n",
       "      <th>4</th>\n",
       "      <td>Male</td>\n",
       "      <td>Poor</td>\n",
       "      <td>179.805582</td>\n",
       "      <td>58.547234</td>\n",
       "      <td>32.501684</td>\n",
       "      <td>19346.337986</td>\n",
       "    </tr>\n",
       "    <tr>\n",
       "      <th>5</th>\n",
       "      <td>Female</td>\n",
       "      <td>Poor</td>\n",
       "      <td>172.074560</td>\n",
       "      <td>28.192775</td>\n",
       "      <td>42.997942</td>\n",
       "      <td>21277.967078</td>\n",
       "    </tr>\n",
       "    <tr>\n",
       "      <th>7</th>\n",
       "      <td>Female</td>\n",
       "      <td>Middle Class</td>\n",
       "      <td>166.360472</td>\n",
       "      <td>33.332115</td>\n",
       "      <td>19.958657</td>\n",
       "      <td>19611.989916</td>\n",
       "    </tr>\n",
       "  </tbody>\n",
       "</table>\n",
       "</div>"
      ],
      "text/plain": [
       "   Gender Economic Status      Height     Weight        Age        Income\n",
       "0  Female            Rich  196.343940  60.909064  40.451221  21385.958772\n",
       "1    Male    Middle Class  153.697110  48.005164  48.163870  19757.653998\n",
       "3    Male            Rich  183.988501  71.785466  34.192437  19778.532678\n",
       "4    Male            Poor  179.805582  58.547234  32.501684  19346.337986\n",
       "5  Female            Poor  172.074560  28.192775  42.997942  21277.967078\n",
       "7  Female    Middle Class  166.360472  33.332115  19.958657  19611.989916"
      ]
     },
     "execution_count": 33,
     "metadata": {
      "tags": []
     },
     "output_type": "execute_result"
    }
   ],
   "source": [
    "double_group.head(1)"
   ]
  },
  {
   "cell_type": "code",
   "execution_count": 34,
   "metadata": {
    "colab": {
     "base_uri": "https://localhost:8080/",
     "height": 235
    },
    "colab_type": "code",
    "id": "srDlzkTjAkSP",
    "outputId": "7c3e78ed-0525-4c24-d3e5-ffd788897744"
   },
   "outputs": [
    {
     "data": {
      "text/html": [
       "<div>\n",
       "<style scoped>\n",
       "    .dataframe tbody tr th:only-of-type {\n",
       "        vertical-align: middle;\n",
       "    }\n",
       "\n",
       "    .dataframe tbody tr th {\n",
       "        vertical-align: top;\n",
       "    }\n",
       "\n",
       "    .dataframe thead th {\n",
       "        text-align: right;\n",
       "    }\n",
       "</style>\n",
       "<table border=\"1\" class=\"dataframe\">\n",
       "  <thead>\n",
       "    <tr style=\"text-align: right;\">\n",
       "      <th></th>\n",
       "      <th>Gender</th>\n",
       "      <th>Economic Status</th>\n",
       "      <th>Height</th>\n",
       "      <th>Weight</th>\n",
       "      <th>Age</th>\n",
       "      <th>Income</th>\n",
       "    </tr>\n",
       "  </thead>\n",
       "  <tbody>\n",
       "    <tr>\n",
       "      <th>484</th>\n",
       "      <td>Female</td>\n",
       "      <td>Poor</td>\n",
       "      <td>237.863120</td>\n",
       "      <td>19.951759</td>\n",
       "      <td>49.066417</td>\n",
       "      <td>19810.325445</td>\n",
       "    </tr>\n",
       "    <tr>\n",
       "      <th>487</th>\n",
       "      <td>Male</td>\n",
       "      <td>Poor</td>\n",
       "      <td>227.539516</td>\n",
       "      <td>57.374036</td>\n",
       "      <td>25.997146</td>\n",
       "      <td>19157.948395</td>\n",
       "    </tr>\n",
       "    <tr>\n",
       "      <th>493</th>\n",
       "      <td>Female</td>\n",
       "      <td>Rich</td>\n",
       "      <td>169.567790</td>\n",
       "      <td>63.484671</td>\n",
       "      <td>29.763336</td>\n",
       "      <td>20821.406697</td>\n",
       "    </tr>\n",
       "    <tr>\n",
       "      <th>495</th>\n",
       "      <td>Female</td>\n",
       "      <td>Middle Class</td>\n",
       "      <td>180.672252</td>\n",
       "      <td>51.029436</td>\n",
       "      <td>17.900334</td>\n",
       "      <td>20043.401932</td>\n",
       "    </tr>\n",
       "    <tr>\n",
       "      <th>498</th>\n",
       "      <td>Male</td>\n",
       "      <td>Rich</td>\n",
       "      <td>163.669365</td>\n",
       "      <td>98.571932</td>\n",
       "      <td>35.257657</td>\n",
       "      <td>18888.280373</td>\n",
       "    </tr>\n",
       "    <tr>\n",
       "      <th>499</th>\n",
       "      <td>Male</td>\n",
       "      <td>Middle Class</td>\n",
       "      <td>148.236420</td>\n",
       "      <td>90.327894</td>\n",
       "      <td>13.374767</td>\n",
       "      <td>19467.309309</td>\n",
       "    </tr>\n",
       "  </tbody>\n",
       "</table>\n",
       "</div>"
      ],
      "text/plain": [
       "     Gender Economic Status      Height     Weight        Age        Income\n",
       "484  Female            Poor  237.863120  19.951759  49.066417  19810.325445\n",
       "487    Male            Poor  227.539516  57.374036  25.997146  19157.948395\n",
       "493  Female            Rich  169.567790  63.484671  29.763336  20821.406697\n",
       "495  Female    Middle Class  180.672252  51.029436  17.900334  20043.401932\n",
       "498    Male            Rich  163.669365  98.571932  35.257657  18888.280373\n",
       "499    Male    Middle Class  148.236420  90.327894  13.374767  19467.309309"
      ]
     },
     "execution_count": 34,
     "metadata": {
      "tags": []
     },
     "output_type": "execute_result"
    }
   ],
   "source": [
    "double_group.tail(1)"
   ]
  },
  {
   "cell_type": "code",
   "execution_count": 35,
   "metadata": {
    "colab": {
     "base_uri": "https://localhost:8080/",
     "height": 266
    },
    "colab_type": "code",
    "id": "PUzcau-IAkSQ",
    "outputId": "b6414924-5c52-4957-ca75-e482fa6bb218"
   },
   "outputs": [
    {
     "data": {
      "text/html": [
       "<div>\n",
       "<style scoped>\n",
       "    .dataframe tbody tr th:only-of-type {\n",
       "        vertical-align: middle;\n",
       "    }\n",
       "\n",
       "    .dataframe tbody tr th {\n",
       "        vertical-align: top;\n",
       "    }\n",
       "\n",
       "    .dataframe thead th {\n",
       "        text-align: right;\n",
       "    }\n",
       "</style>\n",
       "<table border=\"1\" class=\"dataframe\">\n",
       "  <thead>\n",
       "    <tr style=\"text-align: right;\">\n",
       "      <th></th>\n",
       "      <th></th>\n",
       "      <th>Height</th>\n",
       "      <th>Weight</th>\n",
       "      <th>Age</th>\n",
       "      <th>Income</th>\n",
       "    </tr>\n",
       "    <tr>\n",
       "      <th>Gender</th>\n",
       "      <th>Economic Status</th>\n",
       "      <th></th>\n",
       "      <th></th>\n",
       "      <th></th>\n",
       "      <th></th>\n",
       "    </tr>\n",
       "  </thead>\n",
       "  <tbody>\n",
       "    <tr>\n",
       "      <th rowspan=\"3\" valign=\"top\">Female</th>\n",
       "      <th>Middle Class</th>\n",
       "      <td>110.180551</td>\n",
       "      <td>68.190065</td>\n",
       "      <td>49.949398</td>\n",
       "      <td>19487.156361</td>\n",
       "    </tr>\n",
       "    <tr>\n",
       "      <th>Poor</th>\n",
       "      <td>158.853184</td>\n",
       "      <td>63.085928</td>\n",
       "      <td>25.005120</td>\n",
       "      <td>20216.239204</td>\n",
       "    </tr>\n",
       "    <tr>\n",
       "      <th>Rich</th>\n",
       "      <td>162.750233</td>\n",
       "      <td>65.951638</td>\n",
       "      <td>40.062883</td>\n",
       "      <td>18023.726084</td>\n",
       "    </tr>\n",
       "    <tr>\n",
       "      <th rowspan=\"3\" valign=\"top\">Male</th>\n",
       "      <th>Middle Class</th>\n",
       "      <td>161.936648</td>\n",
       "      <td>70.117613</td>\n",
       "      <td>4.067120</td>\n",
       "      <td>19697.088560</td>\n",
       "    </tr>\n",
       "    <tr>\n",
       "      <th>Poor</th>\n",
       "      <td>158.631750</td>\n",
       "      <td>52.472696</td>\n",
       "      <td>24.187545</td>\n",
       "      <td>19964.779021</td>\n",
       "    </tr>\n",
       "    <tr>\n",
       "      <th>Rich</th>\n",
       "      <td>171.473068</td>\n",
       "      <td>45.510527</td>\n",
       "      <td>47.831414</td>\n",
       "      <td>20692.308396</td>\n",
       "    </tr>\n",
       "  </tbody>\n",
       "</table>\n",
       "</div>"
      ],
      "text/plain": [
       "                            Height     Weight        Age        Income\n",
       "Gender Economic Status                                                \n",
       "Female Middle Class     110.180551  68.190065  49.949398  19487.156361\n",
       "       Poor             158.853184  63.085928  25.005120  20216.239204\n",
       "       Rich             162.750233  65.951638  40.062883  18023.726084\n",
       "Male   Middle Class     161.936648  70.117613   4.067120  19697.088560\n",
       "       Poor             158.631750  52.472696  24.187545  19964.779021\n",
       "       Rich             171.473068  45.510527  47.831414  20692.308396"
      ]
     },
     "execution_count": 35,
     "metadata": {
      "tags": []
     },
     "output_type": "execute_result"
    }
   ],
   "source": [
    "double_group.nth(32)"
   ]
  },
  {
   "cell_type": "code",
   "execution_count": 36,
   "metadata": {
    "colab": {
     "base_uri": "https://localhost:8080/",
     "height": 142
    },
    "colab_type": "code",
    "id": "TLvuUCwlAkSR",
    "outputId": "f4db7972-2a76-4a61-9040-8b0ea79773f0"
   },
   "outputs": [
    {
     "data": {
      "text/html": [
       "<div>\n",
       "<style scoped>\n",
       "    .dataframe tbody tr th:only-of-type {\n",
       "        vertical-align: middle;\n",
       "    }\n",
       "\n",
       "    .dataframe tbody tr th {\n",
       "        vertical-align: top;\n",
       "    }\n",
       "\n",
       "    .dataframe thead th {\n",
       "        text-align: right;\n",
       "    }\n",
       "</style>\n",
       "<table border=\"1\" class=\"dataframe\">\n",
       "  <thead>\n",
       "    <tr style=\"text-align: right;\">\n",
       "      <th></th>\n",
       "      <th></th>\n",
       "      <th>Height</th>\n",
       "      <th>Weight</th>\n",
       "      <th>Age</th>\n",
       "      <th>Income</th>\n",
       "    </tr>\n",
       "    <tr>\n",
       "      <th>Gender</th>\n",
       "      <th>Economic Status</th>\n",
       "      <th></th>\n",
       "      <th></th>\n",
       "      <th></th>\n",
       "      <th></th>\n",
       "    </tr>\n",
       "  </thead>\n",
       "  <tbody>\n",
       "    <tr>\n",
       "      <th rowspan=\"2\" valign=\"top\">Male</th>\n",
       "      <th>Poor</th>\n",
       "      <td>179.93339</td>\n",
       "      <td>76.802942</td>\n",
       "      <td>21.885402</td>\n",
       "      <td>20715.359892</td>\n",
       "    </tr>\n",
       "    <tr>\n",
       "      <th>Rich</th>\n",
       "      <td>164.70270</td>\n",
       "      <td>86.880958</td>\n",
       "      <td>26.744570</td>\n",
       "      <td>19193.082787</td>\n",
       "    </tr>\n",
       "  </tbody>\n",
       "</table>\n",
       "</div>"
      ],
      "text/plain": [
       "                           Height     Weight        Age        Income\n",
       "Gender Economic Status                                               \n",
       "Male   Poor             179.93339  76.802942  21.885402  20715.359892\n",
       "       Rich             164.70270  86.880958  26.744570  19193.082787"
      ]
     },
     "execution_count": 36,
     "metadata": {
      "tags": []
     },
     "output_type": "execute_result"
    }
   ],
   "source": [
    "double_group.nth(82)"
   ]
  },
  {
   "cell_type": "code",
   "execution_count": 0,
   "metadata": {
    "colab": {},
    "colab_type": "code",
    "id": "Lm1IS7UeAkSS"
   },
   "outputs": [],
   "source": [
    "data_sorted = data.sort_values([\"Age\", \"Income\"])"
   ]
  },
  {
   "cell_type": "code",
   "execution_count": 38,
   "metadata": {
    "colab": {
     "base_uri": "https://localhost:8080/",
     "height": 359
    },
    "colab_type": "code",
    "id": "_E618lUBAkST",
    "outputId": "bb9cd800-a233-4f86-b033-cfb085b09f2d"
   },
   "outputs": [
    {
     "data": {
      "text/html": [
       "<div>\n",
       "<style scoped>\n",
       "    .dataframe tbody tr th:only-of-type {\n",
       "        vertical-align: middle;\n",
       "    }\n",
       "\n",
       "    .dataframe tbody tr th {\n",
       "        vertical-align: top;\n",
       "    }\n",
       "\n",
       "    .dataframe thead th {\n",
       "        text-align: right;\n",
       "    }\n",
       "</style>\n",
       "<table border=\"1\" class=\"dataframe\">\n",
       "  <thead>\n",
       "    <tr style=\"text-align: right;\">\n",
       "      <th></th>\n",
       "      <th>Gender</th>\n",
       "      <th>Economic Status</th>\n",
       "      <th>Height</th>\n",
       "      <th>Weight</th>\n",
       "      <th>Age</th>\n",
       "      <th>Income</th>\n",
       "    </tr>\n",
       "  </thead>\n",
       "  <tbody>\n",
       "    <tr>\n",
       "      <th>59</th>\n",
       "      <td>Female</td>\n",
       "      <td>Poor</td>\n",
       "      <td>219.118989</td>\n",
       "      <td>106.348681</td>\n",
       "      <td>-3.837400</td>\n",
       "      <td>21298.802624</td>\n",
       "    </tr>\n",
       "    <tr>\n",
       "      <th>148</th>\n",
       "      <td>Female</td>\n",
       "      <td>Middle Class</td>\n",
       "      <td>140.433589</td>\n",
       "      <td>88.161987</td>\n",
       "      <td>-3.010737</td>\n",
       "      <td>19892.145392</td>\n",
       "    </tr>\n",
       "    <tr>\n",
       "      <th>22</th>\n",
       "      <td>Female</td>\n",
       "      <td>Rich</td>\n",
       "      <td>220.042892</td>\n",
       "      <td>66.970892</td>\n",
       "      <td>-2.860013</td>\n",
       "      <td>18189.632418</td>\n",
       "    </tr>\n",
       "    <tr>\n",
       "      <th>154</th>\n",
       "      <td>Female</td>\n",
       "      <td>Middle Class</td>\n",
       "      <td>101.836328</td>\n",
       "      <td>78.121454</td>\n",
       "      <td>-2.139509</td>\n",
       "      <td>19793.479229</td>\n",
       "    </tr>\n",
       "    <tr>\n",
       "      <th>89</th>\n",
       "      <td>Male</td>\n",
       "      <td>Poor</td>\n",
       "      <td>193.682572</td>\n",
       "      <td>79.271949</td>\n",
       "      <td>-1.181704</td>\n",
       "      <td>21008.166187</td>\n",
       "    </tr>\n",
       "    <tr>\n",
       "      <th>259</th>\n",
       "      <td>Male</td>\n",
       "      <td>Rich</td>\n",
       "      <td>142.594132</td>\n",
       "      <td>67.007006</td>\n",
       "      <td>3.368029</td>\n",
       "      <td>20693.817605</td>\n",
       "    </tr>\n",
       "    <tr>\n",
       "      <th>209</th>\n",
       "      <td>Male</td>\n",
       "      <td>Middle Class</td>\n",
       "      <td>161.936648</td>\n",
       "      <td>70.117613</td>\n",
       "      <td>4.067120</td>\n",
       "      <td>19697.088560</td>\n",
       "    </tr>\n",
       "    <tr>\n",
       "      <th>299</th>\n",
       "      <td>Male</td>\n",
       "      <td>Poor</td>\n",
       "      <td>194.034042</td>\n",
       "      <td>52.824096</td>\n",
       "      <td>5.591800</td>\n",
       "      <td>21409.162676</td>\n",
       "    </tr>\n",
       "    <tr>\n",
       "      <th>402</th>\n",
       "      <td>Male</td>\n",
       "      <td>Middle Class</td>\n",
       "      <td>149.062605</td>\n",
       "      <td>52.035421</td>\n",
       "      <td>6.173861</td>\n",
       "      <td>21435.420795</td>\n",
       "    </tr>\n",
       "    <tr>\n",
       "      <th>354</th>\n",
       "      <td>Male</td>\n",
       "      <td>Poor</td>\n",
       "      <td>189.448738</td>\n",
       "      <td>78.337713</td>\n",
       "      <td>6.195454</td>\n",
       "      <td>21369.689456</td>\n",
       "    </tr>\n",
       "  </tbody>\n",
       "</table>\n",
       "</div>"
      ],
      "text/plain": [
       "     Gender Economic Status      Height      Weight       Age        Income\n",
       "59   Female            Poor  219.118989  106.348681 -3.837400  21298.802624\n",
       "148  Female    Middle Class  140.433589   88.161987 -3.010737  19892.145392\n",
       "22   Female            Rich  220.042892   66.970892 -2.860013  18189.632418\n",
       "154  Female    Middle Class  101.836328   78.121454 -2.139509  19793.479229\n",
       "89     Male            Poor  193.682572   79.271949 -1.181704  21008.166187\n",
       "259    Male            Rich  142.594132   67.007006  3.368029  20693.817605\n",
       "209    Male    Middle Class  161.936648   70.117613  4.067120  19697.088560\n",
       "299    Male            Poor  194.034042   52.824096  5.591800  21409.162676\n",
       "402    Male    Middle Class  149.062605   52.035421  6.173861  21435.420795\n",
       "354    Male            Poor  189.448738   78.337713  6.195454  21369.689456"
      ]
     },
     "execution_count": 38,
     "metadata": {
      "tags": []
     },
     "output_type": "execute_result"
    }
   ],
   "source": [
    "data_sorted.head(10)"
   ]
  },
  {
   "cell_type": "code",
   "execution_count": 0,
   "metadata": {
    "colab": {},
    "colab_type": "code",
    "id": "p7TM9sRqAkSU"
   },
   "outputs": [],
   "source": [
    "age_grouped = data_sorted.groupby(\"Gender\")"
   ]
  },
  {
   "cell_type": "code",
   "execution_count": 40,
   "metadata": {
    "colab": {
     "base_uri": "https://localhost:8080/",
     "height": 111
    },
    "colab_type": "code",
    "id": "xilQDYDuAkSU",
    "outputId": "9d8dba61-abc3-470f-d137-38706f7ddd56"
   },
   "outputs": [
    {
     "data": {
      "text/html": [
       "<div>\n",
       "<style scoped>\n",
       "    .dataframe tbody tr th:only-of-type {\n",
       "        vertical-align: middle;\n",
       "    }\n",
       "\n",
       "    .dataframe tbody tr th {\n",
       "        vertical-align: top;\n",
       "    }\n",
       "\n",
       "    .dataframe thead th {\n",
       "        text-align: right;\n",
       "    }\n",
       "</style>\n",
       "<table border=\"1\" class=\"dataframe\">\n",
       "  <thead>\n",
       "    <tr style=\"text-align: right;\">\n",
       "      <th></th>\n",
       "      <th>Gender</th>\n",
       "      <th>Economic Status</th>\n",
       "      <th>Height</th>\n",
       "      <th>Weight</th>\n",
       "      <th>Age</th>\n",
       "      <th>Income</th>\n",
       "    </tr>\n",
       "  </thead>\n",
       "  <tbody>\n",
       "    <tr>\n",
       "      <th>59</th>\n",
       "      <td>Female</td>\n",
       "      <td>Poor</td>\n",
       "      <td>219.118989</td>\n",
       "      <td>106.348681</td>\n",
       "      <td>-3.837400</td>\n",
       "      <td>21298.802624</td>\n",
       "    </tr>\n",
       "    <tr>\n",
       "      <th>89</th>\n",
       "      <td>Male</td>\n",
       "      <td>Poor</td>\n",
       "      <td>193.682572</td>\n",
       "      <td>79.271949</td>\n",
       "      <td>-1.181704</td>\n",
       "      <td>21008.166187</td>\n",
       "    </tr>\n",
       "  </tbody>\n",
       "</table>\n",
       "</div>"
      ],
      "text/plain": [
       "    Gender Economic Status      Height      Weight       Age        Income\n",
       "59  Female            Poor  219.118989  106.348681 -3.837400  21298.802624\n",
       "89    Male            Poor  193.682572   79.271949 -1.181704  21008.166187"
      ]
     },
     "execution_count": 40,
     "metadata": {
      "tags": []
     },
     "output_type": "execute_result"
    }
   ],
   "source": [
    "age_grouped.head(1)"
   ]
  },
  {
   "cell_type": "code",
   "execution_count": 41,
   "metadata": {
    "colab": {
     "base_uri": "https://localhost:8080/",
     "height": 111
    },
    "colab_type": "code",
    "id": "-f2hp-tVAkSV",
    "outputId": "12df5949-b1ab-444b-dfbe-5e86694ce039"
   },
   "outputs": [
    {
     "data": {
      "text/html": [
       "<div>\n",
       "<style scoped>\n",
       "    .dataframe tbody tr th:only-of-type {\n",
       "        vertical-align: middle;\n",
       "    }\n",
       "\n",
       "    .dataframe tbody tr th {\n",
       "        vertical-align: top;\n",
       "    }\n",
       "\n",
       "    .dataframe thead th {\n",
       "        text-align: right;\n",
       "    }\n",
       "</style>\n",
       "<table border=\"1\" class=\"dataframe\">\n",
       "  <thead>\n",
       "    <tr style=\"text-align: right;\">\n",
       "      <th></th>\n",
       "      <th>Gender</th>\n",
       "      <th>Economic Status</th>\n",
       "      <th>Height</th>\n",
       "      <th>Weight</th>\n",
       "      <th>Age</th>\n",
       "      <th>Income</th>\n",
       "    </tr>\n",
       "  </thead>\n",
       "  <tbody>\n",
       "    <tr>\n",
       "      <th>423</th>\n",
       "      <td>Male</td>\n",
       "      <td>Poor</td>\n",
       "      <td>165.152608</td>\n",
       "      <td>61.613466</td>\n",
       "      <td>59.082634</td>\n",
       "      <td>20577.920332</td>\n",
       "    </tr>\n",
       "    <tr>\n",
       "      <th>492</th>\n",
       "      <td>Female</td>\n",
       "      <td>Middle Class</td>\n",
       "      <td>173.475638</td>\n",
       "      <td>52.248953</td>\n",
       "      <td>64.993034</td>\n",
       "      <td>20516.979828</td>\n",
       "    </tr>\n",
       "  </tbody>\n",
       "</table>\n",
       "</div>"
      ],
      "text/plain": [
       "     Gender Economic Status      Height     Weight        Age        Income\n",
       "423    Male            Poor  165.152608  61.613466  59.082634  20577.920332\n",
       "492  Female    Middle Class  173.475638  52.248953  64.993034  20516.979828"
      ]
     },
     "execution_count": 41,
     "metadata": {
      "tags": []
     },
     "output_type": "execute_result"
    }
   ],
   "source": [
    "age_grouped.tail(1)"
   ]
  },
  {
   "cell_type": "markdown",
   "metadata": {
    "colab_type": "text",
    "id": "m6-5J5PaAkSW"
   },
   "source": [
    "# Conjunto de entrenamiento y conjunto de testing"
   ]
  },
  {
   "cell_type": "code",
   "execution_count": 0,
   "metadata": {
    "colab": {},
    "colab_type": "code",
    "id": "TsLsKm4RAkSW"
   },
   "outputs": [],
   "source": [
    "import pandas as pd"
   ]
  },
  {
   "cell_type": "code",
   "execution_count": 0,
   "metadata": {
    "colab": {},
    "colab_type": "code",
    "id": "nUwo03aqAkSX"
   },
   "outputs": [],
   "source": [
    "data = pd.read_csv(\"/content/drive/My Drive/Curso Machine Learning con Python/datasets/customer-churn-model/Customer Churn Model.txt\")"
   ]
  },
  {
   "cell_type": "code",
   "execution_count": 0,
   "metadata": {
    "colab": {},
    "colab_type": "code",
    "id": "4JGk0tOCAkSY",
    "outputId": "b20a3f6f-635d-47d9-9218-1ee8391ba6bf"
   },
   "outputs": [
    {
     "data": {
      "text/plain": [
       "3333"
      ]
     },
     "execution_count": 59,
     "metadata": {
      "tags": []
     },
     "output_type": "execute_result"
    }
   ],
   "source": [
    "len(data)"
   ]
  },
  {
   "cell_type": "markdown",
   "metadata": {
    "colab_type": "text",
    "id": "xyYlgyXNAkSZ"
   },
   "source": [
    "## Dividir utilizando la distribución normal"
   ]
  },
  {
   "cell_type": "code",
   "execution_count": 0,
   "metadata": {
    "colab": {},
    "colab_type": "code",
    "id": "0USP9bsAAkSZ"
   },
   "outputs": [],
   "source": [
    "a = np.random.randn(len(data))"
   ]
  },
  {
   "cell_type": "code",
   "execution_count": 43,
   "metadata": {
    "colab": {
     "base_uri": "https://localhost:8080/",
     "height": 350
    },
    "colab_type": "code",
    "id": "t3Tdw4SAAkSa",
    "outputId": "68053f0c-2a9a-4b87-905d-7eef21808580"
   },
   "outputs": [
    {
     "data": {
      "text/plain": [
       "(array([  1.,  14.,  29.,  84., 111., 123.,  85.,  36.,   9.,   8.]),\n",
       " array([-3.19536083, -2.56704791, -1.93873498, -1.31042206, -0.68210914,\n",
       "        -0.05379622,  0.5745167 ,  1.20282963,  1.83114255,  2.45945547,\n",
       "         3.08776839]),\n",
       " <a list of 10 Patch objects>)"
      ]
     },
     "execution_count": 43,
     "metadata": {
      "tags": []
     },
     "output_type": "execute_result"
    },
    {
     "data": {
      "image/png": "[encoded data removed]",
      "text/plain": [
       "<Figure size 432x288 with 1 Axes>"
      ]
     },
     "metadata": {
      "needs_background": "light",
      "tags": []
     },
     "output_type": "display_data"
    }
   ],
   "source": [
    "plt.hist(a)"
   ]
  },
  {
   "cell_type": "code",
   "execution_count": 0,
   "metadata": {
    "colab": {},
    "colab_type": "code",
    "id": "ZOjx59etAkSa"
   },
   "outputs": [],
   "source": [
    "check = (a<0.75) # No es el 75% de los datos, son los números que son < 0.75!!! "
   ]
  },
  {
   "cell_type": "code",
   "execution_count": 45,
   "metadata": {
    "colab": {
     "base_uri": "https://localhost:8080/",
     "height": 969
    },
    "colab_type": "code",
    "id": "LAVp0N0JAkSb",
    "outputId": "ea86ea28-0907-405d-c41e-292975e12ad2"
   },
   "outputs": [
    {
     "data": {
      "text/plain": [
       "array([False,  True,  True,  True,  True,  True,  True, False,  True,\n",
       "        True, False,  True,  True, False,  True,  True,  True,  True,\n",
       "       False, False,  True,  True,  True,  True,  True,  True,  True,\n",
       "        True,  True,  True,  True,  True, False, False,  True,  True,\n",
       "        True,  True,  True,  True, False, False,  True,  True,  True,\n",
       "       False,  True,  True,  True,  True,  True,  True,  True,  True,\n",
       "        True,  True, False,  True, False,  True, False,  True,  True,\n",
       "        True,  True, False,  True,  True,  True,  True,  True,  True,\n",
       "       False,  True, False,  True,  True,  True,  True,  True, False,\n",
       "        True,  True,  True, False, False,  True,  True,  True,  True,\n",
       "        True,  True,  True,  True,  True,  True,  True,  True,  True,\n",
       "        True,  True, False,  True,  True,  True,  True,  True, False,\n",
       "       False, False,  True, False,  True,  True, False, False,  True,\n",
       "       False,  True,  True,  True,  True,  True,  True,  True,  True,\n",
       "        True,  True, False,  True,  True,  True,  True,  True,  True,\n",
       "        True, False, False,  True,  True,  True,  True, False,  True,\n",
       "        True, False,  True,  True,  True,  True,  True,  True,  True,\n",
       "        True,  True,  True, False,  True,  True,  True,  True,  True,\n",
       "        True,  True,  True,  True, False,  True, False,  True,  True,\n",
       "        True,  True, False,  True, False,  True,  True,  True,  True,\n",
       "       False,  True,  True, False,  True,  True,  True,  True,  True,\n",
       "        True, False,  True, False,  True,  True,  True, False, False,\n",
       "        True,  True,  True,  True,  True,  True, False,  True, False,\n",
       "        True,  True,  True, False,  True,  True, False, False,  True,\n",
       "       False,  True,  True,  True,  True,  True, False,  True,  True,\n",
       "        True,  True,  True,  True,  True, False, False,  True, False,\n",
       "        True,  True,  True, False,  True,  True,  True,  True,  True,\n",
       "        True, False,  True,  True,  True,  True,  True,  True, False,\n",
       "        True, False,  True,  True,  True,  True,  True,  True,  True,\n",
       "        True,  True,  True,  True,  True, False, False,  True,  True,\n",
       "        True,  True,  True,  True,  True, False,  True,  True, False,\n",
       "        True,  True,  True,  True,  True,  True,  True,  True, False,\n",
       "        True,  True,  True,  True, False,  True,  True,  True,  True,\n",
       "        True, False,  True,  True,  True,  True, False,  True,  True,\n",
       "        True, False, False, False,  True,  True,  True,  True,  True,\n",
       "        True,  True,  True,  True, False,  True,  True, False,  True,\n",
       "        True, False,  True, False,  True,  True,  True,  True,  True,\n",
       "        True,  True,  True, False,  True,  True,  True,  True, False,\n",
       "       False,  True,  True, False,  True,  True,  True, False,  True,\n",
       "        True,  True, False,  True, False,  True,  True,  True,  True,\n",
       "        True, False,  True,  True,  True,  True,  True, False,  True,\n",
       "        True, False, False, False,  True,  True,  True,  True,  True,\n",
       "        True, False,  True,  True,  True, False,  True,  True,  True,\n",
       "        True, False, False,  True,  True, False,  True,  True,  True,\n",
       "       False,  True,  True,  True,  True,  True,  True, False,  True,\n",
       "        True,  True, False,  True, False, False, False,  True,  True,\n",
       "        True,  True,  True,  True, False,  True,  True, False,  True,\n",
       "        True,  True,  True,  True,  True,  True,  True,  True,  True,\n",
       "        True,  True,  True,  True,  True,  True,  True,  True,  True,\n",
       "       False,  True,  True,  True,  True,  True,  True,  True, False,\n",
       "        True, False,  True,  True,  True,  True,  True,  True,  True,\n",
       "        True,  True,  True,  True,  True,  True, False, False,  True,\n",
       "        True,  True, False,  True,  True, False,  True,  True,  True,\n",
       "        True,  True,  True,  True,  True,  True,  True,  True,  True,\n",
       "        True,  True,  True,  True,  True,  True, False, False,  True,\n",
       "        True,  True, False,  True,  True])"
      ]
     },
     "execution_count": 45,
     "metadata": {
      "tags": []
     },
     "output_type": "execute_result"
    }
   ],
   "source": [
    "check"
   ]
  },
  {
   "cell_type": "code",
   "execution_count": 47,
   "metadata": {
    "colab": {
     "base_uri": "https://localhost:8080/",
     "height": 316
    },
    "colab_type": "code",
    "id": "iWhUObc0AkSc",
    "outputId": "241296c4-8812-4e44-b70f-f01e4b7deb9b"
   },
   "outputs": [
    {
     "data": {
      "text/plain": [
       "(array([108.,   0.,   0.,   0.,   0.,   0.,   0.,   0.,   0., 392.]),\n",
       " array([0. , 0.1, 0.2, 0.3, 0.4, 0.5, 0.6, 0.7, 0.8, 0.9, 1. ]),\n",
       " <a list of 10 Patch objects>)"
      ]
     },
     "execution_count": 47,
     "metadata": {
      "tags": []
     },
     "output_type": "execute_result"
    },
    {
     "data": {
      "image/png": "[encoded data removed]",
      "text/plain": [
       "<Figure size 432x288 with 1 Axes>"
      ]
     },
     "metadata": {
      "needs_background": "light",
      "tags": []
     },
     "output_type": "display_data"
    }
   ],
   "source": [
    "plt.hist(check.astype(int))#Ha cambiado en la versión 3.7 de python y necesita hacer un cast de bool a entero"
   ]
  },
  {
   "cell_type": "code",
   "execution_count": 0,
   "metadata": {
    "colab": {},
    "colab_type": "code",
    "id": "GRqOOoG2AkSc"
   },
   "outputs": [],
   "source": [
    "training = data[check]\n",
    "testing = data[~check]"
   ]
  },
  {
   "cell_type": "code",
   "execution_count": 49,
   "metadata": {
    "colab": {
     "base_uri": "https://localhost:8080/",
     "height": 34
    },
    "colab_type": "code",
    "id": "Ribx2PC1AkSd",
    "outputId": "6233c63b-3442-463d-9e2b-b9d68bd000a0"
   },
   "outputs": [
    {
     "data": {
      "text/plain": [
       "392"
      ]
     },
     "execution_count": 49,
     "metadata": {
      "tags": []
     },
     "output_type": "execute_result"
    }
   ],
   "source": [
    "len(training)"
   ]
  },
  {
   "cell_type": "code",
   "execution_count": 50,
   "metadata": {
    "colab": {
     "base_uri": "https://localhost:8080/",
     "height": 34
    },
    "colab_type": "code",
    "id": "0UnqiUWOAkSe",
    "outputId": "b08d645a-01c5-40fc-9bcd-e13cff80bb71"
   },
   "outputs": [
    {
     "data": {
      "text/plain": [
       "108"
      ]
     },
     "execution_count": 50,
     "metadata": {
      "tags": []
     },
     "output_type": "execute_result"
    }
   ],
   "source": [
    "len(testing)"
   ]
  },
  {
   "cell_type": "markdown",
   "metadata": {
    "colab_type": "text",
    "id": "1f2ToslqAkSf"
   },
   "source": [
    "## Con la libreria sklearn"
   ]
  },
  {
   "cell_type": "code",
   "execution_count": 0,
   "metadata": {
    "colab": {},
    "colab_type": "code",
    "id": "26zoqG7RAkSf"
   },
   "outputs": [],
   "source": [
    "from sklearn.model_selection import train_test_split# Ha cambiado en la 3.7 de Python"
   ]
  },
  {
   "cell_type": "code",
   "execution_count": 0,
   "metadata": {
    "colab": {},
    "colab_type": "code",
    "id": "aVojsIWeAkSg"
   },
   "outputs": [],
   "source": [
    "train, test = train_test_split(data, test_size = 0.2)"
   ]
  },
  {
   "cell_type": "code",
   "execution_count": 54,
   "metadata": {
    "colab": {
     "base_uri": "https://localhost:8080/",
     "height": 34
    },
    "colab_type": "code",
    "id": "60Cjk1ifAkSg",
    "outputId": "127bd786-c53b-4382-973a-90f1b3bf0244"
   },
   "outputs": [
    {
     "data": {
      "text/plain": [
       "400"
      ]
     },
     "execution_count": 54,
     "metadata": {
      "tags": []
     },
     "output_type": "execute_result"
    }
   ],
   "source": [
    "len(train)"
   ]
  },
  {
   "cell_type": "code",
   "execution_count": 55,
   "metadata": {
    "colab": {
     "base_uri": "https://localhost:8080/",
     "height": 34
    },
    "colab_type": "code",
    "id": "xWfmYLTNAkSn",
    "outputId": "ed19bc2b-5dbc-40fd-dcf3-0c4a816838ba"
   },
   "outputs": [
    {
     "data": {
      "text/plain": [
       "100"
      ]
     },
     "execution_count": 55,
     "metadata": {
      "tags": []
     },
     "output_type": "execute_result"
    }
   ],
   "source": [
    "len(test)"
   ]
  },
  {
   "cell_type": "markdown",
   "metadata": {
    "colab_type": "text",
    "id": "9l8-cogRAkSo"
   },
   "source": [
    "## Usando una función de shuffle"
   ]
  },
  {
   "cell_type": "code",
   "execution_count": 0,
   "metadata": {
    "colab": {},
    "colab_type": "code",
    "id": "QLvByZ3PAkSo"
   },
   "outputs": [],
   "source": [
    "import numpy as np"
   ]
  },
  {
   "cell_type": "code",
   "execution_count": 58,
   "metadata": {
    "colab": {
     "base_uri": "https://localhost:8080/",
     "height": 204
    },
    "colab_type": "code",
    "id": "hAwmSuggAkSp",
    "outputId": "68556d22-1833-44a7-8093-a88587991b76"
   },
   "outputs": [
    {
     "data": {
      "text/html": [
       "<div>\n",
       "<style scoped>\n",
       "    .dataframe tbody tr th:only-of-type {\n",
       "        vertical-align: middle;\n",
       "    }\n",
       "\n",
       "    .dataframe tbody tr th {\n",
       "        vertical-align: top;\n",
       "    }\n",
       "\n",
       "    .dataframe thead th {\n",
       "        text-align: right;\n",
       "    }\n",
       "</style>\n",
       "<table border=\"1\" class=\"dataframe\">\n",
       "  <thead>\n",
       "    <tr style=\"text-align: right;\">\n",
       "      <th></th>\n",
       "      <th>Gender</th>\n",
       "      <th>Economic Status</th>\n",
       "      <th>Height</th>\n",
       "      <th>Weight</th>\n",
       "      <th>Age</th>\n",
       "      <th>Income</th>\n",
       "    </tr>\n",
       "  </thead>\n",
       "  <tbody>\n",
       "    <tr>\n",
       "      <th>0</th>\n",
       "      <td>Female</td>\n",
       "      <td>Rich</td>\n",
       "      <td>196.343940</td>\n",
       "      <td>60.909064</td>\n",
       "      <td>40.451221</td>\n",
       "      <td>21385.958772</td>\n",
       "    </tr>\n",
       "    <tr>\n",
       "      <th>1</th>\n",
       "      <td>Male</td>\n",
       "      <td>Middle Class</td>\n",
       "      <td>153.697110</td>\n",
       "      <td>48.005164</td>\n",
       "      <td>48.163870</td>\n",
       "      <td>19757.653998</td>\n",
       "    </tr>\n",
       "    <tr>\n",
       "      <th>2</th>\n",
       "      <td>Female</td>\n",
       "      <td>Rich</td>\n",
       "      <td>146.713926</td>\n",
       "      <td>53.476714</td>\n",
       "      <td>31.144568</td>\n",
       "      <td>20279.476735</td>\n",
       "    </tr>\n",
       "    <tr>\n",
       "      <th>3</th>\n",
       "      <td>Male</td>\n",
       "      <td>Rich</td>\n",
       "      <td>183.988501</td>\n",
       "      <td>71.785466</td>\n",
       "      <td>34.192437</td>\n",
       "      <td>19778.532678</td>\n",
       "    </tr>\n",
       "    <tr>\n",
       "      <th>4</th>\n",
       "      <td>Male</td>\n",
       "      <td>Poor</td>\n",
       "      <td>179.805582</td>\n",
       "      <td>58.547234</td>\n",
       "      <td>32.501684</td>\n",
       "      <td>19346.337986</td>\n",
       "    </tr>\n",
       "  </tbody>\n",
       "</table>\n",
       "</div>"
      ],
      "text/plain": [
       "   Gender Economic Status      Height     Weight        Age        Income\n",
       "0  Female            Rich  196.343940  60.909064  40.451221  21385.958772\n",
       "1    Male    Middle Class  153.697110  48.005164  48.163870  19757.653998\n",
       "2  Female            Rich  146.713926  53.476714  31.144568  20279.476735\n",
       "3    Male            Rich  183.988501  71.785466  34.192437  19778.532678\n",
       "4    Male            Poor  179.805582  58.547234  32.501684  19346.337986"
      ]
     },
     "execution_count": 58,
     "metadata": {
      "tags": []
     },
     "output_type": "execute_result"
    }
   ],
   "source": [
    "data.head()"
   ]
  },
  {
   "cell_type": "code",
   "execution_count": 0,
   "metadata": {
    "colab": {},
    "colab_type": "code",
    "id": "qa0z_ZJ6AkSp"
   },
   "outputs": [],
   "source": [
    "import sklearn"
   ]
  },
  {
   "cell_type": "code",
   "execution_count": 0,
   "metadata": {
    "colab": {},
    "colab_type": "code",
    "id": "yBX-tSSCAkSq"
   },
   "outputs": [],
   "source": [
    "data = sklearn.utils.shuffle(data)"
   ]
  },
  {
   "cell_type": "code",
   "execution_count": 0,
   "metadata": {
    "colab": {},
    "colab_type": "code",
    "id": "lkwfCbmSAkSr"
   },
   "outputs": [],
   "source": [
    "cut_id = int(0.75*len(data))\n",
    "train_data = data[:cut_id]\n",
    "test_data = data[cut_id+1:]"
   ]
  },
  {
   "cell_type": "code",
   "execution_count": 62,
   "metadata": {
    "colab": {
     "base_uri": "https://localhost:8080/",
     "height": 34
    },
    "colab_type": "code",
    "id": "NuJVmGovAkSr",
    "outputId": "6fb2bfaf-e9c0-4de0-a154-f135f4823089"
   },
   "outputs": [
    {
     "data": {
      "text/plain": [
       "375"
      ]
     },
     "execution_count": 62,
     "metadata": {
      "tags": []
     },
     "output_type": "execute_result"
    }
   ],
   "source": [
    "len(train_data)"
   ]
  },
  {
   "cell_type": "code",
   "execution_count": 63,
   "metadata": {
    "colab": {
     "base_uri": "https://localhost:8080/",
     "height": 34
    },
    "colab_type": "code",
    "id": "ztoaBbOeAkSs",
    "outputId": "b3c609f2-fedc-4670-add3-51ca09418772"
   },
   "outputs": [
    {
     "data": {
      "text/plain": [
       "124"
      ]
     },
     "execution_count": 63,
     "metadata": {
      "tags": []
     },
     "output_type": "execute_result"
    }
   ],
   "source": [
    "len(test_data)"
   ]
  },
  {
   "cell_type": "code",
   "execution_count": 0,
   "metadata": {
    "colab": {},
    "colab_type": "code",
    "id": "wgEx951WBsB-"
   },
   "outputs": [],
   "source": []
  }
 ],
 "metadata": {
  "colab": {
   "include_colab_link": true,
   "name": "T2 - 3 - Data Cleaning - Agrupación de datos.ipynb",
   "provenance": []
  },
  "kernelspec": {
   "display_name": "Python 3",
   "language": "python",
   "name": "python3"
  },
  "language_info": {
   "codemirror_mode": {
    "name": "ipython",
    "version": 3
   },
   "file_extension": ".py",
   "mimetype": "text/x-python",
   "name": "python",
   "nbconvert_exporter": "python",
   "pygments_lexer": "ipython3",
   "version": "3.6.4"
  }
 },
 "nbformat": 4,
 "nbformat_minor": 0
}
