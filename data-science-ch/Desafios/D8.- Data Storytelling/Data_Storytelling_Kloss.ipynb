{
 "cells": [
  {
   "cell_type": "markdown",
   "metadata": {},
   "source": [
    "# DESAFIO 8: Data Storytelling\n",
    "\n",
    "Recolección de datos, hasta el 7 de marzo de 2021, sobre COVID en 50 estados de EE.UU., el Distrito de Columbia y 5 territorios de EE.UU, extraidos desde la API de \"The COVID Tracking Project\""
   ]
  },
  {
   "cell_type": "code",
   "execution_count": 2,
   "metadata": {},
   "outputs": [],
   "source": [
    "import pandas as pd\n",
    "import numpy as np\n",
    "import requests\n",
    "import json\n",
    "import seaborn as sns\n",
    "import matplotlib as mpl\n",
    "import matplotlib.pyplot as plt"
   ]
  },
  {
   "cell_type": "code",
   "execution_count": 3,
   "metadata": {},
   "outputs": [
    {
     "name": "stdout",
     "output_type": "stream",
     "text": [
      "<Response [200]>\n"
     ]
    }
   ],
   "source": [
    "url = \"https://api.covidtracking.com/v1/us/daily.json\"\n",
    "df = requests.get(url)\n",
    "print(df)"
   ]
  },
  {
   "cell_type": "code",
   "execution_count": 4,
   "metadata": {},
   "outputs": [
    {
     "data": {
      "text/html": [
       "<div>\n",
       "<style scoped>\n",
       "    .dataframe tbody tr th:only-of-type {\n",
       "        vertical-align: middle;\n",
       "    }\n",
       "\n",
       "    .dataframe tbody tr th {\n",
       "        vertical-align: top;\n",
       "    }\n",
       "\n",
       "    .dataframe thead th {\n",
       "        text-align: right;\n",
       "    }\n",
       "</style>\n",
       "<table border=\"1\" class=\"dataframe\">\n",
       "  <thead>\n",
       "    <tr style=\"text-align: right;\">\n",
       "      <th></th>\n",
       "      <th>date</th>\n",
       "      <th>states</th>\n",
       "      <th>positive</th>\n",
       "      <th>negative</th>\n",
       "      <th>pending</th>\n",
       "      <th>hospitalizedCurrently</th>\n",
       "      <th>hospitalizedCumulative</th>\n",
       "      <th>inIcuCurrently</th>\n",
       "      <th>inIcuCumulative</th>\n",
       "      <th>onVentilatorCurrently</th>\n",
       "      <th>...</th>\n",
       "      <th>lastModified</th>\n",
       "      <th>recovered</th>\n",
       "      <th>total</th>\n",
       "      <th>posNeg</th>\n",
       "      <th>deathIncrease</th>\n",
       "      <th>hospitalizedIncrease</th>\n",
       "      <th>negativeIncrease</th>\n",
       "      <th>positiveIncrease</th>\n",
       "      <th>totalTestResultsIncrease</th>\n",
       "      <th>hash</th>\n",
       "    </tr>\n",
       "  </thead>\n",
       "  <tbody>\n",
       "    <tr>\n",
       "      <th>0</th>\n",
       "      <td>20210307</td>\n",
       "      <td>56</td>\n",
       "      <td>28756489.0</td>\n",
       "      <td>74582825.0</td>\n",
       "      <td>11808.0</td>\n",
       "      <td>40199.0</td>\n",
       "      <td>776361.0</td>\n",
       "      <td>8134.0</td>\n",
       "      <td>45475.0</td>\n",
       "      <td>2802.0</td>\n",
       "      <td>...</td>\n",
       "      <td>2021-03-07T24:00:00Z</td>\n",
       "      <td>None</td>\n",
       "      <td>0</td>\n",
       "      <td>0</td>\n",
       "      <td>842</td>\n",
       "      <td>726</td>\n",
       "      <td>131835</td>\n",
       "      <td>41835</td>\n",
       "      <td>1170059</td>\n",
       "      <td>a80d0063822e251249fd9a44730c49cb23defd83</td>\n",
       "    </tr>\n",
       "    <tr>\n",
       "      <th>1</th>\n",
       "      <td>20210306</td>\n",
       "      <td>56</td>\n",
       "      <td>28714654.0</td>\n",
       "      <td>74450990.0</td>\n",
       "      <td>11783.0</td>\n",
       "      <td>41401.0</td>\n",
       "      <td>775635.0</td>\n",
       "      <td>8409.0</td>\n",
       "      <td>45453.0</td>\n",
       "      <td>2811.0</td>\n",
       "      <td>...</td>\n",
       "      <td>2021-03-06T24:00:00Z</td>\n",
       "      <td>None</td>\n",
       "      <td>0</td>\n",
       "      <td>0</td>\n",
       "      <td>1680</td>\n",
       "      <td>503</td>\n",
       "      <td>143835</td>\n",
       "      <td>60015</td>\n",
       "      <td>1430992</td>\n",
       "      <td>dae5e558c24adb86686bbd58c08cce5f610b8bb0</td>\n",
       "    </tr>\n",
       "    <tr>\n",
       "      <th>2</th>\n",
       "      <td>20210305</td>\n",
       "      <td>56</td>\n",
       "      <td>28654639.0</td>\n",
       "      <td>74307155.0</td>\n",
       "      <td>12213.0</td>\n",
       "      <td>42541.0</td>\n",
       "      <td>775132.0</td>\n",
       "      <td>8634.0</td>\n",
       "      <td>45373.0</td>\n",
       "      <td>2889.0</td>\n",
       "      <td>...</td>\n",
       "      <td>2021-03-05T24:00:00Z</td>\n",
       "      <td>None</td>\n",
       "      <td>0</td>\n",
       "      <td>0</td>\n",
       "      <td>2221</td>\n",
       "      <td>2781</td>\n",
       "      <td>271917</td>\n",
       "      <td>68787</td>\n",
       "      <td>1744417</td>\n",
       "      <td>724844c01659d0103801c57c0f72bf8cc8ab025c</td>\n",
       "    </tr>\n",
       "    <tr>\n",
       "      <th>3</th>\n",
       "      <td>20210304</td>\n",
       "      <td>56</td>\n",
       "      <td>28585852.0</td>\n",
       "      <td>74035238.0</td>\n",
       "      <td>12405.0</td>\n",
       "      <td>44172.0</td>\n",
       "      <td>772351.0</td>\n",
       "      <td>8970.0</td>\n",
       "      <td>45293.0</td>\n",
       "      <td>2973.0</td>\n",
       "      <td>...</td>\n",
       "      <td>2021-03-04T24:00:00Z</td>\n",
       "      <td>None</td>\n",
       "      <td>0</td>\n",
       "      <td>0</td>\n",
       "      <td>1743</td>\n",
       "      <td>1530</td>\n",
       "      <td>177957</td>\n",
       "      <td>65487</td>\n",
       "      <td>1590984</td>\n",
       "      <td>5c549ad30f9abf48dc5de36d20fa707014be1ff3</td>\n",
       "    </tr>\n",
       "    <tr>\n",
       "      <th>4</th>\n",
       "      <td>20210303</td>\n",
       "      <td>56</td>\n",
       "      <td>28520365.0</td>\n",
       "      <td>73857281.0</td>\n",
       "      <td>11778.0</td>\n",
       "      <td>45462.0</td>\n",
       "      <td>770821.0</td>\n",
       "      <td>9359.0</td>\n",
       "      <td>45214.0</td>\n",
       "      <td>3094.0</td>\n",
       "      <td>...</td>\n",
       "      <td>2021-03-03T24:00:00Z</td>\n",
       "      <td>None</td>\n",
       "      <td>0</td>\n",
       "      <td>0</td>\n",
       "      <td>2449</td>\n",
       "      <td>2172</td>\n",
       "      <td>267001</td>\n",
       "      <td>66836</td>\n",
       "      <td>1406795</td>\n",
       "      <td>fef6c425d2b773a9221fe353f13852f3e4a4bfb0</td>\n",
       "    </tr>\n",
       "  </tbody>\n",
       "</table>\n",
       "<p>5 rows × 25 columns</p>\n",
       "</div>"
      ],
      "text/plain": [
       "       date  states    positive    negative  pending  hospitalizedCurrently  \\\n",
       "0  20210307      56  28756489.0  74582825.0  11808.0                40199.0   \n",
       "1  20210306      56  28714654.0  74450990.0  11783.0                41401.0   \n",
       "2  20210305      56  28654639.0  74307155.0  12213.0                42541.0   \n",
       "3  20210304      56  28585852.0  74035238.0  12405.0                44172.0   \n",
       "4  20210303      56  28520365.0  73857281.0  11778.0                45462.0   \n",
       "\n",
       "   hospitalizedCumulative  inIcuCurrently  inIcuCumulative  \\\n",
       "0                776361.0          8134.0          45475.0   \n",
       "1                775635.0          8409.0          45453.0   \n",
       "2                775132.0          8634.0          45373.0   \n",
       "3                772351.0          8970.0          45293.0   \n",
       "4                770821.0          9359.0          45214.0   \n",
       "\n",
       "   onVentilatorCurrently  ...          lastModified recovered  total  posNeg  \\\n",
       "0                 2802.0  ...  2021-03-07T24:00:00Z      None      0       0   \n",
       "1                 2811.0  ...  2021-03-06T24:00:00Z      None      0       0   \n",
       "2                 2889.0  ...  2021-03-05T24:00:00Z      None      0       0   \n",
       "3                 2973.0  ...  2021-03-04T24:00:00Z      None      0       0   \n",
       "4                 3094.0  ...  2021-03-03T24:00:00Z      None      0       0   \n",
       "\n",
       "   deathIncrease hospitalizedIncrease negativeIncrease  positiveIncrease  \\\n",
       "0            842                  726           131835             41835   \n",
       "1           1680                  503           143835             60015   \n",
       "2           2221                 2781           271917             68787   \n",
       "3           1743                 1530           177957             65487   \n",
       "4           2449                 2172           267001             66836   \n",
       "\n",
       "   totalTestResultsIncrease                                      hash  \n",
       "0                   1170059  a80d0063822e251249fd9a44730c49cb23defd83  \n",
       "1                   1430992  dae5e558c24adb86686bbd58c08cce5f610b8bb0  \n",
       "2                   1744417  724844c01659d0103801c57c0f72bf8cc8ab025c  \n",
       "3                   1590984  5c549ad30f9abf48dc5de36d20fa707014be1ff3  \n",
       "4                   1406795  fef6c425d2b773a9221fe353f13852f3e4a4bfb0  \n",
       "\n",
       "[5 rows x 25 columns]"
      ]
     },
     "execution_count": 4,
     "metadata": {},
     "output_type": "execute_result"
    }
   ],
   "source": [
    "# Transformar a json\n",
    "json_data = json.loads(df.text)\n",
    "\n",
    "# Crear dataframe\n",
    "data = pd.DataFrame.from_dict(json_data)\n",
    "data.head()"
   ]
  },
  {
   "cell_type": "code",
   "execution_count": 5,
   "metadata": {},
   "outputs": [
    {
     "name": "stdout",
     "output_type": "stream",
     "text": [
      "<class 'pandas.core.frame.DataFrame'>\n",
      "RangeIndex: 420 entries, 0 to 419\n",
      "Data columns (total 25 columns):\n",
      " #   Column                    Non-Null Count  Dtype  \n",
      "---  ------                    --------------  -----  \n",
      " 0   date                      420 non-null    int64  \n",
      " 1   states                    420 non-null    int64  \n",
      " 2   positive                  419 non-null    float64\n",
      " 3   negative                  372 non-null    float64\n",
      " 4   pending                   369 non-null    float64\n",
      " 5   hospitalizedCurrently     356 non-null    float64\n",
      " 6   hospitalizedCumulative    369 non-null    float64\n",
      " 7   inIcuCurrently            347 non-null    float64\n",
      " 8   inIcuCumulative           348 non-null    float64\n",
      " 9   onVentilatorCurrently     348 non-null    float64\n",
      " 10  onVentilatorCumulative    341 non-null    float64\n",
      " 11  dateChecked               420 non-null    object \n",
      " 12  death                     392 non-null    float64\n",
      " 13  hospitalized              369 non-null    float64\n",
      " 14  totalTestResults          420 non-null    int64  \n",
      " 15  lastModified              420 non-null    object \n",
      " 16  recovered                 0 non-null      object \n",
      " 17  total                     420 non-null    int64  \n",
      " 18  posNeg                    420 non-null    int64  \n",
      " 19  deathIncrease             420 non-null    int64  \n",
      " 20  hospitalizedIncrease      420 non-null    int64  \n",
      " 21  negativeIncrease          420 non-null    int64  \n",
      " 22  positiveIncrease          420 non-null    int64  \n",
      " 23  totalTestResultsIncrease  420 non-null    int64  \n",
      " 24  hash                      420 non-null    object \n",
      "dtypes: float64(11), int64(10), object(4)\n",
      "memory usage: 82.2+ KB\n"
     ]
    }
   ],
   "source": [
    "data.info()"
   ]
  },
  {
   "cell_type": "code",
   "execution_count": 6,
   "metadata": {},
   "outputs": [
    {
     "name": "stdout",
     "output_type": "stream",
     "text": [
      "<class 'pandas.core.series.Series'>\n",
      "RangeIndex: 420 entries, 0 to 419\n",
      "Series name: date\n",
      "Non-Null Count  Dtype         \n",
      "--------------  -----         \n",
      "420 non-null    datetime64[ns]\n",
      "dtypes: datetime64[ns](1)\n",
      "memory usage: 3.4 KB\n"
     ]
    }
   ],
   "source": [
    "# Transformar fecha a formato date\n",
    "data['date'] = pd.to_datetime(data['date'], format='%Y%m%d')\n",
    "data['date'].info()"
   ]
  },
  {
   "cell_type": "code",
   "execution_count": 7,
   "metadata": {},
   "outputs": [
    {
     "data": {
      "text/plain": [
       "date                          0\n",
       "states                        0\n",
       "positive                      1\n",
       "negative                     48\n",
       "pending                      51\n",
       "hospitalizedCurrently        64\n",
       "hospitalizedCumulative       51\n",
       "inIcuCurrently               73\n",
       "inIcuCumulative              72\n",
       "onVentilatorCurrently        72\n",
       "onVentilatorCumulative       79\n",
       "dateChecked                   0\n",
       "death                        28\n",
       "hospitalized                 51\n",
       "totalTestResults              0\n",
       "lastModified                  0\n",
       "recovered                   420\n",
       "total                         0\n",
       "posNeg                        0\n",
       "deathIncrease                 0\n",
       "hospitalizedIncrease          0\n",
       "negativeIncrease              0\n",
       "positiveIncrease              0\n",
       "totalTestResultsIncrease      0\n",
       "hash                          0\n",
       "dtype: int64"
      ]
     },
     "execution_count": 7,
     "metadata": {},
     "output_type": "execute_result"
    }
   ],
   "source": [
    "# Valores nulos\n",
    "data.isnull().sum()"
   ]
  },
  {
   "cell_type": "code",
   "execution_count": 8,
   "metadata": {},
   "outputs": [],
   "source": [
    "# Reemplazar los valores nulos por 0\n",
    "data.fillna(0, inplace=True)"
   ]
  },
  {
   "cell_type": "markdown",
   "metadata": {},
   "source": [
    "## Visualización"
   ]
  },
  {
   "cell_type": "markdown",
   "metadata": {},
   "source": [
    "Las personas hospitalizadas y las personas fallecidas por COVID-19, son dos grupos distintos pero interrelacionados.\n",
    "\n",
    "Las personas hospitalizadas son aquellas que han sido diagnosticadas con COVID-19 y han sido admitidas en un hospital para recibir tratamiento médico. Estas personas pueden tener síntomas leves, moderados o graves de la enfermedad. \n",
    "\n",
    "Por otro lado, las personas fallecidas son aquellas que han muerto debido a complicaciones relacionadas con COVID-19. Las complicaciones más graves de COVID-19 incluyen insuficiencia respiratoria, neumonía, sepsis y fallo multiorgánico. Las personas con mayores riesgos de complicaciones graves incluyen personas mayores, personas con afecciones médicas preexistentes como enfermedad cardiovascular, diabetes o enfermedad pulmonar, y personas con sistemas inmunológicos comprometidos."
   ]
  },
  {
   "cell_type": "code",
   "execution_count": 9,
   "metadata": {},
   "outputs": [
    {
     "data": {
      "image/png": "[encoded data removed]",
      "text/plain": [
       "<Figure size 1152x648 with 1 Axes>"
      ]
     },
     "metadata": {
      "needs_background": "light"
     },
     "output_type": "display_data"
    }
   ],
   "source": [
    "fig, ax = plt.subplots(figsize=(16, 9))\n",
    "ax.plot(data['date'], data['hospitalized'],\n",
    "        label='Personas hospitalizadas por COVID')\n",
    "ax.plot(data['date'], data['death'], label='Personas fallecidas')\n",
    "ax.set_xlabel('Fecha')\n",
    "ax.set_ylabel('Total de personas')\n",
    "ax.set_title('Personas hospitalizadas por COVID vs fallecidas')\n",
    "ax.legend()\n",
    "plt.show()"
   ]
  },
  {
   "cell_type": "markdown",
   "metadata": {},
   "source": [
    "Es importante destacar que no todas las personas hospitalizadas fallecen y que muchas personas infectadas con COVID-19 se recuperan sin necesidad de ser hospitalizadas. La tasa de mortalidad de COVID-19 varía según la edad, la salud general y otros factores de riesgo.\n",
    "\n",
    "Al estudiar el gráfico vemos que la tasa de mortalidad de las personas ha disminuido, en el último tiempo, en comparación con la cantidad de personas hospitalizadas, ésto puede deberse a la administración de vacunas, los protocolos de prevención y protección de los grupos de riesgo."
   ]
  },
  {
   "cell_type": "markdown",
   "metadata": {},
   "source": [
    "Las personas hospitalizadas con síntomas graves de COVID-19 pueden necesitar oxígeno suplementario, ventilación mecánica u otros tratamientos intensivos en una unidad de cuidados intensivos (UCI)."
   ]
  },
  {
   "cell_type": "code",
   "execution_count": 20,
   "metadata": {},
   "outputs": [],
   "source": [
    "# Agrupar por año\n",
    "temp = data.groupby(data['date'].dt.to_period('Y')).sum()\n",
    "uci_ventilator = temp[['inIcuCumulative', 'onVentilatorCumulative']]\n"
   ]
  },
  {
   "cell_type": "code",
   "execution_count": 27,
   "metadata": {},
   "outputs": [
    {
     "data": {
      "image/png": "[encoded data removed]",
      "text/plain": [
       "<Figure size 720x432 with 1 Axes>"
      ]
     },
     "metadata": {
      "needs_background": "light"
     },
     "output_type": "display_data"
    }
   ],
   "source": [
    "ax = uci_ventilator.plot.bar(figsize=(10, 6))\n",
    "ax.set_xlabel('Año')\n",
    "ax.set_ylabel('Total de personas')\n",
    "ax.set_title('Personas en cuidados intensivos (UCI) vs con ventilación mecánica')\n",
    "ax.legend()\n",
    "plt.show()"
   ]
  },
  {
   "cell_type": "markdown",
   "metadata": {},
   "source": [
    "Al estudiar el gráfico vemos que las internaciones en cuidados intensivos y la utilización de ventilación mecánica también a disminuido en comparación con las primeras etapas de la pandemia."
   ]
  }
 ],
 "metadata": {
  "kernelspec": {
   "display_name": "Python 3 (ipykernel)",
   "language": "python",
   "name": "python3"
  },
  "language_info": {
   "codemirror_mode": {
    "name": "ipython",
    "version": 3
   },
   "file_extension": ".py",
   "mimetype": "text/x-python",
   "name": "python",
   "nbconvert_exporter": "python",
   "pygments_lexer": "ipython3",
   "version": "3.9.12"
  }
 },
 "nbformat": 4,
 "nbformat_minor": 4
}
