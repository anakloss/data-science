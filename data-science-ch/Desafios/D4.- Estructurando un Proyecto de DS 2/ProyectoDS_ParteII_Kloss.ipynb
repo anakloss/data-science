{
 "cells": [
  {
   "cell_type": "markdown",
   "metadata": {},
   "source": [
    "# DESAFIO 4: Estructurando un Proyecto de DS (parte II)"
   ]
  },
  {
   "cell_type": "code",
   "execution_count": 1,
   "metadata": {},
   "outputs": [],
   "source": [
    "import pandas as pd\n",
    "import numpy as np\n",
    "import matplotlib as mpl\n",
    "import matplotlib.pyplot as plt\n",
    "mpl.style.use('bmh')"
   ]
  },
  {
   "cell_type": "markdown",
   "metadata": {
    "id": "622f483c-a114-4d84-bd02-becd9194b99c"
   },
   "source": [
    "## DATASET: COVID 19 Progreso mundial de vacunación\n",
    "\n",
    "El set de datos incluye información acerca de las vacunaciones por COVID desde Diciembre de 2020 a Marzo de 2022. Se analizó la relación que existen entre el País, fecha, cantidad de personas vacunadas, vacunaciones diarias, personas con esquema completo.\n",
    "\n",
    "Este conjunto de datos brinda la oportunidad de hacer preguntas como:\n",
    "* ¿Qué vacuna utiliza cada país?\n",
    "* ¿En qué país el programa de vacunación está más avanzado?\n",
    "* ¿Dónde se vacunan más personas por día?"
   ]
  },
  {
   "cell_type": "markdown",
   "metadata": {},
   "source": [
    "## 1.- Objetivo\n",
    "Conocer el programa de vacunaciones por COVID.\n",
    "\n",
    "## 2.- Contexto Comercial\n",
    "Construir visualizaciones que ayuden a identificar patrones en el proceso de vacunación por COVID a nivel mundial para saber si las personas seguirán con el programa de vacunación en el futuro.\n",
    "\n",
    "## 3.- Problema Comercial\n",
    "* Qué país a realizado más vacunaciones?\n",
    "* En que año se realizaron más vacunaciones?\n",
    "\n",
    "## 4.- Contexto analítico\n",
    "Se ha proporcionado un archivo CSV que contiene detalles acerca de las vacunaciones por COVID, por ejemplo, país, fecha, total de vacunaciones, total de personas vacunadas, total de personas vacunadas por día y vacunas utilizadas.\n",
    "Se deben realizar las siguentes tareas con los datos:\n",
    "* Leer, transformar y preparar datos para su visualización.\n",
    "* Realizar análisis y construir visualizaciones de los datos para identificar patrones.\n"
   ]
  },
  {
   "cell_type": "code",
   "execution_count": 2,
   "metadata": {},
   "outputs": [
    {
     "data": {
      "text/html": [
       "<div>\n",
       "<style scoped>\n",
       "    .dataframe tbody tr th:only-of-type {\n",
       "        vertical-align: middle;\n",
       "    }\n",
       "\n",
       "    .dataframe tbody tr th {\n",
       "        vertical-align: top;\n",
       "    }\n",
       "\n",
       "    .dataframe thead th {\n",
       "        text-align: right;\n",
       "    }\n",
       "</style>\n",
       "<table border=\"1\" class=\"dataframe\">\n",
       "  <thead>\n",
       "    <tr style=\"text-align: right;\">\n",
       "      <th></th>\n",
       "      <th>country</th>\n",
       "      <th>iso_code</th>\n",
       "      <th>date</th>\n",
       "      <th>total_vaccinations</th>\n",
       "      <th>people_vaccinated</th>\n",
       "      <th>people_fully_vaccinated</th>\n",
       "      <th>daily_vaccinations_raw</th>\n",
       "      <th>daily_vaccinations</th>\n",
       "      <th>total_vaccinations_per_hundred</th>\n",
       "      <th>people_vaccinated_per_hundred</th>\n",
       "      <th>people_fully_vaccinated_per_hundred</th>\n",
       "      <th>daily_vaccinations_per_million</th>\n",
       "      <th>vaccines</th>\n",
       "      <th>source_name</th>\n",
       "      <th>source_website</th>\n",
       "    </tr>\n",
       "  </thead>\n",
       "  <tbody>\n",
       "    <tr>\n",
       "      <th>0</th>\n",
       "      <td>Afghanistan</td>\n",
       "      <td>AFG</td>\n",
       "      <td>2021-02-22</td>\n",
       "      <td>0.0</td>\n",
       "      <td>0.0</td>\n",
       "      <td>NaN</td>\n",
       "      <td>NaN</td>\n",
       "      <td>NaN</td>\n",
       "      <td>0.0</td>\n",
       "      <td>0.0</td>\n",
       "      <td>NaN</td>\n",
       "      <td>NaN</td>\n",
       "      <td>Johnson&amp;Johnson, Oxford/AstraZeneca, Pfizer/Bi...</td>\n",
       "      <td>World Health Organization</td>\n",
       "      <td>https://covid19.who.int/</td>\n",
       "    </tr>\n",
       "    <tr>\n",
       "      <th>1</th>\n",
       "      <td>Afghanistan</td>\n",
       "      <td>AFG</td>\n",
       "      <td>2021-02-23</td>\n",
       "      <td>NaN</td>\n",
       "      <td>NaN</td>\n",
       "      <td>NaN</td>\n",
       "      <td>NaN</td>\n",
       "      <td>1367.0</td>\n",
       "      <td>NaN</td>\n",
       "      <td>NaN</td>\n",
       "      <td>NaN</td>\n",
       "      <td>34.0</td>\n",
       "      <td>Johnson&amp;Johnson, Oxford/AstraZeneca, Pfizer/Bi...</td>\n",
       "      <td>World Health Organization</td>\n",
       "      <td>https://covid19.who.int/</td>\n",
       "    </tr>\n",
       "    <tr>\n",
       "      <th>2</th>\n",
       "      <td>Afghanistan</td>\n",
       "      <td>AFG</td>\n",
       "      <td>2021-02-24</td>\n",
       "      <td>NaN</td>\n",
       "      <td>NaN</td>\n",
       "      <td>NaN</td>\n",
       "      <td>NaN</td>\n",
       "      <td>1367.0</td>\n",
       "      <td>NaN</td>\n",
       "      <td>NaN</td>\n",
       "      <td>NaN</td>\n",
       "      <td>34.0</td>\n",
       "      <td>Johnson&amp;Johnson, Oxford/AstraZeneca, Pfizer/Bi...</td>\n",
       "      <td>World Health Organization</td>\n",
       "      <td>https://covid19.who.int/</td>\n",
       "    </tr>\n",
       "    <tr>\n",
       "      <th>3</th>\n",
       "      <td>Afghanistan</td>\n",
       "      <td>AFG</td>\n",
       "      <td>2021-02-25</td>\n",
       "      <td>NaN</td>\n",
       "      <td>NaN</td>\n",
       "      <td>NaN</td>\n",
       "      <td>NaN</td>\n",
       "      <td>1367.0</td>\n",
       "      <td>NaN</td>\n",
       "      <td>NaN</td>\n",
       "      <td>NaN</td>\n",
       "      <td>34.0</td>\n",
       "      <td>Johnson&amp;Johnson, Oxford/AstraZeneca, Pfizer/Bi...</td>\n",
       "      <td>World Health Organization</td>\n",
       "      <td>https://covid19.who.int/</td>\n",
       "    </tr>\n",
       "    <tr>\n",
       "      <th>4</th>\n",
       "      <td>Afghanistan</td>\n",
       "      <td>AFG</td>\n",
       "      <td>2021-02-26</td>\n",
       "      <td>NaN</td>\n",
       "      <td>NaN</td>\n",
       "      <td>NaN</td>\n",
       "      <td>NaN</td>\n",
       "      <td>1367.0</td>\n",
       "      <td>NaN</td>\n",
       "      <td>NaN</td>\n",
       "      <td>NaN</td>\n",
       "      <td>34.0</td>\n",
       "      <td>Johnson&amp;Johnson, Oxford/AstraZeneca, Pfizer/Bi...</td>\n",
       "      <td>World Health Organization</td>\n",
       "      <td>https://covid19.who.int/</td>\n",
       "    </tr>\n",
       "  </tbody>\n",
       "</table>\n",
       "</div>"
      ],
      "text/plain": [
       "       country iso_code        date  total_vaccinations  people_vaccinated  \\\n",
       "0  Afghanistan      AFG  2021-02-22                 0.0                0.0   \n",
       "1  Afghanistan      AFG  2021-02-23                 NaN                NaN   \n",
       "2  Afghanistan      AFG  2021-02-24                 NaN                NaN   \n",
       "3  Afghanistan      AFG  2021-02-25                 NaN                NaN   \n",
       "4  Afghanistan      AFG  2021-02-26                 NaN                NaN   \n",
       "\n",
       "   people_fully_vaccinated  daily_vaccinations_raw  daily_vaccinations  \\\n",
       "0                      NaN                     NaN                 NaN   \n",
       "1                      NaN                     NaN              1367.0   \n",
       "2                      NaN                     NaN              1367.0   \n",
       "3                      NaN                     NaN              1367.0   \n",
       "4                      NaN                     NaN              1367.0   \n",
       "\n",
       "   total_vaccinations_per_hundred  people_vaccinated_per_hundred  \\\n",
       "0                             0.0                            0.0   \n",
       "1                             NaN                            NaN   \n",
       "2                             NaN                            NaN   \n",
       "3                             NaN                            NaN   \n",
       "4                             NaN                            NaN   \n",
       "\n",
       "   people_fully_vaccinated_per_hundred  daily_vaccinations_per_million  \\\n",
       "0                                  NaN                             NaN   \n",
       "1                                  NaN                            34.0   \n",
       "2                                  NaN                            34.0   \n",
       "3                                  NaN                            34.0   \n",
       "4                                  NaN                            34.0   \n",
       "\n",
       "                                            vaccines  \\\n",
       "0  Johnson&Johnson, Oxford/AstraZeneca, Pfizer/Bi...   \n",
       "1  Johnson&Johnson, Oxford/AstraZeneca, Pfizer/Bi...   \n",
       "2  Johnson&Johnson, Oxford/AstraZeneca, Pfizer/Bi...   \n",
       "3  Johnson&Johnson, Oxford/AstraZeneca, Pfizer/Bi...   \n",
       "4  Johnson&Johnson, Oxford/AstraZeneca, Pfizer/Bi...   \n",
       "\n",
       "                 source_name            source_website  \n",
       "0  World Health Organization  https://covid19.who.int/  \n",
       "1  World Health Organization  https://covid19.who.int/  \n",
       "2  World Health Organization  https://covid19.who.int/  \n",
       "3  World Health Organization  https://covid19.who.int/  \n",
       "4  World Health Organization  https://covid19.who.int/  "
      ]
     },
     "execution_count": 2,
     "metadata": {},
     "output_type": "execute_result"
    }
   ],
   "source": [
    "data = pd.read_csv('../datasets/covid_vaccinations/country_vaccinations.csv')\n",
    "data.head()"
   ]
  },
  {
   "cell_type": "code",
   "execution_count": 3,
   "metadata": {},
   "outputs": [
    {
     "data": {
      "text/html": [
       "<div>\n",
       "<style scoped>\n",
       "    .dataframe tbody tr th:only-of-type {\n",
       "        vertical-align: middle;\n",
       "    }\n",
       "\n",
       "    .dataframe tbody tr th {\n",
       "        vertical-align: top;\n",
       "    }\n",
       "\n",
       "    .dataframe thead th {\n",
       "        text-align: right;\n",
       "    }\n",
       "</style>\n",
       "<table border=\"1\" class=\"dataframe\">\n",
       "  <thead>\n",
       "    <tr style=\"text-align: right;\">\n",
       "      <th></th>\n",
       "      <th>total_vaccinations</th>\n",
       "      <th>people_vaccinated</th>\n",
       "      <th>people_fully_vaccinated</th>\n",
       "      <th>daily_vaccinations_raw</th>\n",
       "      <th>daily_vaccinations</th>\n",
       "      <th>total_vaccinations_per_hundred</th>\n",
       "      <th>people_vaccinated_per_hundred</th>\n",
       "      <th>people_fully_vaccinated_per_hundred</th>\n",
       "      <th>daily_vaccinations_per_million</th>\n",
       "    </tr>\n",
       "  </thead>\n",
       "  <tbody>\n",
       "    <tr>\n",
       "      <th>count</th>\n",
       "      <td>4.360700e+04</td>\n",
       "      <td>4.129400e+04</td>\n",
       "      <td>3.880200e+04</td>\n",
       "      <td>3.536200e+04</td>\n",
       "      <td>8.621300e+04</td>\n",
       "      <td>43607.000000</td>\n",
       "      <td>41294.000000</td>\n",
       "      <td>38802.000000</td>\n",
       "      <td>86213.000000</td>\n",
       "    </tr>\n",
       "    <tr>\n",
       "      <th>mean</th>\n",
       "      <td>4.592964e+07</td>\n",
       "      <td>1.770508e+07</td>\n",
       "      <td>1.413830e+07</td>\n",
       "      <td>2.705996e+05</td>\n",
       "      <td>1.313055e+05</td>\n",
       "      <td>80.188543</td>\n",
       "      <td>40.927317</td>\n",
       "      <td>35.523243</td>\n",
       "      <td>3257.049157</td>\n",
       "    </tr>\n",
       "    <tr>\n",
       "      <th>std</th>\n",
       "      <td>2.246004e+08</td>\n",
       "      <td>7.078731e+07</td>\n",
       "      <td>5.713920e+07</td>\n",
       "      <td>1.212427e+06</td>\n",
       "      <td>7.682388e+05</td>\n",
       "      <td>67.913577</td>\n",
       "      <td>29.290759</td>\n",
       "      <td>28.376252</td>\n",
       "      <td>3934.312440</td>\n",
       "    </tr>\n",
       "    <tr>\n",
       "      <th>min</th>\n",
       "      <td>0.000000e+00</td>\n",
       "      <td>0.000000e+00</td>\n",
       "      <td>1.000000e+00</td>\n",
       "      <td>0.000000e+00</td>\n",
       "      <td>0.000000e+00</td>\n",
       "      <td>0.000000</td>\n",
       "      <td>0.000000</td>\n",
       "      <td>0.000000</td>\n",
       "      <td>0.000000</td>\n",
       "    </tr>\n",
       "    <tr>\n",
       "      <th>25%</th>\n",
       "      <td>5.264100e+05</td>\n",
       "      <td>3.494642e+05</td>\n",
       "      <td>2.439622e+05</td>\n",
       "      <td>4.668000e+03</td>\n",
       "      <td>9.000000e+02</td>\n",
       "      <td>16.050000</td>\n",
       "      <td>11.370000</td>\n",
       "      <td>7.020000</td>\n",
       "      <td>636.000000</td>\n",
       "    </tr>\n",
       "    <tr>\n",
       "      <th>50%</th>\n",
       "      <td>3.590096e+06</td>\n",
       "      <td>2.187310e+06</td>\n",
       "      <td>1.722140e+06</td>\n",
       "      <td>2.530900e+04</td>\n",
       "      <td>7.343000e+03</td>\n",
       "      <td>67.520000</td>\n",
       "      <td>41.435000</td>\n",
       "      <td>31.750000</td>\n",
       "      <td>2050.000000</td>\n",
       "    </tr>\n",
       "    <tr>\n",
       "      <th>75%</th>\n",
       "      <td>1.701230e+07</td>\n",
       "      <td>9.152520e+06</td>\n",
       "      <td>7.559870e+06</td>\n",
       "      <td>1.234925e+05</td>\n",
       "      <td>4.409800e+04</td>\n",
       "      <td>132.735000</td>\n",
       "      <td>67.910000</td>\n",
       "      <td>62.080000</td>\n",
       "      <td>4682.000000</td>\n",
       "    </tr>\n",
       "    <tr>\n",
       "      <th>max</th>\n",
       "      <td>3.263129e+09</td>\n",
       "      <td>1.275541e+09</td>\n",
       "      <td>1.240777e+09</td>\n",
       "      <td>2.474100e+07</td>\n",
       "      <td>2.242429e+07</td>\n",
       "      <td>345.370000</td>\n",
       "      <td>124.760000</td>\n",
       "      <td>122.370000</td>\n",
       "      <td>117497.000000</td>\n",
       "    </tr>\n",
       "  </tbody>\n",
       "</table>\n",
       "</div>"
      ],
      "text/plain": [
       "       total_vaccinations  people_vaccinated  people_fully_vaccinated  \\\n",
       "count        4.360700e+04       4.129400e+04             3.880200e+04   \n",
       "mean         4.592964e+07       1.770508e+07             1.413830e+07   \n",
       "std          2.246004e+08       7.078731e+07             5.713920e+07   \n",
       "min          0.000000e+00       0.000000e+00             1.000000e+00   \n",
       "25%          5.264100e+05       3.494642e+05             2.439622e+05   \n",
       "50%          3.590096e+06       2.187310e+06             1.722140e+06   \n",
       "75%          1.701230e+07       9.152520e+06             7.559870e+06   \n",
       "max          3.263129e+09       1.275541e+09             1.240777e+09   \n",
       "\n",
       "       daily_vaccinations_raw  daily_vaccinations  \\\n",
       "count            3.536200e+04        8.621300e+04   \n",
       "mean             2.705996e+05        1.313055e+05   \n",
       "std              1.212427e+06        7.682388e+05   \n",
       "min              0.000000e+00        0.000000e+00   \n",
       "25%              4.668000e+03        9.000000e+02   \n",
       "50%              2.530900e+04        7.343000e+03   \n",
       "75%              1.234925e+05        4.409800e+04   \n",
       "max              2.474100e+07        2.242429e+07   \n",
       "\n",
       "       total_vaccinations_per_hundred  people_vaccinated_per_hundred  \\\n",
       "count                    43607.000000                   41294.000000   \n",
       "mean                        80.188543                      40.927317   \n",
       "std                         67.913577                      29.290759   \n",
       "min                          0.000000                       0.000000   \n",
       "25%                         16.050000                      11.370000   \n",
       "50%                         67.520000                      41.435000   \n",
       "75%                        132.735000                      67.910000   \n",
       "max                        345.370000                     124.760000   \n",
       "\n",
       "       people_fully_vaccinated_per_hundred  daily_vaccinations_per_million  \n",
       "count                         38802.000000                    86213.000000  \n",
       "mean                             35.523243                     3257.049157  \n",
       "std                              28.376252                     3934.312440  \n",
       "min                               0.000000                        0.000000  \n",
       "25%                               7.020000                      636.000000  \n",
       "50%                              31.750000                     2050.000000  \n",
       "75%                              62.080000                     4682.000000  \n",
       "max                             122.370000                   117497.000000  "
      ]
     },
     "execution_count": 3,
     "metadata": {},
     "output_type": "execute_result"
    }
   ],
   "source": [
    "data.describe()"
   ]
  },
  {
   "cell_type": "code",
   "execution_count": 4,
   "metadata": {},
   "outputs": [
    {
     "data": {
      "text/html": [
       "<div>\n",
       "<style scoped>\n",
       "    .dataframe tbody tr th:only-of-type {\n",
       "        vertical-align: middle;\n",
       "    }\n",
       "\n",
       "    .dataframe tbody tr th {\n",
       "        vertical-align: top;\n",
       "    }\n",
       "\n",
       "    .dataframe thead th {\n",
       "        text-align: right;\n",
       "    }\n",
       "</style>\n",
       "<table border=\"1\" class=\"dataframe\">\n",
       "  <thead>\n",
       "    <tr style=\"text-align: right;\">\n",
       "      <th></th>\n",
       "      <th>country</th>\n",
       "      <th>iso_code</th>\n",
       "      <th>date</th>\n",
       "      <th>vaccines</th>\n",
       "      <th>source_name</th>\n",
       "      <th>source_website</th>\n",
       "    </tr>\n",
       "  </thead>\n",
       "  <tbody>\n",
       "    <tr>\n",
       "      <th>count</th>\n",
       "      <td>86512</td>\n",
       "      <td>86512</td>\n",
       "      <td>86512</td>\n",
       "      <td>86512</td>\n",
       "      <td>86512</td>\n",
       "      <td>86512</td>\n",
       "    </tr>\n",
       "    <tr>\n",
       "      <th>unique</th>\n",
       "      <td>223</td>\n",
       "      <td>223</td>\n",
       "      <td>483</td>\n",
       "      <td>84</td>\n",
       "      <td>81</td>\n",
       "      <td>119</td>\n",
       "    </tr>\n",
       "    <tr>\n",
       "      <th>top</th>\n",
       "      <td>Norway</td>\n",
       "      <td>NOR</td>\n",
       "      <td>2021-08-19</td>\n",
       "      <td>Johnson&amp;Johnson, Moderna, Oxford/AstraZeneca, ...</td>\n",
       "      <td>World Health Organization</td>\n",
       "      <td>https://covid19.who.int/</td>\n",
       "    </tr>\n",
       "    <tr>\n",
       "      <th>freq</th>\n",
       "      <td>482</td>\n",
       "      <td>482</td>\n",
       "      <td>220</td>\n",
       "      <td>7608</td>\n",
       "      <td>26822</td>\n",
       "      <td>25951</td>\n",
       "    </tr>\n",
       "  </tbody>\n",
       "</table>\n",
       "</div>"
      ],
      "text/plain": [
       "       country iso_code        date  \\\n",
       "count    86512    86512       86512   \n",
       "unique     223      223         483   \n",
       "top     Norway      NOR  2021-08-19   \n",
       "freq       482      482         220   \n",
       "\n",
       "                                                 vaccines  \\\n",
       "count                                               86512   \n",
       "unique                                                 84   \n",
       "top     Johnson&Johnson, Moderna, Oxford/AstraZeneca, ...   \n",
       "freq                                                 7608   \n",
       "\n",
       "                      source_name            source_website  \n",
       "count                       86512                     86512  \n",
       "unique                         81                       119  \n",
       "top     World Health Organization  https://covid19.who.int/  \n",
       "freq                        26822                     25951  "
      ]
     },
     "execution_count": 4,
     "metadata": {},
     "output_type": "execute_result"
    }
   ],
   "source": [
    "data.describe(include=object)"
   ]
  },
  {
   "cell_type": "markdown",
   "metadata": {},
   "source": [
    "De las tablas anteriores podemos concluir que:\n",
    "1. Se analizaron 223 paises y hay un total de 483 días analizados\n",
    "2. El total de vacunaciones va entre 0 (posibles valores nulos) y 3263129000, siendo la media de 3590096\n",
    "3. Las personas vacunadas entre 0 (posibles valores nulos) y 1275541000, siendo la media de 2187310\n",
    "4. Las vacunaciones diarias entre 0 (posibles valores nulos) y 22424290, siendo la media de 7343."
   ]
  },
  {
   "cell_type": "code",
   "execution_count": 5,
   "metadata": {},
   "outputs": [
    {
     "data": {
      "text/plain": [
       "country                                    0\n",
       "iso_code                                   0\n",
       "date                                       0\n",
       "total_vaccinations                     42905\n",
       "people_vaccinated                      45218\n",
       "people_fully_vaccinated                47710\n",
       "daily_vaccinations_raw                 51150\n",
       "daily_vaccinations                       299\n",
       "total_vaccinations_per_hundred         42905\n",
       "people_vaccinated_per_hundred          45218\n",
       "people_fully_vaccinated_per_hundred    47710\n",
       "daily_vaccinations_per_million           299\n",
       "vaccines                                   0\n",
       "source_name                                0\n",
       "source_website                             0\n",
       "dtype: int64"
      ]
     },
     "execution_count": 5,
     "metadata": {},
     "output_type": "execute_result"
    }
   ],
   "source": [
    "data.isnull().sum()"
   ]
  },
  {
   "cell_type": "markdown",
   "metadata": {},
   "source": [
    "Acá podemos ver que hay muchos valores vacios, y hay que tratarlos antes de analizar la información."
   ]
  },
  {
   "cell_type": "code",
   "execution_count": 6,
   "metadata": {},
   "outputs": [
    {
     "name": "stdout",
     "output_type": "stream",
     "text": [
      "<class 'pandas.core.frame.DataFrame'>\n",
      "RangeIndex: 86512 entries, 0 to 86511\n",
      "Data columns (total 15 columns):\n",
      " #   Column                               Non-Null Count  Dtype  \n",
      "---  ------                               --------------  -----  \n",
      " 0   country                              86512 non-null  object \n",
      " 1   iso_code                             86512 non-null  object \n",
      " 2   date                                 86512 non-null  object \n",
      " 3   total_vaccinations                   43607 non-null  float64\n",
      " 4   people_vaccinated                    41294 non-null  float64\n",
      " 5   people_fully_vaccinated              38802 non-null  float64\n",
      " 6   daily_vaccinations_raw               35362 non-null  float64\n",
      " 7   daily_vaccinations                   86213 non-null  float64\n",
      " 8   total_vaccinations_per_hundred       43607 non-null  float64\n",
      " 9   people_vaccinated_per_hundred        41294 non-null  float64\n",
      " 10  people_fully_vaccinated_per_hundred  38802 non-null  float64\n",
      " 11  daily_vaccinations_per_million       86213 non-null  float64\n",
      " 12  vaccines                             86512 non-null  object \n",
      " 13  source_name                          86512 non-null  object \n",
      " 14  source_website                       86512 non-null  object \n",
      "dtypes: float64(9), object(6)\n",
      "memory usage: 9.9+ MB\n"
     ]
    }
   ],
   "source": [
    "data.info()"
   ]
  },
  {
   "cell_type": "code",
   "execution_count": 7,
   "metadata": {},
   "outputs": [],
   "source": [
    "# Convertir DATE a formato fecha\n",
    "data['date'] = pd.to_datetime(data['date'])"
   ]
  },
  {
   "cell_type": "code",
   "execution_count": 8,
   "metadata": {},
   "outputs": [
    {
     "name": "stdout",
     "output_type": "stream",
     "text": [
      "<class 'pandas.core.frame.DataFrame'>\n",
      "RangeIndex: 86512 entries, 0 to 86511\n",
      "Data columns (total 15 columns):\n",
      " #   Column                               Non-Null Count  Dtype         \n",
      "---  ------                               --------------  -----         \n",
      " 0   country                              86512 non-null  object        \n",
      " 1   iso_code                             86512 non-null  object        \n",
      " 2   date                                 86512 non-null  datetime64[ns]\n",
      " 3   total_vaccinations                   43607 non-null  float64       \n",
      " 4   people_vaccinated                    41294 non-null  float64       \n",
      " 5   people_fully_vaccinated              38802 non-null  float64       \n",
      " 6   daily_vaccinations_raw               35362 non-null  float64       \n",
      " 7   daily_vaccinations                   86213 non-null  float64       \n",
      " 8   total_vaccinations_per_hundred       43607 non-null  float64       \n",
      " 9   people_vaccinated_per_hundred        41294 non-null  float64       \n",
      " 10  people_fully_vaccinated_per_hundred  38802 non-null  float64       \n",
      " 11  daily_vaccinations_per_million       86213 non-null  float64       \n",
      " 12  vaccines                             86512 non-null  object        \n",
      " 13  source_name                          86512 non-null  object        \n",
      " 14  source_website                       86512 non-null  object        \n",
      "dtypes: datetime64[ns](1), float64(9), object(5)\n",
      "memory usage: 9.9+ MB\n"
     ]
    }
   ],
   "source": [
    "data.info()"
   ]
  },
  {
   "cell_type": "markdown",
   "metadata": {},
   "source": [
    "## 5.- Exploración de datos\n",
    "\n",
    "### Verificación de datos nulos\n",
    "Para el correcto tratamiento de los datos se verificarán los casos en los que sucedieron, ya que pueden existir casos que son anormales pero existentes, por ejemplo, 0 total de vacunaciones.\n",
    "\n",
    "En este caso creo que es posible que los valores sean nulos, ya que el dataset esta separado por días y en esos casos puede haberse no llevado a cabo la vacunación o dejarse vacio. Pero como los datos nulos o NaN no nos sirven para el modelo, los vamos a eliminar."
   ]
  },
  {
   "cell_type": "code",
   "execution_count": 9,
   "metadata": {},
   "outputs": [
    {
     "data": {
      "text/html": [
       "<div>\n",
       "<style scoped>\n",
       "    .dataframe tbody tr th:only-of-type {\n",
       "        vertical-align: middle;\n",
       "    }\n",
       "\n",
       "    .dataframe tbody tr th {\n",
       "        vertical-align: top;\n",
       "    }\n",
       "\n",
       "    .dataframe thead th {\n",
       "        text-align: right;\n",
       "    }\n",
       "</style>\n",
       "<table border=\"1\" class=\"dataframe\">\n",
       "  <thead>\n",
       "    <tr style=\"text-align: right;\">\n",
       "      <th></th>\n",
       "      <th>country</th>\n",
       "      <th>iso_code</th>\n",
       "      <th>date</th>\n",
       "      <th>total_vaccinations</th>\n",
       "      <th>people_vaccinated</th>\n",
       "      <th>people_fully_vaccinated</th>\n",
       "      <th>daily_vaccinations_raw</th>\n",
       "      <th>daily_vaccinations</th>\n",
       "      <th>total_vaccinations_per_hundred</th>\n",
       "      <th>people_vaccinated_per_hundred</th>\n",
       "      <th>people_fully_vaccinated_per_hundred</th>\n",
       "      <th>daily_vaccinations_per_million</th>\n",
       "      <th>vaccines</th>\n",
       "      <th>source_name</th>\n",
       "      <th>source_website</th>\n",
       "    </tr>\n",
       "  </thead>\n",
       "  <tbody>\n",
       "    <tr>\n",
       "      <th>0</th>\n",
       "      <td>Afghanistan</td>\n",
       "      <td>AFG</td>\n",
       "      <td>2021-02-22</td>\n",
       "      <td>0.0</td>\n",
       "      <td>0.0</td>\n",
       "      <td>NaN</td>\n",
       "      <td>NaN</td>\n",
       "      <td>NaN</td>\n",
       "      <td>0.00</td>\n",
       "      <td>0.00</td>\n",
       "      <td>NaN</td>\n",
       "      <td>NaN</td>\n",
       "      <td>Johnson&amp;Johnson, Oxford/AstraZeneca, Pfizer/Bi...</td>\n",
       "      <td>World Health Organization</td>\n",
       "      <td>https://covid19.who.int/</td>\n",
       "    </tr>\n",
       "    <tr>\n",
       "      <th>6</th>\n",
       "      <td>Afghanistan</td>\n",
       "      <td>AFG</td>\n",
       "      <td>2021-02-28</td>\n",
       "      <td>8200.0</td>\n",
       "      <td>8200.0</td>\n",
       "      <td>NaN</td>\n",
       "      <td>NaN</td>\n",
       "      <td>1367.0</td>\n",
       "      <td>0.02</td>\n",
       "      <td>0.02</td>\n",
       "      <td>NaN</td>\n",
       "      <td>34.0</td>\n",
       "      <td>Johnson&amp;Johnson, Oxford/AstraZeneca, Pfizer/Bi...</td>\n",
       "      <td>World Health Organization</td>\n",
       "      <td>https://covid19.who.int/</td>\n",
       "    </tr>\n",
       "    <tr>\n",
       "      <th>22</th>\n",
       "      <td>Afghanistan</td>\n",
       "      <td>AFG</td>\n",
       "      <td>2021-03-16</td>\n",
       "      <td>54000.0</td>\n",
       "      <td>54000.0</td>\n",
       "      <td>NaN</td>\n",
       "      <td>NaN</td>\n",
       "      <td>2862.0</td>\n",
       "      <td>0.14</td>\n",
       "      <td>0.14</td>\n",
       "      <td>NaN</td>\n",
       "      <td>72.0</td>\n",
       "      <td>Johnson&amp;Johnson, Oxford/AstraZeneca, Pfizer/Bi...</td>\n",
       "      <td>World Health Organization</td>\n",
       "      <td>https://covid19.who.int/</td>\n",
       "    </tr>\n",
       "    <tr>\n",
       "      <th>44</th>\n",
       "      <td>Afghanistan</td>\n",
       "      <td>AFG</td>\n",
       "      <td>2021-04-07</td>\n",
       "      <td>120000.0</td>\n",
       "      <td>120000.0</td>\n",
       "      <td>NaN</td>\n",
       "      <td>NaN</td>\n",
       "      <td>3000.0</td>\n",
       "      <td>0.30</td>\n",
       "      <td>0.30</td>\n",
       "      <td>NaN</td>\n",
       "      <td>75.0</td>\n",
       "      <td>Johnson&amp;Johnson, Oxford/AstraZeneca, Pfizer/Bi...</td>\n",
       "      <td>World Health Organization</td>\n",
       "      <td>https://covid19.who.int/</td>\n",
       "    </tr>\n",
       "    <tr>\n",
       "      <th>59</th>\n",
       "      <td>Afghanistan</td>\n",
       "      <td>AFG</td>\n",
       "      <td>2021-04-22</td>\n",
       "      <td>240000.0</td>\n",
       "      <td>240000.0</td>\n",
       "      <td>NaN</td>\n",
       "      <td>NaN</td>\n",
       "      <td>8000.0</td>\n",
       "      <td>0.60</td>\n",
       "      <td>0.60</td>\n",
       "      <td>NaN</td>\n",
       "      <td>201.0</td>\n",
       "      <td>Johnson&amp;Johnson, Oxford/AstraZeneca, Pfizer/Bi...</td>\n",
       "      <td>World Health Organization</td>\n",
       "      <td>https://covid19.who.int/</td>\n",
       "    </tr>\n",
       "  </tbody>\n",
       "</table>\n",
       "</div>"
      ],
      "text/plain": [
       "        country iso_code       date  total_vaccinations  people_vaccinated  \\\n",
       "0   Afghanistan      AFG 2021-02-22                 0.0                0.0   \n",
       "6   Afghanistan      AFG 2021-02-28              8200.0             8200.0   \n",
       "22  Afghanistan      AFG 2021-03-16             54000.0            54000.0   \n",
       "44  Afghanistan      AFG 2021-04-07            120000.0           120000.0   \n",
       "59  Afghanistan      AFG 2021-04-22            240000.0           240000.0   \n",
       "\n",
       "    people_fully_vaccinated  daily_vaccinations_raw  daily_vaccinations  \\\n",
       "0                       NaN                     NaN                 NaN   \n",
       "6                       NaN                     NaN              1367.0   \n",
       "22                      NaN                     NaN              2862.0   \n",
       "44                      NaN                     NaN              3000.0   \n",
       "59                      NaN                     NaN              8000.0   \n",
       "\n",
       "    total_vaccinations_per_hundred  people_vaccinated_per_hundred  \\\n",
       "0                             0.00                           0.00   \n",
       "6                             0.02                           0.02   \n",
       "22                            0.14                           0.14   \n",
       "44                            0.30                           0.30   \n",
       "59                            0.60                           0.60   \n",
       "\n",
       "    people_fully_vaccinated_per_hundred  daily_vaccinations_per_million  \\\n",
       "0                                   NaN                             NaN   \n",
       "6                                   NaN                            34.0   \n",
       "22                                  NaN                            72.0   \n",
       "44                                  NaN                            75.0   \n",
       "59                                  NaN                           201.0   \n",
       "\n",
       "                                             vaccines  \\\n",
       "0   Johnson&Johnson, Oxford/AstraZeneca, Pfizer/Bi...   \n",
       "6   Johnson&Johnson, Oxford/AstraZeneca, Pfizer/Bi...   \n",
       "22  Johnson&Johnson, Oxford/AstraZeneca, Pfizer/Bi...   \n",
       "44  Johnson&Johnson, Oxford/AstraZeneca, Pfizer/Bi...   \n",
       "59  Johnson&Johnson, Oxford/AstraZeneca, Pfizer/Bi...   \n",
       "\n",
       "                  source_name            source_website  \n",
       "0   World Health Organization  https://covid19.who.int/  \n",
       "6   World Health Organization  https://covid19.who.int/  \n",
       "22  World Health Organization  https://covid19.who.int/  \n",
       "44  World Health Organization  https://covid19.who.int/  \n",
       "59  World Health Organization  https://covid19.who.int/  "
      ]
     },
     "execution_count": 9,
     "metadata": {},
     "output_type": "execute_result"
    }
   ],
   "source": [
    "# Eliminar valores NaN de people_vaccinated\n",
    "data = data[data['people_vaccinated'].notna()]\n",
    "data.head()"
   ]
  },
  {
   "cell_type": "code",
   "execution_count": 10,
   "metadata": {},
   "outputs": [
    {
     "data": {
      "text/html": [
       "<div>\n",
       "<style scoped>\n",
       "    .dataframe tbody tr th:only-of-type {\n",
       "        vertical-align: middle;\n",
       "    }\n",
       "\n",
       "    .dataframe tbody tr th {\n",
       "        vertical-align: top;\n",
       "    }\n",
       "\n",
       "    .dataframe thead th {\n",
       "        text-align: right;\n",
       "    }\n",
       "</style>\n",
       "<table border=\"1\" class=\"dataframe\">\n",
       "  <thead>\n",
       "    <tr style=\"text-align: right;\">\n",
       "      <th></th>\n",
       "      <th>country</th>\n",
       "      <th>iso_code</th>\n",
       "      <th>date</th>\n",
       "      <th>total_vaccinations</th>\n",
       "      <th>people_vaccinated</th>\n",
       "      <th>people_fully_vaccinated</th>\n",
       "      <th>daily_vaccinations_raw</th>\n",
       "      <th>daily_vaccinations</th>\n",
       "      <th>total_vaccinations_per_hundred</th>\n",
       "      <th>people_vaccinated_per_hundred</th>\n",
       "      <th>people_fully_vaccinated_per_hundred</th>\n",
       "      <th>daily_vaccinations_per_million</th>\n",
       "      <th>vaccines</th>\n",
       "      <th>source_name</th>\n",
       "      <th>source_website</th>\n",
       "    </tr>\n",
       "  </thead>\n",
       "  <tbody>\n",
       "    <tr>\n",
       "      <th>6</th>\n",
       "      <td>Afghanistan</td>\n",
       "      <td>AFG</td>\n",
       "      <td>2021-02-28</td>\n",
       "      <td>8200.0</td>\n",
       "      <td>8200.0</td>\n",
       "      <td>NaN</td>\n",
       "      <td>NaN</td>\n",
       "      <td>1367.0</td>\n",
       "      <td>0.02</td>\n",
       "      <td>0.02</td>\n",
       "      <td>NaN</td>\n",
       "      <td>34.0</td>\n",
       "      <td>Johnson&amp;Johnson, Oxford/AstraZeneca, Pfizer/Bi...</td>\n",
       "      <td>World Health Organization</td>\n",
       "      <td>https://covid19.who.int/</td>\n",
       "    </tr>\n",
       "    <tr>\n",
       "      <th>22</th>\n",
       "      <td>Afghanistan</td>\n",
       "      <td>AFG</td>\n",
       "      <td>2021-03-16</td>\n",
       "      <td>54000.0</td>\n",
       "      <td>54000.0</td>\n",
       "      <td>NaN</td>\n",
       "      <td>NaN</td>\n",
       "      <td>2862.0</td>\n",
       "      <td>0.14</td>\n",
       "      <td>0.14</td>\n",
       "      <td>NaN</td>\n",
       "      <td>72.0</td>\n",
       "      <td>Johnson&amp;Johnson, Oxford/AstraZeneca, Pfizer/Bi...</td>\n",
       "      <td>World Health Organization</td>\n",
       "      <td>https://covid19.who.int/</td>\n",
       "    </tr>\n",
       "    <tr>\n",
       "      <th>44</th>\n",
       "      <td>Afghanistan</td>\n",
       "      <td>AFG</td>\n",
       "      <td>2021-04-07</td>\n",
       "      <td>120000.0</td>\n",
       "      <td>120000.0</td>\n",
       "      <td>NaN</td>\n",
       "      <td>NaN</td>\n",
       "      <td>3000.0</td>\n",
       "      <td>0.30</td>\n",
       "      <td>0.30</td>\n",
       "      <td>NaN</td>\n",
       "      <td>75.0</td>\n",
       "      <td>Johnson&amp;Johnson, Oxford/AstraZeneca, Pfizer/Bi...</td>\n",
       "      <td>World Health Organization</td>\n",
       "      <td>https://covid19.who.int/</td>\n",
       "    </tr>\n",
       "    <tr>\n",
       "      <th>59</th>\n",
       "      <td>Afghanistan</td>\n",
       "      <td>AFG</td>\n",
       "      <td>2021-04-22</td>\n",
       "      <td>240000.0</td>\n",
       "      <td>240000.0</td>\n",
       "      <td>NaN</td>\n",
       "      <td>NaN</td>\n",
       "      <td>8000.0</td>\n",
       "      <td>0.60</td>\n",
       "      <td>0.60</td>\n",
       "      <td>NaN</td>\n",
       "      <td>201.0</td>\n",
       "      <td>Johnson&amp;Johnson, Oxford/AstraZeneca, Pfizer/Bi...</td>\n",
       "      <td>World Health Organization</td>\n",
       "      <td>https://covid19.who.int/</td>\n",
       "    </tr>\n",
       "    <tr>\n",
       "      <th>78</th>\n",
       "      <td>Afghanistan</td>\n",
       "      <td>AFG</td>\n",
       "      <td>2021-05-11</td>\n",
       "      <td>504502.0</td>\n",
       "      <td>448878.0</td>\n",
       "      <td>55624.0</td>\n",
       "      <td>NaN</td>\n",
       "      <td>13921.0</td>\n",
       "      <td>1.27</td>\n",
       "      <td>1.13</td>\n",
       "      <td>0.14</td>\n",
       "      <td>349.0</td>\n",
       "      <td>Johnson&amp;Johnson, Oxford/AstraZeneca, Pfizer/Bi...</td>\n",
       "      <td>World Health Organization</td>\n",
       "      <td>https://covid19.who.int/</td>\n",
       "    </tr>\n",
       "  </tbody>\n",
       "</table>\n",
       "</div>"
      ],
      "text/plain": [
       "        country iso_code       date  total_vaccinations  people_vaccinated  \\\n",
       "6   Afghanistan      AFG 2021-02-28              8200.0             8200.0   \n",
       "22  Afghanistan      AFG 2021-03-16             54000.0            54000.0   \n",
       "44  Afghanistan      AFG 2021-04-07            120000.0           120000.0   \n",
       "59  Afghanistan      AFG 2021-04-22            240000.0           240000.0   \n",
       "78  Afghanistan      AFG 2021-05-11            504502.0           448878.0   \n",
       "\n",
       "    people_fully_vaccinated  daily_vaccinations_raw  daily_vaccinations  \\\n",
       "6                       NaN                     NaN              1367.0   \n",
       "22                      NaN                     NaN              2862.0   \n",
       "44                      NaN                     NaN              3000.0   \n",
       "59                      NaN                     NaN              8000.0   \n",
       "78                  55624.0                     NaN             13921.0   \n",
       "\n",
       "    total_vaccinations_per_hundred  people_vaccinated_per_hundred  \\\n",
       "6                             0.02                           0.02   \n",
       "22                            0.14                           0.14   \n",
       "44                            0.30                           0.30   \n",
       "59                            0.60                           0.60   \n",
       "78                            1.27                           1.13   \n",
       "\n",
       "    people_fully_vaccinated_per_hundred  daily_vaccinations_per_million  \\\n",
       "6                                   NaN                            34.0   \n",
       "22                                  NaN                            72.0   \n",
       "44                                  NaN                            75.0   \n",
       "59                                  NaN                           201.0   \n",
       "78                                 0.14                           349.0   \n",
       "\n",
       "                                             vaccines  \\\n",
       "6   Johnson&Johnson, Oxford/AstraZeneca, Pfizer/Bi...   \n",
       "22  Johnson&Johnson, Oxford/AstraZeneca, Pfizer/Bi...   \n",
       "44  Johnson&Johnson, Oxford/AstraZeneca, Pfizer/Bi...   \n",
       "59  Johnson&Johnson, Oxford/AstraZeneca, Pfizer/Bi...   \n",
       "78  Johnson&Johnson, Oxford/AstraZeneca, Pfizer/Bi...   \n",
       "\n",
       "                  source_name            source_website  \n",
       "6   World Health Organization  https://covid19.who.int/  \n",
       "22  World Health Organization  https://covid19.who.int/  \n",
       "44  World Health Organization  https://covid19.who.int/  \n",
       "59  World Health Organization  https://covid19.who.int/  \n",
       "78  World Health Organization  https://covid19.who.int/  "
      ]
     },
     "execution_count": 10,
     "metadata": {},
     "output_type": "execute_result"
    }
   ],
   "source": [
    "# Eliminar valores 0.0 de people_vaccinated\n",
    "data = data.loc[data['people_vaccinated'] != 0.0]\n",
    "data.head()"
   ]
  },
  {
   "cell_type": "markdown",
   "metadata": {},
   "source": [
    "### Qué paises son más considerados en el análisis?"
   ]
  },
  {
   "cell_type": "code",
   "execution_count": 11,
   "metadata": {},
   "outputs": [
    {
     "data": {
      "text/plain": [
       "<AxesSubplot:>"
      ]
     },
     "execution_count": 11,
     "metadata": {},
     "output_type": "execute_result"
    },
    {
     "data": {
      "image/png": "[encoded data removed]",
      "text/plain": [
       "<Figure size 576x432 with 1 Axes>"
      ]
     },
     "metadata": {
      "needs_background": "light"
     },
     "output_type": "display_data"
    }
   ],
   "source": [
    "temp = data['country'].value_counts().head(15)\n",
    "temp.plot.line(figsize=(8, 6))"
   ]
  },
  {
   "cell_type": "markdown",
   "metadata": {},
   "source": [
    "- Se muestra los 15 paises con mayor cantidad de datos\n",
    "- El comporamiento de los datos es diferente para cada país\n",
    "- Hay que tener en cuenta la cantidad de personas de cada país para comparar con los datos."
   ]
  },
  {
   "cell_type": "markdown",
   "metadata": {},
   "source": [
    "### En que periodos tenemos más datos?"
   ]
  },
  {
   "cell_type": "code",
   "execution_count": 12,
   "metadata": {},
   "outputs": [
    {
     "data": {
      "text/plain": [
       "<AxesSubplot:xlabel='date'>"
      ]
     },
     "execution_count": 12,
     "metadata": {},
     "output_type": "execute_result"
    },
    {
     "data": {
      "image/png": "[encoded data removed]",
      "text/plain": [
       "<Figure size 432x288 with 1 Axes>"
      ]
     },
     "metadata": {
      "needs_background": "light"
     },
     "output_type": "display_data"
    }
   ],
   "source": [
    "# Agrupar por año\n",
    "temp = data.groupby(data['date'].dt.to_period('Y')).size()\n",
    "temp.plot.bar()"
   ]
  },
  {
   "cell_type": "code",
   "execution_count": 13,
   "metadata": {},
   "outputs": [
    {
     "data": {
      "text/plain": [
       "<AxesSubplot:xlabel='date'>"
      ]
     },
     "execution_count": 13,
     "metadata": {},
     "output_type": "execute_result"
    },
    {
     "data": {
      "image/png": "[encoded data removed]",
      "text/plain": [
       "<Figure size 576x432 with 1 Axes>"
      ]
     },
     "metadata": {
      "needs_background": "light"
     },
     "output_type": "display_data"
    }
   ],
   "source": [
    "# Agrupar por mes\n",
    "temp = data.groupby(data['date'].dt.to_period('M')).size()\n",
    "temp.plot.line(figsize=(8, 6))"
   ]
  },
  {
   "cell_type": "markdown",
   "metadata": {},
   "source": [
    "- Se puede ver que hay mayor densidad de datos en el año 2021 entre Junio y Enero de 2022."
   ]
  },
  {
   "cell_type": "markdown",
   "metadata": {},
   "source": [
    "### Promedio de personas vacunadas por país (15 mayores)?"
   ]
  },
  {
   "cell_type": "code",
   "execution_count": 30,
   "metadata": {},
   "outputs": [
    {
     "data": {
      "image/png": "[encoded data removed]",
      "text/plain": [
       "<Figure size 720x576 with 1 Axes>"
      ]
     },
     "metadata": {
      "needs_background": "light"
     },
     "output_type": "display_data"
    }
   ],
   "source": [
    "# Agrupar por país\n",
    "temp = data.groupby('country').mean().sort_values('people_vaccinated', ascending=False)\n",
    "\n",
    "fix, ax = plt.subplots(figsize=(15, 8))\n",
    "ax = temp['people_vaccinated'].head(15).plot.bar(figsize=(10, 8))\n",
    "ax.set_title('Promedio de personas vacunadas')\n",
    "ax.set_xlabel('Paises')\n",
    "ax.set_ylabel('Vacunaciones [Mil millones]')\n",
    "plt.show()"
   ]
  },
  {
   "cell_type": "code",
   "execution_count": 31,
   "metadata": {},
   "outputs": [
    {
     "data": {
      "text/plain": [
       "country\n",
       "China             1.200354e+09\n",
       "India             4.820134e+08\n",
       "United States     1.699053e+08\n",
       "Brazil            1.019900e+08\n",
       "Indonesia         8.276378e+07\n",
       "Pakistan          6.083335e+07\n",
       "Japan             5.266574e+07\n",
       "Iran              4.504058e+07\n",
       "Mexico            4.304561e+07\n",
       "Russia            4.257046e+07\n",
       "United Kingdom    4.126324e+07\n",
       "Germany           4.116113e+07\n",
       "Turkey            3.940265e+07\n",
       "England           3.468312e+07\n",
       "France            3.466866e+07\n",
       "Name: people_vaccinated, dtype: float64"
      ]
     },
     "execution_count": 31,
     "metadata": {},
     "output_type": "execute_result"
    }
   ],
   "source": [
    "temp.people_vaccinated.head(15)"
   ]
  },
  {
   "cell_type": "markdown",
   "metadata": {},
   "source": [
    "## 6.- Data Engineering (Obtención de insights)\n",
    "Podemos ver que en China, India y Estados Unidos se vacunaron la mayor cantidad de personas entre Junio de 2021 y Enero de 2022."
   ]
  },
  {
   "cell_type": "markdown",
   "metadata": {},
   "source": [
    "## 7.- y 8.- Selección y Desarrollo del algoritmo-método\n",
    "Para este dataset se decidió utilizar el modelo de forecasting que consiste en predecir el valor futuro de una serie temporal, bien modelando la serie únicamente en función de su comportamiento pasado (autorregresivo) o empleando otras variables externas."
   ]
  },
  {
   "cell_type": "code",
   "execution_count": 15,
   "metadata": {},
   "outputs": [],
   "source": [
    "from sktime.forecasting.base import ForecastingHorizon\n",
    "from sktime.forecasting.model_selection import temporal_train_test_split\n",
    "from sktime.forecasting.theta import ThetaForecaster\n",
    "from sktime.performance_metrics.forecasting import mean_absolute_percentage_error\n",
    "from sktime.utils.plotting import plot_series"
   ]
  },
  {
   "cell_type": "code",
   "execution_count": 16,
   "metadata": {},
   "outputs": [
    {
     "data": {
      "text/html": [
       "<div>\n",
       "<style scoped>\n",
       "    .dataframe tbody tr th:only-of-type {\n",
       "        vertical-align: middle;\n",
       "    }\n",
       "\n",
       "    .dataframe tbody tr th {\n",
       "        vertical-align: top;\n",
       "    }\n",
       "\n",
       "    .dataframe thead th {\n",
       "        text-align: right;\n",
       "    }\n",
       "</style>\n",
       "<table border=\"1\" class=\"dataframe\">\n",
       "  <thead>\n",
       "    <tr style=\"text-align: right;\">\n",
       "      <th></th>\n",
       "      <th>total_vaccinations</th>\n",
       "      <th>people_vaccinated</th>\n",
       "      <th>people_fully_vaccinated</th>\n",
       "      <th>daily_vaccinations_raw</th>\n",
       "      <th>daily_vaccinations</th>\n",
       "      <th>total_vaccinations_per_hundred</th>\n",
       "      <th>people_vaccinated_per_hundred</th>\n",
       "      <th>people_fully_vaccinated_per_hundred</th>\n",
       "      <th>daily_vaccinations_per_million</th>\n",
       "    </tr>\n",
       "    <tr>\n",
       "      <th>date</th>\n",
       "      <th></th>\n",
       "      <th></th>\n",
       "      <th></th>\n",
       "      <th></th>\n",
       "      <th></th>\n",
       "      <th></th>\n",
       "      <th></th>\n",
       "      <th></th>\n",
       "      <th></th>\n",
       "    </tr>\n",
       "  </thead>\n",
       "  <tbody>\n",
       "    <tr>\n",
       "      <th>2020-12-04</th>\n",
       "      <td>1.0</td>\n",
       "      <td>1.0</td>\n",
       "      <td>0.0</td>\n",
       "      <td>0.0</td>\n",
       "      <td>0.0</td>\n",
       "      <td>0.0</td>\n",
       "      <td>0.0</td>\n",
       "      <td>0.0</td>\n",
       "      <td>0.0</td>\n",
       "    </tr>\n",
       "    <tr>\n",
       "      <th>2020-12-07</th>\n",
       "      <td>2.0</td>\n",
       "      <td>2.0</td>\n",
       "      <td>0.0</td>\n",
       "      <td>0.0</td>\n",
       "      <td>0.0</td>\n",
       "      <td>0.0</td>\n",
       "      <td>0.0</td>\n",
       "      <td>0.0</td>\n",
       "      <td>0.0</td>\n",
       "    </tr>\n",
       "    <tr>\n",
       "      <th>2020-12-08</th>\n",
       "      <td>6.0</td>\n",
       "      <td>6.0</td>\n",
       "      <td>0.0</td>\n",
       "      <td>5.0</td>\n",
       "      <td>1.0</td>\n",
       "      <td>0.0</td>\n",
       "      <td>0.0</td>\n",
       "      <td>0.0</td>\n",
       "      <td>0.0</td>\n",
       "    </tr>\n",
       "    <tr>\n",
       "      <th>2020-12-09</th>\n",
       "      <td>9.0</td>\n",
       "      <td>9.0</td>\n",
       "      <td>0.0</td>\n",
       "      <td>1.0</td>\n",
       "      <td>1.0</td>\n",
       "      <td>0.0</td>\n",
       "      <td>0.0</td>\n",
       "      <td>0.0</td>\n",
       "      <td>0.0</td>\n",
       "    </tr>\n",
       "    <tr>\n",
       "      <th>2020-12-10</th>\n",
       "      <td>7.0</td>\n",
       "      <td>7.0</td>\n",
       "      <td>0.0</td>\n",
       "      <td>1.0</td>\n",
       "      <td>1.0</td>\n",
       "      <td>0.0</td>\n",
       "      <td>0.0</td>\n",
       "      <td>0.0</td>\n",
       "      <td>0.0</td>\n",
       "    </tr>\n",
       "  </tbody>\n",
       "</table>\n",
       "</div>"
      ],
      "text/plain": [
       "            total_vaccinations  people_vaccinated  people_fully_vaccinated  \\\n",
       "date                                                                         \n",
       "2020-12-04                 1.0                1.0                      0.0   \n",
       "2020-12-07                 2.0                2.0                      0.0   \n",
       "2020-12-08                 6.0                6.0                      0.0   \n",
       "2020-12-09                 9.0                9.0                      0.0   \n",
       "2020-12-10                 7.0                7.0                      0.0   \n",
       "\n",
       "            daily_vaccinations_raw  daily_vaccinations  \\\n",
       "date                                                     \n",
       "2020-12-04                     0.0                 0.0   \n",
       "2020-12-07                     0.0                 0.0   \n",
       "2020-12-08                     5.0                 1.0   \n",
       "2020-12-09                     1.0                 1.0   \n",
       "2020-12-10                     1.0                 1.0   \n",
       "\n",
       "            total_vaccinations_per_hundred  people_vaccinated_per_hundred  \\\n",
       "date                                                                        \n",
       "2020-12-04                             0.0                            0.0   \n",
       "2020-12-07                             0.0                            0.0   \n",
       "2020-12-08                             0.0                            0.0   \n",
       "2020-12-09                             0.0                            0.0   \n",
       "2020-12-10                             0.0                            0.0   \n",
       "\n",
       "            people_fully_vaccinated_per_hundred  \\\n",
       "date                                              \n",
       "2020-12-04                                  0.0   \n",
       "2020-12-07                                  0.0   \n",
       "2020-12-08                                  0.0   \n",
       "2020-12-09                                  0.0   \n",
       "2020-12-10                                  0.0   \n",
       "\n",
       "            daily_vaccinations_per_million  \n",
       "date                                        \n",
       "2020-12-04                             0.0  \n",
       "2020-12-07                             0.0  \n",
       "2020-12-08                             0.0  \n",
       "2020-12-09                             0.0  \n",
       "2020-12-10                             0.0  "
      ]
     },
     "execution_count": 16,
     "metadata": {},
     "output_type": "execute_result"
    }
   ],
   "source": [
    "# Agrupar por mes\n",
    "period = data.groupby(data['date'].dt.to_period('D')).sum()\n",
    "period.head()"
   ]
  },
  {
   "cell_type": "code",
   "execution_count": 17,
   "metadata": {},
   "outputs": [
    {
     "data": {
      "text/plain": [
       "date\n",
       "2020-12-04    1.000000e+00\n",
       "2020-12-07    2.000000e+00\n",
       "2020-12-08    6.000000e+00\n",
       "2020-12-09    9.000000e+00\n",
       "2020-12-10    7.000000e+00\n",
       "                  ...     \n",
       "2022-03-25    2.764019e+09\n",
       "2022-03-26    2.781163e+09\n",
       "2022-03-27    2.945374e+09\n",
       "2022-03-28    2.696730e+09\n",
       "2022-03-29    2.363749e+09\n",
       "Freq: D, Length: 479, dtype: float64"
      ]
     },
     "execution_count": 17,
     "metadata": {},
     "output_type": "execute_result"
    }
   ],
   "source": [
    "y = pd.Series(period['people_vaccinated'].values, index=period.index)\n",
    "y"
   ]
  },
  {
   "cell_type": "code",
   "execution_count": 18,
   "metadata": {},
   "outputs": [
    {
     "data": {
      "text/plain": [
       "(<Figure size 1152x288 with 1 Axes>, <AxesSubplot:>)"
      ]
     },
     "execution_count": 18,
     "metadata": {},
     "output_type": "execute_result"
    },
    {
     "data": {
      "image/png": "[encoded data removed]",
      "text/plain": [
       "<Figure size 1152x288 with 1 Axes>"
      ]
     },
     "metadata": {
      "needs_background": "light"
     },
     "output_type": "display_data"
    }
   ],
   "source": [
    "plot_series(y)"
   ]
  },
  {
   "cell_type": "code",
   "execution_count": 19,
   "metadata": {},
   "outputs": [],
   "source": [
    "y_train, y_test = temporal_train_test_split(y)"
   ]
  },
  {
   "cell_type": "code",
   "execution_count": 20,
   "metadata": {},
   "outputs": [],
   "source": [
    "fh = ForecastingHorizon(y_test.index, is_relative=False)"
   ]
  },
  {
   "cell_type": "code",
   "execution_count": 21,
   "metadata": {},
   "outputs": [
    {
     "name": "stderr",
     "output_type": "stream",
     "text": [
      "c:\\Users\\alk10\\anaconda3\\lib\\site-packages\\statsmodels\\tsa\\holtwinters\\model.py:915: ConvergenceWarning: Optimization failed to converge. Check mle_retvals.\n",
      "  warnings.warn(\n"
     ]
    },
    {
     "data": {
      "text/plain": [
       "ThetaForecaster(sp=36)"
      ]
     },
     "execution_count": 21,
     "metadata": {},
     "output_type": "execute_result"
    }
   ],
   "source": [
    "forecaster = ThetaForecaster(sp=36)  # monthly seasonal periodicity\n",
    "forecaster.fit(y_train) "
   ]
  },
  {
   "cell_type": "code",
   "execution_count": 22,
   "metadata": {},
   "outputs": [
    {
     "data": {
      "text/plain": [
       "2021-11-30    2.720562e+09\n",
       "2021-12-01    2.778852e+09\n",
       "2021-12-02    2.745252e+09\n",
       "2021-12-03    2.713627e+09\n",
       "2021-12-04    2.739089e+09\n",
       "                  ...     \n",
       "2022-03-25    3.146665e+09\n",
       "2022-03-26    3.258783e+09\n",
       "2022-03-27    3.205979e+09\n",
       "2022-03-28    3.386562e+09\n",
       "2022-03-29    3.224757e+09\n",
       "Freq: D, Length: 120, dtype: float64"
      ]
     },
     "execution_count": 22,
     "metadata": {},
     "output_type": "execute_result"
    }
   ],
   "source": [
    "y_pred = forecaster.predict(fh)\n",
    "y_pred"
   ]
  },
  {
   "cell_type": "code",
   "execution_count": 23,
   "metadata": {},
   "outputs": [
    {
     "data": {
      "text/plain": [
       "(<Figure size 1152x288 with 1 Axes>, <AxesSubplot:>)"
      ]
     },
     "execution_count": 23,
     "metadata": {},
     "output_type": "execute_result"
    },
    {
     "data": {
      "image/png": "[encoded data removed]",
      "text/plain": [
       "<Figure size 1152x288 with 1 Axes>"
      ]
     },
     "metadata": {
      "needs_background": "light"
     },
     "output_type": "display_data"
    }
   ],
   "source": [
    "# plotting predictions and past data\n",
    "plot_series(y_train, y_pred, labels=[\"y_train\", \"y_pred\"])"
   ]
  },
  {
   "cell_type": "code",
   "execution_count": 24,
   "metadata": {},
   "outputs": [
    {
     "data": {
      "text/plain": [
       "0.09962920005953038"
      ]
     },
     "execution_count": 24,
     "metadata": {},
     "output_type": "execute_result"
    }
   ],
   "source": [
    "mean_absolute_percentage_error(y_test, y_pred)"
   ]
  },
  {
   "cell_type": "markdown",
   "metadata": {},
   "source": [
    "## 9.- y 10.- Interpretación de resultados y conclusiones\n",
    "1. El gráfico muestra que hay una tendencia alcista a que las personas se vacunen a lo largo del tiempo.\n",
    "2. Se puede ver que hay mayor densidad de datos en el año 2021, entre Junio y Enero de 2022, Y el punto más alto de personas vacunadas fue en Julio 2021.\n",
    "3. Los paises con mayor cantidad de personas vacunadas son China, India y Estados Unidos."
   ]
  }
 ],
 "metadata": {
  "kernelspec": {
   "display_name": "Python 3 (ipykernel)",
   "language": "python",
   "name": "python3"
  },
  "language_info": {
   "codemirror_mode": {
    "name": "ipython",
    "version": 3
   },
   "file_extension": ".py",
   "mimetype": "text/x-python",
   "name": "python",
   "nbconvert_exporter": "python",
   "pygments_lexer": "ipython3",
   "version": "3.9.12"
  },
  "vscode": {
   "interpreter": {
    "hash": "d24f5056fa93fad02cd97a7dfb03056fb715df0d8915a74e77b9bc93ce767292"
   }
  }
 },
 "nbformat": 4,
 "nbformat_minor": 4
}
