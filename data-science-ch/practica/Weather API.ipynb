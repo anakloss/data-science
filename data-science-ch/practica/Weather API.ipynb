{
 "cells": [
  {
   "attachments": {},
   "cell_type": "markdown",
   "metadata": {},
   "source": [
    "# Weather API\n",
    "\n",
    "Desarrollo de estudio de datos sobre el clima."
   ]
  },
  {
   "cell_type": "code",
   "execution_count": 3,
   "metadata": {},
   "outputs": [],
   "source": [
    "import pandas as pd\n",
    "import numpy as np\n",
    "import matplotlib as mpl\n",
    "import matplotlib.pyplot as plt\n",
    "import missingno as msgo\n",
    "import requests\n",
    "import json\n",
    "%matplotlib inline"
   ]
  },
  {
   "cell_type": "code",
   "execution_count": 20,
   "metadata": {},
   "outputs": [
    {
     "name": "stdout",
     "output_type": "stream",
     "text": [
      "http://api.weatherapi.com/v1/current.json?key=e4778ddbb36b47fe8ef130728231103&q=Diamante\n"
     ]
    }
   ],
   "source": [
    "api_key = 'e4778ddbb36b47fe8ef130728231103'\n",
    "url_api = 'http://api.weatherapi.com/v1/current.json'\n",
    "url = f'{url_api}?key={api_key}&q=Diamante'\n",
    "print(url)"
   ]
  },
  {
   "attachments": {},
   "cell_type": "markdown",
   "metadata": {},
   "source": [
    "## Data Acquisition"
   ]
  },
  {
   "cell_type": "code",
   "execution_count": 13,
   "metadata": {},
   "outputs": [
    {
     "name": "stdout",
     "output_type": "stream",
     "text": [
      "<Response [200]>\n"
     ]
    }
   ],
   "source": [
    "df = requests.get(url)\n",
    "print(df)"
   ]
  },
  {
   "cell_type": "code",
   "execution_count": 15,
   "metadata": {},
   "outputs": [
    {
     "data": {
      "text/plain": [
       "{'location': {'name': 'Diamante',\n",
       "  'region': 'Entre Rios',\n",
       "  'country': 'Argentina',\n",
       "  'lat': -32.06,\n",
       "  'lon': -60.64,\n",
       "  'tz_id': 'America/Argentina/Cordoba',\n",
       "  'localtime_epoch': 1678542186,\n",
       "  'localtime': '2023-03-11 10:43'},\n",
       " 'current': {'last_updated_epoch': 1678541400,\n",
       "  'last_updated': '2023-03-11 10:30',\n",
       "  'temp_c': 32.0,\n",
       "  'temp_f': 89.6,\n",
       "  'is_day': 1,\n",
       "  'condition': {'text': 'Sunny',\n",
       "   'icon': '//cdn.weatherapi.com/weather/64x64/day/113.png',\n",
       "   'code': 1000},\n",
       "  'wind_mph': 9.8,\n",
       "  'wind_kph': 15.8,\n",
       "  'wind_degree': 27,\n",
       "  'wind_dir': 'NNE',\n",
       "  'pressure_mb': 1012.0,\n",
       "  'pressure_in': 29.88,\n",
       "  'precip_mm': 0.0,\n",
       "  'precip_in': 0.0,\n",
       "  'humidity': 39,\n",
       "  'cloud': 0,\n",
       "  'feelslike_c': 32.7,\n",
       "  'feelslike_f': 90.9,\n",
       "  'vis_km': 10.0,\n",
       "  'vis_miles': 6.0,\n",
       "  'uv': 8.0,\n",
       "  'gust_mph': 11.4,\n",
       "  'gust_kph': 18.4}}"
      ]
     },
     "execution_count": 15,
     "metadata": {},
     "output_type": "execute_result"
    }
   ],
   "source": [
    "# Transformar a json\n",
    "json_data = json.loads(df.text)\n",
    "json_data"
   ]
  }
 ],
 "metadata": {
  "kernelspec": {
   "display_name": "base",
   "language": "python",
   "name": "python3"
  },
  "language_info": {
   "codemirror_mode": {
    "name": "ipython",
    "version": 3
   },
   "file_extension": ".py",
   "mimetype": "text/x-python",
   "name": "python",
   "nbconvert_exporter": "python",
   "pygments_lexer": "ipython3",
   "version": "3.9.12"
  },
  "orig_nbformat": 4
 },
 "nbformat": 4,
 "nbformat_minor": 2
}
