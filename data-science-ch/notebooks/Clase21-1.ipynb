{
 "cells": [
  {
   "cell_type": "code",
   "execution_count": 9,
   "metadata": {
    "id": "otEDvDjUmvXP"
   },
   "outputs": [],
   "source": [
    "import numpy as np\n",
    "import pandas as pd\n",
    "import matplotlib.pyplot as plt"
   ]
  },
  {
   "cell_type": "markdown",
   "metadata": {},
   "source": [
    "# Ejercicio 1: Delineador"
   ]
  },
  {
   "cell_type": "code",
   "execution_count": 2,
   "metadata": {},
   "outputs": [],
   "source": [
    "# Creamos las categorias\n",
    "sexo = ['M', 'F', 'Otro']\n",
    "estatura = ['<150cm', '150-170cm', '170-190cm', '>190cm']\n",
    "cabello = ['Corto', 'Mediano (hasta orejas)', 'Largo (supera hombros)']\n",
    "color = ['Rojo', 'Rubio', 'Castaño', 'Negro', 'Otro']\n",
    "delineador = ['Si', 'No']"
   ]
  },
  {
   "cell_type": "code",
   "execution_count": 3,
   "metadata": {
    "id": "7ydtJZItojkD"
   },
   "outputs": [],
   "source": [
    "# Creacion de datos artificiales\n",
    "v_sexo = np.random.choice(sexo, 1000)\n",
    "v_estatura = np.random.choice(estatura, 1000)\n",
    "v_cabello = np.random.choice(cabello, 1000)\n",
    "v_color = np.random.choice(color, 1000)\n",
    "# v_delineador = np.random.choice(delineador, 100)"
   ]
  },
  {
   "cell_type": "code",
   "execution_count": 4,
   "metadata": {
    "colab": {
     "base_uri": "https://localhost:8080/",
     "height": 206
    },
    "executionInfo": {
     "elapsed": 29,
     "status": "ok",
     "timestamp": 1681480421595,
     "user": {
      "displayName": "José Roberto Torres Bello",
      "userId": "08789034392984218392"
     },
     "user_tz": 360
    },
    "id": "p6VEFNkdo9Qw",
    "outputId": "51de39e4-b9f1-42ff-abd4-d844998d2994"
   },
   "outputs": [
    {
     "data": {
      "text/html": [
       "<div>\n",
       "<style scoped>\n",
       "    .dataframe tbody tr th:only-of-type {\n",
       "        vertical-align: middle;\n",
       "    }\n",
       "\n",
       "    .dataframe tbody tr th {\n",
       "        vertical-align: top;\n",
       "    }\n",
       "\n",
       "    .dataframe thead th {\n",
       "        text-align: right;\n",
       "    }\n",
       "</style>\n",
       "<table border=\"1\" class=\"dataframe\">\n",
       "  <thead>\n",
       "    <tr style=\"text-align: right;\">\n",
       "      <th></th>\n",
       "      <th>Sexo</th>\n",
       "      <th>Estatura</th>\n",
       "      <th>Cabello</th>\n",
       "      <th>Color</th>\n",
       "      <th>Delineador</th>\n",
       "    </tr>\n",
       "  </thead>\n",
       "  <tbody>\n",
       "    <tr>\n",
       "      <th>0</th>\n",
       "      <td>Otro</td>\n",
       "      <td>&lt;150cm</td>\n",
       "      <td>Corto</td>\n",
       "      <td>Negro</td>\n",
       "      <td>No</td>\n",
       "    </tr>\n",
       "    <tr>\n",
       "      <th>1</th>\n",
       "      <td>Otro</td>\n",
       "      <td>&gt;190cm</td>\n",
       "      <td>Largo (supera hombros)</td>\n",
       "      <td>Rubio</td>\n",
       "      <td>No</td>\n",
       "    </tr>\n",
       "    <tr>\n",
       "      <th>2</th>\n",
       "      <td>F</td>\n",
       "      <td>&gt;190cm</td>\n",
       "      <td>Corto</td>\n",
       "      <td>Castaño</td>\n",
       "      <td>No</td>\n",
       "    </tr>\n",
       "    <tr>\n",
       "      <th>3</th>\n",
       "      <td>M</td>\n",
       "      <td>150-170cm</td>\n",
       "      <td>Largo (supera hombros)</td>\n",
       "      <td>Otro</td>\n",
       "      <td>Si</td>\n",
       "    </tr>\n",
       "    <tr>\n",
       "      <th>4</th>\n",
       "      <td>Otro</td>\n",
       "      <td>150-170cm</td>\n",
       "      <td>Largo (supera hombros)</td>\n",
       "      <td>Otro</td>\n",
       "      <td>No</td>\n",
       "    </tr>\n",
       "  </tbody>\n",
       "</table>\n",
       "</div>"
      ],
      "text/plain": [
       "   Sexo   Estatura                 Cabello    Color Delineador\n",
       "0  Otro     <150cm                   Corto    Negro         No\n",
       "1  Otro     >190cm  Largo (supera hombros)    Rubio         No\n",
       "2     F     >190cm                   Corto  Castaño         No\n",
       "3     M  150-170cm  Largo (supera hombros)     Otro         Si\n",
       "4  Otro  150-170cm  Largo (supera hombros)     Otro         No"
      ]
     },
     "execution_count": 4,
     "metadata": {},
     "output_type": "execute_result"
    }
   ],
   "source": [
    "# Creacion del dataframe\n",
    "df = pd.DataFrame()\n",
    "\n",
    "df['Sexo'] = v_sexo \n",
    "df['Estatura'] = v_estatura\n",
    "df['Cabello'] = v_cabello\n",
    "df['Color'] = v_color\n",
    "df['Delineador'] = np.where(\n",
    "    ((df['Sexo'] == 'F') & ((df['Estatura'] == '<150cm') | (df['Estatura'] == '150-170cm'))) | \n",
    "    ((df['Sexo'] == 'M') & ((df['Estatura'] == '150-170cm') | (df['Estatura'] == '>190cm'))), \n",
    "    'Si', 'No')\n",
    "\n",
    "df.head()"
   ]
  },
  {
   "cell_type": "markdown",
   "metadata": {},
   "source": [
    "Sistema supervisado:\n",
    "Con las características vamos a predecir si compro o no el delineador"
   ]
  },
  {
   "cell_type": "code",
   "execution_count": 5,
   "metadata": {
    "colab": {
     "base_uri": "https://localhost:8080/"
    },
    "executionInfo": {
     "elapsed": 24,
     "status": "ok",
     "timestamp": 1681480421597,
     "user": {
      "displayName": "José Roberto Torres Bello",
      "userId": "08789034392984218392"
     },
     "user_tz": 360
    },
    "id": "RXDNoybgvTFK",
    "outputId": "9b36343e-339d-4907-9c16-930dbb195fbb"
   },
   "outputs": [
    {
     "data": {
      "text/plain": [
       "No    678\n",
       "Si    322\n",
       "Name: Delineador, dtype: int64"
      ]
     },
     "execution_count": 5,
     "metadata": {},
     "output_type": "execute_result"
    }
   ],
   "source": [
    "df.Delineador.value_counts()"
   ]
  },
  {
   "cell_type": "code",
   "execution_count": 6,
   "metadata": {
    "id": "1ZXIdwnNpSQl"
   },
   "outputs": [],
   "source": [
    "# Split en train y test \n",
    "X = df.drop(columns='Delineador')  # selecciona todas las columnas sin la de 'delineador'\n",
    "y = df['Delineador']\n",
    "\n",
    "# Separa los datos en columnas y los transforma en 0 y 1\n",
    "X_new = pd.get_dummies(X) "
   ]
  },
  {
   "cell_type": "code",
   "execution_count": 7,
   "metadata": {},
   "outputs": [
    {
     "data": {
      "text/html": [
       "<div>\n",
       "<style scoped>\n",
       "    .dataframe tbody tr th:only-of-type {\n",
       "        vertical-align: middle;\n",
       "    }\n",
       "\n",
       "    .dataframe tbody tr th {\n",
       "        vertical-align: top;\n",
       "    }\n",
       "\n",
       "    .dataframe thead th {\n",
       "        text-align: right;\n",
       "    }\n",
       "</style>\n",
       "<table border=\"1\" class=\"dataframe\">\n",
       "  <thead>\n",
       "    <tr style=\"text-align: right;\">\n",
       "      <th></th>\n",
       "      <th>Sexo_F</th>\n",
       "      <th>Sexo_M</th>\n",
       "      <th>Sexo_Otro</th>\n",
       "      <th>Estatura_150-170cm</th>\n",
       "      <th>Estatura_170-190cm</th>\n",
       "      <th>Estatura_&lt;150cm</th>\n",
       "      <th>Estatura_&gt;190cm</th>\n",
       "      <th>Cabello_Corto</th>\n",
       "      <th>Cabello_Largo (supera hombros)</th>\n",
       "      <th>Cabello_Mediano (hasta orejas)</th>\n",
       "      <th>Color_Castaño</th>\n",
       "      <th>Color_Negro</th>\n",
       "      <th>Color_Otro</th>\n",
       "      <th>Color_Rojo</th>\n",
       "      <th>Color_Rubio</th>\n",
       "    </tr>\n",
       "  </thead>\n",
       "  <tbody>\n",
       "    <tr>\n",
       "      <th>0</th>\n",
       "      <td>0</td>\n",
       "      <td>0</td>\n",
       "      <td>1</td>\n",
       "      <td>0</td>\n",
       "      <td>0</td>\n",
       "      <td>1</td>\n",
       "      <td>0</td>\n",
       "      <td>1</td>\n",
       "      <td>0</td>\n",
       "      <td>0</td>\n",
       "      <td>0</td>\n",
       "      <td>1</td>\n",
       "      <td>0</td>\n",
       "      <td>0</td>\n",
       "      <td>0</td>\n",
       "    </tr>\n",
       "    <tr>\n",
       "      <th>1</th>\n",
       "      <td>0</td>\n",
       "      <td>0</td>\n",
       "      <td>1</td>\n",
       "      <td>0</td>\n",
       "      <td>0</td>\n",
       "      <td>0</td>\n",
       "      <td>1</td>\n",
       "      <td>0</td>\n",
       "      <td>1</td>\n",
       "      <td>0</td>\n",
       "      <td>0</td>\n",
       "      <td>0</td>\n",
       "      <td>0</td>\n",
       "      <td>0</td>\n",
       "      <td>1</td>\n",
       "    </tr>\n",
       "    <tr>\n",
       "      <th>2</th>\n",
       "      <td>1</td>\n",
       "      <td>0</td>\n",
       "      <td>0</td>\n",
       "      <td>0</td>\n",
       "      <td>0</td>\n",
       "      <td>0</td>\n",
       "      <td>1</td>\n",
       "      <td>1</td>\n",
       "      <td>0</td>\n",
       "      <td>0</td>\n",
       "      <td>1</td>\n",
       "      <td>0</td>\n",
       "      <td>0</td>\n",
       "      <td>0</td>\n",
       "      <td>0</td>\n",
       "    </tr>\n",
       "    <tr>\n",
       "      <th>3</th>\n",
       "      <td>0</td>\n",
       "      <td>1</td>\n",
       "      <td>0</td>\n",
       "      <td>1</td>\n",
       "      <td>0</td>\n",
       "      <td>0</td>\n",
       "      <td>0</td>\n",
       "      <td>0</td>\n",
       "      <td>1</td>\n",
       "      <td>0</td>\n",
       "      <td>0</td>\n",
       "      <td>0</td>\n",
       "      <td>1</td>\n",
       "      <td>0</td>\n",
       "      <td>0</td>\n",
       "    </tr>\n",
       "    <tr>\n",
       "      <th>4</th>\n",
       "      <td>0</td>\n",
       "      <td>0</td>\n",
       "      <td>1</td>\n",
       "      <td>1</td>\n",
       "      <td>0</td>\n",
       "      <td>0</td>\n",
       "      <td>0</td>\n",
       "      <td>0</td>\n",
       "      <td>1</td>\n",
       "      <td>0</td>\n",
       "      <td>0</td>\n",
       "      <td>0</td>\n",
       "      <td>1</td>\n",
       "      <td>0</td>\n",
       "      <td>0</td>\n",
       "    </tr>\n",
       "  </tbody>\n",
       "</table>\n",
       "</div>"
      ],
      "text/plain": [
       "   Sexo_F  Sexo_M  Sexo_Otro  Estatura_150-170cm  Estatura_170-190cm  \\\n",
       "0       0       0          1                   0                   0   \n",
       "1       0       0          1                   0                   0   \n",
       "2       1       0          0                   0                   0   \n",
       "3       0       1          0                   1                   0   \n",
       "4       0       0          1                   1                   0   \n",
       "\n",
       "   Estatura_<150cm  Estatura_>190cm  Cabello_Corto  \\\n",
       "0                1                0              1   \n",
       "1                0                1              0   \n",
       "2                0                1              1   \n",
       "3                0                0              0   \n",
       "4                0                0              0   \n",
       "\n",
       "   Cabello_Largo (supera hombros)  Cabello_Mediano (hasta orejas)  \\\n",
       "0                               0                               0   \n",
       "1                               1                               0   \n",
       "2                               0                               0   \n",
       "3                               1                               0   \n",
       "4                               1                               0   \n",
       "\n",
       "   Color_Castaño  Color_Negro  Color_Otro  Color_Rojo  Color_Rubio  \n",
       "0              0            1           0           0            0  \n",
       "1              0            0           0           0            1  \n",
       "2              1            0           0           0            0  \n",
       "3              0            0           1           0            0  \n",
       "4              0            0           1           0            0  "
      ]
     },
     "execution_count": 7,
     "metadata": {},
     "output_type": "execute_result"
    }
   ],
   "source": [
    "X_new.head()"
   ]
  },
  {
   "cell_type": "markdown",
   "metadata": {},
   "source": [
    "## Selección de algoritmo"
   ]
  },
  {
   "cell_type": "code",
   "execution_count": 15,
   "metadata": {},
   "outputs": [],
   "source": [
    "from sklearn import tree\n",
    "from sklearn.model_selection import train_test_split\n",
    "from sklearn.metrics import classification_report"
   ]
  },
  {
   "cell_type": "code",
   "execution_count": 10,
   "metadata": {},
   "outputs": [],
   "source": [
    "# Particionar los datos para test y train\n",
    "X_train, X_test, y_train, y_test = train_test_split(X_new, y, test_size=0.33, random_state=42)"
   ]
  },
  {
   "cell_type": "code",
   "execution_count": 11,
   "metadata": {
    "id": "WRX-jiX3p4Ac"
   },
   "outputs": [],
   "source": [
    "# Entrenar el arbol\n",
    "clf = tree.DecisionTreeClassifier()\n",
    "clf = clf.fit(X_train, y_train)"
   ]
  },
  {
   "cell_type": "code",
   "execution_count": 12,
   "metadata": {
    "colab": {
     "base_uri": "https://localhost:8080/"
    },
    "executionInfo": {
     "elapsed": 8,
     "status": "ok",
     "timestamp": 1681480427873,
     "user": {
      "displayName": "José Roberto Torres Bello",
      "userId": "08789034392984218392"
     },
     "user_tz": 360
    },
    "id": "le6Pc08Mt66i",
    "outputId": "778975b9-53bd-4b75-deed-fd18c0901227"
   },
   "outputs": [
    {
     "data": {
      "text/plain": [
       "array(['No', 'Si'], dtype=object)"
      ]
     },
     "execution_count": 12,
     "metadata": {},
     "output_type": "execute_result"
    }
   ],
   "source": [
    "y_train.unique()"
   ]
  },
  {
   "cell_type": "code",
   "execution_count": 13,
   "metadata": {
    "colab": {
     "base_uri": "https://localhost:8080/",
     "height": 664
    },
    "executionInfo": {
     "elapsed": 5108,
     "status": "ok",
     "timestamp": 1681480437347,
     "user": {
      "displayName": "José Roberto Torres Bello",
      "userId": "08789034392984218392"
     },
     "user_tz": 360
    },
    "id": "ETaEXIoJsCl0",
    "outputId": "ef4a7bb4-5c5d-495c-e4f7-f2da253892d7"
   },
   "outputs": [
    {
     "data": {
      "image/png": "[encoded data removed]",
      "text/plain": [
       "<Figure size 1296x720 with 1 Axes>"
      ]
     },
     "metadata": {
      "needs_background": "light"
     },
     "output_type": "display_data"
    }
   ],
   "source": [
    "# Graficando\n",
    "fig = plt.figure(figsize=(18,10))\n",
    "_ = tree.plot_tree(clf, feature_names=X_train.columns, class_names=y_train.unique(), filled=True)"
   ]
  },
  {
   "cell_type": "code",
   "execution_count": 14,
   "metadata": {
    "id": "s0ZsFW-dwS5E"
   },
   "outputs": [],
   "source": [
    "y_pred= clf.predict(X_test)"
   ]
  },
  {
   "cell_type": "code",
   "execution_count": 16,
   "metadata": {
    "colab": {
     "base_uri": "https://localhost:8080/"
    },
    "executionInfo": {
     "elapsed": 14,
     "status": "ok",
     "timestamp": 1681480443408,
     "user": {
      "displayName": "José Roberto Torres Bello",
      "userId": "08789034392984218392"
     },
     "user_tz": 360
    },
    "id": "5zlgwJELvgQQ",
    "outputId": "f7ffa295-32ed-43a2-e198-91f13b03c6b3"
   },
   "outputs": [
    {
     "name": "stdout",
     "output_type": "stream",
     "text": [
      "              precision    recall  f1-score   support\n",
      "\n",
      "          No       1.00      1.00      1.00       215\n",
      "          Si       1.00      1.00      1.00       115\n",
      "\n",
      "    accuracy                           1.00       330\n",
      "   macro avg       1.00      1.00      1.00       330\n",
      "weighted avg       1.00      1.00      1.00       330\n",
      "\n"
     ]
    }
   ],
   "source": [
    "print(classification_report(y_true=y_test, y_pred=y_pred))"
   ]
  },
  {
   "cell_type": "markdown",
   "metadata": {},
   "source": [
    "Precisión del 100% \\\n",
    "f1_score es la media armonica entre la precision y recall"
   ]
  },
  {
   "cell_type": "code",
   "execution_count": null,
   "metadata": {},
   "outputs": [],
   "source": []
  }
 ],
 "metadata": {
  "colab": {
   "provenance": []
  },
  "kernelspec": {
   "display_name": "Python 3 (ipykernel)",
   "language": "python",
   "name": "python3"
  },
  "language_info": {
   "codemirror_mode": {
    "name": "ipython",
    "version": 3
   },
   "file_extension": ".py",
   "mimetype": "text/x-python",
   "name": "python",
   "nbconvert_exporter": "python",
   "pygments_lexer": "ipython3",
   "version": "3.9.12"
  }
 },
 "nbformat": 4,
 "nbformat_minor": 4
}
