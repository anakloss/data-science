{
 "cells": [
  {
   "cell_type": "markdown",
   "metadata": {
    "id": "5sK3RMS769cI",
    "tags": []
   },
   "source": [
    "# DATA WRANGLING\n",
    "## Valores duplicados"
   ]
  },
  {
   "cell_type": "code",
   "execution_count": 2,
   "metadata": {},
   "outputs": [],
   "source": [
    "import numpy as np\n",
    "import pandas as pd"
   ]
  },
  {
   "cell_type": "code",
   "execution_count": 4,
   "metadata": {
    "colab": {
     "base_uri": "https://localhost:8080/",
     "height": 269
    },
    "executionInfo": {
     "elapsed": 619,
     "status": "ok",
     "timestamp": 1677946113224,
     "user": {
      "displayName": "José Roberto Torres Bello",
      "userId": "08789034392984218392"
     },
     "user_tz": 360
    },
    "id": "Lv51oJwo6_Jn",
    "outputId": "dfff63cd-9ebd-4ec3-a3b1-7c84eab4b7b1"
   },
   "outputs": [
    {
     "data": {
      "text/html": [
       "<div>\n",
       "<style scoped>\n",
       "    .dataframe tbody tr th:only-of-type {\n",
       "        vertical-align: middle;\n",
       "    }\n",
       "\n",
       "    .dataframe tbody tr th {\n",
       "        vertical-align: top;\n",
       "    }\n",
       "\n",
       "    .dataframe thead th {\n",
       "        text-align: right;\n",
       "    }\n",
       "</style>\n",
       "<table border=\"1\" class=\"dataframe\">\n",
       "  <thead>\n",
       "    <tr style=\"text-align: right;\">\n",
       "      <th></th>\n",
       "      <th>col 1</th>\n",
       "      <th>col 2</th>\n",
       "      <th>col3</th>\n",
       "    </tr>\n",
       "  </thead>\n",
       "  <tbody>\n",
       "    <tr>\n",
       "      <th>0</th>\n",
       "      <td>1</td>\n",
       "      <td>a</td>\n",
       "      <td>A</td>\n",
       "    </tr>\n",
       "    <tr>\n",
       "      <th>1</th>\n",
       "      <td>1</td>\n",
       "      <td>a</td>\n",
       "      <td>A</td>\n",
       "    </tr>\n",
       "    <tr>\n",
       "      <th>2</th>\n",
       "      <td>2</td>\n",
       "      <td>b</td>\n",
       "      <td>B</td>\n",
       "    </tr>\n",
       "    <tr>\n",
       "      <th>3</th>\n",
       "      <td>2</td>\n",
       "      <td>b</td>\n",
       "      <td>B</td>\n",
       "    </tr>\n",
       "    <tr>\n",
       "      <th>4</th>\n",
       "      <td>3</td>\n",
       "      <td>c</td>\n",
       "      <td>C</td>\n",
       "    </tr>\n",
       "    <tr>\n",
       "      <th>5</th>\n",
       "      <td>3</td>\n",
       "      <td>c</td>\n",
       "      <td>C</td>\n",
       "    </tr>\n",
       "    <tr>\n",
       "      <th>6</th>\n",
       "      <td>3</td>\n",
       "      <td>c</td>\n",
       "      <td>C</td>\n",
       "    </tr>\n",
       "  </tbody>\n",
       "</table>\n",
       "</div>"
      ],
      "text/plain": [
       "   col 1 col 2 col3 \n",
       "0      1     a     A\n",
       "1      1     a     A\n",
       "2      2     b     B\n",
       "3      2     b     B\n",
       "4      3     c     C\n",
       "5      3     c     C\n",
       "6      3     c     C"
      ]
     },
     "execution_count": 4,
     "metadata": {},
     "output_type": "execute_result"
    }
   ],
   "source": [
    "DF= pd.DataFrame({\n",
    "    'col 1':[1,1,2,2,3,3,3],\n",
    "    'col 2': ['a','a','b','b','c','c','c'],\n",
    "    'col3 ': ['A','A','B','B','C','C','C']\n",
    "})\n",
    "\n",
    "DF"
   ]
  },
  {
   "cell_type": "code",
   "execution_count": 5,
   "metadata": {
    "colab": {
     "base_uri": "https://localhost:8080/"
    },
    "executionInfo": {
     "elapsed": 273,
     "status": "ok",
     "timestamp": 1677946117042,
     "user": {
      "displayName": "José Roberto Torres Bello",
      "userId": "08789034392984218392"
     },
     "user_tz": 360
    },
    "id": "QCNIMViH7m0i",
    "outputId": "17f56937-f527-4d68-c824-fc734b835873"
   },
   "outputs": [
    {
     "data": {
      "text/plain": [
       "0    False\n",
       "1     True\n",
       "2    False\n",
       "3     True\n",
       "4    False\n",
       "5     True\n",
       "6     True\n",
       "dtype: bool"
      ]
     },
     "execution_count": 5,
     "metadata": {},
     "output_type": "execute_result"
    }
   ],
   "source": [
    "DF.duplicated()"
   ]
  },
  {
   "cell_type": "code",
   "execution_count": 6,
   "metadata": {
    "colab": {
     "base_uri": "https://localhost:8080/",
     "height": 143
    },
    "executionInfo": {
     "elapsed": 207,
     "status": "ok",
     "timestamp": 1677946117571,
     "user": {
      "displayName": "José Roberto Torres Bello",
      "userId": "08789034392984218392"
     },
     "user_tz": 360
    },
    "id": "LVi4Sjh79PfR",
    "outputId": "77f29aea-0b3f-4b71-a141-e2918ec9ab02"
   },
   "outputs": [
    {
     "data": {
      "text/html": [
       "<div>\n",
       "<style scoped>\n",
       "    .dataframe tbody tr th:only-of-type {\n",
       "        vertical-align: middle;\n",
       "    }\n",
       "\n",
       "    .dataframe tbody tr th {\n",
       "        vertical-align: top;\n",
       "    }\n",
       "\n",
       "    .dataframe thead th {\n",
       "        text-align: right;\n",
       "    }\n",
       "</style>\n",
       "<table border=\"1\" class=\"dataframe\">\n",
       "  <thead>\n",
       "    <tr style=\"text-align: right;\">\n",
       "      <th></th>\n",
       "      <th>col 1</th>\n",
       "      <th>col 2</th>\n",
       "      <th>col3</th>\n",
       "    </tr>\n",
       "  </thead>\n",
       "  <tbody>\n",
       "    <tr>\n",
       "      <th>0</th>\n",
       "      <td>1</td>\n",
       "      <td>a</td>\n",
       "      <td>A</td>\n",
       "    </tr>\n",
       "    <tr>\n",
       "      <th>2</th>\n",
       "      <td>2</td>\n",
       "      <td>b</td>\n",
       "      <td>B</td>\n",
       "    </tr>\n",
       "    <tr>\n",
       "      <th>4</th>\n",
       "      <td>3</td>\n",
       "      <td>c</td>\n",
       "      <td>C</td>\n",
       "    </tr>\n",
       "  </tbody>\n",
       "</table>\n",
       "</div>"
      ],
      "text/plain": [
       "   col 1 col 2 col3 \n",
       "0      1     a     A\n",
       "2      2     b     B\n",
       "4      3     c     C"
      ]
     },
     "execution_count": 6,
     "metadata": {},
     "output_type": "execute_result"
    }
   ],
   "source": [
    "DF.drop_duplicates()  # inplace=True  para guardar el cambio en dataframe original"
   ]
  },
  {
   "cell_type": "markdown",
   "metadata": {
    "id": "u0q18Ts4Yxh_"
   },
   "source": [
    "## Crear serie multiindex"
   ]
  },
  {
   "cell_type": "code",
   "execution_count": 7,
   "metadata": {
    "colab": {
     "base_uri": "https://localhost:8080/"
    },
    "executionInfo": {
     "elapsed": 9,
     "status": "ok",
     "timestamp": 1646606468543,
     "user": {
      "displayName": "David Francisco Bustos Usta",
      "photoUrl": "https://lh3.googleusercontent.com/a-/AOh14GjvGjd5VpSUEHTxlxXRYAinh8eCspL5nxvcW9wD=s64",
      "userId": "09471607480253994520"
     },
     "user_tz": 300
    },
    "id": "6vaPZrGAYxiC",
    "outputId": "738a35e4-58cd-4e98-8d8b-e9a6efc0137a"
   },
   "outputs": [
    {
     "data": {
      "text/plain": [
       "a  1    0.098912\n",
       "   2    0.029500\n",
       "   3    0.856997\n",
       "b  1    0.644169\n",
       "   2   -0.317259\n",
       "   3   -0.200923\n",
       "c  1    0.035487\n",
       "   2    0.270867\n",
       "   3   -0.532484\n",
       "dtype: float64"
      ]
     },
     "execution_count": 7,
     "metadata": {},
     "output_type": "execute_result"
    }
   ],
   "source": [
    "arrays = [np.array([\"a\", \"a\", \"a\", \"b\", \"b\", \"b\", \"c\", \"c\",\"c\"]),\n",
    "          np.array([1,2,3, 1,2,3, 1,2,3]),]\n",
    "\n",
    "s = pd.Series(np.random.randn(9), index=arrays)\n",
    "s"
   ]
  },
  {
   "cell_type": "code",
   "execution_count": 8,
   "metadata": {
    "colab": {
     "base_uri": "https://localhost:8080/"
    },
    "executionInfo": {
     "elapsed": 6,
     "status": "ok",
     "timestamp": 1646606470347,
     "user": {
      "displayName": "David Francisco Bustos Usta",
      "photoUrl": "https://lh3.googleusercontent.com/a-/AOh14GjvGjd5VpSUEHTxlxXRYAinh8eCspL5nxvcW9wD=s64",
      "userId": "09471607480253994520"
     },
     "user_tz": 300
    },
    "id": "kBLnDhIKYxiE",
    "outputId": "2ebf7dde-f058-4684-fe68-8a75d8ac4305"
   },
   "outputs": [
    {
     "data": {
      "text/plain": [
       "MultiIndex([('a', 1),\n",
       "            ('a', 2),\n",
       "            ('a', 3),\n",
       "            ('b', 1),\n",
       "            ('b', 2),\n",
       "            ('b', 3),\n",
       "            ('c', 1),\n",
       "            ('c', 2),\n",
       "            ('c', 3)],\n",
       "           )"
      ]
     },
     "execution_count": 8,
     "metadata": {},
     "output_type": "execute_result"
    }
   ],
   "source": [
    "s.index"
   ]
  },
  {
   "cell_type": "code",
   "execution_count": 9,
   "metadata": {
    "colab": {
     "base_uri": "https://localhost:8080/"
    },
    "executionInfo": {
     "elapsed": 264,
     "status": "ok",
     "timestamp": 1646606472458,
     "user": {
      "displayName": "David Francisco Bustos Usta",
      "photoUrl": "https://lh3.googleusercontent.com/a-/AOh14GjvGjd5VpSUEHTxlxXRYAinh8eCspL5nxvcW9wD=s64",
      "userId": "09471607480253994520"
     },
     "user_tz": 300
    },
    "id": "WNhGD-6fYxiH",
    "outputId": "ba89998f-efd1-4c99-ac12-f0601b05541d"
   },
   "outputs": [
    {
     "data": {
      "text/plain": [
       "1    0.098912\n",
       "2    0.029500\n",
       "3    0.856997\n",
       "dtype: float64"
      ]
     },
     "execution_count": 9,
     "metadata": {},
     "output_type": "execute_result"
    }
   ],
   "source": [
    "# Primero nivel\n",
    "s['a']"
   ]
  },
  {
   "cell_type": "code",
   "execution_count": 10,
   "metadata": {
    "colab": {
     "base_uri": "https://localhost:8080/"
    },
    "executionInfo": {
     "elapsed": 234,
     "status": "ok",
     "timestamp": 1646606475499,
     "user": {
      "displayName": "David Francisco Bustos Usta",
      "photoUrl": "https://lh3.googleusercontent.com/a-/AOh14GjvGjd5VpSUEHTxlxXRYAinh8eCspL5nxvcW9wD=s64",
      "userId": "09471607480253994520"
     },
     "user_tz": 300
    },
    "id": "9AOhYtSuYxiI",
    "outputId": "8b321c6d-d3a3-408a-cff8-0dfee2e19dd0"
   },
   "outputs": [
    {
     "data": {
      "text/plain": [
       "a    0.029500\n",
       "b   -0.317259\n",
       "c    0.270867\n",
       "dtype: float64"
      ]
     },
     "execution_count": 10,
     "metadata": {},
     "output_type": "execute_result"
    }
   ],
   "source": [
    "# Segundo nivel\n",
    "s.loc[:,2]"
   ]
  },
  {
   "cell_type": "code",
   "execution_count": 11,
   "metadata": {
    "colab": {
     "base_uri": "https://localhost:8080/",
     "height": 144
    },
    "executionInfo": {
     "elapsed": 14,
     "status": "ok",
     "timestamp": 1646606477276,
     "user": {
      "displayName": "David Francisco Bustos Usta",
      "photoUrl": "https://lh3.googleusercontent.com/a-/AOh14GjvGjd5VpSUEHTxlxXRYAinh8eCspL5nxvcW9wD=s64",
      "userId": "09471607480253994520"
     },
     "user_tz": 300
    },
    "id": "89dO9wpnYxiK",
    "outputId": "25094c7b-facf-48ae-8a5f-d53865a10165"
   },
   "outputs": [
    {
     "data": {
      "text/html": [
       "<div>\n",
       "<style scoped>\n",
       "    .dataframe tbody tr th:only-of-type {\n",
       "        vertical-align: middle;\n",
       "    }\n",
       "\n",
       "    .dataframe tbody tr th {\n",
       "        vertical-align: top;\n",
       "    }\n",
       "\n",
       "    .dataframe thead th {\n",
       "        text-align: right;\n",
       "    }\n",
       "</style>\n",
       "<table border=\"1\" class=\"dataframe\">\n",
       "  <thead>\n",
       "    <tr style=\"text-align: right;\">\n",
       "      <th></th>\n",
       "      <th>1</th>\n",
       "      <th>2</th>\n",
       "      <th>3</th>\n",
       "    </tr>\n",
       "  </thead>\n",
       "  <tbody>\n",
       "    <tr>\n",
       "      <th>a</th>\n",
       "      <td>0.098912</td>\n",
       "      <td>0.029500</td>\n",
       "      <td>0.856997</td>\n",
       "    </tr>\n",
       "    <tr>\n",
       "      <th>b</th>\n",
       "      <td>0.644169</td>\n",
       "      <td>-0.317259</td>\n",
       "      <td>-0.200923</td>\n",
       "    </tr>\n",
       "    <tr>\n",
       "      <th>c</th>\n",
       "      <td>0.035487</td>\n",
       "      <td>0.270867</td>\n",
       "      <td>-0.532484</td>\n",
       "    </tr>\n",
       "  </tbody>\n",
       "</table>\n",
       "</div>"
      ],
      "text/plain": [
       "          1         2         3\n",
       "a  0.098912  0.029500  0.856997\n",
       "b  0.644169 -0.317259 -0.200923\n",
       "c  0.035487  0.270867 -0.532484"
      ]
     },
     "execution_count": 11,
     "metadata": {},
     "output_type": "execute_result"
    }
   ],
   "source": [
    "s.unstack()"
   ]
  },
  {
   "cell_type": "code",
   "execution_count": 12,
   "metadata": {
    "colab": {
     "base_uri": "https://localhost:8080/"
    },
    "executionInfo": {
     "elapsed": 223,
     "status": "ok",
     "timestamp": 1646606479535,
     "user": {
      "displayName": "David Francisco Bustos Usta",
      "photoUrl": "https://lh3.googleusercontent.com/a-/AOh14GjvGjd5VpSUEHTxlxXRYAinh8eCspL5nxvcW9wD=s64",
      "userId": "09471607480253994520"
     },
     "user_tz": 300
    },
    "id": "adO-X8L4YxiL",
    "outputId": "15034b2d-c381-4021-d4b4-bc42b989fd59"
   },
   "outputs": [
    {
     "data": {
      "text/plain": [
       "1    0.778568\n",
       "2   -0.016893\n",
       "3    0.123590\n",
       "dtype: float64"
      ]
     },
     "execution_count": 12,
     "metadata": {},
     "output_type": "execute_result"
    }
   ],
   "source": [
    "# s.sum(level=1) dejo de usarse en esta version, se reemplaza por\n",
    "s.groupby(level=1).sum()"
   ]
  },
  {
   "cell_type": "code",
   "execution_count": 13,
   "metadata": {
    "colab": {
     "base_uri": "https://localhost:8080/"
    },
    "executionInfo": {
     "elapsed": 225,
     "status": "ok",
     "timestamp": 1646606481322,
     "user": {
      "displayName": "David Francisco Bustos Usta",
      "photoUrl": "https://lh3.googleusercontent.com/a-/AOh14GjvGjd5VpSUEHTxlxXRYAinh8eCspL5nxvcW9wD=s64",
      "userId": "09471607480253994520"
     },
     "user_tz": 300
    },
    "id": "QOENrQsEYxiL",
    "outputId": "a64e4b27-5879-4a93-9973-7c5f34d0017e"
   },
   "outputs": [
    {
     "data": {
      "text/plain": [
       "a    0.985409\n",
       "b    0.125987\n",
       "c   -0.226129\n",
       "dtype: float64"
      ]
     },
     "execution_count": 13,
     "metadata": {},
     "output_type": "execute_result"
    }
   ],
   "source": [
    "s.groupby(level=0).sum()"
   ]
  },
  {
   "cell_type": "code",
   "execution_count": 14,
   "metadata": {
    "colab": {
     "base_uri": "https://localhost:8080/"
    },
    "executionInfo": {
     "elapsed": 223,
     "status": "ok",
     "timestamp": 1646606483268,
     "user": {
      "displayName": "David Francisco Bustos Usta",
      "photoUrl": "https://lh3.googleusercontent.com/a-/AOh14GjvGjd5VpSUEHTxlxXRYAinh8eCspL5nxvcW9wD=s64",
      "userId": "09471607480253994520"
     },
     "user_tz": 300
    },
    "id": "Lg0zYt7EYxiN",
    "outputId": "032560c5-47d4-4ea8-8859-1850764bb679"
   },
   "outputs": [
    {
     "data": {
      "text/plain": [
       "1    0.098912\n",
       "2    0.029500\n",
       "3   -0.200923\n",
       "dtype: float64"
      ]
     },
     "execution_count": 14,
     "metadata": {},
     "output_type": "execute_result"
    }
   ],
   "source": [
    "# s.mean(level=0)\n",
    "s.groupby(level=1).median()"
   ]
  },
  {
   "cell_type": "markdown",
   "metadata": {
    "id": "wcP8bFifAMlT"
   },
   "source": [
    "## Print"
   ]
  },
  {
   "cell_type": "code",
   "execution_count": 15,
   "metadata": {
    "colab": {
     "base_uri": "https://localhost:8080/"
    },
    "executionInfo": {
     "elapsed": 286,
     "status": "ok",
     "timestamp": 1646606486470,
     "user": {
      "displayName": "David Francisco Bustos Usta",
      "photoUrl": "https://lh3.googleusercontent.com/a-/AOh14GjvGjd5VpSUEHTxlxXRYAinh8eCspL5nxvcW9wD=s64",
      "userId": "09471607480253994520"
     },
     "user_tz": 300
    },
    "id": "YW7PRa9PANoA",
    "outputId": "d2069125-c536-4bd1-8a16-08fb6cc4b2ed"
   },
   "outputs": [
    {
     "name": "stdout",
     "output_type": "stream",
     "text": [
      "Pero**no**incluyendo\n"
     ]
    }
   ],
   "source": [
    "print('Pero', 'no', 'incluyendo', sep='**')"
   ]
  },
  {
   "cell_type": "code",
   "execution_count": 16,
   "metadata": {
    "colab": {
     "base_uri": "https://localhost:8080/"
    },
    "executionInfo": {
     "elapsed": 5,
     "status": "ok",
     "timestamp": 1646606487384,
     "user": {
      "displayName": "David Francisco Bustos Usta",
      "photoUrl": "https://lh3.googleusercontent.com/a-/AOh14GjvGjd5VpSUEHTxlxXRYAinh8eCspL5nxvcW9wD=s64",
      "userId": "09471607480253994520"
     },
     "user_tz": 300
    },
    "id": "LZszd3GbASqU",
    "outputId": "ce3d4fd3-7c1b-4f68-f958-13a5e407ba86"
   },
   "outputs": [
    {
     "name": "stdout",
     "output_type": "stream",
     "text": [
      "Peronoincluyendo\n"
     ]
    }
   ],
   "source": [
    "print('Pero', 'no', 'incluyendo', sep='')"
   ]
  },
  {
   "cell_type": "code",
   "execution_count": 17,
   "metadata": {
    "colab": {
     "base_uri": "https://localhost:8080/"
    },
    "executionInfo": {
     "elapsed": 5,
     "status": "ok",
     "timestamp": 1646606488286,
     "user": {
      "displayName": "David Francisco Bustos Usta",
      "photoUrl": "https://lh3.googleusercontent.com/a-/AOh14GjvGjd5VpSUEHTxlxXRYAinh8eCspL5nxvcW9wD=s64",
      "userId": "09471607480253994520"
     },
     "user_tz": 300
    },
    "id": "knlTQybqAePi",
    "outputId": "4070ca5b-3d5b-47a8-d990-1ac1a57aefe5"
   },
   "outputs": [
    {
     "name": "stdout",
     "output_type": "stream",
     "text": [
      "hola\n",
      "buen\n",
      "día\n"
     ]
    }
   ],
   "source": [
    "print(\"hola\", \"buen\", \"día\", sep=\"\\n\")"
   ]
  },
  {
   "cell_type": "code",
   "execution_count": 18,
   "metadata": {
    "colab": {
     "base_uri": "https://localhost:8080/"
    },
    "executionInfo": {
     "elapsed": 240,
     "status": "ok",
     "timestamp": 1646606489783,
     "user": {
      "displayName": "David Francisco Bustos Usta",
      "photoUrl": "https://lh3.googleusercontent.com/a-/AOh14GjvGjd5VpSUEHTxlxXRYAinh8eCspL5nxvcW9wD=s64",
      "userId": "09471607480253994520"
     },
     "user_tz": 300
    },
    "id": "gCzwxfGwAvd1",
    "outputId": "a7ff53b8-539d-4657-f885-95b562c3ac20"
   },
   "outputs": [
    {
     "name": "stdout",
     "output_type": "stream",
     "text": [
      "hola\tbuen\tdía\n"
     ]
    }
   ],
   "source": [
    "print('hola', 'buen', 'día', sep='\\t')"
   ]
  },
  {
   "cell_type": "code",
   "execution_count": 19,
   "metadata": {},
   "outputs": [
    {
     "name": "stdout",
     "output_type": "stream",
     "text": [
      "hola buen día!"
     ]
    }
   ],
   "source": [
    "print('hola', 'buen', 'día', end='!')"
   ]
  },
  {
   "cell_type": "markdown",
   "metadata": {
    "id": "HUqu3c0fZE34"
   },
   "source": [
    "## Group by\n",
    "Identifica una columna seleccionada para utilizarla para agrupar resultados. Divide los datos en grupos por los valores de la columna especificada, y devuelve una fila de resultados para cada grupo.\n"
   ]
  },
  {
   "cell_type": "code",
   "execution_count": 20,
   "metadata": {
    "colab": {
     "base_uri": "https://localhost:8080/",
     "height": 206
    },
    "executionInfo": {
     "elapsed": 265,
     "status": "ok",
     "timestamp": 1646606492225,
     "user": {
      "displayName": "David Francisco Bustos Usta",
      "photoUrl": "https://lh3.googleusercontent.com/a-/AOh14GjvGjd5VpSUEHTxlxXRYAinh8eCspL5nxvcW9wD=s64",
      "userId": "09471607480253994520"
     },
     "user_tz": 300
    },
    "id": "YtFwEO3MZE35",
    "outputId": "c5551486-7586-4496-c2d6-a17a3ca8c94e"
   },
   "outputs": [
    {
     "data": {
      "text/html": [
       "<div>\n",
       "<style scoped>\n",
       "    .dataframe tbody tr th:only-of-type {\n",
       "        vertical-align: middle;\n",
       "    }\n",
       "\n",
       "    .dataframe tbody tr th {\n",
       "        vertical-align: top;\n",
       "    }\n",
       "\n",
       "    .dataframe thead th {\n",
       "        text-align: right;\n",
       "    }\n",
       "</style>\n",
       "<table border=\"1\" class=\"dataframe\">\n",
       "  <thead>\n",
       "    <tr style=\"text-align: right;\">\n",
       "      <th></th>\n",
       "      <th>data1</th>\n",
       "      <th>data2</th>\n",
       "      <th>key1</th>\n",
       "      <th>key2</th>\n",
       "    </tr>\n",
       "  </thead>\n",
       "  <tbody>\n",
       "    <tr>\n",
       "      <th>0</th>\n",
       "      <td>-0.706703</td>\n",
       "      <td>0.658809</td>\n",
       "      <td>a</td>\n",
       "      <td>one</td>\n",
       "    </tr>\n",
       "    <tr>\n",
       "      <th>1</th>\n",
       "      <td>0.339061</td>\n",
       "      <td>0.742835</td>\n",
       "      <td>a</td>\n",
       "      <td>two</td>\n",
       "    </tr>\n",
       "    <tr>\n",
       "      <th>2</th>\n",
       "      <td>1.088565</td>\n",
       "      <td>-1.148663</td>\n",
       "      <td>b</td>\n",
       "      <td>one</td>\n",
       "    </tr>\n",
       "    <tr>\n",
       "      <th>3</th>\n",
       "      <td>0.226936</td>\n",
       "      <td>0.460076</td>\n",
       "      <td>b</td>\n",
       "      <td>two</td>\n",
       "    </tr>\n",
       "    <tr>\n",
       "      <th>4</th>\n",
       "      <td>-0.930248</td>\n",
       "      <td>-1.750078</td>\n",
       "      <td>a</td>\n",
       "      <td>one</td>\n",
       "    </tr>\n",
       "  </tbody>\n",
       "</table>\n",
       "</div>"
      ],
      "text/plain": [
       "      data1     data2 key1 key2\n",
       "0 -0.706703  0.658809    a  one\n",
       "1  0.339061  0.742835    a  two\n",
       "2  1.088565 -1.148663    b  one\n",
       "3  0.226936  0.460076    b  two\n",
       "4 -0.930248 -1.750078    a  one"
      ]
     },
     "execution_count": 20,
     "metadata": {},
     "output_type": "execute_result"
    }
   ],
   "source": [
    "df = pd.DataFrame({\n",
    "    'data1' : np.random.randn(5), \n",
    "    'data2' : np.random.randn(5),\n",
    "    'key1' : ['a', 'a', 'b', 'b', 'a'],\n",
    "    'key2' : ['one', 'two', 'one', 'two', 'one']\n",
    "})\n",
    "\n",
    "df"
   ]
  },
  {
   "cell_type": "code",
   "execution_count": 21,
   "metadata": {
    "colab": {
     "base_uri": "https://localhost:8080/"
    },
    "executionInfo": {
     "elapsed": 245,
     "status": "ok",
     "timestamp": 1646606495618,
     "user": {
      "displayName": "David Francisco Bustos Usta",
      "photoUrl": "https://lh3.googleusercontent.com/a-/AOh14GjvGjd5VpSUEHTxlxXRYAinh8eCspL5nxvcW9wD=s64",
      "userId": "09471607480253994520"
     },
     "user_tz": 300
    },
    "id": "dz0O5c8iZE37",
    "outputId": "7ee1cb58-6df1-4496-f501-08c214230b80"
   },
   "outputs": [
    {
     "data": {
      "text/plain": [
       "pandas.core.groupby.generic.SeriesGroupBy"
      ]
     },
     "execution_count": 21,
     "metadata": {},
     "output_type": "execute_result"
    }
   ],
   "source": [
    "grouped = df['data1'].groupby(df['key1'])\n",
    "type(grouped)"
   ]
  },
  {
   "cell_type": "code",
   "execution_count": 22,
   "metadata": {
    "colab": {
     "base_uri": "https://localhost:8080/"
    },
    "executionInfo": {
     "elapsed": 286,
     "status": "ok",
     "timestamp": 1646606497182,
     "user": {
      "displayName": "David Francisco Bustos Usta",
      "photoUrl": "https://lh3.googleusercontent.com/a-/AOh14GjvGjd5VpSUEHTxlxXRYAinh8eCspL5nxvcW9wD=s64",
      "userId": "09471607480253994520"
     },
     "user_tz": 300
    },
    "id": "JPSads72ZE37",
    "outputId": "86a290ca-e9aa-48f6-ba08-d363f6d7baa4"
   },
   "outputs": [
    {
     "data": {
      "text/plain": [
       "key1\n",
       "a   -0.706703\n",
       "b    0.657750\n",
       "Name: data1, dtype: float64"
      ]
     },
     "execution_count": 22,
     "metadata": {},
     "output_type": "execute_result"
    }
   ],
   "source": [
    "grouped.median()"
   ]
  },
  {
   "cell_type": "code",
   "execution_count": 23,
   "metadata": {
    "colab": {
     "base_uri": "https://localhost:8080/"
    },
    "executionInfo": {
     "elapsed": 4,
     "status": "ok",
     "timestamp": 1646606499067,
     "user": {
      "displayName": "David Francisco Bustos Usta",
      "photoUrl": "https://lh3.googleusercontent.com/a-/AOh14GjvGjd5VpSUEHTxlxXRYAinh8eCspL5nxvcW9wD=s64",
      "userId": "09471607480253994520"
     },
     "user_tz": 300
    },
    "id": "3ntheabMZE38",
    "outputId": "8219c24f-7ea6-467c-aebb-04fe88f5f73d"
   },
   "outputs": [
    {
     "data": {
      "text/plain": [
       "key1\n",
       "a   -1.297890\n",
       "b    1.315501\n",
       "Name: data1, dtype: float64"
      ]
     },
     "execution_count": 23,
     "metadata": {},
     "output_type": "execute_result"
    }
   ],
   "source": [
    "df['data1'].groupby(df['key1']).sum()"
   ]
  },
  {
   "cell_type": "code",
   "execution_count": 24,
   "metadata": {
    "colab": {
     "base_uri": "https://localhost:8080/"
    },
    "executionInfo": {
     "elapsed": 312,
     "status": "ok",
     "timestamp": 1646606500766,
     "user": {
      "displayName": "David Francisco Bustos Usta",
      "photoUrl": "https://lh3.googleusercontent.com/a-/AOh14GjvGjd5VpSUEHTxlxXRYAinh8eCspL5nxvcW9wD=s64",
      "userId": "09471607480253994520"
     },
     "user_tz": 300
    },
    "id": "4AoCqB5MZE39",
    "outputId": "f5524ebb-2f0f-43d9-c197-2fc41047be12"
   },
   "outputs": [
    {
     "data": {
      "text/plain": [
       "key1  key2\n",
       "a     one    -1.636951\n",
       "      two     0.339061\n",
       "b     one     1.088565\n",
       "      two     0.226936\n",
       "Name: data1, dtype: float64"
      ]
     },
     "execution_count": 24,
     "metadata": {},
     "output_type": "execute_result"
    }
   ],
   "source": [
    "df['data1'].groupby([df['key1'],df['key2']]).sum()"
   ]
  },
  {
   "cell_type": "markdown",
   "metadata": {
    "id": "Mr0rAnKFY9SQ"
   },
   "source": [
    "## Pivot\n",
    "En este caso, vemos como utiliza los valores únicos de la columna B y los transforma en múltiples columnas."
   ]
  },
  {
   "cell_type": "code",
   "execution_count": 25,
   "metadata": {
    "colab": {
     "base_uri": "https://localhost:8080/",
     "height": 144
    },
    "executionInfo": {
     "elapsed": 351,
     "status": "ok",
     "timestamp": 1646606505233,
     "user": {
      "displayName": "David Francisco Bustos Usta",
      "photoUrl": "https://lh3.googleusercontent.com/a-/AOh14GjvGjd5VpSUEHTxlxXRYAinh8eCspL5nxvcW9wD=s64",
      "userId": "09471607480253994520"
     },
     "user_tz": 300
    },
    "id": "HH98zKQxY-MG",
    "outputId": "96c466d8-0d02-477c-8211-69a70ddc5bbc"
   },
   "outputs": [
    {
     "data": {
      "text/html": [
       "<div>\n",
       "<style scoped>\n",
       "    .dataframe tbody tr th:only-of-type {\n",
       "        vertical-align: middle;\n",
       "    }\n",
       "\n",
       "    .dataframe tbody tr th {\n",
       "        vertical-align: top;\n",
       "    }\n",
       "\n",
       "    .dataframe thead th {\n",
       "        text-align: right;\n",
       "    }\n",
       "</style>\n",
       "<table border=\"1\" class=\"dataframe\">\n",
       "  <thead>\n",
       "    <tr style=\"text-align: right;\">\n",
       "      <th></th>\n",
       "      <th>A</th>\n",
       "      <th>B</th>\n",
       "      <th>C</th>\n",
       "    </tr>\n",
       "  </thead>\n",
       "  <tbody>\n",
       "    <tr>\n",
       "      <th>0</th>\n",
       "      <td>John</td>\n",
       "      <td>Masters</td>\n",
       "      <td>27</td>\n",
       "    </tr>\n",
       "    <tr>\n",
       "      <th>1</th>\n",
       "      <td>Boby</td>\n",
       "      <td>Graduate</td>\n",
       "      <td>23</td>\n",
       "    </tr>\n",
       "    <tr>\n",
       "      <th>2</th>\n",
       "      <td>Mina</td>\n",
       "      <td>Graduate</td>\n",
       "      <td>21</td>\n",
       "    </tr>\n",
       "  </tbody>\n",
       "</table>\n",
       "</div>"
      ],
      "text/plain": [
       "      A         B   C\n",
       "0  John   Masters  27\n",
       "1  Boby  Graduate  23\n",
       "2  Mina  Graduate  21"
      ]
     },
     "execution_count": 25,
     "metadata": {},
     "output_type": "execute_result"
    }
   ],
   "source": [
    "df = pd.DataFrame(data={\n",
    "    'A' : ['John', 'Boby', 'Mina'],\n",
    "    'B' : ['Masters', 'Graduate', 'Graduate'],\n",
    "    'C' : [27,23,21]\n",
    "})\n",
    "\n",
    "df"
   ]
  },
  {
   "cell_type": "code",
   "execution_count": 30,
   "metadata": {
    "colab": {
     "base_uri": "https://localhost:8080/",
     "height": 206
    },
    "executionInfo": {
     "elapsed": 298,
     "status": "ok",
     "timestamp": 1646606517894,
     "user": {
      "displayName": "David Francisco Bustos Usta",
      "photoUrl": "https://lh3.googleusercontent.com/a-/AOh14GjvGjd5VpSUEHTxlxXRYAinh8eCspL5nxvcW9wD=s64",
      "userId": "09471607480253994520"
     },
     "user_tz": 300
    },
    "id": "Z5R5By-UZ2jU",
    "outputId": "62c6970e-ff80-4c52-945b-84928157d3dd"
   },
   "outputs": [
    {
     "data": {
      "text/html": [
       "<div>\n",
       "<style scoped>\n",
       "    .dataframe tbody tr th:only-of-type {\n",
       "        vertical-align: middle;\n",
       "    }\n",
       "\n",
       "    .dataframe tbody tr th {\n",
       "        vertical-align: top;\n",
       "    }\n",
       "\n",
       "    .dataframe thead tr th {\n",
       "        text-align: left;\n",
       "    }\n",
       "\n",
       "    .dataframe thead tr:last-of-type th {\n",
       "        text-align: right;\n",
       "    }\n",
       "</style>\n",
       "<table border=\"1\" class=\"dataframe\">\n",
       "  <thead>\n",
       "    <tr>\n",
       "      <th></th>\n",
       "      <th colspan=\"2\" halign=\"left\">C</th>\n",
       "    </tr>\n",
       "    <tr>\n",
       "      <th>B</th>\n",
       "      <th>Graduate</th>\n",
       "      <th>Masters</th>\n",
       "    </tr>\n",
       "    <tr>\n",
       "      <th>A</th>\n",
       "      <th></th>\n",
       "      <th></th>\n",
       "    </tr>\n",
       "  </thead>\n",
       "  <tbody>\n",
       "    <tr>\n",
       "      <th>Boby</th>\n",
       "      <td>23.0</td>\n",
       "      <td>NaN</td>\n",
       "    </tr>\n",
       "    <tr>\n",
       "      <th>John</th>\n",
       "      <td>NaN</td>\n",
       "      <td>27.0</td>\n",
       "    </tr>\n",
       "    <tr>\n",
       "      <th>Mina</th>\n",
       "      <td>21.0</td>\n",
       "      <td>NaN</td>\n",
       "    </tr>\n",
       "  </tbody>\n",
       "</table>\n",
       "</div>"
      ],
      "text/plain": [
       "            C        \n",
       "B    Graduate Masters\n",
       "A                    \n",
       "Boby     23.0     NaN\n",
       "John      NaN    27.0\n",
       "Mina     21.0     NaN"
      ]
     },
     "execution_count": 30,
     "metadata": {},
     "output_type": "execute_result"
    }
   ],
   "source": [
    "df.pivot(index='A', columns='B', values=['C'])"
   ]
  },
  {
   "cell_type": "code",
   "execution_count": 26,
   "metadata": {
    "colab": {
     "base_uri": "https://localhost:8080/",
     "height": 206
    },
    "executionInfo": {
     "elapsed": 359,
     "status": "ok",
     "timestamp": 1646606507027,
     "user": {
      "displayName": "David Francisco Bustos Usta",
      "photoUrl": "https://lh3.googleusercontent.com/a-/AOh14GjvGjd5VpSUEHTxlxXRYAinh8eCspL5nxvcW9wD=s64",
      "userId": "09471607480253994520"
     },
     "user_tz": 300
    },
    "id": "IhxwVVqKZewg",
    "outputId": "55d9dec3-52fc-4bec-ec29-a07c978973d0"
   },
   "outputs": [
    {
     "data": {
      "text/html": [
       "<div>\n",
       "<style scoped>\n",
       "    .dataframe tbody tr th:only-of-type {\n",
       "        vertical-align: middle;\n",
       "    }\n",
       "\n",
       "    .dataframe tbody tr th {\n",
       "        vertical-align: top;\n",
       "    }\n",
       "\n",
       "    .dataframe thead tr th {\n",
       "        text-align: left;\n",
       "    }\n",
       "\n",
       "    .dataframe thead tr:last-of-type th {\n",
       "        text-align: right;\n",
       "    }\n",
       "</style>\n",
       "<table border=\"1\" class=\"dataframe\">\n",
       "  <thead>\n",
       "    <tr>\n",
       "      <th></th>\n",
       "      <th colspan=\"2\" halign=\"left\">C</th>\n",
       "    </tr>\n",
       "    <tr>\n",
       "      <th>B</th>\n",
       "      <th>Graduate</th>\n",
       "      <th>Masters</th>\n",
       "    </tr>\n",
       "    <tr>\n",
       "      <th>A</th>\n",
       "      <th></th>\n",
       "      <th></th>\n",
       "    </tr>\n",
       "  </thead>\n",
       "  <tbody>\n",
       "    <tr>\n",
       "      <th>Boby</th>\n",
       "      <td>23.0</td>\n",
       "      <td>NaN</td>\n",
       "    </tr>\n",
       "    <tr>\n",
       "      <th>John</th>\n",
       "      <td>NaN</td>\n",
       "      <td>27.0</td>\n",
       "    </tr>\n",
       "    <tr>\n",
       "      <th>Mina</th>\n",
       "      <td>21.0</td>\n",
       "      <td>NaN</td>\n",
       "    </tr>\n",
       "  </tbody>\n",
       "</table>\n",
       "</div>"
      ],
      "text/plain": [
       "            C        \n",
       "B    Graduate Masters\n",
       "A                    \n",
       "Boby     23.0     NaN\n",
       "John      NaN    27.0\n",
       "Mina     21.0     NaN"
      ]
     },
     "execution_count": 26,
     "metadata": {},
     "output_type": "execute_result"
    }
   ],
   "source": [
    "df.pivot(index='A', columns='B')"
   ]
  },
  {
   "cell_type": "code",
   "execution_count": 27,
   "metadata": {
    "colab": {
     "base_uri": "https://localhost:8080/",
     "height": 175
    },
    "executionInfo": {
     "elapsed": 243,
     "status": "ok",
     "timestamp": 1646606511105,
     "user": {
      "displayName": "David Francisco Bustos Usta",
      "photoUrl": "https://lh3.googleusercontent.com/a-/AOh14GjvGjd5VpSUEHTxlxXRYAinh8eCspL5nxvcW9wD=s64",
      "userId": "09471607480253994520"
     },
     "user_tz": 300
    },
    "id": "MLGSVVN7ZkVU",
    "outputId": "e751cc53-45af-4076-b6ac-f44712dccdda"
   },
   "outputs": [
    {
     "data": {
      "text/html": [
       "<div>\n",
       "<style scoped>\n",
       "    .dataframe tbody tr th:only-of-type {\n",
       "        vertical-align: middle;\n",
       "    }\n",
       "\n",
       "    .dataframe tbody tr th {\n",
       "        vertical-align: top;\n",
       "    }\n",
       "\n",
       "    .dataframe thead tr th {\n",
       "        text-align: left;\n",
       "    }\n",
       "\n",
       "    .dataframe thead tr:last-of-type th {\n",
       "        text-align: right;\n",
       "    }\n",
       "</style>\n",
       "<table border=\"1\" class=\"dataframe\">\n",
       "  <thead>\n",
       "    <tr>\n",
       "      <th></th>\n",
       "      <th colspan=\"3\" halign=\"left\">A</th>\n",
       "    </tr>\n",
       "    <tr>\n",
       "      <th>C</th>\n",
       "      <th>21</th>\n",
       "      <th>23</th>\n",
       "      <th>27</th>\n",
       "    </tr>\n",
       "    <tr>\n",
       "      <th>B</th>\n",
       "      <th></th>\n",
       "      <th></th>\n",
       "      <th></th>\n",
       "    </tr>\n",
       "  </thead>\n",
       "  <tbody>\n",
       "    <tr>\n",
       "      <th>Graduate</th>\n",
       "      <td>Mina</td>\n",
       "      <td>Boby</td>\n",
       "      <td>NaN</td>\n",
       "    </tr>\n",
       "    <tr>\n",
       "      <th>Masters</th>\n",
       "      <td>NaN</td>\n",
       "      <td>NaN</td>\n",
       "      <td>John</td>\n",
       "    </tr>\n",
       "  </tbody>\n",
       "</table>\n",
       "</div>"
      ],
      "text/plain": [
       "             A            \n",
       "C           21    23    27\n",
       "B                         \n",
       "Graduate  Mina  Boby   NaN\n",
       "Masters    NaN   NaN  John"
      ]
     },
     "execution_count": 27,
     "metadata": {},
     "output_type": "execute_result"
    }
   ],
   "source": [
    "df.pivot(index='B', columns='C')"
   ]
  },
  {
   "cell_type": "code",
   "execution_count": 28,
   "metadata": {
    "colab": {
     "base_uri": "https://localhost:8080/",
     "height": 206
    },
    "executionInfo": {
     "elapsed": 241,
     "status": "ok",
     "timestamp": 1646606512816,
     "user": {
      "displayName": "David Francisco Bustos Usta",
      "photoUrl": "https://lh3.googleusercontent.com/a-/AOh14GjvGjd5VpSUEHTxlxXRYAinh8eCspL5nxvcW9wD=s64",
      "userId": "09471607480253994520"
     },
     "user_tz": 300
    },
    "id": "5S3wVnQ0ZnOJ",
    "outputId": "c8523c27-4f13-4adb-ca15-5701d3bd3157"
   },
   "outputs": [
    {
     "data": {
      "text/html": [
       "<div>\n",
       "<style scoped>\n",
       "    .dataframe tbody tr th:only-of-type {\n",
       "        vertical-align: middle;\n",
       "    }\n",
       "\n",
       "    .dataframe tbody tr th {\n",
       "        vertical-align: top;\n",
       "    }\n",
       "\n",
       "    .dataframe thead tr th {\n",
       "        text-align: left;\n",
       "    }\n",
       "\n",
       "    .dataframe thead tr:last-of-type th {\n",
       "        text-align: right;\n",
       "    }\n",
       "</style>\n",
       "<table border=\"1\" class=\"dataframe\">\n",
       "  <thead>\n",
       "    <tr>\n",
       "      <th></th>\n",
       "      <th colspan=\"3\" halign=\"left\">B</th>\n",
       "    </tr>\n",
       "    <tr>\n",
       "      <th>C</th>\n",
       "      <th>21</th>\n",
       "      <th>23</th>\n",
       "      <th>27</th>\n",
       "    </tr>\n",
       "    <tr>\n",
       "      <th>A</th>\n",
       "      <th></th>\n",
       "      <th></th>\n",
       "      <th></th>\n",
       "    </tr>\n",
       "  </thead>\n",
       "  <tbody>\n",
       "    <tr>\n",
       "      <th>Boby</th>\n",
       "      <td>NaN</td>\n",
       "      <td>Graduate</td>\n",
       "      <td>NaN</td>\n",
       "    </tr>\n",
       "    <tr>\n",
       "      <th>John</th>\n",
       "      <td>NaN</td>\n",
       "      <td>NaN</td>\n",
       "      <td>Masters</td>\n",
       "    </tr>\n",
       "    <tr>\n",
       "      <th>Mina</th>\n",
       "      <td>Graduate</td>\n",
       "      <td>NaN</td>\n",
       "      <td>NaN</td>\n",
       "    </tr>\n",
       "  </tbody>\n",
       "</table>\n",
       "</div>"
      ],
      "text/plain": [
       "             B                   \n",
       "C           21        23       27\n",
       "A                                \n",
       "Boby       NaN  Graduate      NaN\n",
       "John       NaN       NaN  Masters\n",
       "Mina  Graduate       NaN      NaN"
      ]
     },
     "execution_count": 28,
     "metadata": {},
     "output_type": "execute_result"
    }
   ],
   "source": [
    "df.pivot('A', 'C')"
   ]
  },
  {
   "cell_type": "code",
   "execution_count": 29,
   "metadata": {
    "colab": {
     "base_uri": "https://localhost:8080/",
     "height": 175
    },
    "executionInfo": {
     "elapsed": 239,
     "status": "ok",
     "timestamp": 1646606515201,
     "user": {
      "displayName": "David Francisco Bustos Usta",
      "photoUrl": "https://lh3.googleusercontent.com/a-/AOh14GjvGjd5VpSUEHTxlxXRYAinh8eCspL5nxvcW9wD=s64",
      "userId": "09471607480253994520"
     },
     "user_tz": 300
    },
    "id": "Q7fxGUTAZsH1",
    "outputId": "93d64584-4711-4a1f-b7b0-d35c5f550633"
   },
   "outputs": [
    {
     "data": {
      "text/html": [
       "<div>\n",
       "<style scoped>\n",
       "    .dataframe tbody tr th:only-of-type {\n",
       "        vertical-align: middle;\n",
       "    }\n",
       "\n",
       "    .dataframe tbody tr th {\n",
       "        vertical-align: top;\n",
       "    }\n",
       "\n",
       "    .dataframe thead th {\n",
       "        text-align: right;\n",
       "    }\n",
       "</style>\n",
       "<table border=\"1\" class=\"dataframe\">\n",
       "  <thead>\n",
       "    <tr style=\"text-align: right;\">\n",
       "      <th>B</th>\n",
       "      <th>Graduate</th>\n",
       "      <th>Masters</th>\n",
       "    </tr>\n",
       "    <tr>\n",
       "      <th>A</th>\n",
       "      <th></th>\n",
       "      <th></th>\n",
       "    </tr>\n",
       "  </thead>\n",
       "  <tbody>\n",
       "    <tr>\n",
       "      <th>Boby</th>\n",
       "      <td>23.0</td>\n",
       "      <td>NaN</td>\n",
       "    </tr>\n",
       "    <tr>\n",
       "      <th>John</th>\n",
       "      <td>NaN</td>\n",
       "      <td>27.0</td>\n",
       "    </tr>\n",
       "    <tr>\n",
       "      <th>Mina</th>\n",
       "      <td>21.0</td>\n",
       "      <td>NaN</td>\n",
       "    </tr>\n",
       "  </tbody>\n",
       "</table>\n",
       "</div>"
      ],
      "text/plain": [
       "B     Graduate  Masters\n",
       "A                      \n",
       "Boby      23.0      NaN\n",
       "John       NaN     27.0\n",
       "Mina      21.0      NaN"
      ]
     },
     "execution_count": 29,
     "metadata": {},
     "output_type": "execute_result"
    }
   ],
   "source": [
    "df.pivot('A', 'B', 'C')"
   ]
  },
  {
   "cell_type": "code",
   "execution_count": 32,
   "metadata": {
    "colab": {
     "base_uri": "https://localhost:8080/",
     "height": 349
    },
    "executionInfo": {
     "elapsed": 232,
     "status": "error",
     "timestamp": 1646606519143,
     "user": {
      "displayName": "David Francisco Bustos Usta",
      "photoUrl": "https://lh3.googleusercontent.com/a-/AOh14GjvGjd5VpSUEHTxlxXRYAinh8eCspL5nxvcW9wD=s64",
      "userId": "09471607480253994520"
     },
     "user_tz": 300
    },
    "id": "OuQg4xroa_lF",
    "outputId": "88ecc620-b1e0-4159-9d2c-89b9779e4bd9"
   },
   "outputs": [
    {
     "ename": "ValueError",
     "evalue": "Index contains duplicate entries, cannot reshape",
     "output_type": "error",
     "traceback": [
      "\u001b[1;31m---------------------------------------------------------------------------\u001b[0m",
      "\u001b[1;31mValueError\u001b[0m                                Traceback (most recent call last)",
      "Input \u001b[1;32mIn [32]\u001b[0m, in \u001b[0;36m<cell line: 8>\u001b[1;34m()\u001b[0m\n\u001b[0;32m      1\u001b[0m \u001b[38;5;66;03m# Porque hay error aca\u001b[39;00m\n\u001b[0;32m      2\u001b[0m df1 \u001b[38;5;241m=\u001b[39m pd\u001b[38;5;241m.\u001b[39mDataFrame({\n\u001b[0;32m      3\u001b[0m     \u001b[38;5;124m'\u001b[39m\u001b[38;5;124mA\u001b[39m\u001b[38;5;124m'\u001b[39m : [\u001b[38;5;124m'\u001b[39m\u001b[38;5;124mJohn\u001b[39m\u001b[38;5;124m'\u001b[39m, \u001b[38;5;124m'\u001b[39m\u001b[38;5;124mJohn\u001b[39m\u001b[38;5;124m'\u001b[39m, \u001b[38;5;124m'\u001b[39m\u001b[38;5;124mMina\u001b[39m\u001b[38;5;124m'\u001b[39m],\n\u001b[0;32m      4\u001b[0m     \u001b[38;5;124m'\u001b[39m\u001b[38;5;124mB\u001b[39m\u001b[38;5;124m'\u001b[39m : [\u001b[38;5;124m'\u001b[39m\u001b[38;5;124mMasters\u001b[39m\u001b[38;5;124m'\u001b[39m, \u001b[38;5;124m'\u001b[39m\u001b[38;5;124mMasters\u001b[39m\u001b[38;5;124m'\u001b[39m, \u001b[38;5;124m'\u001b[39m\u001b[38;5;124mGraduate\u001b[39m\u001b[38;5;124m'\u001b[39m],\n\u001b[0;32m      5\u001b[0m     \u001b[38;5;124m'\u001b[39m\u001b[38;5;124mC\u001b[39m\u001b[38;5;124m'\u001b[39m : [\u001b[38;5;241m27\u001b[39m,\u001b[38;5;241m23\u001b[39m,\u001b[38;5;241m21\u001b[39m]\n\u001b[0;32m      6\u001b[0m })\n\u001b[1;32m----> 8\u001b[0m \u001b[43mdf1\u001b[49m\u001b[38;5;241;43m.\u001b[39;49m\u001b[43mpivot\u001b[49m\u001b[43m(\u001b[49m\u001b[43mindex\u001b[49m\u001b[38;5;241;43m=\u001b[39;49m\u001b[38;5;124;43m'\u001b[39;49m\u001b[38;5;124;43mA\u001b[39;49m\u001b[38;5;124;43m'\u001b[39;49m\u001b[43m,\u001b[49m\u001b[43m \u001b[49m\u001b[43mcolumns\u001b[49m\u001b[38;5;241;43m=\u001b[39;49m\u001b[38;5;124;43m'\u001b[39;49m\u001b[38;5;124;43mB\u001b[39;49m\u001b[38;5;124;43m'\u001b[39;49m\u001b[43m,\u001b[49m\u001b[43m \u001b[49m\u001b[43mvalues\u001b[49m\u001b[38;5;241;43m=\u001b[39;49m\u001b[43m[\u001b[49m\u001b[38;5;124;43m'\u001b[39;49m\u001b[38;5;124;43mC\u001b[39;49m\u001b[38;5;124;43m'\u001b[39;49m\u001b[43m]\u001b[49m\u001b[43m)\u001b[49m\n",
      "File \u001b[1;32m~\\anaconda3\\lib\\site-packages\\pandas\\core\\frame.py:7876\u001b[0m, in \u001b[0;36mDataFrame.pivot\u001b[1;34m(self, index, columns, values)\u001b[0m\n\u001b[0;32m   7871\u001b[0m \u001b[38;5;129m@Substitution\u001b[39m(\u001b[38;5;124m\"\u001b[39m\u001b[38;5;124m\"\u001b[39m)\n\u001b[0;32m   7872\u001b[0m \u001b[38;5;129m@Appender\u001b[39m(_shared_docs[\u001b[38;5;124m\"\u001b[39m\u001b[38;5;124mpivot\u001b[39m\u001b[38;5;124m\"\u001b[39m])\n\u001b[0;32m   7873\u001b[0m \u001b[38;5;28;01mdef\u001b[39;00m \u001b[38;5;21mpivot\u001b[39m(\u001b[38;5;28mself\u001b[39m, index\u001b[38;5;241m=\u001b[39m\u001b[38;5;28;01mNone\u001b[39;00m, columns\u001b[38;5;241m=\u001b[39m\u001b[38;5;28;01mNone\u001b[39;00m, values\u001b[38;5;241m=\u001b[39m\u001b[38;5;28;01mNone\u001b[39;00m) \u001b[38;5;241m-\u001b[39m\u001b[38;5;241m>\u001b[39m DataFrame:\n\u001b[0;32m   7874\u001b[0m     \u001b[38;5;28;01mfrom\u001b[39;00m \u001b[38;5;21;01mpandas\u001b[39;00m\u001b[38;5;21;01m.\u001b[39;00m\u001b[38;5;21;01mcore\u001b[39;00m\u001b[38;5;21;01m.\u001b[39;00m\u001b[38;5;21;01mreshape\u001b[39;00m\u001b[38;5;21;01m.\u001b[39;00m\u001b[38;5;21;01mpivot\u001b[39;00m \u001b[38;5;28;01mimport\u001b[39;00m pivot\n\u001b[1;32m-> 7876\u001b[0m     \u001b[38;5;28;01mreturn\u001b[39;00m \u001b[43mpivot\u001b[49m\u001b[43m(\u001b[49m\u001b[38;5;28;43mself\u001b[39;49m\u001b[43m,\u001b[49m\u001b[43m \u001b[49m\u001b[43mindex\u001b[49m\u001b[38;5;241;43m=\u001b[39;49m\u001b[43mindex\u001b[49m\u001b[43m,\u001b[49m\u001b[43m \u001b[49m\u001b[43mcolumns\u001b[49m\u001b[38;5;241;43m=\u001b[39;49m\u001b[43mcolumns\u001b[49m\u001b[43m,\u001b[49m\u001b[43m \u001b[49m\u001b[43mvalues\u001b[49m\u001b[38;5;241;43m=\u001b[39;49m\u001b[43mvalues\u001b[49m\u001b[43m)\u001b[49m\n",
      "File \u001b[1;32m~\\anaconda3\\lib\\site-packages\\pandas\\core\\reshape\\pivot.py:520\u001b[0m, in \u001b[0;36mpivot\u001b[1;34m(data, index, columns, values)\u001b[0m\n\u001b[0;32m    518\u001b[0m     \u001b[38;5;28;01melse\u001b[39;00m:\n\u001b[0;32m    519\u001b[0m         indexed \u001b[38;5;241m=\u001b[39m data\u001b[38;5;241m.\u001b[39m_constructor_sliced(data[values]\u001b[38;5;241m.\u001b[39m_values, index\u001b[38;5;241m=\u001b[39mmultiindex)\n\u001b[1;32m--> 520\u001b[0m \u001b[38;5;28;01mreturn\u001b[39;00m \u001b[43mindexed\u001b[49m\u001b[38;5;241;43m.\u001b[39;49m\u001b[43munstack\u001b[49m\u001b[43m(\u001b[49m\u001b[43mcolumns_listlike\u001b[49m\u001b[43m)\u001b[49m\n",
      "File \u001b[1;32m~\\anaconda3\\lib\\site-packages\\pandas\\core\\frame.py:8419\u001b[0m, in \u001b[0;36mDataFrame.unstack\u001b[1;34m(self, level, fill_value)\u001b[0m\n\u001b[0;32m   8357\u001b[0m \u001b[38;5;124;03m\"\"\"\u001b[39;00m\n\u001b[0;32m   8358\u001b[0m \u001b[38;5;124;03mPivot a level of the (necessarily hierarchical) index labels.\u001b[39;00m\n\u001b[0;32m   8359\u001b[0m \n\u001b[1;32m   (...)\u001b[0m\n\u001b[0;32m   8415\u001b[0m \u001b[38;5;124;03mdtype: float64\u001b[39;00m\n\u001b[0;32m   8416\u001b[0m \u001b[38;5;124;03m\"\"\"\u001b[39;00m\n\u001b[0;32m   8417\u001b[0m \u001b[38;5;28;01mfrom\u001b[39;00m \u001b[38;5;21;01mpandas\u001b[39;00m\u001b[38;5;21;01m.\u001b[39;00m\u001b[38;5;21;01mcore\u001b[39;00m\u001b[38;5;21;01m.\u001b[39;00m\u001b[38;5;21;01mreshape\u001b[39;00m\u001b[38;5;21;01m.\u001b[39;00m\u001b[38;5;21;01mreshape\u001b[39;00m \u001b[38;5;28;01mimport\u001b[39;00m unstack\n\u001b[1;32m-> 8419\u001b[0m result \u001b[38;5;241m=\u001b[39m \u001b[43munstack\u001b[49m\u001b[43m(\u001b[49m\u001b[38;5;28;43mself\u001b[39;49m\u001b[43m,\u001b[49m\u001b[43m \u001b[49m\u001b[43mlevel\u001b[49m\u001b[43m,\u001b[49m\u001b[43m \u001b[49m\u001b[43mfill_value\u001b[49m\u001b[43m)\u001b[49m\n\u001b[0;32m   8421\u001b[0m \u001b[38;5;28;01mreturn\u001b[39;00m result\u001b[38;5;241m.\u001b[39m__finalize__(\u001b[38;5;28mself\u001b[39m, method\u001b[38;5;241m=\u001b[39m\u001b[38;5;124m\"\u001b[39m\u001b[38;5;124munstack\u001b[39m\u001b[38;5;124m\"\u001b[39m)\n",
      "File \u001b[1;32m~\\anaconda3\\lib\\site-packages\\pandas\\core\\reshape\\reshape.py:478\u001b[0m, in \u001b[0;36munstack\u001b[1;34m(obj, level, fill_value)\u001b[0m\n\u001b[0;32m    476\u001b[0m \u001b[38;5;28;01mif\u001b[39;00m \u001b[38;5;28misinstance\u001b[39m(obj, DataFrame):\n\u001b[0;32m    477\u001b[0m     \u001b[38;5;28;01mif\u001b[39;00m \u001b[38;5;28misinstance\u001b[39m(obj\u001b[38;5;241m.\u001b[39mindex, MultiIndex):\n\u001b[1;32m--> 478\u001b[0m         \u001b[38;5;28;01mreturn\u001b[39;00m \u001b[43m_unstack_frame\u001b[49m\u001b[43m(\u001b[49m\u001b[43mobj\u001b[49m\u001b[43m,\u001b[49m\u001b[43m \u001b[49m\u001b[43mlevel\u001b[49m\u001b[43m,\u001b[49m\u001b[43m \u001b[49m\u001b[43mfill_value\u001b[49m\u001b[38;5;241;43m=\u001b[39;49m\u001b[43mfill_value\u001b[49m\u001b[43m)\u001b[49m\n\u001b[0;32m    479\u001b[0m     \u001b[38;5;28;01melse\u001b[39;00m:\n\u001b[0;32m    480\u001b[0m         \u001b[38;5;28;01mreturn\u001b[39;00m obj\u001b[38;5;241m.\u001b[39mT\u001b[38;5;241m.\u001b[39mstack(dropna\u001b[38;5;241m=\u001b[39m\u001b[38;5;28;01mFalse\u001b[39;00m)\n",
      "File \u001b[1;32m~\\anaconda3\\lib\\site-packages\\pandas\\core\\reshape\\reshape.py:505\u001b[0m, in \u001b[0;36m_unstack_frame\u001b[1;34m(obj, level, fill_value)\u001b[0m\n\u001b[0;32m    503\u001b[0m     \u001b[38;5;28;01mreturn\u001b[39;00m obj\u001b[38;5;241m.\u001b[39m_constructor(mgr)\n\u001b[0;32m    504\u001b[0m \u001b[38;5;28;01melse\u001b[39;00m:\n\u001b[1;32m--> 505\u001b[0m     unstacker \u001b[38;5;241m=\u001b[39m \u001b[43m_Unstacker\u001b[49m\u001b[43m(\u001b[49m\u001b[43mobj\u001b[49m\u001b[38;5;241;43m.\u001b[39;49m\u001b[43mindex\u001b[49m\u001b[43m,\u001b[49m\u001b[43m \u001b[49m\u001b[43mlevel\u001b[49m\u001b[38;5;241;43m=\u001b[39;49m\u001b[43mlevel\u001b[49m\u001b[43m,\u001b[49m\u001b[43m \u001b[49m\u001b[43mconstructor\u001b[49m\u001b[38;5;241;43m=\u001b[39;49m\u001b[43mobj\u001b[49m\u001b[38;5;241;43m.\u001b[39;49m\u001b[43m_constructor\u001b[49m\u001b[43m)\u001b[49m\n\u001b[0;32m    506\u001b[0m     \u001b[38;5;28;01mreturn\u001b[39;00m unstacker\u001b[38;5;241m.\u001b[39mget_result(\n\u001b[0;32m    507\u001b[0m         obj\u001b[38;5;241m.\u001b[39m_values, value_columns\u001b[38;5;241m=\u001b[39mobj\u001b[38;5;241m.\u001b[39mcolumns, fill_value\u001b[38;5;241m=\u001b[39mfill_value\n\u001b[0;32m    508\u001b[0m     )\n",
      "File \u001b[1;32m~\\anaconda3\\lib\\site-packages\\pandas\\core\\reshape\\reshape.py:140\u001b[0m, in \u001b[0;36m_Unstacker.__init__\u001b[1;34m(self, index, level, constructor)\u001b[0m\n\u001b[0;32m    133\u001b[0m \u001b[38;5;28;01mif\u001b[39;00m num_cells \u001b[38;5;241m>\u001b[39m np\u001b[38;5;241m.\u001b[39miinfo(np\u001b[38;5;241m.\u001b[39mint32)\u001b[38;5;241m.\u001b[39mmax:\n\u001b[0;32m    134\u001b[0m     warnings\u001b[38;5;241m.\u001b[39mwarn(\n\u001b[0;32m    135\u001b[0m         \u001b[38;5;124mf\u001b[39m\u001b[38;5;124m\"\u001b[39m\u001b[38;5;124mThe following operation may generate \u001b[39m\u001b[38;5;132;01m{\u001b[39;00mnum_cells\u001b[38;5;132;01m}\u001b[39;00m\u001b[38;5;124m cells \u001b[39m\u001b[38;5;124m\"\u001b[39m\n\u001b[0;32m    136\u001b[0m         \u001b[38;5;124mf\u001b[39m\u001b[38;5;124m\"\u001b[39m\u001b[38;5;124min the resulting pandas object.\u001b[39m\u001b[38;5;124m\"\u001b[39m,\n\u001b[0;32m    137\u001b[0m         PerformanceWarning,\n\u001b[0;32m    138\u001b[0m     )\n\u001b[1;32m--> 140\u001b[0m \u001b[38;5;28;43mself\u001b[39;49m\u001b[38;5;241;43m.\u001b[39;49m\u001b[43m_make_selectors\u001b[49m\u001b[43m(\u001b[49m\u001b[43m)\u001b[49m\n",
      "File \u001b[1;32m~\\anaconda3\\lib\\site-packages\\pandas\\core\\reshape\\reshape.py:192\u001b[0m, in \u001b[0;36m_Unstacker._make_selectors\u001b[1;34m(self)\u001b[0m\n\u001b[0;32m    189\u001b[0m mask\u001b[38;5;241m.\u001b[39mput(selector, \u001b[38;5;28;01mTrue\u001b[39;00m)\n\u001b[0;32m    191\u001b[0m \u001b[38;5;28;01mif\u001b[39;00m mask\u001b[38;5;241m.\u001b[39msum() \u001b[38;5;241m<\u001b[39m \u001b[38;5;28mlen\u001b[39m(\u001b[38;5;28mself\u001b[39m\u001b[38;5;241m.\u001b[39mindex):\n\u001b[1;32m--> 192\u001b[0m     \u001b[38;5;28;01mraise\u001b[39;00m \u001b[38;5;167;01mValueError\u001b[39;00m(\u001b[38;5;124m\"\u001b[39m\u001b[38;5;124mIndex contains duplicate entries, cannot reshape\u001b[39m\u001b[38;5;124m\"\u001b[39m)\n\u001b[0;32m    194\u001b[0m \u001b[38;5;28mself\u001b[39m\u001b[38;5;241m.\u001b[39mgroup_index \u001b[38;5;241m=\u001b[39m comp_index\n\u001b[0;32m    195\u001b[0m \u001b[38;5;28mself\u001b[39m\u001b[38;5;241m.\u001b[39mmask \u001b[38;5;241m=\u001b[39m mask\n",
      "\u001b[1;31mValueError\u001b[0m: Index contains duplicate entries, cannot reshape"
     ]
    }
   ],
   "source": [
    "# Da error porque el index 'John' está duplicado\n",
    "df1 = pd.DataFrame({\n",
    "    'A' : ['John', 'John', 'Mina'],\n",
    "    'B' : ['Masters', 'Masters', 'Graduate'],\n",
    "    'C' : [27,23,21]\n",
    "})\n",
    "\n",
    "df1.pivot(index='A', columns='B', values=['C'])"
   ]
  },
  {
   "cell_type": "markdown",
   "metadata": {
    "id": "88rDGCA3eM7Q"
   },
   "source": [
    "## Apply\n",
    "Permite a los usuarios pasar una función y aplicarla en cada valor de la serie Pandas."
   ]
  },
  {
   "cell_type": "code",
   "execution_count": null,
   "metadata": {
    "colab": {
     "base_uri": "https://localhost:8080/",
     "height": 175
    },
    "executionInfo": {
     "elapsed": 18,
     "status": "ok",
     "timestamp": 1646606544915,
     "user": {
      "displayName": "David Francisco Bustos Usta",
      "photoUrl": "https://lh3.googleusercontent.com/a-/AOh14GjvGjd5VpSUEHTxlxXRYAinh8eCspL5nxvcW9wD=s64",
      "userId": "09471607480253994520"
     },
     "user_tz": 300
    },
    "id": "ai2Abq2meN9Z",
    "outputId": "0f2f2b85-bbfe-4bca-c7fb-90240fa131b9"
   },
   "outputs": [],
   "source": [
    "df = pd.DataFrame({\n",
    "    'A' : [1,2,3,4],\n",
    "    'B' : [5,6,7,8],\n",
    "    'C' : [9,10,11,12],\n",
    "    'D' : [13,14,15,16]\n",
    "})\n",
    "\n",
    "df"
   ]
  },
  {
   "cell_type": "code",
   "execution_count": null,
   "metadata": {
    "colab": {
     "base_uri": "https://localhost:8080/",
     "height": 175
    },
    "executionInfo": {
     "elapsed": 303,
     "status": "ok",
     "timestamp": 1646606550564,
     "user": {
      "displayName": "David Francisco Bustos Usta",
      "photoUrl": "https://lh3.googleusercontent.com/a-/AOh14GjvGjd5VpSUEHTxlxXRYAinh8eCspL5nxvcW9wD=s64",
      "userId": "09471607480253994520"
     },
     "user_tz": 300
    },
    "id": "PCV5rUo4eali",
    "outputId": "157bef63-5fb9-443c-ff4d-816d81855204"
   },
   "outputs": [],
   "source": [
    "df.apply(np.sqrt)"
   ]
  },
  {
   "cell_type": "code",
   "execution_count": null,
   "metadata": {
    "colab": {
     "base_uri": "https://localhost:8080/"
    },
    "executionInfo": {
     "elapsed": 216,
     "status": "ok",
     "timestamp": 1646606551848,
     "user": {
      "displayName": "David Francisco Bustos Usta",
      "photoUrl": "https://lh3.googleusercontent.com/a-/AOh14GjvGjd5VpSUEHTxlxXRYAinh8eCspL5nxvcW9wD=s64",
      "userId": "09471607480253994520"
     },
     "user_tz": 300
    },
    "id": "ZUHoRd8Ke3P8",
    "outputId": "bee10b68-462a-41af-e814-285cd8365c48"
   },
   "outputs": [],
   "source": [
    "# Creo mi funcion\n",
    "def elevar_cubo(y):\n",
    "  return y**3\n",
    "\n",
    "df['A'].apply(elevar_cubo)"
   ]
  },
  {
   "cell_type": "markdown",
   "metadata": {},
   "source": [
    "## Astype\n",
    "Permite cambiar el tipo de datos de las columnas de las columnas de un DataFrame."
   ]
  },
  {
   "cell_type": "code",
   "execution_count": 33,
   "metadata": {},
   "outputs": [
    {
     "data": {
      "text/html": [
       "<div>\n",
       "<style scoped>\n",
       "    .dataframe tbody tr th:only-of-type {\n",
       "        vertical-align: middle;\n",
       "    }\n",
       "\n",
       "    .dataframe tbody tr th {\n",
       "        vertical-align: top;\n",
       "    }\n",
       "\n",
       "    .dataframe thead th {\n",
       "        text-align: right;\n",
       "    }\n",
       "</style>\n",
       "<table border=\"1\" class=\"dataframe\">\n",
       "  <thead>\n",
       "    <tr style=\"text-align: right;\">\n",
       "      <th></th>\n",
       "      <th>key1</th>\n",
       "      <th>key2</th>\n",
       "      <th>data1</th>\n",
       "      <th>data2</th>\n",
       "    </tr>\n",
       "  </thead>\n",
       "  <tbody>\n",
       "    <tr>\n",
       "      <th>0</th>\n",
       "      <td>a</td>\n",
       "      <td>one</td>\n",
       "      <td>1.190757</td>\n",
       "      <td>-0.571146</td>\n",
       "    </tr>\n",
       "    <tr>\n",
       "      <th>1</th>\n",
       "      <td>a</td>\n",
       "      <td>two</td>\n",
       "      <td>-1.286262</td>\n",
       "      <td>-1.035249</td>\n",
       "    </tr>\n",
       "    <tr>\n",
       "      <th>2</th>\n",
       "      <td>b</td>\n",
       "      <td>one</td>\n",
       "      <td>0.219275</td>\n",
       "      <td>0.339667</td>\n",
       "    </tr>\n",
       "    <tr>\n",
       "      <th>3</th>\n",
       "      <td>b</td>\n",
       "      <td>two</td>\n",
       "      <td>-0.703302</td>\n",
       "      <td>0.875163</td>\n",
       "    </tr>\n",
       "    <tr>\n",
       "      <th>4</th>\n",
       "      <td>a</td>\n",
       "      <td>one</td>\n",
       "      <td>0.787726</td>\n",
       "      <td>1.673872</td>\n",
       "    </tr>\n",
       "  </tbody>\n",
       "</table>\n",
       "</div>"
      ],
      "text/plain": [
       "  key1 key2     data1     data2\n",
       "0    a  one  1.190757 -0.571146\n",
       "1    a  two -1.286262 -1.035249\n",
       "2    b  one  0.219275  0.339667\n",
       "3    b  two -0.703302  0.875163\n",
       "4    a  one  0.787726  1.673872"
      ]
     },
     "execution_count": 33,
     "metadata": {},
     "output_type": "execute_result"
    }
   ],
   "source": [
    "df = pd.DataFrame({\n",
    "    'key1' : ['a', 'a', 'b', 'b', 'a'],\n",
    "    'key2' : ['one', 'two', 'one', 'two', 'one'],\n",
    "    'data1' : np.random.randn(5),\n",
    "    'data2' : np.random.randn(5)\n",
    "})\n",
    "\n",
    "df"
   ]
  },
  {
   "cell_type": "code",
   "execution_count": 34,
   "metadata": {},
   "outputs": [
    {
     "name": "stdout",
     "output_type": "stream",
     "text": [
      "<class 'pandas.core.frame.DataFrame'>\n",
      "RangeIndex: 5 entries, 0 to 4\n",
      "Data columns (total 4 columns):\n",
      " #   Column  Non-Null Count  Dtype  \n",
      "---  ------  --------------  -----  \n",
      " 0   key1    5 non-null      object \n",
      " 1   key2    5 non-null      object \n",
      " 2   data1   5 non-null      float64\n",
      " 3   data2   5 non-null      float64\n",
      "dtypes: float64(2), object(2)\n",
      "memory usage: 288.0+ bytes\n"
     ]
    }
   ],
   "source": [
    "df.info()"
   ]
  },
  {
   "cell_type": "code",
   "execution_count": 36,
   "metadata": {},
   "outputs": [],
   "source": [
    "df['data1'] = df['data1'].astype(str)"
   ]
  },
  {
   "cell_type": "code",
   "execution_count": 37,
   "metadata": {},
   "outputs": [
    {
     "name": "stdout",
     "output_type": "stream",
     "text": [
      "<class 'pandas.core.frame.DataFrame'>\n",
      "RangeIndex: 5 entries, 0 to 4\n",
      "Data columns (total 4 columns):\n",
      " #   Column  Non-Null Count  Dtype  \n",
      "---  ------  --------------  -----  \n",
      " 0   key1    5 non-null      object \n",
      " 1   key2    5 non-null      object \n",
      " 2   data1   5 non-null      object \n",
      " 3   data2   5 non-null      float64\n",
      "dtypes: float64(1), object(3)\n",
      "memory usage: 288.0+ bytes\n"
     ]
    }
   ],
   "source": [
    "df.info()"
   ]
  },
  {
   "cell_type": "markdown",
   "metadata": {
    "id": "VIedNb5lficP"
   },
   "source": [
    "## Value_counts\n",
    "Cuenta cuántos valores únicos hay en cada columna. Es muy útil para datos categóricos."
   ]
  },
  {
   "cell_type": "code",
   "execution_count": 38,
   "metadata": {
    "colab": {
     "base_uri": "https://localhost:8080/",
     "height": 206
    },
    "executionInfo": {
     "elapsed": 257,
     "status": "ok",
     "timestamp": 1646606823093,
     "user": {
      "displayName": "David Francisco Bustos Usta",
      "photoUrl": "https://lh3.googleusercontent.com/a-/AOh14GjvGjd5VpSUEHTxlxXRYAinh8eCspL5nxvcW9wD=s64",
      "userId": "09471607480253994520"
     },
     "user_tz": 300
    },
    "id": "cOqX_Tkbfjk_",
    "outputId": "b133f0de-dd81-4bbe-f8ca-755dffd25461"
   },
   "outputs": [
    {
     "data": {
      "text/html": [
       "<div>\n",
       "<style scoped>\n",
       "    .dataframe tbody tr th:only-of-type {\n",
       "        vertical-align: middle;\n",
       "    }\n",
       "\n",
       "    .dataframe tbody tr th {\n",
       "        vertical-align: top;\n",
       "    }\n",
       "\n",
       "    .dataframe thead th {\n",
       "        text-align: right;\n",
       "    }\n",
       "</style>\n",
       "<table border=\"1\" class=\"dataframe\">\n",
       "  <thead>\n",
       "    <tr style=\"text-align: right;\">\n",
       "      <th></th>\n",
       "      <th>key1</th>\n",
       "      <th>key2</th>\n",
       "      <th>data1</th>\n",
       "      <th>data2</th>\n",
       "    </tr>\n",
       "  </thead>\n",
       "  <tbody>\n",
       "    <tr>\n",
       "      <th>0</th>\n",
       "      <td>a</td>\n",
       "      <td>one</td>\n",
       "      <td>-1.012390</td>\n",
       "      <td>-0.571796</td>\n",
       "    </tr>\n",
       "    <tr>\n",
       "      <th>1</th>\n",
       "      <td>a</td>\n",
       "      <td>two</td>\n",
       "      <td>0.624810</td>\n",
       "      <td>0.424574</td>\n",
       "    </tr>\n",
       "    <tr>\n",
       "      <th>2</th>\n",
       "      <td>b</td>\n",
       "      <td>one</td>\n",
       "      <td>-0.098593</td>\n",
       "      <td>0.550347</td>\n",
       "    </tr>\n",
       "    <tr>\n",
       "      <th>3</th>\n",
       "      <td>b</td>\n",
       "      <td>two</td>\n",
       "      <td>0.531217</td>\n",
       "      <td>1.393839</td>\n",
       "    </tr>\n",
       "    <tr>\n",
       "      <th>4</th>\n",
       "      <td>a</td>\n",
       "      <td>one</td>\n",
       "      <td>0.249200</td>\n",
       "      <td>0.158800</td>\n",
       "    </tr>\n",
       "  </tbody>\n",
       "</table>\n",
       "</div>"
      ],
      "text/plain": [
       "  key1 key2     data1     data2\n",
       "0    a  one -1.012390 -0.571796\n",
       "1    a  two  0.624810  0.424574\n",
       "2    b  one -0.098593  0.550347\n",
       "3    b  two  0.531217  1.393839\n",
       "4    a  one  0.249200  0.158800"
      ]
     },
     "execution_count": 38,
     "metadata": {},
     "output_type": "execute_result"
    }
   ],
   "source": [
    "df = pd.DataFrame({\n",
    "    'key1' : ['a', 'a', 'b', 'b', 'a'],\n",
    "    'key2' : ['one', 'two', 'one', 'two', 'one'],\n",
    "    'data1' : np.random.randn(5),\n",
    "    'data2' : np.random.randn(5)\n",
    "})\n",
    "\n",
    "df"
   ]
  },
  {
   "cell_type": "code",
   "execution_count": 39,
   "metadata": {
    "colab": {
     "base_uri": "https://localhost:8080/"
    },
    "executionInfo": {
     "elapsed": 261,
     "status": "ok",
     "timestamp": 1646606825526,
     "user": {
      "displayName": "David Francisco Bustos Usta",
      "photoUrl": "https://lh3.googleusercontent.com/a-/AOh14GjvGjd5VpSUEHTxlxXRYAinh8eCspL5nxvcW9wD=s64",
      "userId": "09471607480253994520"
     },
     "user_tz": 300
    },
    "id": "H4xWVmxlXBLo",
    "outputId": "9a2fb22d-1fac-47ad-ea11-f264bdb6d368"
   },
   "outputs": [
    {
     "data": {
      "text/plain": [
       "a    3\n",
       "b    2\n",
       "Name: key1, dtype: int64"
      ]
     },
     "execution_count": 39,
     "metadata": {},
     "output_type": "execute_result"
    }
   ],
   "source": [
    "df.key1.value_counts()"
   ]
  },
  {
   "cell_type": "code",
   "execution_count": 40,
   "metadata": {},
   "outputs": [
    {
     "data": {
      "text/plain": [
       "one    3\n",
       "two    2\n",
       "Name: key2, dtype: int64"
      ]
     },
     "execution_count": 40,
     "metadata": {},
     "output_type": "execute_result"
    }
   ],
   "source": [
    "df.key2.value_counts()"
   ]
  },
  {
   "cell_type": "code",
   "execution_count": 41,
   "metadata": {},
   "outputs": [
    {
     "data": {
      "text/plain": [
       "-0.571796    1\n",
       " 0.424574    1\n",
       " 0.550347    1\n",
       " 1.393839    1\n",
       " 0.158800    1\n",
       "Name: data2, dtype: int64"
      ]
     },
     "execution_count": 41,
     "metadata": {},
     "output_type": "execute_result"
    }
   ],
   "source": [
    "df.data2.value_counts()"
   ]
  },
  {
   "cell_type": "markdown",
   "metadata": {
    "id": "I93_aElMf3Ek"
   },
   "source": [
    "## Sorting index and values\n",
    "Permite ordenar por índice o por columna seleccionada."
   ]
  },
  {
   "cell_type": "code",
   "execution_count": 42,
   "metadata": {
    "colab": {
     "base_uri": "https://localhost:8080/",
     "height": 206
    },
    "executionInfo": {
     "elapsed": 266,
     "status": "ok",
     "timestamp": 1646606840414,
     "user": {
      "displayName": "David Francisco Bustos Usta",
      "photoUrl": "https://lh3.googleusercontent.com/a-/AOh14GjvGjd5VpSUEHTxlxXRYAinh8eCspL5nxvcW9wD=s64",
      "userId": "09471607480253994520"
     },
     "user_tz": 300
    },
    "id": "YKfMEYPkf5U9",
    "outputId": "778a8188-0943-4876-9e4b-fb79e5e78e2f"
   },
   "outputs": [
    {
     "data": {
      "text/html": [
       "<div>\n",
       "<style scoped>\n",
       "    .dataframe tbody tr th:only-of-type {\n",
       "        vertical-align: middle;\n",
       "    }\n",
       "\n",
       "    .dataframe tbody tr th {\n",
       "        vertical-align: top;\n",
       "    }\n",
       "\n",
       "    .dataframe thead th {\n",
       "        text-align: right;\n",
       "    }\n",
       "</style>\n",
       "<table border=\"1\" class=\"dataframe\">\n",
       "  <thead>\n",
       "    <tr style=\"text-align: right;\">\n",
       "      <th></th>\n",
       "      <th>A</th>\n",
       "    </tr>\n",
       "  </thead>\n",
       "  <tbody>\n",
       "    <tr>\n",
       "      <th>100</th>\n",
       "      <td>1</td>\n",
       "    </tr>\n",
       "    <tr>\n",
       "      <th>29</th>\n",
       "      <td>2</td>\n",
       "    </tr>\n",
       "    <tr>\n",
       "      <th>234</th>\n",
       "      <td>8</td>\n",
       "    </tr>\n",
       "    <tr>\n",
       "      <th>1</th>\n",
       "      <td>3</td>\n",
       "    </tr>\n",
       "    <tr>\n",
       "      <th>150</th>\n",
       "      <td>5</td>\n",
       "    </tr>\n",
       "  </tbody>\n",
       "</table>\n",
       "</div>"
      ],
      "text/plain": [
       "     A\n",
       "100  1\n",
       "29   2\n",
       "234  8\n",
       "1    3\n",
       "150  5"
      ]
     },
     "execution_count": 42,
     "metadata": {},
     "output_type": "execute_result"
    }
   ],
   "source": [
    "df = pd.DataFrame({'A' : [1,2,8,3,5]})\n",
    "df.index=[100,29,234,1,150]\n",
    "\n",
    "df"
   ]
  },
  {
   "cell_type": "code",
   "execution_count": 43,
   "metadata": {
    "colab": {
     "base_uri": "https://localhost:8080/",
     "height": 206
    },
    "executionInfo": {
     "elapsed": 253,
     "status": "ok",
     "timestamp": 1646606841798,
     "user": {
      "displayName": "David Francisco Bustos Usta",
      "photoUrl": "https://lh3.googleusercontent.com/a-/AOh14GjvGjd5VpSUEHTxlxXRYAinh8eCspL5nxvcW9wD=s64",
      "userId": "09471607480253994520"
     },
     "user_tz": 300
    },
    "id": "x9aZ5vVNgI7V",
    "outputId": "8d70a080-44e3-4a9d-c6c4-430b0da68c0e"
   },
   "outputs": [
    {
     "data": {
      "text/html": [
       "<div>\n",
       "<style scoped>\n",
       "    .dataframe tbody tr th:only-of-type {\n",
       "        vertical-align: middle;\n",
       "    }\n",
       "\n",
       "    .dataframe tbody tr th {\n",
       "        vertical-align: top;\n",
       "    }\n",
       "\n",
       "    .dataframe thead th {\n",
       "        text-align: right;\n",
       "    }\n",
       "</style>\n",
       "<table border=\"1\" class=\"dataframe\">\n",
       "  <thead>\n",
       "    <tr style=\"text-align: right;\">\n",
       "      <th></th>\n",
       "      <th>A</th>\n",
       "    </tr>\n",
       "  </thead>\n",
       "  <tbody>\n",
       "    <tr>\n",
       "      <th>234</th>\n",
       "      <td>8</td>\n",
       "    </tr>\n",
       "    <tr>\n",
       "      <th>150</th>\n",
       "      <td>5</td>\n",
       "    </tr>\n",
       "    <tr>\n",
       "      <th>100</th>\n",
       "      <td>1</td>\n",
       "    </tr>\n",
       "    <tr>\n",
       "      <th>29</th>\n",
       "      <td>2</td>\n",
       "    </tr>\n",
       "    <tr>\n",
       "      <th>1</th>\n",
       "      <td>3</td>\n",
       "    </tr>\n",
       "  </tbody>\n",
       "</table>\n",
       "</div>"
      ],
      "text/plain": [
       "     A\n",
       "234  8\n",
       "150  5\n",
       "100  1\n",
       "29   2\n",
       "1    3"
      ]
     },
     "execution_count": 43,
     "metadata": {},
     "output_type": "execute_result"
    }
   ],
   "source": [
    "df.sort_index(ascending=False)"
   ]
  },
  {
   "cell_type": "code",
   "execution_count": 44,
   "metadata": {
    "colab": {
     "base_uri": "https://localhost:8080/",
     "height": 206
    },
    "executionInfo": {
     "elapsed": 364,
     "status": "ok",
     "timestamp": 1646606843924,
     "user": {
      "displayName": "David Francisco Bustos Usta",
      "photoUrl": "https://lh3.googleusercontent.com/a-/AOh14GjvGjd5VpSUEHTxlxXRYAinh8eCspL5nxvcW9wD=s64",
      "userId": "09471607480253994520"
     },
     "user_tz": 300
    },
    "id": "nvdDJWmRgLo-",
    "outputId": "1b6df004-41ba-4168-96a0-77225f87ddc9"
   },
   "outputs": [
    {
     "data": {
      "text/html": [
       "<div>\n",
       "<style scoped>\n",
       "    .dataframe tbody tr th:only-of-type {\n",
       "        vertical-align: middle;\n",
       "    }\n",
       "\n",
       "    .dataframe tbody tr th {\n",
       "        vertical-align: top;\n",
       "    }\n",
       "\n",
       "    .dataframe thead th {\n",
       "        text-align: right;\n",
       "    }\n",
       "</style>\n",
       "<table border=\"1\" class=\"dataframe\">\n",
       "  <thead>\n",
       "    <tr style=\"text-align: right;\">\n",
       "      <th></th>\n",
       "      <th>A</th>\n",
       "    </tr>\n",
       "  </thead>\n",
       "  <tbody>\n",
       "    <tr>\n",
       "      <th>234</th>\n",
       "      <td>8</td>\n",
       "    </tr>\n",
       "    <tr>\n",
       "      <th>150</th>\n",
       "      <td>5</td>\n",
       "    </tr>\n",
       "    <tr>\n",
       "      <th>1</th>\n",
       "      <td>3</td>\n",
       "    </tr>\n",
       "    <tr>\n",
       "      <th>29</th>\n",
       "      <td>2</td>\n",
       "    </tr>\n",
       "    <tr>\n",
       "      <th>100</th>\n",
       "      <td>1</td>\n",
       "    </tr>\n",
       "  </tbody>\n",
       "</table>\n",
       "</div>"
      ],
      "text/plain": [
       "     A\n",
       "234  8\n",
       "150  5\n",
       "1    3\n",
       "29   2\n",
       "100  1"
      ]
     },
     "execution_count": 44,
     "metadata": {},
     "output_type": "execute_result"
    }
   ],
   "source": [
    "df.sort_values('A', ascending=False)"
   ]
  },
  {
   "cell_type": "markdown",
   "metadata": {
    "id": "gMSxWqsrgn45"
   },
   "source": [
    "## Melt\n",
    "Es una función que permite cambiar el formato del dataframe a long. \\\n",
    "Se usa para crear un formato específico donde se usan columnas identificadoras. Todas las demás columnas se usan como valores. \\\n",
    "Pueden usar la función pivot para unmelt the output.\n",
    "\n",
    "### Parte 1"
   ]
  },
  {
   "cell_type": "code",
   "execution_count": 45,
   "metadata": {
    "colab": {
     "base_uri": "https://localhost:8080/",
     "height": 144
    },
    "executionInfo": {
     "elapsed": 9,
     "status": "ok",
     "timestamp": 1646606846188,
     "user": {
      "displayName": "David Francisco Bustos Usta",
      "photoUrl": "https://lh3.googleusercontent.com/a-/AOh14GjvGjd5VpSUEHTxlxXRYAinh8eCspL5nxvcW9wD=s64",
      "userId": "09471607480253994520"
     },
     "user_tz": 300
    },
    "id": "JbfS71nitiik",
    "outputId": "8c29e0bd-4e5c-472d-da53-dda54a644590"
   },
   "outputs": [
    {
     "data": {
      "text/html": [
       "<div>\n",
       "<style scoped>\n",
       "    .dataframe tbody tr th:only-of-type {\n",
       "        vertical-align: middle;\n",
       "    }\n",
       "\n",
       "    .dataframe tbody tr th {\n",
       "        vertical-align: top;\n",
       "    }\n",
       "\n",
       "    .dataframe thead th {\n",
       "        text-align: right;\n",
       "    }\n",
       "</style>\n",
       "<table border=\"1\" class=\"dataframe\">\n",
       "  <thead>\n",
       "    <tr style=\"text-align: right;\">\n",
       "      <th></th>\n",
       "      <th>P</th>\n",
       "      <th>Q</th>\n",
       "      <th>R</th>\n",
       "    </tr>\n",
       "  </thead>\n",
       "  <tbody>\n",
       "    <tr>\n",
       "      <th>0</th>\n",
       "      <td>p</td>\n",
       "      <td>2</td>\n",
       "      <td>3</td>\n",
       "    </tr>\n",
       "    <tr>\n",
       "      <th>1</th>\n",
       "      <td>q</td>\n",
       "      <td>4</td>\n",
       "      <td>5</td>\n",
       "    </tr>\n",
       "    <tr>\n",
       "      <th>2</th>\n",
       "      <td>r</td>\n",
       "      <td>6</td>\n",
       "      <td>7</td>\n",
       "    </tr>\n",
       "  </tbody>\n",
       "</table>\n",
       "</div>"
      ],
      "text/plain": [
       "   P  Q  R\n",
       "0  p  2  3\n",
       "1  q  4  5\n",
       "2  r  6  7"
      ]
     },
     "execution_count": 45,
     "metadata": {},
     "output_type": "execute_result"
    }
   ],
   "source": [
    "df = pd.DataFrame({\n",
    "    'P': {0: 'p', 1: 'q', 2: 'r'},\n",
    "    'Q': {0: 2, 1: 4, 2: 6},\n",
    "    'R': {0: 3, 1: 5, 2: 7}\n",
    "})\n",
    "\n",
    "df"
   ]
  },
  {
   "cell_type": "code",
   "execution_count": 46,
   "metadata": {
    "colab": {
     "base_uri": "https://localhost:8080/",
     "height": 144
    },
    "executionInfo": {
     "elapsed": 309,
     "status": "ok",
     "timestamp": 1646606848443,
     "user": {
      "displayName": "David Francisco Bustos Usta",
      "photoUrl": "https://lh3.googleusercontent.com/a-/AOh14GjvGjd5VpSUEHTxlxXRYAinh8eCspL5nxvcW9wD=s64",
      "userId": "09471607480253994520"
     },
     "user_tz": 300
    },
    "id": "BW56xSLmtorG",
    "outputId": "79d27781-c585-4088-bfb8-45da5e38cefc"
   },
   "outputs": [
    {
     "data": {
      "text/html": [
       "<div>\n",
       "<style scoped>\n",
       "    .dataframe tbody tr th:only-of-type {\n",
       "        vertical-align: middle;\n",
       "    }\n",
       "\n",
       "    .dataframe tbody tr th {\n",
       "        vertical-align: top;\n",
       "    }\n",
       "\n",
       "    .dataframe thead th {\n",
       "        text-align: right;\n",
       "    }\n",
       "</style>\n",
       "<table border=\"1\" class=\"dataframe\">\n",
       "  <thead>\n",
       "    <tr style=\"text-align: right;\">\n",
       "      <th></th>\n",
       "      <th>P</th>\n",
       "      <th>variable</th>\n",
       "      <th>value</th>\n",
       "    </tr>\n",
       "  </thead>\n",
       "  <tbody>\n",
       "    <tr>\n",
       "      <th>0</th>\n",
       "      <td>p</td>\n",
       "      <td>Q</td>\n",
       "      <td>2</td>\n",
       "    </tr>\n",
       "    <tr>\n",
       "      <th>1</th>\n",
       "      <td>q</td>\n",
       "      <td>Q</td>\n",
       "      <td>4</td>\n",
       "    </tr>\n",
       "    <tr>\n",
       "      <th>2</th>\n",
       "      <td>r</td>\n",
       "      <td>Q</td>\n",
       "      <td>6</td>\n",
       "    </tr>\n",
       "  </tbody>\n",
       "</table>\n",
       "</div>"
      ],
      "text/plain": [
       "   P variable  value\n",
       "0  p        Q      2\n",
       "1  q        Q      4\n",
       "2  r        Q      6"
      ]
     },
     "execution_count": 46,
     "metadata": {},
     "output_type": "execute_result"
    }
   ],
   "source": [
    "pd.melt(df, id_vars=['P'], value_vars=['Q'])"
   ]
  },
  {
   "cell_type": "code",
   "execution_count": 47,
   "metadata": {
    "colab": {
     "base_uri": "https://localhost:8080/",
     "height": 238
    },
    "executionInfo": {
     "elapsed": 255,
     "status": "ok",
     "timestamp": 1646606849839,
     "user": {
      "displayName": "David Francisco Bustos Usta",
      "photoUrl": "https://lh3.googleusercontent.com/a-/AOh14GjvGjd5VpSUEHTxlxXRYAinh8eCspL5nxvcW9wD=s64",
      "userId": "09471607480253994520"
     },
     "user_tz": 300
    },
    "id": "jkdbhiKjtqa6",
    "outputId": "f44319c7-5088-4f67-8675-d8aef4838625"
   },
   "outputs": [
    {
     "data": {
      "text/html": [
       "<div>\n",
       "<style scoped>\n",
       "    .dataframe tbody tr th:only-of-type {\n",
       "        vertical-align: middle;\n",
       "    }\n",
       "\n",
       "    .dataframe tbody tr th {\n",
       "        vertical-align: top;\n",
       "    }\n",
       "\n",
       "    .dataframe thead th {\n",
       "        text-align: right;\n",
       "    }\n",
       "</style>\n",
       "<table border=\"1\" class=\"dataframe\">\n",
       "  <thead>\n",
       "    <tr style=\"text-align: right;\">\n",
       "      <th></th>\n",
       "      <th>P</th>\n",
       "      <th>variable</th>\n",
       "      <th>value</th>\n",
       "    </tr>\n",
       "  </thead>\n",
       "  <tbody>\n",
       "    <tr>\n",
       "      <th>0</th>\n",
       "      <td>p</td>\n",
       "      <td>Q</td>\n",
       "      <td>2</td>\n",
       "    </tr>\n",
       "    <tr>\n",
       "      <th>1</th>\n",
       "      <td>q</td>\n",
       "      <td>Q</td>\n",
       "      <td>4</td>\n",
       "    </tr>\n",
       "    <tr>\n",
       "      <th>2</th>\n",
       "      <td>r</td>\n",
       "      <td>Q</td>\n",
       "      <td>6</td>\n",
       "    </tr>\n",
       "    <tr>\n",
       "      <th>3</th>\n",
       "      <td>p</td>\n",
       "      <td>R</td>\n",
       "      <td>3</td>\n",
       "    </tr>\n",
       "    <tr>\n",
       "      <th>4</th>\n",
       "      <td>q</td>\n",
       "      <td>R</td>\n",
       "      <td>5</td>\n",
       "    </tr>\n",
       "    <tr>\n",
       "      <th>5</th>\n",
       "      <td>r</td>\n",
       "      <td>R</td>\n",
       "      <td>7</td>\n",
       "    </tr>\n",
       "  </tbody>\n",
       "</table>\n",
       "</div>"
      ],
      "text/plain": [
       "   P variable  value\n",
       "0  p        Q      2\n",
       "1  q        Q      4\n",
       "2  r        Q      6\n",
       "3  p        R      3\n",
       "4  q        R      5\n",
       "5  r        R      7"
      ]
     },
     "execution_count": 47,
     "metadata": {},
     "output_type": "execute_result"
    }
   ],
   "source": [
    "pd.melt(df, id_vars=['P'], value_vars=['Q', 'R'])"
   ]
  },
  {
   "cell_type": "markdown",
   "metadata": {
    "id": "eJtrqdv9tvGt"
   },
   "source": [
    "Podemos customizar los nombres de las columnas"
   ]
  },
  {
   "cell_type": "code",
   "execution_count": null,
   "metadata": {
    "colab": {
     "base_uri": "https://localhost:8080/",
     "height": 144
    },
    "executionInfo": {
     "elapsed": 240,
     "status": "ok",
     "timestamp": 1646606851761,
     "user": {
      "displayName": "David Francisco Bustos Usta",
      "photoUrl": "https://lh3.googleusercontent.com/a-/AOh14GjvGjd5VpSUEHTxlxXRYAinh8eCspL5nxvcW9wD=s64",
      "userId": "09471607480253994520"
     },
     "user_tz": 300
    },
    "id": "MedCTtYhtyPF",
    "outputId": "daac1570-d67a-4f78-bab5-44472892cddb"
   },
   "outputs": [],
   "source": [
    "pd.melt(df, id_vars=['P'], value_vars=['Q'],\n",
    "    var_name='Nombre_Variable', value_name='Nombre_valor')"
   ]
  },
  {
   "cell_type": "markdown",
   "metadata": {
    "id": "7xkkz7L3t8mm"
   },
   "source": [
    "En el caso que tengan multiindex por ejemplo"
   ]
  },
  {
   "cell_type": "code",
   "execution_count": null,
   "metadata": {
    "colab": {
     "base_uri": "https://localhost:8080/",
     "height": 175
    },
    "executionInfo": {
     "elapsed": 238,
     "status": "ok",
     "timestamp": 1646606854338,
     "user": {
      "displayName": "David Francisco Bustos Usta",
      "photoUrl": "https://lh3.googleusercontent.com/a-/AOh14GjvGjd5VpSUEHTxlxXRYAinh8eCspL5nxvcW9wD=s64",
      "userId": "09471607480253994520"
     },
     "user_tz": 300
    },
    "id": "UpxOxMPZt_S-",
    "outputId": "e8e1515e-df63-4503-d524-140dc2d93a83"
   },
   "outputs": [],
   "source": [
    "df.columns = [list('PQR'), list('STU')]\n",
    "df"
   ]
  },
  {
   "cell_type": "code",
   "execution_count": null,
   "metadata": {
    "colab": {
     "base_uri": "https://localhost:8080/",
     "height": 144
    },
    "executionInfo": {
     "elapsed": 242,
     "status": "ok",
     "timestamp": 1646606855693,
     "user": {
      "displayName": "David Francisco Bustos Usta",
      "photoUrl": "https://lh3.googleusercontent.com/a-/AOh14GjvGjd5VpSUEHTxlxXRYAinh8eCspL5nxvcW9wD=s64",
      "userId": "09471607480253994520"
     },
     "user_tz": 300
    },
    "id": "iGZ18hS7uELF",
    "outputId": "63345c29-45bc-47d0-b092-0cf23dada3dd"
   },
   "outputs": [],
   "source": [
    "pd.melt(df, col_level=0, id_vars=['P'], value_vars=['Q'])"
   ]
  },
  {
   "cell_type": "code",
   "execution_count": null,
   "metadata": {
    "colab": {
     "base_uri": "https://localhost:8080/",
     "height": 144
    },
    "executionInfo": {
     "elapsed": 453,
     "status": "ok",
     "timestamp": 1646606857873,
     "user": {
      "displayName": "David Francisco Bustos Usta",
      "photoUrl": "https://lh3.googleusercontent.com/a-/AOh14GjvGjd5VpSUEHTxlxXRYAinh8eCspL5nxvcW9wD=s64",
      "userId": "09471607480253994520"
     },
     "user_tz": 300
    },
    "id": "4SGGXuJUuOCf",
    "outputId": "aa9f13ad-995e-4774-87b6-cebc0e9c7a00"
   },
   "outputs": [],
   "source": [
    "pd.melt(df, col_level=1, id_vars=['S'], value_vars=['Q'])"
   ]
  },
  {
   "cell_type": "code",
   "execution_count": null,
   "metadata": {
    "colab": {
     "base_uri": "https://localhost:8080/",
     "height": 144
    },
    "executionInfo": {
     "elapsed": 9,
     "status": "ok",
     "timestamp": 1646606859456,
     "user": {
      "displayName": "David Francisco Bustos Usta",
      "photoUrl": "https://lh3.googleusercontent.com/a-/AOh14GjvGjd5VpSUEHTxlxXRYAinh8eCspL5nxvcW9wD=s64",
      "userId": "09471607480253994520"
     },
     "user_tz": 300
    },
    "id": "CSYmEgDuuRt9",
    "outputId": "db57162d-d182-4267-d40b-26bb72a6ae4f"
   },
   "outputs": [],
   "source": [
    "pd.melt(df, id_vars=[('P', 'S')], value_vars=[('Q', 'T')])"
   ]
  },
  {
   "cell_type": "markdown",
   "metadata": {
    "id": "_ysILeXcthK7"
   },
   "source": [
    "### Parte 2"
   ]
  },
  {
   "cell_type": "code",
   "execution_count": null,
   "metadata": {
    "colab": {
     "base_uri": "https://localhost:8080/",
     "height": 144
    },
    "executionInfo": {
     "elapsed": 313,
     "status": "ok",
     "timestamp": 1646606882144,
     "user": {
      "displayName": "David Francisco Bustos Usta",
      "photoUrl": "https://lh3.googleusercontent.com/a-/AOh14GjvGjd5VpSUEHTxlxXRYAinh8eCspL5nxvcW9wD=s64",
      "userId": "09471607480253994520"
     },
     "user_tz": 300
    },
    "id": "nq88zTFTgosb",
    "outputId": "1ed1a193-4328-42ce-c4f1-19108bc49f18"
   },
   "outputs": [],
   "source": [
    "df = pd.DataFrame({\n",
    "    'Name': {0: 'John', 1: 'Bob', 2: 'Shiela'},\n",
    "    'Course': {0: 'Masters', 1: 'Graduate', 2: 'Graduate'},\n",
    "    'Age': {0: 27, 1: 23, 2: 21}\n",
    "})\n",
    "\n",
    "df"
   ]
  },
  {
   "cell_type": "code",
   "execution_count": null,
   "metadata": {
    "colab": {
     "base_uri": "https://localhost:8080/",
     "height": 144
    },
    "executionInfo": {
     "elapsed": 304,
     "status": "ok",
     "timestamp": 1646606884938,
     "user": {
      "displayName": "David Francisco Bustos Usta",
      "photoUrl": "https://lh3.googleusercontent.com/a-/AOh14GjvGjd5VpSUEHTxlxXRYAinh8eCspL5nxvcW9wD=s64",
      "userId": "09471607480253994520"
     },
     "user_tz": 300
    },
    "id": "zKZ7r_c7gugq",
    "outputId": "3dce23e3-dc66-43b4-f078-c0bce2b9acf8"
   },
   "outputs": [],
   "source": [
    "pd.melt(df, id_vars =['Name'], value_vars =['Course'])"
   ]
  },
  {
   "cell_type": "code",
   "execution_count": null,
   "metadata": {
    "colab": {
     "base_uri": "https://localhost:8080/",
     "height": 238
    },
    "executionInfo": {
     "elapsed": 235,
     "status": "ok",
     "timestamp": 1646606886372,
     "user": {
      "displayName": "David Francisco Bustos Usta",
      "photoUrl": "https://lh3.googleusercontent.com/a-/AOh14GjvGjd5VpSUEHTxlxXRYAinh8eCspL5nxvcW9wD=s64",
      "userId": "09471607480253994520"
     },
     "user_tz": 300
    },
    "id": "CEjPaGssg3aJ",
    "outputId": "f7523ec1-bd62-4eac-a0d6-5053732fbd62"
   },
   "outputs": [],
   "source": [
    "# multiple unpivot columns\n",
    "pd.melt(df, id_vars =['Name'], value_vars =['Course', 'Age'])"
   ]
  },
  {
   "cell_type": "markdown",
   "metadata": {
    "id": "pBbbQBXndcoV",
    "tags": []
   },
   "source": [
    "# DESAFIO\n",
    "\n",
    "1. Investiguemos cuáles son los mejores clientes en ventas\n",
    "2. Qué tipos de errores pueden observan en este dataset\n",
    "3. Remover las filas duplicadas con base en la columna Nombre\n",
    "4. Qué problemas observa en este dataset respecto a la estructura en una mayor escala\n"
   ]
  },
  {
   "cell_type": "markdown",
   "metadata": {},
   "source": [
    "## Estudio de los datos"
   ]
  },
  {
   "cell_type": "code",
   "execution_count": 9,
   "metadata": {
    "colab": {
     "base_uri": "https://localhost:8080/",
     "height": 991
    },
    "executionInfo": {
     "elapsed": 402,
     "status": "ok",
     "timestamp": 1646607751992,
     "user": {
      "displayName": "David Francisco Bustos Usta",
      "photoUrl": "https://lh3.googleusercontent.com/a-/AOh14GjvGjd5VpSUEHTxlxXRYAinh8eCspL5nxvcW9wD=s64",
      "userId": "09471607480253994520"
     },
     "user_tz": 300
    },
    "id": "rl_XPHa-d6Gr",
    "outputId": "d5785cf9-e56b-41d1-b46f-ca7ece6c8d67"
   },
   "outputs": [
    {
     "data": {
      "text/html": [
       "<div>\n",
       "<style scoped>\n",
       "    .dataframe tbody tr th:only-of-type {\n",
       "        vertical-align: middle;\n",
       "    }\n",
       "\n",
       "    .dataframe tbody tr th {\n",
       "        vertical-align: top;\n",
       "    }\n",
       "\n",
       "    .dataframe thead th {\n",
       "        text-align: right;\n",
       "    }\n",
       "</style>\n",
       "<table border=\"1\" class=\"dataframe\">\n",
       "  <thead>\n",
       "    <tr style=\"text-align: right;\">\n",
       "      <th></th>\n",
       "      <th>Id</th>\n",
       "      <th>Nombre</th>\n",
       "      <th>Ventas</th>\n",
       "    </tr>\n",
       "  </thead>\n",
       "  <tbody>\n",
       "    <tr>\n",
       "      <th>0</th>\n",
       "      <td>1</td>\n",
       "      <td>Quasco</td>\n",
       "      <td>1500</td>\n",
       "    </tr>\n",
       "    <tr>\n",
       "      <th>1</th>\n",
       "      <td>2</td>\n",
       "      <td>Tutiro</td>\n",
       "      <td>1300</td>\n",
       "    </tr>\n",
       "    <tr>\n",
       "      <th>2</th>\n",
       "      <td>3</td>\n",
       "      <td>Tyuan</td>\n",
       "      <td>1900</td>\n",
       "    </tr>\n",
       "    <tr>\n",
       "      <th>3</th>\n",
       "      <td>4</td>\n",
       "      <td>Quantum</td>\n",
       "      <td>1200</td>\n",
       "    </tr>\n",
       "    <tr>\n",
       "      <th>4</th>\n",
       "      <td>5</td>\n",
       "      <td>Bertlitz</td>\n",
       "      <td>1400</td>\n",
       "    </tr>\n",
       "  </tbody>\n",
       "</table>\n",
       "</div>"
      ],
      "text/plain": [
       "   Id    Nombre  Ventas\n",
       "0   1    Quasco    1500\n",
       "1   2    Tutiro    1300\n",
       "2   3     Tyuan    1900\n",
       "3   4   Quantum    1200\n",
       "4   5  Bertlitz    1400"
      ]
     },
     "execution_count": 9,
     "metadata": {},
     "output_type": "execute_result"
    }
   ],
   "source": [
    "datos = pd.read_csv('../datasets/clase15/datos_empresas.csv')\n",
    "datos.head()"
   ]
  },
  {
   "cell_type": "code",
   "execution_count": 64,
   "metadata": {},
   "outputs": [
    {
     "data": {
      "text/plain": [
       "Id        0\n",
       "Nombre    0\n",
       "Ventas    0\n",
       "dtype: int64"
      ]
     },
     "execution_count": 64,
     "metadata": {},
     "output_type": "execute_result"
    }
   ],
   "source": [
    "datos.isnull().sum()"
   ]
  },
  {
   "cell_type": "markdown",
   "metadata": {},
   "source": [
    "## Respuesta 1"
   ]
  },
  {
   "cell_type": "code",
   "execution_count": 61,
   "metadata": {},
   "outputs": [
    {
     "data": {
      "text/html": [
       "<div>\n",
       "<style scoped>\n",
       "    .dataframe tbody tr th:only-of-type {\n",
       "        vertical-align: middle;\n",
       "    }\n",
       "\n",
       "    .dataframe tbody tr th {\n",
       "        vertical-align: top;\n",
       "    }\n",
       "\n",
       "    .dataframe thead th {\n",
       "        text-align: right;\n",
       "    }\n",
       "</style>\n",
       "<table border=\"1\" class=\"dataframe\">\n",
       "  <thead>\n",
       "    <tr style=\"text-align: right;\">\n",
       "      <th></th>\n",
       "      <th>Id</th>\n",
       "      <th>Ventas</th>\n",
       "    </tr>\n",
       "    <tr>\n",
       "      <th>Nombre</th>\n",
       "      <th></th>\n",
       "      <th></th>\n",
       "    </tr>\n",
       "  </thead>\n",
       "  <tbody>\n",
       "    <tr>\n",
       "      <th>Ascor</th>\n",
       "      <td>6</td>\n",
       "      <td>1700</td>\n",
       "    </tr>\n",
       "    <tr>\n",
       "      <th>Atom</th>\n",
       "      <td>12</td>\n",
       "      <td>1567</td>\n",
       "    </tr>\n",
       "    <tr>\n",
       "      <th>Attron</th>\n",
       "      <td>11</td>\n",
       "      <td>1346</td>\n",
       "    </tr>\n",
       "    <tr>\n",
       "      <th>Bertlitz</th>\n",
       "      <td>5</td>\n",
       "      <td>1400</td>\n",
       "    </tr>\n",
       "    <tr>\n",
       "      <th>Claro</th>\n",
       "      <td>15</td>\n",
       "      <td>1953</td>\n",
       "    </tr>\n",
       "  </tbody>\n",
       "</table>\n",
       "</div>"
      ],
      "text/plain": [
       "          Id  Ventas\n",
       "Nombre              \n",
       "Ascor      6    1700\n",
       "Atom      12    1567\n",
       "Attron    11    1346\n",
       "Bertlitz   5    1400\n",
       "Claro     15    1953"
      ]
     },
     "execution_count": 61,
     "metadata": {},
     "output_type": "execute_result"
    }
   ],
   "source": [
    "datos_group = datos.groupby('Nombre').sum('Ventas')\n",
    "datos_group.head()"
   ]
  },
  {
   "cell_type": "code",
   "execution_count": 62,
   "metadata": {
    "colab": {
     "base_uri": "https://localhost:8080/",
     "height": 991
    },
    "executionInfo": {
     "elapsed": 228,
     "status": "ok",
     "timestamp": 1646607790565,
     "user": {
      "displayName": "David Francisco Bustos Usta",
      "photoUrl": "https://lh3.googleusercontent.com/a-/AOh14GjvGjd5VpSUEHTxlxXRYAinh8eCspL5nxvcW9wD=s64",
      "userId": "09471607480253994520"
     },
     "user_tz": 300
    },
    "id": "zRxP9YI2eGsv",
    "outputId": "b3798258-54f5-4a84-f71b-e3a17d42423b"
   },
   "outputs": [
    {
     "data": {
      "text/html": [
       "<div>\n",
       "<style scoped>\n",
       "    .dataframe tbody tr th:only-of-type {\n",
       "        vertical-align: middle;\n",
       "    }\n",
       "\n",
       "    .dataframe tbody tr th {\n",
       "        vertical-align: top;\n",
       "    }\n",
       "\n",
       "    .dataframe thead th {\n",
       "        text-align: right;\n",
       "    }\n",
       "</style>\n",
       "<table border=\"1\" class=\"dataframe\">\n",
       "  <thead>\n",
       "    <tr style=\"text-align: right;\">\n",
       "      <th></th>\n",
       "      <th>Id</th>\n",
       "      <th>Ventas</th>\n",
       "    </tr>\n",
       "    <tr>\n",
       "      <th>Nombre</th>\n",
       "      <th></th>\n",
       "      <th></th>\n",
       "    </tr>\n",
       "  </thead>\n",
       "  <tbody>\n",
       "    <tr>\n",
       "      <th>Quasco</th>\n",
       "      <td>14</td>\n",
       "      <td>3264</td>\n",
       "    </tr>\n",
       "    <tr>\n",
       "      <th>Claro</th>\n",
       "      <td>15</td>\n",
       "      <td>1953</td>\n",
       "    </tr>\n",
       "    <tr>\n",
       "      <th>JT-Log</th>\n",
       "      <td>30</td>\n",
       "      <td>1912</td>\n",
       "    </tr>\n",
       "    <tr>\n",
       "      <th>Tyuan</th>\n",
       "      <td>3</td>\n",
       "      <td>1900</td>\n",
       "    </tr>\n",
       "    <tr>\n",
       "      <th>Yuor</th>\n",
       "      <td>29</td>\n",
       "      <td>1876</td>\n",
       "    </tr>\n",
       "  </tbody>\n",
       "</table>\n",
       "</div>"
      ],
      "text/plain": [
       "        Id  Ventas\n",
       "Nombre            \n",
       "Quasco  14    3264\n",
       "Claro   15    1953\n",
       "JT-Log  30    1912\n",
       "Tyuan    3    1900\n",
       "Yuor    29    1876"
      ]
     },
     "execution_count": 62,
     "metadata": {},
     "output_type": "execute_result"
    }
   ],
   "source": [
    "datos_group.sort_values(by='Ventas', ascending=False).head()"
   ]
  },
  {
   "cell_type": "markdown",
   "metadata": {},
   "source": [
    "## Respuesta 2\n",
    "Quasco se puede considerar un error ya que duplica el valor de ventas que las demás empresas\n",
    "\n",
    "## Respuesta 3"
   ]
  },
  {
   "cell_type": "code",
   "execution_count": 5,
   "metadata": {},
   "outputs": [
    {
     "data": {
      "text/plain": [
       "0     False\n",
       "1     False\n",
       "2     False\n",
       "3     False\n",
       "4     False\n",
       "5     False\n",
       "6     False\n",
       "7     False\n",
       "8     False\n",
       "9     False\n",
       "10    False\n",
       "11    False\n",
       "12     True\n",
       "13    False\n",
       "14    False\n",
       "15    False\n",
       "16    False\n",
       "17    False\n",
       "18    False\n",
       "19    False\n",
       "20    False\n",
       "21    False\n",
       "22    False\n",
       "23    False\n",
       "24    False\n",
       "25    False\n",
       "26    False\n",
       "27    False\n",
       "28    False\n",
       "29    False\n",
       "dtype: bool"
      ]
     },
     "execution_count": 5,
     "metadata": {},
     "output_type": "execute_result"
    }
   ],
   "source": [
    "# Hay 1 caso de dato duplicado con base en la columna Nombre\n",
    "datos.duplicated(subset='Nombre')"
   ]
  },
  {
   "cell_type": "code",
   "execution_count": 8,
   "metadata": {
    "colab": {
     "base_uri": "https://localhost:8080/",
     "height": 959
    },
    "executionInfo": {
     "elapsed": 337,
     "status": "ok",
     "timestamp": 1646608064565,
     "user": {
      "displayName": "David Francisco Bustos Usta",
      "photoUrl": "https://lh3.googleusercontent.com/a-/AOh14GjvGjd5VpSUEHTxlxXRYAinh8eCspL5nxvcW9wD=s64",
      "userId": "09471607480253994520"
     },
     "user_tz": 300
    },
    "id": "pCjckOXKfJ2o",
    "outputId": "ded4d2bb-7614-45c0-a787-e5d8a50919fa"
   },
   "outputs": [
    {
     "data": {
      "text/html": [
       "<div>\n",
       "<style scoped>\n",
       "    .dataframe tbody tr th:only-of-type {\n",
       "        vertical-align: middle;\n",
       "    }\n",
       "\n",
       "    .dataframe tbody tr th {\n",
       "        vertical-align: top;\n",
       "    }\n",
       "\n",
       "    .dataframe thead th {\n",
       "        text-align: right;\n",
       "    }\n",
       "</style>\n",
       "<table border=\"1\" class=\"dataframe\">\n",
       "  <thead>\n",
       "    <tr style=\"text-align: right;\">\n",
       "      <th></th>\n",
       "      <th>Id</th>\n",
       "      <th>Nombre</th>\n",
       "      <th>Ventas</th>\n",
       "    </tr>\n",
       "  </thead>\n",
       "  <tbody>\n",
       "    <tr>\n",
       "      <th>0</th>\n",
       "      <td>1</td>\n",
       "      <td>Quasco</td>\n",
       "      <td>1500</td>\n",
       "    </tr>\n",
       "    <tr>\n",
       "      <th>1</th>\n",
       "      <td>2</td>\n",
       "      <td>Tutiro</td>\n",
       "      <td>1300</td>\n",
       "    </tr>\n",
       "    <tr>\n",
       "      <th>2</th>\n",
       "      <td>3</td>\n",
       "      <td>Tyuan</td>\n",
       "      <td>1900</td>\n",
       "    </tr>\n",
       "    <tr>\n",
       "      <th>3</th>\n",
       "      <td>4</td>\n",
       "      <td>Quantum</td>\n",
       "      <td>1200</td>\n",
       "    </tr>\n",
       "    <tr>\n",
       "      <th>4</th>\n",
       "      <td>5</td>\n",
       "      <td>Bertlitz</td>\n",
       "      <td>1400</td>\n",
       "    </tr>\n",
       "    <tr>\n",
       "      <th>5</th>\n",
       "      <td>6</td>\n",
       "      <td>Ascor</td>\n",
       "      <td>1700</td>\n",
       "    </tr>\n",
       "    <tr>\n",
       "      <th>6</th>\n",
       "      <td>7</td>\n",
       "      <td>Trition</td>\n",
       "      <td>1670</td>\n",
       "    </tr>\n",
       "    <tr>\n",
       "      <th>7</th>\n",
       "      <td>8</td>\n",
       "      <td>Teryu</td>\n",
       "      <td>1345</td>\n",
       "    </tr>\n",
       "    <tr>\n",
       "      <th>8</th>\n",
       "      <td>9</td>\n",
       "      <td>Oyude</td>\n",
       "      <td>1564</td>\n",
       "    </tr>\n",
       "    <tr>\n",
       "      <th>9</th>\n",
       "      <td>10</td>\n",
       "      <td>Yende</td>\n",
       "      <td>1567</td>\n",
       "    </tr>\n",
       "    <tr>\n",
       "      <th>10</th>\n",
       "      <td>11</td>\n",
       "      <td>Attron</td>\n",
       "      <td>1346</td>\n",
       "    </tr>\n",
       "    <tr>\n",
       "      <th>11</th>\n",
       "      <td>12</td>\n",
       "      <td>Atom</td>\n",
       "      <td>1567</td>\n",
       "    </tr>\n",
       "    <tr>\n",
       "      <th>13</th>\n",
       "      <td>14</td>\n",
       "      <td>Tigo</td>\n",
       "      <td>1865</td>\n",
       "    </tr>\n",
       "    <tr>\n",
       "      <th>14</th>\n",
       "      <td>15</td>\n",
       "      <td>Claro</td>\n",
       "      <td>1953</td>\n",
       "    </tr>\n",
       "    <tr>\n",
       "      <th>15</th>\n",
       "      <td>16</td>\n",
       "      <td>Movistar</td>\n",
       "      <td>1756</td>\n",
       "    </tr>\n",
       "    <tr>\n",
       "      <th>16</th>\n",
       "      <td>17</td>\n",
       "      <td>Spirit</td>\n",
       "      <td>1346</td>\n",
       "    </tr>\n",
       "    <tr>\n",
       "      <th>17</th>\n",
       "      <td>18</td>\n",
       "      <td>Ut</td>\n",
       "      <td>1654</td>\n",
       "    </tr>\n",
       "    <tr>\n",
       "      <th>18</th>\n",
       "      <td>19</td>\n",
       "      <td>Porter</td>\n",
       "      <td>1675</td>\n",
       "    </tr>\n",
       "    <tr>\n",
       "      <th>19</th>\n",
       "      <td>20</td>\n",
       "      <td>Tuyer</td>\n",
       "      <td>1457</td>\n",
       "    </tr>\n",
       "    <tr>\n",
       "      <th>20</th>\n",
       "      <td>21</td>\n",
       "      <td>Upstream</td>\n",
       "      <td>1324</td>\n",
       "    </tr>\n",
       "    <tr>\n",
       "      <th>21</th>\n",
       "      <td>22</td>\n",
       "      <td>It-es</td>\n",
       "      <td>1876</td>\n",
       "    </tr>\n",
       "    <tr>\n",
       "      <th>22</th>\n",
       "      <td>23</td>\n",
       "      <td>Daniela</td>\n",
       "      <td>1546</td>\n",
       "    </tr>\n",
       "    <tr>\n",
       "      <th>23</th>\n",
       "      <td>24</td>\n",
       "      <td>SAO</td>\n",
       "      <td>1453</td>\n",
       "    </tr>\n",
       "    <tr>\n",
       "      <th>24</th>\n",
       "      <td>25</td>\n",
       "      <td>Jumbo</td>\n",
       "      <td>1656</td>\n",
       "    </tr>\n",
       "    <tr>\n",
       "      <th>25</th>\n",
       "      <td>26</td>\n",
       "      <td>Olimpica</td>\n",
       "      <td>1456</td>\n",
       "    </tr>\n",
       "    <tr>\n",
       "      <th>26</th>\n",
       "      <td>27</td>\n",
       "      <td>Olimpia</td>\n",
       "      <td>1345</td>\n",
       "    </tr>\n",
       "    <tr>\n",
       "      <th>27</th>\n",
       "      <td>28</td>\n",
       "      <td>Nartel</td>\n",
       "      <td>1276</td>\n",
       "    </tr>\n",
       "    <tr>\n",
       "      <th>28</th>\n",
       "      <td>29</td>\n",
       "      <td>Yuor</td>\n",
       "      <td>1876</td>\n",
       "    </tr>\n",
       "    <tr>\n",
       "      <th>29</th>\n",
       "      <td>30</td>\n",
       "      <td>JT-Log</td>\n",
       "      <td>1912</td>\n",
       "    </tr>\n",
       "  </tbody>\n",
       "</table>\n",
       "</div>"
      ],
      "text/plain": [
       "    Id    Nombre  Ventas\n",
       "0    1    Quasco    1500\n",
       "1    2    Tutiro    1300\n",
       "2    3     Tyuan    1900\n",
       "3    4   Quantum    1200\n",
       "4    5  Bertlitz    1400\n",
       "5    6     Ascor    1700\n",
       "6    7   Trition    1670\n",
       "7    8     Teryu    1345\n",
       "8    9     Oyude    1564\n",
       "9   10     Yende    1567\n",
       "10  11    Attron    1346\n",
       "11  12      Atom    1567\n",
       "13  14      Tigo    1865\n",
       "14  15     Claro    1953\n",
       "15  16  Movistar    1756\n",
       "16  17    Spirit    1346\n",
       "17  18        Ut    1654\n",
       "18  19    Porter    1675\n",
       "19  20     Tuyer    1457\n",
       "20  21  Upstream    1324\n",
       "21  22     It-es    1876\n",
       "22  23  Daniela     1546\n",
       "23  24       SAO    1453\n",
       "24  25     Jumbo    1656\n",
       "25  26  Olimpica    1456\n",
       "26  27  Olimpia     1345\n",
       "27  28    Nartel    1276\n",
       "28  29      Yuor    1876\n",
       "29  30    JT-Log    1912"
      ]
     },
     "execution_count": 8,
     "metadata": {},
     "output_type": "execute_result"
    }
   ],
   "source": [
    "# No hay datos duplicados, ya que en Quasco el numero de ventas es distinto\n",
    "datos_dp = datos.drop_duplicates(subset='Nombre')\n",
    "datos_dp"
   ]
  },
  {
   "cell_type": "markdown",
   "metadata": {},
   "source": [
    "## Respuesta 4\n",
    "Si este dataset estuviera a mayor escala podemos ver que no hay un ID unico."
   ]
  }
 ],
 "metadata": {
  "colab": {
   "provenance": []
  },
  "kernelspec": {
   "display_name": "Python 3 (ipykernel)",
   "language": "python",
   "name": "python3"
  },
  "language_info": {
   "codemirror_mode": {
    "name": "ipython",
    "version": 3
   },
   "file_extension": ".py",
   "mimetype": "text/x-python",
   "name": "python",
   "nbconvert_exporter": "python",
   "pygments_lexer": "ipython3",
   "version": "3.9.12"
  },
  "toc-showmarkdowntxt": false
 },
 "nbformat": 4,
 "nbformat_minor": 4
}
