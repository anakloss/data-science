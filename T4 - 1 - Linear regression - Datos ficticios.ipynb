{
 "cells": [
  {
   "cell_type": "markdown",
   "id": "c3dfba43-2f1d-4879-a9b3-771bbc178da3",
   "metadata": {},
   "source": [
    "# Modelos de Regresión Lineal\n",
    "## Modelo con Datos simulados\n",
    "* Regresión lineal: Ye = α + β * x\n",
    "* X : 100 valores distribuídos según una N(1.5, 2.5)\n",
    "* Componente de error: Y = α + β * x + e = 5 + 1.9 * x + e\n",
    "* e estará distribuído según una N(0, 0.8)"
   ]
  },
  {
   "cell_type": "code",
   "execution_count": 1,
   "id": "82725307-6071-4640-942d-812a5923e909",
   "metadata": {},
   "outputs": [],
   "source": [
    "import pandas as pd\n",
    "import numpy as np\n",
    "import matplotlib.pyplot as plt"
   ]
  },
  {
   "cell_type": "code",
   "execution_count": 2,
   "id": "4068b20e-8d93-4ab0-97ef-195d7b203000",
   "metadata": {},
   "outputs": [],
   "source": [
    "x = 1.5 + 2.5 * np.random.randn(100)"
   ]
  },
  {
   "cell_type": "code",
   "execution_count": 3,
   "id": "78b917c6-2b15-44df-96d8-19a331ed9acd",
   "metadata": {},
   "outputs": [],
   "source": [
    "e = 0 + 0.8 * np.random.randn(100)"
   ]
  },
  {
   "cell_type": "code",
   "execution_count": 4,
   "id": "3b86bbc4-5381-4ab7-8c4a-e4c1a6166594",
   "metadata": {},
   "outputs": [],
   "source": [
    "y_pred = 5 + 0.3 * x"
   ]
  },
  {
   "cell_type": "code",
   "execution_count": 5,
   "id": "6abff7db-8433-4080-a1c7-e72663b3298e",
   "metadata": {},
   "outputs": [],
   "source": [
    "y_act = 5 + 0.3 * x + e"
   ]
  },
  {
   "cell_type": "code",
   "execution_count": 6,
   "id": "be05d1db-01b9-40a8-a0be-4eb1e3609fe3",
   "metadata": {},
   "outputs": [],
   "source": [
    "x_list = x.tolist()\n",
    "y_pred_list = y_pred.tolist()\n",
    "y_act_list = y_act.tolist()"
   ]
  },
  {
   "cell_type": "code",
   "execution_count": 7,
   "id": "e0891307-536f-4f38-b8c5-4e4834392e47",
   "metadata": {},
   "outputs": [],
   "source": [
    "data = pd.DataFrame({\n",
    "    \"x\": x_list,\n",
    "    \"y\": y_act_list,\n",
    "    \"y_pred\": y_pred_list,\n",
    "})"
   ]
  },
  {
   "cell_type": "code",
   "execution_count": 8,
   "id": "feb2da28-839d-4205-8a4e-ceda94c75f75",
   "metadata": {},
   "outputs": [
    {
     "data": {
      "text/html": [
       "<div>\n",
       "<style scoped>\n",
       "    .dataframe tbody tr th:only-of-type {\n",
       "        vertical-align: middle;\n",
       "    }\n",
       "\n",
       "    .dataframe tbody tr th {\n",
       "        vertical-align: top;\n",
       "    }\n",
       "\n",
       "    .dataframe thead th {\n",
       "        text-align: right;\n",
       "    }\n",
       "</style>\n",
       "<table border=\"1\" class=\"dataframe\">\n",
       "  <thead>\n",
       "    <tr style=\"text-align: right;\">\n",
       "      <th></th>\n",
       "      <th>x</th>\n",
       "      <th>y</th>\n",
       "      <th>y_pred</th>\n",
       "    </tr>\n",
       "  </thead>\n",
       "  <tbody>\n",
       "    <tr>\n",
       "      <th>0</th>\n",
       "      <td>-0.629595</td>\n",
       "      <td>5.654951</td>\n",
       "      <td>4.811121</td>\n",
       "    </tr>\n",
       "    <tr>\n",
       "      <th>1</th>\n",
       "      <td>0.637044</td>\n",
       "      <td>4.425814</td>\n",
       "      <td>5.191113</td>\n",
       "    </tr>\n",
       "    <tr>\n",
       "      <th>2</th>\n",
       "      <td>0.690385</td>\n",
       "      <td>7.177423</td>\n",
       "      <td>5.207116</td>\n",
       "    </tr>\n",
       "    <tr>\n",
       "      <th>3</th>\n",
       "      <td>1.963452</td>\n",
       "      <td>5.075895</td>\n",
       "      <td>5.589036</td>\n",
       "    </tr>\n",
       "    <tr>\n",
       "      <th>4</th>\n",
       "      <td>-3.445241</td>\n",
       "      <td>3.418006</td>\n",
       "      <td>3.966428</td>\n",
       "    </tr>\n",
       "  </tbody>\n",
       "</table>\n",
       "</div>"
      ],
      "text/plain": [
       "          x         y    y_pred\n",
       "0 -0.629595  5.654951  4.811121\n",
       "1  0.637044  4.425814  5.191113\n",
       "2  0.690385  7.177423  5.207116\n",
       "3  1.963452  5.075895  5.589036\n",
       "4 -3.445241  3.418006  3.966428"
      ]
     },
     "execution_count": 8,
     "metadata": {},
     "output_type": "execute_result"
    }
   ],
   "source": [
    "data.head()"
   ]
  },
  {
   "cell_type": "code",
   "execution_count": 9,
   "id": "ab979b4f-f78c-47df-90bb-368a50c809da",
   "metadata": {},
   "outputs": [],
   "source": [
    "y_mean = [np.mean(y_act) for i in range(1, len(x_list) + 1)]"
   ]
  },
  {
   "cell_type": "code",
   "execution_count": 10,
   "id": "e1c35067-6ffb-44e5-8125-b95a73564f1e",
   "metadata": {},
   "outputs": [
    {
     "data": {
      "text/plain": [
       "Text(0.5, 1.0, 'Valor actual vs Predicción')"
      ]
     },
     "execution_count": 10,
     "metadata": {},
     "output_type": "execute_result"
    },
    {
     "data": {
      "image/png": "[encoded data removed]",
      "text/plain": [
       "<Figure size 432x288 with 1 Axes>"
      ]
     },
     "metadata": {
      "needs_background": "light"
     },
     "output_type": "display_data"
    }
   ],
   "source": [
    "%matplotlib inline\n",
    "plt.plot(x, y_pred)\n",
    "plt.plot(x, y_act, \"ro\")\n",
    "plt.plot(x, y_mean, \"g\")\n",
    "plt.title(\"Valor actual vs Predicción\")"
   ]
  },
  {
   "cell_type": "markdown",
   "id": "1d18c4e4-c8bc-4b56-a7a6-ffa4c156c271",
   "metadata": {},
   "source": [
    "## ¿Como es la predicción de buena?\n",
    "* SST = SSD + SSR\n",
    "* SST : Variabilidad de los datos con respecto de su media\n",
    "* SSD : Diferencia entre los datos originales y las predicciones que el modelo no es capaz de explicar (errores que deberían seguir una distribución normal)\n",
    "* SSR : Diferencia entre la regresión y el valor medio que el modelo busca explicar\n",
    "* R2 = SSR / SST, coeficiente de determinación entre 0 y 1"
   ]
  },
  {
   "cell_type": "code",
   "execution_count": 11,
   "id": "5ccc86f0-3364-4526-9bdb-4dfa312f783b",
   "metadata": {},
   "outputs": [],
   "source": [
    "y_m = np.mean(y_act)\n",
    "data[\"SSR\"] = (data[\"y_pred\"] - y_m)**2\n",
    "data[\"SSD\"] = (data[\"y_pred\"] - data[\"y\"])**2\n",
    "data[\"SST\"] = (data[\"y\"] - y_m)**2"
   ]
  },
  {
   "cell_type": "code",
   "execution_count": 12,
   "id": "da134e54-2760-4da3-9379-e9cd8dd3c1be",
   "metadata": {},
   "outputs": [
    {
     "data": {
      "text/html": [
       "<div>\n",
       "<style scoped>\n",
       "    .dataframe tbody tr th:only-of-type {\n",
       "        vertical-align: middle;\n",
       "    }\n",
       "\n",
       "    .dataframe tbody tr th {\n",
       "        vertical-align: top;\n",
       "    }\n",
       "\n",
       "    .dataframe thead th {\n",
       "        text-align: right;\n",
       "    }\n",
       "</style>\n",
       "<table border=\"1\" class=\"dataframe\">\n",
       "  <thead>\n",
       "    <tr style=\"text-align: right;\">\n",
       "      <th></th>\n",
       "      <th>x</th>\n",
       "      <th>y</th>\n",
       "      <th>y_pred</th>\n",
       "      <th>SSR</th>\n",
       "      <th>SSD</th>\n",
       "      <th>SST</th>\n",
       "    </tr>\n",
       "  </thead>\n",
       "  <tbody>\n",
       "    <tr>\n",
       "      <th>0</th>\n",
       "      <td>-0.629595</td>\n",
       "      <td>5.654951</td>\n",
       "      <td>4.811121</td>\n",
       "      <td>0.358770</td>\n",
       "      <td>0.712049</td>\n",
       "      <td>0.059954</td>\n",
       "    </tr>\n",
       "    <tr>\n",
       "      <th>1</th>\n",
       "      <td>0.637044</td>\n",
       "      <td>4.425814</td>\n",
       "      <td>5.191113</td>\n",
       "      <td>0.047953</td>\n",
       "      <td>0.585683</td>\n",
       "      <td>0.968810</td>\n",
       "    </tr>\n",
       "    <tr>\n",
       "      <th>2</th>\n",
       "      <td>0.690385</td>\n",
       "      <td>7.177423</td>\n",
       "      <td>5.207116</td>\n",
       "      <td>0.041201</td>\n",
       "      <td>3.882113</td>\n",
       "      <td>3.123447</td>\n",
       "    </tr>\n",
       "    <tr>\n",
       "      <th>3</th>\n",
       "      <td>1.963452</td>\n",
       "      <td>5.075895</td>\n",
       "      <td>5.589036</td>\n",
       "      <td>0.032019</td>\n",
       "      <td>0.263314</td>\n",
       "      <td>0.111690</td>\n",
       "    </tr>\n",
       "    <tr>\n",
       "      <th>4</th>\n",
       "      <td>-3.445241</td>\n",
       "      <td>3.418006</td>\n",
       "      <td>3.966428</td>\n",
       "      <td>2.084177</td>\n",
       "      <td>0.300767</td>\n",
       "      <td>3.968423</td>\n",
       "    </tr>\n",
       "  </tbody>\n",
       "</table>\n",
       "</div>"
      ],
      "text/plain": [
       "          x         y    y_pred       SSR       SSD       SST\n",
       "0 -0.629595  5.654951  4.811121  0.358770  0.712049  0.059954\n",
       "1  0.637044  4.425814  5.191113  0.047953  0.585683  0.968810\n",
       "2  0.690385  7.177423  5.207116  0.041201  3.882113  3.123447\n",
       "3  1.963452  5.075895  5.589036  0.032019  0.263314  0.111690\n",
       "4 -3.445241  3.418006  3.966428  2.084177  0.300767  3.968423"
      ]
     },
     "execution_count": 12,
     "metadata": {},
     "output_type": "execute_result"
    }
   ],
   "source": [
    "data.head()"
   ]
  },
  {
   "cell_type": "code",
   "execution_count": 13,
   "id": "629c18d2-ed20-43f2-872d-7672455437e2",
   "metadata": {},
   "outputs": [],
   "source": [
    "SSR = sum(data[\"SSR\"])\n",
    "SSD = sum(data[\"SSD\"])\n",
    "SST = sum(data[\"SST\"])"
   ]
  },
  {
   "cell_type": "code",
   "execution_count": 14,
   "id": "dfaa02d0-344a-46ab-95d2-5d657ee78cd7",
   "metadata": {},
   "outputs": [
    {
     "data": {
      "text/plain": [
       "59.882926566319036"
      ]
     },
     "execution_count": 14,
     "metadata": {},
     "output_type": "execute_result"
    }
   ],
   "source": [
    "SSR"
   ]
  },
  {
   "cell_type": "code",
   "execution_count": 15,
   "id": "775f5d2c-6428-49c6-b053-9943b2ca4a99",
   "metadata": {},
   "outputs": [
    {
     "data": {
      "text/plain": [
       "60.221532981032695"
      ]
     },
     "execution_count": 15,
     "metadata": {},
     "output_type": "execute_result"
    }
   ],
   "source": [
    "SSD"
   ]
  },
  {
   "cell_type": "code",
   "execution_count": 16,
   "id": "6abba964-d33f-4c29-89f9-31556d912812",
   "metadata": {},
   "outputs": [
    {
     "data": {
      "text/plain": [
       "109.52122521169225"
      ]
     },
     "execution_count": 16,
     "metadata": {},
     "output_type": "execute_result"
    }
   ],
   "source": [
    "SST"
   ]
  },
  {
   "cell_type": "code",
   "execution_count": 17,
   "id": "e0008bc0-7ee1-4c9c-9258-18365252512f",
   "metadata": {},
   "outputs": [
    {
     "data": {
      "text/plain": [
       "120.10445954735172"
      ]
     },
     "execution_count": 17,
     "metadata": {},
     "output_type": "execute_result"
    }
   ],
   "source": [
    "SSR+SSD"
   ]
  },
  {
   "cell_type": "code",
   "execution_count": 18,
   "id": "554ff3c2-5a12-4c25-b574-dbad42353b7f",
   "metadata": {},
   "outputs": [
    {
     "data": {
      "text/plain": [
       "0.5467700571334191"
      ]
     },
     "execution_count": 18,
     "metadata": {},
     "output_type": "execute_result"
    }
   ],
   "source": [
    "R2 = SSR/SST\n",
    "R2"
   ]
  },
  {
   "cell_type": "code",
   "execution_count": 19,
   "id": "cf1a4cfb-42e8-48df-90b7-f7974316c972",
   "metadata": {},
   "outputs": [
    {
     "data": {
      "text/plain": [
       "(array([ 1.,  3.,  6.,  8., 17., 24., 21., 11.,  7.,  2.]),\n",
       " array([-2.38223124, -1.95147847, -1.5207257 , -1.08997294, -0.65922017,\n",
       "        -0.22846741,  0.20228536,  0.63303812,  1.06379089,  1.49454366,\n",
       "         1.92529642]),\n",
       " <BarContainer object of 10 artists>)"
      ]
     },
     "execution_count": 19,
     "metadata": {},
     "output_type": "execute_result"
    },
    {
     "data": {
      "image/png": "[encoded data removed]",
      "text/plain": [
       "<Figure size 432x288 with 1 Axes>"
      ]
     },
     "metadata": {
      "needs_background": "light"
     },
     "output_type": "display_data"
    }
   ],
   "source": [
    "plt.hist(data[\"y_pred\"] - np.mean(y_act))"
   ]
  },
  {
   "cell_type": "markdown",
   "id": "c4df28b3-d2fb-4657-b139-674a31bb3ae1",
   "metadata": {},
   "source": [
    "## Obteniendo la Recta de Regresión\n",
    "* y = α + β * x\n",
    "* b = sum((xi - x_m)*(y_i-y_m))/sum((xi-x_m)^2)\n",
    "* a = y_m - b * x_m"
   ]
  },
  {
   "cell_type": "code",
   "execution_count": 20,
   "id": "44fdc0da-3923-4aba-b3d8-1322ad7288b0",
   "metadata": {},
   "outputs": [],
   "source": [
    "x_mean = np.mean(data[\"x\"])\n",
    "y_mean = np.mean(data[\"y\"])"
   ]
  },
  {
   "cell_type": "code",
   "execution_count": 21,
   "id": "7c11cfc2-0bd8-4cb8-a2ac-287b953e001f",
   "metadata": {},
   "outputs": [],
   "source": [
    "data[\"beta_n\"] = (data[\"x\"] - x_mean) * (data[\"y\"] - y_mean)\n",
    "data[\"beta_d\"] = (data[\"x\"] - x_mean)**2"
   ]
  },
  {
   "cell_type": "code",
   "execution_count": 22,
   "id": "a2bab228-738e-44fd-8ac2-adde723748dd",
   "metadata": {},
   "outputs": [],
   "source": [
    "beta = sum(data[\"beta_n\"])/sum(data[\"beta_d\"])"
   ]
  },
  {
   "cell_type": "code",
   "execution_count": 23,
   "id": "d3b0d9ea-95cf-4166-bd65-70eb7026ea66",
   "metadata": {},
   "outputs": [],
   "source": [
    "alpha = y_mean - beta * x_mean"
   ]
  },
  {
   "cell_type": "code",
   "execution_count": 24,
   "id": "5bc3d262-7733-4167-9f37-17a3302f3be6",
   "metadata": {},
   "outputs": [
    {
     "data": {
      "text/plain": [
       "(5.047219662749775, 0.27355755318559277)"
      ]
     },
     "execution_count": 24,
     "metadata": {},
     "output_type": "execute_result"
    }
   ],
   "source": [
    "alpha, beta"
   ]
  },
  {
   "cell_type": "markdown",
   "id": "1ebfcd6b-77d8-464f-95e0-f63800d0a082",
   "metadata": {},
   "source": [
    "El modelo lineal obtenido por regresión es: y = 4.978208617493975 + 1.8947680627915697 * x"
   ]
  },
  {
   "cell_type": "code",
   "execution_count": 25,
   "id": "279a51b0-10a1-4338-82c9-e1c93e1b2657",
   "metadata": {},
   "outputs": [],
   "source": [
    "data[\"y_model\"] = alpha + beta * data[\"x\"]"
   ]
  },
  {
   "cell_type": "code",
   "execution_count": 26,
   "id": "54ea13ac-5caf-4877-9ab6-b2a60c50954a",
   "metadata": {},
   "outputs": [
    {
     "data": {
      "text/html": [
       "<div>\n",
       "<style scoped>\n",
       "    .dataframe tbody tr th:only-of-type {\n",
       "        vertical-align: middle;\n",
       "    }\n",
       "\n",
       "    .dataframe tbody tr th {\n",
       "        vertical-align: top;\n",
       "    }\n",
       "\n",
       "    .dataframe thead th {\n",
       "        text-align: right;\n",
       "    }\n",
       "</style>\n",
       "<table border=\"1\" class=\"dataframe\">\n",
       "  <thead>\n",
       "    <tr style=\"text-align: right;\">\n",
       "      <th></th>\n",
       "      <th>x</th>\n",
       "      <th>y</th>\n",
       "      <th>y_pred</th>\n",
       "      <th>SSR</th>\n",
       "      <th>SSD</th>\n",
       "      <th>SST</th>\n",
       "      <th>beta_n</th>\n",
       "      <th>beta_d</th>\n",
       "      <th>y_model</th>\n",
       "    </tr>\n",
       "  </thead>\n",
       "  <tbody>\n",
       "    <tr>\n",
       "      <th>0</th>\n",
       "      <td>-0.629595</td>\n",
       "      <td>5.654951</td>\n",
       "      <td>4.811121</td>\n",
       "      <td>0.358770</td>\n",
       "      <td>0.712049</td>\n",
       "      <td>0.059954</td>\n",
       "      <td>-0.478962</td>\n",
       "      <td>3.826336</td>\n",
       "      <td>4.874989</td>\n",
       "    </tr>\n",
       "    <tr>\n",
       "      <th>1</th>\n",
       "      <td>0.637044</td>\n",
       "      <td>4.425814</td>\n",
       "      <td>5.191113</td>\n",
       "      <td>0.047953</td>\n",
       "      <td>0.585683</td>\n",
       "      <td>0.968810</td>\n",
       "      <td>0.678626</td>\n",
       "      <td>0.475359</td>\n",
       "      <td>5.221488</td>\n",
       "    </tr>\n",
       "    <tr>\n",
       "      <th>2</th>\n",
       "      <td>0.690385</td>\n",
       "      <td>7.177423</td>\n",
       "      <td>5.207116</td>\n",
       "      <td>0.041201</td>\n",
       "      <td>3.882113</td>\n",
       "      <td>3.123447</td>\n",
       "      <td>-1.124236</td>\n",
       "      <td>0.404651</td>\n",
       "      <td>5.236080</td>\n",
       "    </tr>\n",
       "    <tr>\n",
       "      <th>3</th>\n",
       "      <td>1.963452</td>\n",
       "      <td>5.075895</td>\n",
       "      <td>5.589036</td>\n",
       "      <td>0.032019</td>\n",
       "      <td>0.263314</td>\n",
       "      <td>0.111690</td>\n",
       "      <td>-0.212868</td>\n",
       "      <td>0.405699</td>\n",
       "      <td>5.584337</td>\n",
       "    </tr>\n",
       "    <tr>\n",
       "      <th>4</th>\n",
       "      <td>-3.445241</td>\n",
       "      <td>3.418006</td>\n",
       "      <td>3.966428</td>\n",
       "      <td>2.084177</td>\n",
       "      <td>0.300767</td>\n",
       "      <td>3.968423</td>\n",
       "      <td>9.505752</td>\n",
       "      <td>22.769579</td>\n",
       "      <td>4.104748</td>\n",
       "    </tr>\n",
       "  </tbody>\n",
       "</table>\n",
       "</div>"
      ],
      "text/plain": [
       "          x         y    y_pred       SSR       SSD       SST    beta_n  \\\n",
       "0 -0.629595  5.654951  4.811121  0.358770  0.712049  0.059954 -0.478962   \n",
       "1  0.637044  4.425814  5.191113  0.047953  0.585683  0.968810  0.678626   \n",
       "2  0.690385  7.177423  5.207116  0.041201  3.882113  3.123447 -1.124236   \n",
       "3  1.963452  5.075895  5.589036  0.032019  0.263314  0.111690 -0.212868   \n",
       "4 -3.445241  3.418006  3.966428  2.084177  0.300767  3.968423  9.505752   \n",
       "\n",
       "      beta_d   y_model  \n",
       "0   3.826336  4.874989  \n",
       "1   0.475359  5.221488  \n",
       "2   0.404651  5.236080  \n",
       "3   0.405699  5.584337  \n",
       "4  22.769579  4.104748  "
      ]
     },
     "execution_count": 26,
     "metadata": {},
     "output_type": "execute_result"
    }
   ],
   "source": [
    "data.head()"
   ]
  },
  {
   "cell_type": "code",
   "execution_count": 27,
   "id": "8c4e3f7c-a87f-4617-99e8-bf1b51debcbd",
   "metadata": {},
   "outputs": [],
   "source": [
    "SSR = sum((data[\"y_pred\"] - y_mean)**2)\n",
    "SSD = sum((data[\"y_pred\"] - data[\"y\"])**2)\n",
    "SST = sum((data[\"y\"] - y_mean)**2)"
   ]
  },
  {
   "cell_type": "code",
   "execution_count": 28,
   "id": "96c9e4e2-3805-4690-9cd1-63d89881291f",
   "metadata": {},
   "outputs": [
    {
     "data": {
      "text/plain": [
       "(59.88292656631902, 60.221532981032695, 109.52122521169223)"
      ]
     },
     "execution_count": 28,
     "metadata": {},
     "output_type": "execute_result"
    }
   ],
   "source": [
    "SSR, SSD, SST"
   ]
  },
  {
   "cell_type": "code",
   "execution_count": 29,
   "id": "c5bbcdd1-882d-482c-985b-43d402981d4c",
   "metadata": {},
   "outputs": [
    {
     "data": {
      "text/plain": [
       "0.5467700571334191"
      ]
     },
     "execution_count": 29,
     "metadata": {},
     "output_type": "execute_result"
    }
   ],
   "source": [
    "R2 = SSR/SST\n",
    "R2"
   ]
  },
  {
   "cell_type": "code",
   "execution_count": 30,
   "id": "71b0d1e1-5898-4fcd-856b-f723b4636ecc",
   "metadata": {},
   "outputs": [
    {
     "data": {
      "text/plain": [
       "Text(0.5, 1.0, 'Valor actual vs Predicción')"
      ]
     },
     "execution_count": 30,
     "metadata": {},
     "output_type": "execute_result"
    },
    {
     "data": {
      "image/png": "[encoded data removed]",
      "text/plain": [
       "<Figure size 432x288 with 1 Axes>"
      ]
     },
     "metadata": {
      "needs_background": "light"
     },
     "output_type": "display_data"
    }
   ],
   "source": [
    "y_mean = [np.mean(y_act) for i in range(1, len(x_list) + 1)]\n",
    "\n",
    "%matplotlib inline\n",
    "plt.plot(data[\"x\"], data[\"y_pred\"])\n",
    "plt.plot(data[\"x\"], data[\"y\"], \"ro\")\n",
    "plt.plot(data[\"x\"], y_mean, \"g\")\n",
    "plt.plot(data[\"x\"], data[\"y_model\"])\n",
    "plt.title(\"Valor actual vs Predicción\")"
   ]
  },
  {
   "cell_type": "markdown",
   "id": "bea8c23c-0f5f-413e-ada1-ac9dd22afab0",
   "metadata": {},
   "source": [
    "## Error Estandar de los Residuos (RSE)"
   ]
  },
  {
   "cell_type": "code",
   "execution_count": 32,
   "id": "5468fa7a-d4ea-4de5-856f-c498d9dc3251",
   "metadata": {},
   "outputs": [
    {
     "data": {
      "text/plain": [
       "0.7839039728065972"
      ]
     },
     "execution_count": 32,
     "metadata": {},
     "output_type": "execute_result"
    }
   ],
   "source": [
    "RSE = np.sqrt(SSD/(len(data)-2))\n",
    "RSE"
   ]
  },
  {
   "cell_type": "code",
   "execution_count": 35,
   "id": "a5ee83f7-5484-465a-8d1c-d24c24159fa3",
   "metadata": {},
   "outputs": [],
   "source": [
    "aux = np.mean(data[\"y\"])"
   ]
  },
  {
   "cell_type": "code",
   "execution_count": 37,
   "id": "d104c0e1-67ce-4b49-8bba-389e38637aa1",
   "metadata": {},
   "outputs": [
    {
     "data": {
      "text/plain": [
       "0.14489650687531422"
      ]
     },
     "execution_count": 37,
     "metadata": {},
     "output_type": "execute_result"
    }
   ],
   "source": [
    "RSE/aux"
   ]
  }
 ],
 "metadata": {
  "kernelspec": {
   "display_name": "Python 3",
   "language": "python",
   "name": "python3"
  },
  "language_info": {
   "codemirror_mode": {
    "name": "ipython",
    "version": 3
   },
   "file_extension": ".py",
   "mimetype": "text/x-python",
   "name": "python",
   "nbconvert_exporter": "python",
   "pygments_lexer": "ipython3",
   "version": "3.8.8"
  }
 },
 "nbformat": 4,
 "nbformat_minor": 5
}
