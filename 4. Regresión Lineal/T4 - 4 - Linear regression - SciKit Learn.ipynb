{
 "cells": [
  {
   "cell_type": "markdown",
   "id": "67d07885-d1fa-4b7b-8581-cccb0c69ecbb",
   "metadata": {},
   "source": [
    "## Regresión lineal en Python\n",
    "### El paquete scikit-learn para regresión lineal y la selección de rasgos"
   ]
  },
  {
   "cell_type": "code",
   "execution_count": 2,
   "id": "2f16679f-976b-4cdc-a7eb-0515355682e4",
   "metadata": {},
   "outputs": [],
   "source": [
    "from sklearn.feature_selection import RFE\n",
    "from sklearn.svm import SVR\n",
    "import pandas as pd\n",
    "import numpy as np"
   ]
  },
  {
   "cell_type": "code",
   "execution_count": 3,
   "id": "39de27e8-5c91-4cf0-8968-996d30552df8",
   "metadata": {},
   "outputs": [],
   "source": [
    "data = pd.read_csv('python-ml-course-master/datasets/ads/Advertising.csv')"
   ]
  },
  {
   "cell_type": "code",
   "execution_count": 4,
   "id": "7ef38975-c412-4f97-a4cf-f59a81822d66",
   "metadata": {},
   "outputs": [],
   "source": [
    "feature_cols = [\"TV\", \"Radio\", \"Newspaper\"]"
   ]
  },
  {
   "cell_type": "code",
   "execution_count": 5,
   "id": "abd446ed-6103-4968-8331-af2eddef557f",
   "metadata": {},
   "outputs": [],
   "source": [
    "x = data[feature_cols]  # Var. predictoras\n",
    "y = data[\"Sales\"]  # Var. a ser predecida"
   ]
  },
  {
   "cell_type": "code",
   "execution_count": 7,
   "id": "6bcdf3dd-465d-4976-aed9-cce6fa9299d4",
   "metadata": {},
   "outputs": [],
   "source": [
    "# Estimar un modelo lineal con el numero deseado de variables predictoras\n",
    "estimator = SVR(kernel=\"linear\")\n",
    "selector = RFE(estimator, n_features_to_select=2, step=1)\n",
    "selector = selector.fit(x, y)"
   ]
  },
  {
   "cell_type": "code",
   "execution_count": 8,
   "id": "0e5d227d-0fc6-4357-835f-0d0bc1b370b0",
   "metadata": {},
   "outputs": [
    {
     "data": {
      "text/plain": [
       "array([ True,  True, False])"
      ]
     },
     "execution_count": 8,
     "metadata": {},
     "output_type": "execute_result"
    }
   ],
   "source": [
    "# Ver variables seleccionadas (feature_cols) para el modelo\n",
    "selector.support_"
   ]
  },
  {
   "cell_type": "code",
   "execution_count": 9,
   "id": "c920f83d-35a9-42a8-a40c-9aa683bfef89",
   "metadata": {},
   "outputs": [
    {
     "data": {
      "text/plain": [
       "array([1, 1, 2])"
      ]
     },
     "execution_count": 9,
     "metadata": {},
     "output_type": "execute_result"
    }
   ],
   "source": [
    "# Ver ranking de variables\n",
    "selector.ranking_"
   ]
  },
  {
   "cell_type": "code",
   "execution_count": 10,
   "id": "508083cf-5e8a-4163-80a3-b53cbe7097a7",
   "metadata": {},
   "outputs": [],
   "source": [
    "# Regresion lineal\n",
    "from sklearn.linear_model import LinearRegression"
   ]
  },
  {
   "cell_type": "code",
   "execution_count": 12,
   "id": "bb0c0999-c04b-44eb-a6f5-607178a5f788",
   "metadata": {},
   "outputs": [],
   "source": [
    "x_pred = x[[\"TV\", \"Radio\"]]"
   ]
  },
  {
   "cell_type": "code",
   "execution_count": 13,
   "id": "a86c938b-8116-44d9-8621-3443923b1ff3",
   "metadata": {},
   "outputs": [
    {
     "data": {
      "text/plain": [
       "LinearRegression()"
      ]
     },
     "execution_count": 13,
     "metadata": {},
     "output_type": "execute_result"
    }
   ],
   "source": [
    "lm = LinearRegression()\n",
    "lm.fit(x_pred, y)"
   ]
  },
  {
   "cell_type": "code",
   "execution_count": 14,
   "id": "63f49c7b-db3d-4e8c-85c5-ba3501e5b6ec",
   "metadata": {},
   "outputs": [
    {
     "data": {
      "text/plain": [
       "2.921099912405138"
      ]
     },
     "execution_count": 14,
     "metadata": {},
     "output_type": "execute_result"
    }
   ],
   "source": [
    "# Intersepcion de ejes\n",
    "lm.intercept_"
   ]
  },
  {
   "cell_type": "code",
   "execution_count": 15,
   "id": "da8ccfa1-022b-4d07-9940-71284fe6ac18",
   "metadata": {},
   "outputs": [
    {
     "data": {
      "text/plain": [
       "array([0.04575482, 0.18799423])"
      ]
     },
     "execution_count": 15,
     "metadata": {},
     "output_type": "execute_result"
    }
   ],
   "source": [
    "# Coeficientes\n",
    "lm.coef_"
   ]
  },
  {
   "cell_type": "code",
   "execution_count": 16,
   "id": "7e977e6f-c28f-4cd2-ae52-848f4db18e58",
   "metadata": {},
   "outputs": [
    {
     "data": {
      "text/plain": [
       "0.8971942610828956"
      ]
     },
     "execution_count": 16,
     "metadata": {},
     "output_type": "execute_result"
    }
   ],
   "source": [
    "# R² ajustado\n",
    "lm.score(x_pred, y)"
   ]
  }
 ],
 "metadata": {
  "kernelspec": {
   "display_name": "Python 3",
   "language": "python",
   "name": "python3"
  },
  "language_info": {
   "codemirror_mode": {
    "name": "ipython",
    "version": 3
   },
   "file_extension": ".py",
   "mimetype": "text/x-python",
   "name": "python",
   "nbconvert_exporter": "python",
   "pygments_lexer": "ipython3",
   "version": "3.8.8"
  }
 },
 "nbformat": 4,
 "nbformat_minor": 5
}
