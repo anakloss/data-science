{
 "cells": [
  {
   "cell_type": "markdown",
   "id": "67d07885-d1fa-4b7b-8581-cccb0c69ecbb",
   "metadata": {},
   "source": [
    "# Regresión lineal en Python\n",
    "## El paquete scikit-learn para regresión lineal y la selección de rasgos"
   ]
  },
  {
   "cell_type": "code",
   "execution_count": 1,
   "id": "2f16679f-976b-4cdc-a7eb-0515355682e4",
   "metadata": {},
   "outputs": [],
   "source": [
    "from sklearn.feature_selection import RFE\n",
    "from sklearn.svm import SVR  # Support vector regression\n",
    "import pandas as pd\n",
    "import numpy as np"
   ]
  },
  {
   "cell_type": "markdown",
   "id": "cf2ea413",
   "metadata": {},
   "source": [
    "### Support Vector Regression\n",
    "Se basa en buscar la curva, con su respectivo máximo margen, que modele la tendencia de los datos y, según ella, predecir cualquier otro dato en el futuro.\n",
    "\n",
    "Todo lo que se encuentra fuera del rango es considerado error."
   ]
  },
  {
   "cell_type": "code",
   "execution_count": 4,
   "id": "39de27e8-5c91-4cf0-8968-996d30552df8",
   "metadata": {},
   "outputs": [
    {
     "data": {
      "text/html": [
       "<div>\n",
       "<style scoped>\n",
       "    .dataframe tbody tr th:only-of-type {\n",
       "        vertical-align: middle;\n",
       "    }\n",
       "\n",
       "    .dataframe tbody tr th {\n",
       "        vertical-align: top;\n",
       "    }\n",
       "\n",
       "    .dataframe thead th {\n",
       "        text-align: right;\n",
       "    }\n",
       "</style>\n",
       "<table border=\"1\" class=\"dataframe\">\n",
       "  <thead>\n",
       "    <tr style=\"text-align: right;\">\n",
       "      <th></th>\n",
       "      <th>TV</th>\n",
       "      <th>Radio</th>\n",
       "      <th>Newspaper</th>\n",
       "      <th>Sales</th>\n",
       "    </tr>\n",
       "  </thead>\n",
       "  <tbody>\n",
       "    <tr>\n",
       "      <th>0</th>\n",
       "      <td>230.1</td>\n",
       "      <td>37.8</td>\n",
       "      <td>69.2</td>\n",
       "      <td>22.1</td>\n",
       "    </tr>\n",
       "    <tr>\n",
       "      <th>1</th>\n",
       "      <td>44.5</td>\n",
       "      <td>39.3</td>\n",
       "      <td>45.1</td>\n",
       "      <td>10.4</td>\n",
       "    </tr>\n",
       "    <tr>\n",
       "      <th>2</th>\n",
       "      <td>17.2</td>\n",
       "      <td>45.9</td>\n",
       "      <td>69.3</td>\n",
       "      <td>9.3</td>\n",
       "    </tr>\n",
       "    <tr>\n",
       "      <th>3</th>\n",
       "      <td>151.5</td>\n",
       "      <td>41.3</td>\n",
       "      <td>58.5</td>\n",
       "      <td>18.5</td>\n",
       "    </tr>\n",
       "    <tr>\n",
       "      <th>4</th>\n",
       "      <td>180.8</td>\n",
       "      <td>10.8</td>\n",
       "      <td>58.4</td>\n",
       "      <td>12.9</td>\n",
       "    </tr>\n",
       "  </tbody>\n",
       "</table>\n",
       "</div>"
      ],
      "text/plain": [
       "      TV  Radio  Newspaper  Sales\n",
       "0  230.1   37.8       69.2   22.1\n",
       "1   44.5   39.3       45.1   10.4\n",
       "2   17.2   45.9       69.3    9.3\n",
       "3  151.5   41.3       58.5   18.5\n",
       "4  180.8   10.8       58.4   12.9"
      ]
     },
     "execution_count": 4,
     "metadata": {},
     "output_type": "execute_result"
    }
   ],
   "source": [
    "data = pd.read_csv('../python-ml-course-master/datasets/ads/Advertising.csv')\n",
    "data.head()"
   ]
  },
  {
   "cell_type": "code",
   "execution_count": 5,
   "id": "abd446ed-6103-4968-8331-af2eddef557f",
   "metadata": {},
   "outputs": [],
   "source": [
    "feature_cols = [\"TV\", \"Radio\", \"Newspaper\"]\n",
    "\n",
    "x = data[feature_cols]  # Var. independientes o predictoras\n",
    "y = data[\"Sales\"]  # Var. dependiente o a ser predecida"
   ]
  },
  {
   "cell_type": "code",
   "execution_count": 6,
   "id": "6bcdf3dd-465d-4976-aed9-cce6fa9299d4",
   "metadata": {},
   "outputs": [],
   "source": [
    "# Estimar un modelo lineal con el numero deseado de variables independientes\n",
    "estimator = SVR(kernel=\"linear\")\n",
    "selector = RFE(estimator, n_features_to_select=2, step=1)\n",
    "selector = selector.fit(x, y)  # Crea el modelo"
   ]
  },
  {
   "cell_type": "code",
   "execution_count": 7,
   "id": "0e5d227d-0fc6-4357-835f-0d0bc1b370b0",
   "metadata": {},
   "outputs": [
    {
     "data": {
      "text/plain": [
       "array([ True,  True, False])"
      ]
     },
     "execution_count": 7,
     "metadata": {},
     "output_type": "execute_result"
    }
   ],
   "source": [
    "# Ver variables seleccionadas (feature_cols) para el modelo\n",
    "selector.support_\n",
    "\n",
    "# Resultado: TV y Radio, y Newspaper fue rechazada"
   ]
  },
  {
   "cell_type": "code",
   "execution_count": 9,
   "id": "c920f83d-35a9-42a8-a40c-9aa683bfef89",
   "metadata": {},
   "outputs": [
    {
     "data": {
      "text/plain": [
       "array([1, 1, 2])"
      ]
     },
     "execution_count": 9,
     "metadata": {},
     "output_type": "execute_result"
    }
   ],
   "source": [
    "# Ver ranking de variables\n",
    "selector.ranking_"
   ]
  },
  {
   "cell_type": "code",
   "execution_count": 8,
   "id": "508083cf-5e8a-4163-80a3-b53cbe7097a7",
   "metadata": {},
   "outputs": [],
   "source": [
    "# Regresion lineal\n",
    "from sklearn.linear_model import LinearRegression"
   ]
  },
  {
   "cell_type": "code",
   "execution_count": 10,
   "id": "bb0c0999-c04b-44eb-a6f5-607178a5f788",
   "metadata": {},
   "outputs": [
    {
     "data": {
      "text/plain": [
       "LinearRegression()"
      ]
     },
     "execution_count": 10,
     "metadata": {},
     "output_type": "execute_result"
    }
   ],
   "source": [
    "# Crea modelo de las variables elegidas\n",
    "x_pred = x[[\"TV\", \"Radio\"]]\n",
    "lm = LinearRegression()\n",
    "lm.fit(x_pred, y)"
   ]
  },
  {
   "cell_type": "code",
   "execution_count": 11,
   "id": "63f49c7b-db3d-4e8c-85c5-ba3501e5b6ec",
   "metadata": {},
   "outputs": [
    {
     "data": {
      "text/plain": [
       "2.921099912405138"
      ]
     },
     "execution_count": 11,
     "metadata": {},
     "output_type": "execute_result"
    }
   ],
   "source": [
    "# Intersepcion de ejes\n",
    "lm.intercept_"
   ]
  },
  {
   "cell_type": "code",
   "execution_count": 12,
   "id": "da8ccfa1-022b-4d07-9940-71284fe6ac18",
   "metadata": {},
   "outputs": [
    {
     "data": {
      "text/plain": [
       "array([0.04575482, 0.18799423])"
      ]
     },
     "execution_count": 12,
     "metadata": {},
     "output_type": "execute_result"
    }
   ],
   "source": [
    "# Coeficientes\n",
    "lm.coef_"
   ]
  },
  {
   "cell_type": "code",
   "execution_count": 13,
   "id": "7e977e6f-c28f-4cd2-ae52-848f4db18e58",
   "metadata": {},
   "outputs": [
    {
     "data": {
      "text/plain": [
       "0.8971942610828957"
      ]
     },
     "execution_count": 13,
     "metadata": {},
     "output_type": "execute_result"
    }
   ],
   "source": [
    "# R² ajustado\n",
    "lm.score(x_pred, y)"
   ]
  }
 ],
 "metadata": {
  "kernelspec": {
   "display_name": "Python 3.9.12 ('base')",
   "language": "python",
   "name": "python3"
  },
  "language_info": {
   "codemirror_mode": {
    "name": "ipython",
    "version": 3
   },
   "file_extension": ".py",
   "mimetype": "text/x-python",
   "name": "python",
   "nbconvert_exporter": "python",
   "pygments_lexer": "ipython3",
   "version": "3.9.12"
  },
  "vscode": {
   "interpreter": {
    "hash": "d24f5056fa93fad02cd97a7dfb03056fb715df0d8915a74e77b9bc93ce767292"
   }
  }
 },
 "nbformat": 4,
 "nbformat_minor": 5
}
