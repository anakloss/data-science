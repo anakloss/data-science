{
 "cells": [
  {
   "cell_type": "markdown",
   "id": "c3dfba43-2f1d-4879-a9b3-771bbc178da3",
   "metadata": {},
   "source": [
    "# Modelos de Regresión Lineal\n",
    "La regresión lineal es una técnica de modelado estadístico que se emplea para describir una variable de respuesta continua como una función de una o varias variables predictoras.\n",
    "\n",
    "$ Y_e = α + β * x $\n",
    "\n",
    "Si somos capaces de calcular *α* y *β* que satisfaga la condición, entonces tenemos una ecuación capaz de predecir los valores de Y (valores de salida) de las variables de entrada X.\n",
    "\n",
    "## Modelo con Datos simulados\n",
    "* Regresión lineal: $ Y_e = α + β * x $\n",
    "    * X : 100 valores distribuídos según una $ N(1.5, 2.5) $\n",
    "    * $ Y = 5 + 1,9 * x + ε $\n",
    "* Componente de error: $ Y = α + β * x + ε $\n",
    "* ε estará distribuído según una $ N(0, 0.8) $"
   ]
  },
  {
   "cell_type": "code",
   "execution_count": 1,
   "id": "82725307-6071-4640-942d-812a5923e909",
   "metadata": {},
   "outputs": [],
   "source": [
    "import pandas as pd\n",
    "import numpy as np\n",
    "import matplotlib.pyplot as plt"
   ]
  },
  {
   "cell_type": "code",
   "execution_count": 2,
   "id": "4068b20e-8d93-4ab0-97ef-195d7b203000",
   "metadata": {},
   "outputs": [],
   "source": [
    "# N(1.5, 2.5)\n",
    "x = 1.5 + 2.5 * np.random.randn(100)\n",
    "# Error: N(0, 0.8)\n",
    "e = 0 + 0.8 * np.random.randn(100)"
   ]
  },
  {
   "cell_type": "code",
   "execution_count": 3,
   "id": "3b86bbc4-5381-4ab7-8c4a-e4c1a6166594",
   "metadata": {},
   "outputs": [],
   "source": [
    "# Funciones\n",
    "y_pred = 5 + 1.9 * x\n",
    "y_act = 5 + 1.9 * x + e"
   ]
  },
  {
   "cell_type": "code",
   "execution_count": 4,
   "id": "be05d1db-01b9-40a8-a0be-4eb1e3609fe3",
   "metadata": {},
   "outputs": [],
   "source": [
    "# Pasar a lista\n",
    "x_list = x.tolist()\n",
    "y_pred_list = y_pred.tolist()\n",
    "y_act_list = y_act.tolist()"
   ]
  },
  {
   "cell_type": "code",
   "execution_count": 5,
   "id": "e0891307-536f-4f38-b8c5-4e4834392e47",
   "metadata": {},
   "outputs": [],
   "source": [
    "# Crear dataframe\n",
    "data = pd.DataFrame({\n",
    "    \"x\": x_list,\n",
    "    \"y\": y_act_list,\n",
    "    \"y_pred\": y_pred_list,\n",
    "})"
   ]
  },
  {
   "cell_type": "code",
   "execution_count": 6,
   "id": "feb2da28-839d-4205-8a4e-ceda94c75f75",
   "metadata": {},
   "outputs": [
    {
     "data": {
      "text/html": [
       "<div>\n",
       "<style scoped>\n",
       "    .dataframe tbody tr th:only-of-type {\n",
       "        vertical-align: middle;\n",
       "    }\n",
       "\n",
       "    .dataframe tbody tr th {\n",
       "        vertical-align: top;\n",
       "    }\n",
       "\n",
       "    .dataframe thead th {\n",
       "        text-align: right;\n",
       "    }\n",
       "</style>\n",
       "<table border=\"1\" class=\"dataframe\">\n",
       "  <thead>\n",
       "    <tr style=\"text-align: right;\">\n",
       "      <th></th>\n",
       "      <th>x</th>\n",
       "      <th>y</th>\n",
       "      <th>y_pred</th>\n",
       "    </tr>\n",
       "  </thead>\n",
       "  <tbody>\n",
       "    <tr>\n",
       "      <th>0</th>\n",
       "      <td>-0.683532</td>\n",
       "      <td>3.138522</td>\n",
       "      <td>3.701290</td>\n",
       "    </tr>\n",
       "    <tr>\n",
       "      <th>1</th>\n",
       "      <td>1.878343</td>\n",
       "      <td>8.496090</td>\n",
       "      <td>8.568853</td>\n",
       "    </tr>\n",
       "    <tr>\n",
       "      <th>2</th>\n",
       "      <td>2.369284</td>\n",
       "      <td>9.816271</td>\n",
       "      <td>9.501640</td>\n",
       "    </tr>\n",
       "    <tr>\n",
       "      <th>3</th>\n",
       "      <td>1.906205</td>\n",
       "      <td>8.375383</td>\n",
       "      <td>8.621790</td>\n",
       "    </tr>\n",
       "    <tr>\n",
       "      <th>4</th>\n",
       "      <td>2.979314</td>\n",
       "      <td>10.450046</td>\n",
       "      <td>10.660696</td>\n",
       "    </tr>\n",
       "  </tbody>\n",
       "</table>\n",
       "</div>"
      ],
      "text/plain": [
       "          x          y     y_pred\n",
       "0 -0.683532   3.138522   3.701290\n",
       "1  1.878343   8.496090   8.568853\n",
       "2  2.369284   9.816271   9.501640\n",
       "3  1.906205   8.375383   8.621790\n",
       "4  2.979314  10.450046  10.660696"
      ]
     },
     "execution_count": 6,
     "metadata": {},
     "output_type": "execute_result"
    }
   ],
   "source": [
    "data.head()"
   ]
  },
  {
   "cell_type": "code",
   "execution_count": 7,
   "id": "ab979b4f-f78c-47df-90bb-368a50c809da",
   "metadata": {},
   "outputs": [],
   "source": [
    "# Promedio de valores actuales\n",
    "y_mean = [np.mean(y_act) for i in range(1, len(x_list) + 1)]"
   ]
  },
  {
   "cell_type": "code",
   "execution_count": 32,
   "id": "e1c35067-6ffb-44e5-8125-b95a73564f1e",
   "metadata": {},
   "outputs": [
    {
     "data": {
      "text/plain": [
       "Text(0.5, 1.0, 'Valor actual vs Predicción')"
      ]
     },
     "execution_count": 32,
     "metadata": {},
     "output_type": "execute_result"
    },
    {
     "data": {
      "image/png": "[encoded data removed]",
      "text/plain": [
       "<Figure size 640x480 with 1 Axes>"
      ]
     },
     "metadata": {},
     "output_type": "display_data"
    }
   ],
   "source": [
    "%matplotlib inline\n",
    "plt.plot(x, y_pred)  # predicción (linea azul)\n",
    "plt.plot(x, y_act, \"ro\")  # valores actuales\n",
    "plt.plot(x, y_mean, \"g\")  # valores medios\n",
    "plt.title(\"Valor actual vs Predicción\")"
   ]
  },
  {
   "cell_type": "markdown",
   "id": "cd963a7f",
   "metadata": {},
   "source": [
    "### Representaciones\n",
    "* **SST** *(Suma de los cuadrados totales)* representa la distancia entre el dato observado y la media.\n",
    "* **SSD** *(Suma de los cuadrados de la diferencia)* representa la distancia entre el dato observado y la predicción.\n",
    "* **SSR** *(Suma de los cuadrados de la regresión)* representa la distancia entre la media y la predicción."
   ]
  },
  {
   "cell_type": "markdown",
   "id": "1d18c4e4-c8bc-4b56-a7a6-ffa4c156c271",
   "metadata": {},
   "source": [
    "## ¿Como es la predicción de buena?\n",
    "* SST : Variabilidad de los datos con respecto de su media    SST = SSD + SSR\n",
    "* SSD : Diferencia entre los datos originales y las predicciones que el modelo no es capaz de explicar (errores que deberían seguir una distribución normal)\n",
    "* SSR : Diferencia entre la regresión y el valor medio que el modelo busca explicar\n",
    "* $ R^2 = SSR / SST $, coeficiente de determinación entre 0 y 1. Mientras más cerca esté de 1, mejor es el modelo."
   ]
  },
  {
   "cell_type": "code",
   "execution_count": 9,
   "id": "5ccc86f0-3364-4526-9bdb-4dfa312f783b",
   "metadata": {},
   "outputs": [],
   "source": [
    "# Promedio de los datos actuales\n",
    "y_m = np.mean(y_act)\n",
    "\n",
    "data[\"SSR\"] = (data[\"y_pred\"] - y_m)**2\n",
    "data[\"SSD\"] = (data[\"y_pred\"] - data[\"y\"])**2\n",
    "data[\"SST\"] = (data[\"y\"] - y_m)**2"
   ]
  },
  {
   "cell_type": "code",
   "execution_count": 10,
   "id": "da134e54-2760-4da3-9379-e9cd8dd3c1be",
   "metadata": {},
   "outputs": [
    {
     "data": {
      "text/html": [
       "<div>\n",
       "<style scoped>\n",
       "    .dataframe tbody tr th:only-of-type {\n",
       "        vertical-align: middle;\n",
       "    }\n",
       "\n",
       "    .dataframe tbody tr th {\n",
       "        vertical-align: top;\n",
       "    }\n",
       "\n",
       "    .dataframe thead th {\n",
       "        text-align: right;\n",
       "    }\n",
       "</style>\n",
       "<table border=\"1\" class=\"dataframe\">\n",
       "  <thead>\n",
       "    <tr style=\"text-align: right;\">\n",
       "      <th></th>\n",
       "      <th>x</th>\n",
       "      <th>y</th>\n",
       "      <th>y_pred</th>\n",
       "      <th>SSR</th>\n",
       "      <th>SSD</th>\n",
       "      <th>SST</th>\n",
       "    </tr>\n",
       "  </thead>\n",
       "  <tbody>\n",
       "    <tr>\n",
       "      <th>0</th>\n",
       "      <td>-0.683532</td>\n",
       "      <td>3.138522</td>\n",
       "      <td>3.701290</td>\n",
       "      <td>13.775398</td>\n",
       "      <td>0.316707</td>\n",
       "      <td>18.269555</td>\n",
       "    </tr>\n",
       "    <tr>\n",
       "      <th>1</th>\n",
       "      <td>1.878343</td>\n",
       "      <td>8.496090</td>\n",
       "      <td>8.568853</td>\n",
       "      <td>1.336429</td>\n",
       "      <td>0.005294</td>\n",
       "      <td>1.173490</td>\n",
       "    </tr>\n",
       "    <tr>\n",
       "      <th>2</th>\n",
       "      <td>2.369284</td>\n",
       "      <td>9.816271</td>\n",
       "      <td>9.501640</td>\n",
       "      <td>4.363199</td>\n",
       "      <td>0.098993</td>\n",
       "      <td>5.776614</td>\n",
       "    </tr>\n",
       "    <tr>\n",
       "      <th>3</th>\n",
       "      <td>1.906205</td>\n",
       "      <td>8.375383</td>\n",
       "      <td>8.621790</td>\n",
       "      <td>1.461626</td>\n",
       "      <td>0.060716</td>\n",
       "      <td>0.926542</td>\n",
       "    </tr>\n",
       "    <tr>\n",
       "      <th>4</th>\n",
       "      <td>2.979314</td>\n",
       "      <td>10.450046</td>\n",
       "      <td>10.660696</td>\n",
       "      <td>10.548747</td>\n",
       "      <td>0.044373</td>\n",
       "      <td>9.224791</td>\n",
       "    </tr>\n",
       "  </tbody>\n",
       "</table>\n",
       "</div>"
      ],
      "text/plain": [
       "          x          y     y_pred        SSR       SSD        SST\n",
       "0 -0.683532   3.138522   3.701290  13.775398  0.316707  18.269555\n",
       "1  1.878343   8.496090   8.568853   1.336429  0.005294   1.173490\n",
       "2  2.369284   9.816271   9.501640   4.363199  0.098993   5.776614\n",
       "3  1.906205   8.375383   8.621790   1.461626  0.060716   0.926542\n",
       "4  2.979314  10.450046  10.660696  10.548747  0.044373   9.224791"
      ]
     },
     "execution_count": 10,
     "metadata": {},
     "output_type": "execute_result"
    }
   ],
   "source": [
    "data.head()"
   ]
  },
  {
   "cell_type": "code",
   "execution_count": 11,
   "id": "629c18d2-ed20-43f2-872d-7672455437e2",
   "metadata": {},
   "outputs": [],
   "source": [
    "SSR = sum(data[\"SSR\"])\n",
    "SSD = sum(data[\"SSD\"])\n",
    "SST = sum(data[\"SST\"])"
   ]
  },
  {
   "cell_type": "code",
   "execution_count": 12,
   "id": "dfaa02d0-344a-46ab-95d2-5d657ee78cd7",
   "metadata": {},
   "outputs": [
    {
     "data": {
      "text/plain": [
       "2364.9748960923826"
      ]
     },
     "execution_count": 12,
     "metadata": {},
     "output_type": "execute_result"
    }
   ],
   "source": [
    "SSR"
   ]
  },
  {
   "cell_type": "code",
   "execution_count": 13,
   "id": "775f5d2c-6428-49c6-b053-9943b2ca4a99",
   "metadata": {},
   "outputs": [
    {
     "data": {
      "text/plain": [
       "65.91865840554108"
      ]
     },
     "execution_count": 13,
     "metadata": {},
     "output_type": "execute_result"
    }
   ],
   "source": [
    "# Valores que no pueden ser explicados por el modelo\n",
    "SSD"
   ]
  },
  {
   "cell_type": "code",
   "execution_count": 14,
   "id": "6abba964-d33f-4c29-89f9-31556d912812",
   "metadata": {},
   "outputs": [
    {
     "data": {
      "text/plain": [
       "2424.8199544196805"
      ]
     },
     "execution_count": 14,
     "metadata": {},
     "output_type": "execute_result"
    }
   ],
   "source": [
    "# Valores totales\n",
    "SST"
   ]
  },
  {
   "cell_type": "code",
   "execution_count": 15,
   "id": "e0008bc0-7ee1-4c9c-9258-18365252512f",
   "metadata": {},
   "outputs": [
    {
     "data": {
      "text/plain": [
       "2430.8935544979236"
      ]
     },
     "execution_count": 15,
     "metadata": {},
     "output_type": "execute_result"
    }
   ],
   "source": [
    "SSR+SSD"
   ]
  },
  {
   "cell_type": "code",
   "execution_count": 16,
   "id": "554ff3c2-5a12-4c25-b574-dbad42353b7f",
   "metadata": {},
   "outputs": [
    {
     "data": {
      "text/plain": [
       "0.9753197930352646"
      ]
     },
     "execution_count": 16,
     "metadata": {},
     "output_type": "execute_result"
    }
   ],
   "source": [
    "# R2 = 0.97 sugiere que la predicción es bastante acertada\n",
    "R2 = SSR/SST\n",
    "R2"
   ]
  },
  {
   "cell_type": "code",
   "execution_count": 17,
   "id": "cf1a4cfb-42e8-48df-90b7-f7974316c972",
   "metadata": {},
   "outputs": [
    {
     "data": {
      "text/plain": [
       "(array([ 3.,  3.,  4.,  9., 12., 18., 24.,  9., 13.,  5.]),\n",
       " array([-13.09079514, -10.80141938,  -8.51204363,  -6.22266787,\n",
       "         -3.93329211,  -1.64391636,   0.6454594 ,   2.93483516,\n",
       "          5.22421092,   7.51358667,   9.80296243]),\n",
       " <BarContainer object of 10 artists>)"
      ]
     },
     "execution_count": 17,
     "metadata": {},
     "output_type": "execute_result"
    },
    {
     "data": {
      "image/png": "[encoded data removed]",
      "text/plain": [
       "<Figure size 640x480 with 1 Axes>"
      ]
     },
     "metadata": {},
     "output_type": "display_data"
    }
   ],
   "source": [
    "# SSD sin el cuadrado se distribuye según la Normal\n",
    "plt.hist(data[\"y_pred\"] - np.mean(y_act))"
   ]
  },
  {
   "cell_type": "markdown",
   "id": "c4df28b3-d2fb-4657-b139-674a31bb3ae1",
   "metadata": {},
   "source": [
    "## Obteniendo la Recta de Regresión\n",
    "* $ y = α + β \\cdot x $\n",
    "\n",
    "* $ β = \\frac{\\sum_{i=1}^{n} (x_i - \\bar{x})(y_i - \\bar{y})}{\\sum_{i=1}^{n} (x_i - \\bar{x})^2} $\n",
    "* $ α = \\bar{y} - β \\cdot \\bar{x} $"
   ]
  },
  {
   "cell_type": "code",
   "execution_count": 18,
   "id": "44fdc0da-3923-4aba-b3d8-1322ad7288b0",
   "metadata": {},
   "outputs": [],
   "source": [
    "# Promedio de x y promedio de y\n",
    "x_mean = np.mean(data[\"x\"])\n",
    "y_mean = np.mean(data[\"y\"])"
   ]
  },
  {
   "cell_type": "code",
   "execution_count": 34,
   "id": "7c11cfc2-0bd8-4cb8-a2ac-287b953e001f",
   "metadata": {},
   "outputs": [],
   "source": [
    "# Calculo de β\n",
    "data[\"beta_n\"] = (data[\"x\"] - x_mean) * (data[\"y\"] - y_mean)\n",
    "data[\"beta_d\"] = (data[\"x\"] - x_mean)**2\n",
    "beta = sum(data[\"beta_n\"]) / sum(data[\"beta_d\"])"
   ]
  },
  {
   "cell_type": "code",
   "execution_count": 21,
   "id": "d3b0d9ea-95cf-4166-bd65-70eb7026ea66",
   "metadata": {},
   "outputs": [],
   "source": [
    "# Calculo de α\n",
    "alpha = y_mean - beta * x_mean"
   ]
  },
  {
   "cell_type": "code",
   "execution_count": 22,
   "id": "5bc3d262-7733-4167-9f37-17a3302f3be6",
   "metadata": {},
   "outputs": [
    {
     "data": {
      "text/plain": [
       "(4.8544925947632045, 1.8992832314616228)"
      ]
     },
     "execution_count": 22,
     "metadata": {},
     "output_type": "execute_result"
    }
   ],
   "source": [
    "alpha, beta"
   ]
  },
  {
   "cell_type": "code",
   "execution_count": 23,
   "id": "279a51b0-10a1-4338-82c9-e1c93e1b2657",
   "metadata": {},
   "outputs": [],
   "source": [
    "# Calculo del modelo lineal obtenido por regresion = y\n",
    "data[\"y_model\"] = alpha + beta * data[\"x\"]"
   ]
  },
  {
   "cell_type": "code",
   "execution_count": 24,
   "id": "54ea13ac-5caf-4877-9ab6-b2a60c50954a",
   "metadata": {},
   "outputs": [
    {
     "data": {
      "text/html": [
       "<div>\n",
       "<style scoped>\n",
       "    .dataframe tbody tr th:only-of-type {\n",
       "        vertical-align: middle;\n",
       "    }\n",
       "\n",
       "    .dataframe tbody tr th {\n",
       "        vertical-align: top;\n",
       "    }\n",
       "\n",
       "    .dataframe thead th {\n",
       "        text-align: right;\n",
       "    }\n",
       "</style>\n",
       "<table border=\"1\" class=\"dataframe\">\n",
       "  <thead>\n",
       "    <tr style=\"text-align: right;\">\n",
       "      <th></th>\n",
       "      <th>x</th>\n",
       "      <th>y</th>\n",
       "      <th>y_pred</th>\n",
       "      <th>SSR</th>\n",
       "      <th>SSD</th>\n",
       "      <th>SST</th>\n",
       "      <th>beta_n</th>\n",
       "      <th>beta_d</th>\n",
       "      <th>y_model</th>\n",
       "    </tr>\n",
       "  </thead>\n",
       "  <tbody>\n",
       "    <tr>\n",
       "      <th>0</th>\n",
       "      <td>-0.683532</td>\n",
       "      <td>3.138522</td>\n",
       "      <td>3.701290</td>\n",
       "      <td>13.775398</td>\n",
       "      <td>0.316707</td>\n",
       "      <td>18.269555</td>\n",
       "      <td>8.679047</td>\n",
       "      <td>4.123027</td>\n",
       "      <td>3.556273</td>\n",
       "    </tr>\n",
       "    <tr>\n",
       "      <th>1</th>\n",
       "      <td>1.878343</td>\n",
       "      <td>8.496090</td>\n",
       "      <td>8.568853</td>\n",
       "      <td>1.336429</td>\n",
       "      <td>0.005294</td>\n",
       "      <td>1.173490</td>\n",
       "      <td>0.575601</td>\n",
       "      <td>0.282334</td>\n",
       "      <td>8.421999</td>\n",
       "    </tr>\n",
       "    <tr>\n",
       "      <th>2</th>\n",
       "      <td>2.369284</td>\n",
       "      <td>9.816271</td>\n",
       "      <td>9.501640</td>\n",
       "      <td>4.363199</td>\n",
       "      <td>0.098993</td>\n",
       "      <td>5.776614</td>\n",
       "      <td>2.457036</td>\n",
       "      <td>1.045080</td>\n",
       "      <td>9.354434</td>\n",
       "    </tr>\n",
       "    <tr>\n",
       "      <th>3</th>\n",
       "      <td>1.906205</td>\n",
       "      <td>8.375383</td>\n",
       "      <td>8.621790</td>\n",
       "      <td>1.461626</td>\n",
       "      <td>0.060716</td>\n",
       "      <td>0.926542</td>\n",
       "      <td>0.538282</td>\n",
       "      <td>0.312719</td>\n",
       "      <td>8.474916</td>\n",
       "    </tr>\n",
       "    <tr>\n",
       "      <th>4</th>\n",
       "      <td>2.979314</td>\n",
       "      <td>10.450046</td>\n",
       "      <td>10.660696</td>\n",
       "      <td>10.548747</td>\n",
       "      <td>0.044373</td>\n",
       "      <td>9.224791</td>\n",
       "      <td>4.957742</td>\n",
       "      <td>2.664473</td>\n",
       "      <td>10.513053</td>\n",
       "    </tr>\n",
       "  </tbody>\n",
       "</table>\n",
       "</div>"
      ],
      "text/plain": [
       "          x          y     y_pred        SSR       SSD        SST    beta_n  \\\n",
       "0 -0.683532   3.138522   3.701290  13.775398  0.316707  18.269555  8.679047   \n",
       "1  1.878343   8.496090   8.568853   1.336429  0.005294   1.173490  0.575601   \n",
       "2  2.369284   9.816271   9.501640   4.363199  0.098993   5.776614  2.457036   \n",
       "3  1.906205   8.375383   8.621790   1.461626  0.060716   0.926542  0.538282   \n",
       "4  2.979314  10.450046  10.660696  10.548747  0.044373   9.224791  4.957742   \n",
       "\n",
       "     beta_d    y_model  \n",
       "0  4.123027   3.556273  \n",
       "1  0.282334   8.421999  \n",
       "2  1.045080   9.354434  \n",
       "3  0.312719   8.474916  \n",
       "4  2.664473  10.513053  "
      ]
     },
     "execution_count": 24,
     "metadata": {},
     "output_type": "execute_result"
    }
   ],
   "source": [
    "data.head()"
   ]
  },
  {
   "cell_type": "markdown",
   "id": "479ee90d",
   "metadata": {},
   "source": [
    "### Análisis de Modelo de regresión con la recta"
   ]
  },
  {
   "cell_type": "code",
   "execution_count": 39,
   "id": "8c4e3f7c-a87f-4617-99e8-bf1b51debcbd",
   "metadata": {},
   "outputs": [
    {
     "data": {
      "text/plain": [
       "(2361.047062939131, 63.77289148054722, 2424.8199544196805)"
      ]
     },
     "execution_count": 39,
     "metadata": {},
     "output_type": "execute_result"
    }
   ],
   "source": [
    "SSR = sum((data[\"y_model\"] - y_mean)**2)\n",
    "SSD = sum((data[\"y_model\"] - data[\"y\"])**2)\n",
    "SST = sum((data[\"y\"] - y_mean)**2)\n",
    "\n",
    "SSR, SSD, SST"
   ]
  },
  {
   "cell_type": "code",
   "execution_count": 40,
   "id": "c5bbcdd1-882d-482c-985b-43d402981d4c",
   "metadata": {},
   "outputs": [
    {
     "data": {
      "text/plain": [
       "0.9736999477572298"
      ]
     },
     "execution_count": 40,
     "metadata": {},
     "output_type": "execute_result"
    }
   ],
   "source": [
    "R2 = SSR/SST\n",
    "R2"
   ]
  },
  {
   "cell_type": "code",
   "execution_count": 41,
   "id": "71b0d1e1-5898-4fcd-856b-f723b4636ecc",
   "metadata": {},
   "outputs": [
    {
     "data": {
      "text/plain": [
       "Text(0.5, 1.0, 'Valor actual vs Predicción')"
      ]
     },
     "execution_count": 41,
     "metadata": {},
     "output_type": "execute_result"
    },
    {
     "data": {
      "image/png": "[encoded data removed]",
      "text/plain": [
       "<Figure size 640x480 with 1 Axes>"
      ]
     },
     "metadata": {},
     "output_type": "display_data"
    }
   ],
   "source": [
    "y_mean = [np.mean(y_act) for i in range(1, len(x_list) + 1)]\n",
    "\n",
    "%matplotlib inline\n",
    "plt.plot(data[\"x\"], data[\"y_pred\"])  # Prediccion (linea azul)\n",
    "plt.plot(data[\"x\"], data[\"y\"], \"ro\")  # Valores dados\n",
    "plt.plot(data[\"x\"], y_mean, \"g\")  # Valores medios\n",
    "plt.plot(data[\"x\"], data[\"y_model\"]) # Prediccion (actual)\n",
    "plt.title(\"Valor actual vs Predicción\")"
   ]
  },
  {
   "cell_type": "markdown",
   "id": "bea8c23c-0f5f-413e-ada1-ac9dd22afab0",
   "metadata": {},
   "source": [
    "## Error Estandar de los Residuos (RSE)\n",
    "Es la desviación estándar del término del error (desviación de la parte de datos que el modelo no es capaz de explicar por falta de información o más datos adicionales)\n",
    "\n",
    "* En el caso de una regresión lineal simple\n",
    "\n",
    "$ RSE = \\sqrt{ \\frac{ \\sum(y_i - y(x_i))^2 }{n - 2} } = \\sqrt{ \\frac{SSD}{n-2} }$\n",
    "\n",
    "* En el caso de una regresión lineal múltiple (k = número de variables predictoras)\n",
    "\n",
    "$ RSE = \\sqrt{ \\frac{SSD}{n - k - 1} } $"
   ]
  },
  {
   "cell_type": "code",
   "execution_count": 29,
   "id": "5468fa7a-d4ea-4de5-856f-c498d9dc3251",
   "metadata": {},
   "outputs": [
    {
     "data": {
      "text/plain": [
       "0.820145945234818"
      ]
     },
     "execution_count": 29,
     "metadata": {},
     "output_type": "execute_result"
    }
   ],
   "source": [
    "RSE = np.sqrt(SSD/(len(data)-2))\n",
    "RSE"
   ]
  },
  {
   "cell_type": "code",
   "execution_count": 30,
   "id": "a5ee83f7-5484-465a-8d1c-d24c24159fa3",
   "metadata": {},
   "outputs": [],
   "source": [
    "aux = np.mean(data[\"y\"])"
   ]
  },
  {
   "cell_type": "code",
   "execution_count": 31,
   "id": "d104c0e1-67ce-4b49-8bba-389e38637aa1",
   "metadata": {},
   "outputs": [
    {
     "data": {
      "text/plain": [
       "0.11063897354278365"
      ]
     },
     "execution_count": 31,
     "metadata": {},
     "output_type": "execute_result"
    }
   ],
   "source": [
    "RSE/aux"
   ]
  }
 ],
 "metadata": {
  "kernelspec": {
   "display_name": "Python 3.8.8 ('base')",
   "language": "python",
   "name": "python3"
  },
  "language_info": {
   "codemirror_mode": {
    "name": "ipython",
    "version": 3
   },
   "file_extension": ".py",
   "mimetype": "text/x-python",
   "name": "python",
   "nbconvert_exporter": "python",
   "pygments_lexer": "ipython3",
   "version": "3.8.8"
  },
  "vscode": {
   "interpreter": {
    "hash": "3d63f5f6077cdf008518d0c11b0b48c8e061165f0765851b39a63df06e8ff1d8"
   }
  }
 },
 "nbformat": 4,
 "nbformat_minor": 5
}
