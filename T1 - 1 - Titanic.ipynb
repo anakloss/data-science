{
 "cells": [
  {
   "cell_type": "markdown",
   "id": "israeli-sheet",
   "metadata": {},
   "source": [
    "# Carga de datos a través de la función read_csv"
   ]
  },
  {
   "cell_type": "code",
   "execution_count": 2,
   "id": "everyday-mixture",
   "metadata": {},
   "outputs": [],
   "source": [
    "import pandas as pd\n",
    "import os"
   ]
  },
  {
   "cell_type": "code",
   "execution_count": null,
   "id": "emotional-bride",
   "metadata": {},
   "outputs": [],
   "source": [
    "mainpath = \"../python-ml-course-master/datasets/\"\n",
    "filename = \"titanic/titanic3.csv\"\n",
    "fullpath = os.path.join(mainpath, filename)"
   ]
  },
  {
   "cell_type": "code",
   "execution_count": null,
   "id": "settled-handling",
   "metadata": {},
   "outputs": [],
   "source": [
    "data = pd.read_csv(fullpath)"
   ]
  },
  {
   "cell_type": "code",
   "execution_count": null,
   "id": "baking-tenant",
   "metadata": {},
   "outputs": [],
   "source": [
    "data.head()"
   ]
  },
  {
   "cell_type": "markdown",
   "id": "solid-questionnaire",
   "metadata": {},
   "source": [
    "## Ejemplo de los parámetros de la función read_csv\n",
    "### Parametros de la función read_csv\n",
    "pd.read_csv(filepath=\"/home/ana/Proyectos/ML/python-ml-course/datasets/titanic/titanic3.csv\", sep=\",\", dtype={'ingresos': np.float64, 'edad': np.int32}, header=0, names={\"ingresos\", \"edad\"}, skiprows=12, index_col=None, skip_blank_lines=False, na_filter=False)\n",
    "\n",
    "p/d: np = libreria numpy que se utiliza para formatear columna en dtype\n",
    "header = expecificar fila de cabecera\n",
    "names = formatea los nombres de cabecera. Se deben pasar todos los nombres de las columnas.\n",
    "skiprows = saltar filas \n",
    "index_col = formatea columna del dataset con la informacion pasada\n",
    "skip_blank_lines = saltear valores vacios o en blanco\n",
    "na_filter = elimina valores vacios o NaN\n"
   ]
  },
  {
   "cell_type": "code",
   "execution_count": null,
   "id": "republican-commissioner",
   "metadata": {},
   "outputs": [],
   "source": [
    "data2 = pd.read_csv(mainpath + \"/customer-churn-model/Customer Churn Model.txt\")"
   ]
  },
  {
   "cell_type": "code",
   "execution_count": null,
   "id": "unexpected-energy",
   "metadata": {},
   "outputs": [],
   "source": [
    "data2.head()"
   ]
  },
  {
   "cell_type": "code",
   "execution_count": null,
   "id": "analyzed-might",
   "metadata": {},
   "outputs": [],
   "source": [
    "data2.columns.values"
   ]
  },
  {
   "cell_type": "code",
   "execution_count": null,
   "id": "miniature-combination",
   "metadata": {},
   "outputs": [],
   "source": [
    "data_cols = pd.read_csv(mainpath + \"/customer-churn-model/Customer Churn Columns.csv\")\n",
    "data_cols_list = data_cols['Column_Names'].tolist()\n",
    "data2 = pd.read_csv(mainpath + \"/customer-churn-model/Customer Churn Model.txt\", header=None, names=data_cols_list)\n",
    "data2.columns.values\n"
   ]
  },
  {
   "cell_type": "markdown",
   "id": "sustained-berry",
   "metadata": {},
   "source": [
    "#### Notas\n",
    ".columns.values = array con los nombres de columnas\n",
    "header=None, names=data_cols_list para cambiar cabecera original por la creada anteriormente\n"
   ]
  },
  {
   "cell_type": "markdown",
   "id": "anonymous-arrest",
   "metadata": {},
   "source": [
    "# Carga de datos a través de la función open "
   ]
  },
  {
   "cell_type": "code",
   "execution_count": null,
   "id": "verbal-discount",
   "metadata": {},
   "outputs": [],
   "source": [
    "data3 = open(mainpath + \"/customer-churn-model/Customer Churn Model.txt\", \"r\")"
   ]
  },
  {
   "cell_type": "code",
   "execution_count": null,
   "id": "written-mechanism",
   "metadata": {},
   "outputs": [],
   "source": [
    "cols = data3.readline().strip().split(\",\")\n",
    "n_cols = len(cols)"
   ]
  },
  {
   "cell_type": "code",
   "execution_count": null,
   "id": "tutorial-arnold",
   "metadata": {},
   "outputs": [],
   "source": [
    "count = 0\n",
    "main_dict = {}\n",
    "for col in cols:\n",
    "    main_dict[col] = []"
   ]
  },
  {
   "cell_type": "code",
   "execution_count": null,
   "id": "attended-ecology",
   "metadata": {},
   "outputs": [],
   "source": [
    "for line in data3:\n",
    "    values = line.strip().split(\",\")\n",
    "    for i in range(len(cols)):\n",
    "        main_dict[cols[i]].append(values[i])\n",
    "    count += 1\n",
    "\n",
    "print(\"El data set tiene %d filas y %d columnas\" % (count, n_cols))"
   ]
  },
  {
   "cell_type": "code",
   "execution_count": null,
   "id": "fuzzy-lender",
   "metadata": {},
   "outputs": [],
   "source": [
    "df3 = pd.DataFrame(main_dict)\n",
    "df3.head()"
   ]
  },
  {
   "cell_type": "markdown",
   "id": "muslim-heating",
   "metadata": {},
   "source": [
    "## Lectura y escritura de ficheros"
   ]
  },
  {
   "cell_type": "code",
   "execution_count": null,
   "id": "nutritional-operations",
   "metadata": {},
   "outputs": [],
   "source": [
    "infile = mainpath + \"/customer-churn-model/Customer Churn Model.txt\"\n",
    "outfile = \"/home/ana/Proyectos/ML/scripts/Tab Customer Churn Model.txt\""
   ]
  },
  {
   "cell_type": "code",
   "execution_count": null,
   "id": "effective-bolivia",
   "metadata": {},
   "outputs": [],
   "source": [
    "with open(infile, \"r\") as infile1:\n",
    "    with open(outfile, \"w\") as outfile1:\n",
    "        for line in infile1:\n",
    "            fields = line.strip().split(\",\")\n",
    "            outfile1.write(\"\\t\".join(fields))\n",
    "            outfile1.write(\"\\n\")"
   ]
  },
  {
   "cell_type": "code",
   "execution_count": null,
   "id": "positive-significance",
   "metadata": {},
   "outputs": [],
   "source": [
    "df4 = pd.read_csv(outfile, sep=\"\\t\")\n",
    "df4\n",
    "# df4.head()"
   ]
  },
  {
   "cell_type": "markdown",
   "id": "beginning-access",
   "metadata": {},
   "source": [
    "## Leer datos desde una URL"
   ]
  },
  {
   "cell_type": "code",
   "execution_count": null,
   "id": "liable-genome",
   "metadata": {},
   "outputs": [],
   "source": [
    "medals_url = \"http://winterolympicsmedals.com/medals.csv\""
   ]
  },
  {
   "cell_type": "code",
   "execution_count": null,
   "id": "fewer-singapore",
   "metadata": {},
   "outputs": [],
   "source": [
    "medals_data = pd.read_csv(medals_url)"
   ]
  },
  {
   "cell_type": "code",
   "execution_count": null,
   "id": "excellent-arlington",
   "metadata": {},
   "outputs": [],
   "source": [
    "medals_data.head()"
   ]
  },
  {
   "cell_type": "markdown",
   "id": "historic-enough",
   "metadata": {},
   "source": [
    "### Ejemplo de descarga de datos desde URL y decodificación de archivo Byte\n",
    "Utilizando libreria urllib3 y procesando los datos para guardarlos en CSV o TXT."
   ]
  },
  {
   "cell_type": "code",
   "execution_count": null,
   "id": "spread-essence",
   "metadata": {},
   "outputs": [],
   "source": [
    "import urllib3\n",
    "import csv\n",
    "\n",
    "http = urllib3.PoolManager()\n",
    "r = http.request(\"GET\", medals_url)\n",
    "r.status\n",
    "response = r.data.decode('ascii')\n",
    "\n",
    "# Hecho en el curso\n",
    "cr = csv.reader(response)\n",
    "cr"
   ]
  },
  {
   "cell_type": "code",
   "execution_count": null,
   "id": "radical-trinity",
   "metadata": {},
   "outputs": [],
   "source": [
    "outfile = \"/home/ana/Proyectos/ML/scripts/winter olympics medals.txt\"\n",
    "with open(outfile, \"w\") as outfile1:\n",
    "    for line in response.split(\"\\n\"):\n",
    "        fields = line.strip().split(\",\")\n",
    "        outfile1.write(\"\\t\".join(fields))\n",
    "        outfile1.write(\"\\n\")\n",
    "\n",
    "wom = pd.read_csv(outfile, sep=\"\\t\")\n",
    "wom.head()"
   ]
  },
  {
   "cell_type": "markdown",
   "id": "biological-procedure",
   "metadata": {},
   "source": [
    "## Ficheros XLS y XLSX"
   ]
  },
  {
   "cell_type": "code",
   "execution_count": null,
   "id": "ambient-check",
   "metadata": {},
   "outputs": [],
   "source": [
    "mainpath = \"/home/ana/Proyectos/ML/python-ml-course/datasets/\"\n",
    "filename = \"titanic/titanic3.xls\""
   ]
  },
  {
   "cell_type": "code",
   "execution_count": null,
   "id": "piano-neutral",
   "metadata": {},
   "outputs": [],
   "source": [
    "titanic2 = pd.read_excel(mainpath + filename, \"titanic3\")"
   ]
  },
  {
   "cell_type": "code",
   "execution_count": null,
   "id": "acquired-designation",
   "metadata": {},
   "outputs": [],
   "source": [
    "titanic2.to_csv(mainpath + \"/titanic/titanic_custom.csv\")"
   ]
  },
  {
   "cell_type": "code",
   "execution_count": null,
   "id": "worse-display",
   "metadata": {},
   "outputs": [],
   "source": [
    "titanic2.to_json(mainpath + \"/titanic/titanic_custom.json\")"
   ]
  },
  {
   "cell_type": "code",
   "execution_count": null,
   "id": "blank-cooper",
   "metadata": {},
   "outputs": [],
   "source": []
  }
 ],
 "metadata": {
  "kernelspec": {
   "display_name": "Python 3",
   "language": "python",
   "name": "python3"
  },
  "language_info": {
   "codemirror_mode": {
    "name": "ipython",
    "version": 3
   },
   "file_extension": ".py",
   "mimetype": "text/x-python",
   "name": "python",
   "nbconvert_exporter": "python",
   "pygments_lexer": "ipython3",
   "version": "3.8.8"
  }
 },
 "nbformat": 4,
 "nbformat_minor": 5
}
