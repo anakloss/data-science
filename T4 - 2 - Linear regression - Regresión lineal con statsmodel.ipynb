{
 "cells": [
  {
   "cell_type": "markdown",
   "id": "ecd75df7-fcb1-4e04-a1eb-9336e10be65b",
   "metadata": {},
   "source": [
    "# Regresión lineal simple en Python\n",
    "## El paquete statsmodel para regresión lineal"
   ]
  },
  {
   "cell_type": "code",
   "execution_count": 21,
   "id": "ed8c9c3f-534d-49e8-a489-36b4c49bdf78",
   "metadata": {},
   "outputs": [],
   "source": [
    "import pandas as pd\n",
    "import numpy as np\n",
    "import statsmodels.formula.api as smf\n",
    "import matplotlib.pyplot as plt"
   ]
  },
  {
   "cell_type": "code",
   "execution_count": 7,
   "id": "565298e1-af07-4c2e-96bb-c3cc580c92e1",
   "metadata": {},
   "outputs": [],
   "source": [
    "data = pd.read_csv('python-ml-course-master/datasets/ads/Advertising.csv')"
   ]
  },
  {
   "cell_type": "code",
   "execution_count": 8,
   "id": "55d24ed2-687b-4e7d-8778-4a0ad74c1e69",
   "metadata": {},
   "outputs": [
    {
     "data": {
      "text/html": [
       "<div>\n",
       "<style scoped>\n",
       "    .dataframe tbody tr th:only-of-type {\n",
       "        vertical-align: middle;\n",
       "    }\n",
       "\n",
       "    .dataframe tbody tr th {\n",
       "        vertical-align: top;\n",
       "    }\n",
       "\n",
       "    .dataframe thead th {\n",
       "        text-align: right;\n",
       "    }\n",
       "</style>\n",
       "<table border=\"1\" class=\"dataframe\">\n",
       "  <thead>\n",
       "    <tr style=\"text-align: right;\">\n",
       "      <th></th>\n",
       "      <th>TV</th>\n",
       "      <th>Radio</th>\n",
       "      <th>Newspaper</th>\n",
       "      <th>Sales</th>\n",
       "    </tr>\n",
       "  </thead>\n",
       "  <tbody>\n",
       "    <tr>\n",
       "      <th>0</th>\n",
       "      <td>230.1</td>\n",
       "      <td>37.8</td>\n",
       "      <td>69.2</td>\n",
       "      <td>22.1</td>\n",
       "    </tr>\n",
       "    <tr>\n",
       "      <th>1</th>\n",
       "      <td>44.5</td>\n",
       "      <td>39.3</td>\n",
       "      <td>45.1</td>\n",
       "      <td>10.4</td>\n",
       "    </tr>\n",
       "    <tr>\n",
       "      <th>2</th>\n",
       "      <td>17.2</td>\n",
       "      <td>45.9</td>\n",
       "      <td>69.3</td>\n",
       "      <td>9.3</td>\n",
       "    </tr>\n",
       "    <tr>\n",
       "      <th>3</th>\n",
       "      <td>151.5</td>\n",
       "      <td>41.3</td>\n",
       "      <td>58.5</td>\n",
       "      <td>18.5</td>\n",
       "    </tr>\n",
       "    <tr>\n",
       "      <th>4</th>\n",
       "      <td>180.8</td>\n",
       "      <td>10.8</td>\n",
       "      <td>58.4</td>\n",
       "      <td>12.9</td>\n",
       "    </tr>\n",
       "  </tbody>\n",
       "</table>\n",
       "</div>"
      ],
      "text/plain": [
       "      TV  Radio  Newspaper  Sales\n",
       "0  230.1   37.8       69.2   22.1\n",
       "1   44.5   39.3       45.1   10.4\n",
       "2   17.2   45.9       69.3    9.3\n",
       "3  151.5   41.3       58.5   18.5\n",
       "4  180.8   10.8       58.4   12.9"
      ]
     },
     "execution_count": 8,
     "metadata": {},
     "output_type": "execute_result"
    }
   ],
   "source": [
    "data.head()"
   ]
  },
  {
   "cell_type": "code",
   "execution_count": 13,
   "id": "1b7d3c81-664f-4066-86ab-df9b65d1c22e",
   "metadata": {},
   "outputs": [],
   "source": [
    "lm = smf.ols(formula=\"Sales~TV\", data=data).fit()"
   ]
  },
  {
   "cell_type": "code",
   "execution_count": 14,
   "id": "ab339b5c-4d0a-4f90-ab9e-0aa4b084deed",
   "metadata": {},
   "outputs": [
    {
     "data": {
      "text/plain": [
       "Intercept    7.032594\n",
       "TV           0.047537\n",
       "dtype: float64"
      ]
     },
     "execution_count": 14,
     "metadata": {},
     "output_type": "execute_result"
    }
   ],
   "source": [
    "lm.params"
   ]
  },
  {
   "cell_type": "markdown",
   "id": "9a236ac5-4297-414c-9797-751bdd04182f",
   "metadata": {},
   "source": [
    "El modelo lineal predictivo sería Sales = 7.032594 + 0.047537 * TV"
   ]
  },
  {
   "cell_type": "code",
   "execution_count": 15,
   "id": "afea6c59-d10c-4188-b59a-6307564b3ef3",
   "metadata": {},
   "outputs": [
    {
     "data": {
      "text/plain": [
       "Intercept    1.406300e-35\n",
       "TV           1.467390e-42\n",
       "dtype: float64"
      ]
     },
     "execution_count": 15,
     "metadata": {},
     "output_type": "execute_result"
    }
   ],
   "source": [
    "lm.pvalues"
   ]
  },
  {
   "cell_type": "code",
   "execution_count": 16,
   "id": "2ffe5155-5dd9-4230-8982-9f2f2d728c8c",
   "metadata": {},
   "outputs": [
    {
     "data": {
      "text/plain": [
       "0.611875050850071"
      ]
     },
     "execution_count": 16,
     "metadata": {},
     "output_type": "execute_result"
    }
   ],
   "source": [
    "lm.rsquared"
   ]
  },
  {
   "cell_type": "code",
   "execution_count": 17,
   "id": "05422d42-631a-4627-9a58-895502a06c57",
   "metadata": {},
   "outputs": [
    {
     "data": {
      "text/plain": [
       "0.6099148238341623"
      ]
     },
     "execution_count": 17,
     "metadata": {},
     "output_type": "execute_result"
    }
   ],
   "source": [
    "lm.rsquared_adj"
   ]
  },
  {
   "cell_type": "code",
   "execution_count": 19,
   "id": "b6e1c2d5-f2fe-4cb7-8c2e-1123c49b33e8",
   "metadata": {},
   "outputs": [
    {
     "data": {
      "text/html": [
       "<table class=\"simpletable\">\n",
       "<caption>OLS Regression Results</caption>\n",
       "<tr>\n",
       "  <th>Dep. Variable:</th>          <td>Sales</td>      <th>  R-squared:         </th> <td>   0.612</td>\n",
       "</tr>\n",
       "<tr>\n",
       "  <th>Model:</th>                   <td>OLS</td>       <th>  Adj. R-squared:    </th> <td>   0.610</td>\n",
       "</tr>\n",
       "<tr>\n",
       "  <th>Method:</th>             <td>Least Squares</td>  <th>  F-statistic:       </th> <td>   312.1</td>\n",
       "</tr>\n",
       "<tr>\n",
       "  <th>Date:</th>             <td>Fri, 29 Oct 2021</td> <th>  Prob (F-statistic):</th> <td>1.47e-42</td>\n",
       "</tr>\n",
       "<tr>\n",
       "  <th>Time:</th>                 <td>09:14:20</td>     <th>  Log-Likelihood:    </th> <td> -519.05</td>\n",
       "</tr>\n",
       "<tr>\n",
       "  <th>No. Observations:</th>      <td>   200</td>      <th>  AIC:               </th> <td>   1042.</td>\n",
       "</tr>\n",
       "<tr>\n",
       "  <th>Df Residuals:</th>          <td>   198</td>      <th>  BIC:               </th> <td>   1049.</td>\n",
       "</tr>\n",
       "<tr>\n",
       "  <th>Df Model:</th>              <td>     1</td>      <th>                     </th>     <td> </td>   \n",
       "</tr>\n",
       "<tr>\n",
       "  <th>Covariance Type:</th>      <td>nonrobust</td>    <th>                     </th>     <td> </td>   \n",
       "</tr>\n",
       "</table>\n",
       "<table class=\"simpletable\">\n",
       "<tr>\n",
       "      <td></td>         <th>coef</th>     <th>std err</th>      <th>t</th>      <th>P>|t|</th>  <th>[0.025</th>    <th>0.975]</th>  \n",
       "</tr>\n",
       "<tr>\n",
       "  <th>Intercept</th> <td>    7.0326</td> <td>    0.458</td> <td>   15.360</td> <td> 0.000</td> <td>    6.130</td> <td>    7.935</td>\n",
       "</tr>\n",
       "<tr>\n",
       "  <th>TV</th>        <td>    0.0475</td> <td>    0.003</td> <td>   17.668</td> <td> 0.000</td> <td>    0.042</td> <td>    0.053</td>\n",
       "</tr>\n",
       "</table>\n",
       "<table class=\"simpletable\">\n",
       "<tr>\n",
       "  <th>Omnibus:</th>       <td> 0.531</td> <th>  Durbin-Watson:     </th> <td>   1.935</td>\n",
       "</tr>\n",
       "<tr>\n",
       "  <th>Prob(Omnibus):</th> <td> 0.767</td> <th>  Jarque-Bera (JB):  </th> <td>   0.669</td>\n",
       "</tr>\n",
       "<tr>\n",
       "  <th>Skew:</th>          <td>-0.089</td> <th>  Prob(JB):          </th> <td>   0.716</td>\n",
       "</tr>\n",
       "<tr>\n",
       "  <th>Kurtosis:</th>      <td> 2.779</td> <th>  Cond. No.          </th> <td>    338.</td>\n",
       "</tr>\n",
       "</table><br/><br/>Notes:<br/>[1] Standard Errors assume that the covariance matrix of the errors is correctly specified."
      ],
      "text/plain": [
       "<class 'statsmodels.iolib.summary.Summary'>\n",
       "\"\"\"\n",
       "                            OLS Regression Results                            \n",
       "==============================================================================\n",
       "Dep. Variable:                  Sales   R-squared:                       0.612\n",
       "Model:                            OLS   Adj. R-squared:                  0.610\n",
       "Method:                 Least Squares   F-statistic:                     312.1\n",
       "Date:                Fri, 29 Oct 2021   Prob (F-statistic):           1.47e-42\n",
       "Time:                        09:14:20   Log-Likelihood:                -519.05\n",
       "No. Observations:                 200   AIC:                             1042.\n",
       "Df Residuals:                     198   BIC:                             1049.\n",
       "Df Model:                           1                                         \n",
       "Covariance Type:            nonrobust                                         \n",
       "==============================================================================\n",
       "                 coef    std err          t      P>|t|      [0.025      0.975]\n",
       "------------------------------------------------------------------------------\n",
       "Intercept      7.0326      0.458     15.360      0.000       6.130       7.935\n",
       "TV             0.0475      0.003     17.668      0.000       0.042       0.053\n",
       "==============================================================================\n",
       "Omnibus:                        0.531   Durbin-Watson:                   1.935\n",
       "Prob(Omnibus):                  0.767   Jarque-Bera (JB):                0.669\n",
       "Skew:                          -0.089   Prob(JB):                        0.716\n",
       "Kurtosis:                       2.779   Cond. No.                         338.\n",
       "==============================================================================\n",
       "\n",
       "Notes:\n",
       "[1] Standard Errors assume that the covariance matrix of the errors is correctly specified.\n",
       "\"\"\""
      ]
     },
     "execution_count": 19,
     "metadata": {},
     "output_type": "execute_result"
    }
   ],
   "source": [
    "lm.summary()"
   ]
  },
  {
   "cell_type": "code",
   "execution_count": 20,
   "id": "d1052ed6-3040-411b-b6f4-5954906bf17e",
   "metadata": {},
   "outputs": [
    {
     "data": {
      "text/plain": [
       "0      17.970775\n",
       "1       9.147974\n",
       "2       7.850224\n",
       "3      14.234395\n",
       "4      15.627218\n",
       "         ...    \n",
       "195     8.848493\n",
       "196    11.510545\n",
       "197    15.446579\n",
       "198    20.513985\n",
       "199    18.065848\n",
       "Length: 200, dtype: float64"
      ]
     },
     "execution_count": 20,
     "metadata": {},
     "output_type": "execute_result"
    }
   ],
   "source": [
    "# Prediccion de ventas para TV\n",
    "sales_pred = lm.predict(pd.DataFrame(data[\"TV\"]))\n",
    "sales_pred"
   ]
  },
  {
   "cell_type": "code",
   "execution_count": 26,
   "id": "d242bbc4-fbf4-4be7-acb2-054403c4b36c",
   "metadata": {},
   "outputs": [
    {
     "data": {
      "text/plain": [
       "Text(0.5, 1.0, 'Prediccion de ventas vs Datos')"
      ]
     },
     "execution_count": 26,
     "metadata": {},
     "output_type": "execute_result"
    },
    {
     "data": {
      "image/png": "[encoded data removed]",
      "text/plain": [
       "<Figure size 432x288 with 1 Axes>"
      ]
     },
     "metadata": {
      "needs_background": "light"
     },
     "output_type": "display_data"
    }
   ],
   "source": [
    "%matplotlib inline\n",
    "data.plot(kind=\"scatter\", x=\"TV\", y=\"Sales\")\n",
    "plt.plot(pd.DataFrame(data[\"TV\"]), sales_pred, c=\"red\", linewidth=2)\n",
    "plt.title(\"Prediccion de ventas vs Datos\")"
   ]
  },
  {
   "cell_type": "code",
   "execution_count": 33,
   "id": "949a40a1-20d4-4d88-beb1-a9e7eea82461",
   "metadata": {},
   "outputs": [],
   "source": [
    "data[\"sales_pred\"] = 7.032594 + 0.047537 * data[\"TV\"]\n",
    "rse_sq = data[\"Sales\"] - data[\"sales_pred\"]\n",
    "data[\"RSE\"] = rse_sq**2"
   ]
  },
  {
   "cell_type": "code",
   "execution_count": 28,
   "id": "4694ab41-41e2-4b35-91ec-f26222b7cae4",
   "metadata": {},
   "outputs": [],
   "source": [
    "SSD = sum(data[\"RSE\"])"
   ]
  },
  {
   "cell_type": "code",
   "execution_count": 29,
   "id": "299e0974-dc6b-43b8-8a82-fcfb380211ab",
   "metadata": {},
   "outputs": [
    {
     "data": {
      "text/plain": [
       "3.258656369238098"
      ]
     },
     "execution_count": 29,
     "metadata": {},
     "output_type": "execute_result"
    }
   ],
   "source": [
    "RSE = np.sqrt(SSD/(len(data) - 2))\n",
    "RSE"
   ]
  },
  {
   "cell_type": "code",
   "execution_count": 30,
   "id": "dd81d664-5691-492e-8086-ace2c593a657",
   "metadata": {},
   "outputs": [
    {
     "data": {
      "text/plain": [
       "14.022500000000003"
      ]
     },
     "execution_count": 30,
     "metadata": {},
     "output_type": "execute_result"
    }
   ],
   "source": [
    "sales_m = np.mean(data[\"Sales\"])\n",
    "sales_m"
   ]
  },
  {
   "cell_type": "code",
   "execution_count": 32,
   "id": "7691df1e-fae1-4993-b8ec-22239b4cca68",
   "metadata": {},
   "outputs": [
    {
     "data": {
      "text/plain": [
       "0.2323876890168014"
      ]
     },
     "execution_count": 32,
     "metadata": {},
     "output_type": "execute_result"
    }
   ],
   "source": [
    "error = RSE/sales_m\n",
    "error"
   ]
  },
  {
   "cell_type": "code",
   "execution_count": 34,
   "id": "336d92cb-ca1e-4ad5-aa3c-ad7a58b7dbd2",
   "metadata": {},
   "outputs": [
    {
     "data": {
      "text/plain": [
       "(array([ 4., 10., 13., 17., 40., 42., 33., 16., 17.,  8.]),\n",
       " array([-8.3860819 , -6.82624404, -5.26640618, -3.70656832, -2.14673046,\n",
       "        -0.5868926 ,  0.97294526,  2.53278312,  4.09262098,  5.65245884,\n",
       "         7.2122967 ]),\n",
       " <BarContainer object of 10 artists>)"
      ]
     },
     "execution_count": 34,
     "metadata": {},
     "output_type": "execute_result"
    },
    {
     "data": {
      "image/png": "[encoded data removed]",
      "text/plain": [
       "<Figure size 432x288 with 1 Axes>"
      ]
     },
     "metadata": {
      "needs_background": "light"
     },
     "output_type": "display_data"
    }
   ],
   "source": [
    "plt.hist(rse_sq)"
   ]
  },
  {
   "cell_type": "markdown",
   "id": "3123568a-fc25-4f3a-9831-07ae4653ab8d",
   "metadata": {},
   "source": [
    "# Regresión lineal multiple en Python\n",
    "## El paquete statsmodel para regresion múltiple\n",
    "* Sales ~TV\n",
    "* Sales ~Newspaper\n",
    "* Sales ~Radio\n",
    "* Sales ~TV+Newspaper\n",
    "* Sales ~TV+Radio\n",
    "* Sales ~Newspaper+Radio\n",
    "* Sales ~TV+Newspaper+Radio"
   ]
  },
  {
   "cell_type": "code",
   "execution_count": 35,
   "id": "44005c53-a0d1-48ea-aac3-77597c00e130",
   "metadata": {},
   "outputs": [],
   "source": [
    "# Añadir Newspaper al modelo existente\n",
    "lm2 = smf.ols(formula=\"Sales~TV+Newspaper\", data=data).fit()"
   ]
  },
  {
   "cell_type": "code",
   "execution_count": 36,
   "id": "4eebdd19-5f79-4a4c-835a-13bf55b07024",
   "metadata": {},
   "outputs": [
    {
     "data": {
      "text/plain": [
       "Intercept    5.774948\n",
       "TV           0.046901\n",
       "Newspaper    0.044219\n",
       "dtype: float64"
      ]
     },
     "execution_count": 36,
     "metadata": {},
     "output_type": "execute_result"
    }
   ],
   "source": [
    "lm2.params"
   ]
  },
  {
   "cell_type": "code",
   "execution_count": 37,
   "id": "1c1de4bb-bb4c-4e3b-8f58-4069b28b29ae",
   "metadata": {},
   "outputs": [
    {
     "data": {
      "text/plain": [
       "Intercept    3.145860e-22\n",
       "TV           5.507584e-44\n",
       "Newspaper    2.217084e-05\n",
       "dtype: float64"
      ]
     },
     "execution_count": 37,
     "metadata": {},
     "output_type": "execute_result"
    }
   ],
   "source": [
    "lm2.pvalues"
   ]
  },
  {
   "cell_type": "markdown",
   "id": "f28f5be7-f2de-45aa-a37c-c8b08c5f62ee",
   "metadata": {},
   "source": [
    "Sales = 5.774948 + 0.046901 * TV + 0.044219 * Newspaper"
   ]
  },
  {
   "cell_type": "code",
   "execution_count": 40,
   "id": "d4a1cdbf-4f74-433e-86ba-aa3b736fa16f",
   "metadata": {},
   "outputs": [
    {
     "data": {
      "text/plain": [
       "0.6422399150864777"
      ]
     },
     "execution_count": 40,
     "metadata": {},
     "output_type": "execute_result"
    }
   ],
   "source": [
    "lm2.rsquared_adj"
   ]
  },
  {
   "cell_type": "code",
   "execution_count": 42,
   "id": "7d8c4e8e-7714-4b57-8158-8c48ad401b37",
   "metadata": {},
   "outputs": [
    {
     "data": {
      "text/plain": [
       "0      19.626901\n",
       "1       9.856348\n",
       "2       9.646055\n",
       "3      15.467318\n",
       "4      16.837102\n",
       "         ...    \n",
       "195     8.176802\n",
       "196    10.551220\n",
       "197    14.359467\n",
       "198    22.003458\n",
       "199    17.045429\n",
       "Length: 200, dtype: float64"
      ]
     },
     "execution_count": 42,
     "metadata": {},
     "output_type": "execute_result"
    }
   ],
   "source": [
    "sales_pred = lm2.predict(data[[\"TV\", \"Newspaper\"]])\n",
    "sales_pred"
   ]
  },
  {
   "cell_type": "code",
   "execution_count": 43,
   "id": "d4f9ecf2-2de7-489f-960c-e0d782e40d83",
   "metadata": {},
   "outputs": [
    {
     "data": {
      "text/plain": [
       "1918.561811896827"
      ]
     },
     "execution_count": 43,
     "metadata": {},
     "output_type": "execute_result"
    }
   ],
   "source": [
    "SSD = sum((data[\"Sales\"] - sales_pred)**2)\n",
    "SSD"
   ]
  },
  {
   "cell_type": "code",
   "execution_count": 44,
   "id": "56e6c35a-2eb0-45c7-8110-cf1ef2a06f3e",
   "metadata": {},
   "outputs": [
    {
     "data": {
      "text/plain": [
       "3.120719860252885"
      ]
     },
     "execution_count": 44,
     "metadata": {},
     "output_type": "execute_result"
    }
   ],
   "source": [
    "RSE = np.sqrt(SSD/(len(data) - 3))\n",
    "RSE"
   ]
  },
  {
   "cell_type": "code",
   "execution_count": 45,
   "id": "e45577d0-f6a0-42af-8b3a-2c34fda90963",
   "metadata": {},
   "outputs": [
    {
     "data": {
      "text/plain": [
       "0.22255089037282116"
      ]
     },
     "execution_count": 45,
     "metadata": {},
     "output_type": "execute_result"
    }
   ],
   "source": [
    "error = RSE/sales_m\n",
    "error"
   ]
  },
  {
   "cell_type": "code",
   "execution_count": 46,
   "id": "b428d6f6-5f93-4252-89af-98e3e03ce168",
   "metadata": {},
   "outputs": [
    {
     "data": {
      "text/html": [
       "<table class=\"simpletable\">\n",
       "<caption>OLS Regression Results</caption>\n",
       "<tr>\n",
       "  <th>Dep. Variable:</th>          <td>Sales</td>      <th>  R-squared:         </th> <td>   0.646</td>\n",
       "</tr>\n",
       "<tr>\n",
       "  <th>Model:</th>                   <td>OLS</td>       <th>  Adj. R-squared:    </th> <td>   0.642</td>\n",
       "</tr>\n",
       "<tr>\n",
       "  <th>Method:</th>             <td>Least Squares</td>  <th>  F-statistic:       </th> <td>   179.6</td>\n",
       "</tr>\n",
       "<tr>\n",
       "  <th>Date:</th>             <td>Fri, 29 Oct 2021</td> <th>  Prob (F-statistic):</th> <td>3.95e-45</td>\n",
       "</tr>\n",
       "<tr>\n",
       "  <th>Time:</th>                 <td>09:48:32</td>     <th>  Log-Likelihood:    </th> <td> -509.89</td>\n",
       "</tr>\n",
       "<tr>\n",
       "  <th>No. Observations:</th>      <td>   200</td>      <th>  AIC:               </th> <td>   1026.</td>\n",
       "</tr>\n",
       "<tr>\n",
       "  <th>Df Residuals:</th>          <td>   197</td>      <th>  BIC:               </th> <td>   1036.</td>\n",
       "</tr>\n",
       "<tr>\n",
       "  <th>Df Model:</th>              <td>     2</td>      <th>                     </th>     <td> </td>   \n",
       "</tr>\n",
       "<tr>\n",
       "  <th>Covariance Type:</th>      <td>nonrobust</td>    <th>                     </th>     <td> </td>   \n",
       "</tr>\n",
       "</table>\n",
       "<table class=\"simpletable\">\n",
       "<tr>\n",
       "      <td></td>         <th>coef</th>     <th>std err</th>      <th>t</th>      <th>P>|t|</th>  <th>[0.025</th>    <th>0.975]</th>  \n",
       "</tr>\n",
       "<tr>\n",
       "  <th>Intercept</th> <td>    5.7749</td> <td>    0.525</td> <td>   10.993</td> <td> 0.000</td> <td>    4.739</td> <td>    6.811</td>\n",
       "</tr>\n",
       "<tr>\n",
       "  <th>TV</th>        <td>    0.0469</td> <td>    0.003</td> <td>   18.173</td> <td> 0.000</td> <td>    0.042</td> <td>    0.052</td>\n",
       "</tr>\n",
       "<tr>\n",
       "  <th>Newspaper</th> <td>    0.0442</td> <td>    0.010</td> <td>    4.346</td> <td> 0.000</td> <td>    0.024</td> <td>    0.064</td>\n",
       "</tr>\n",
       "</table>\n",
       "<table class=\"simpletable\">\n",
       "<tr>\n",
       "  <th>Omnibus:</th>       <td> 0.658</td> <th>  Durbin-Watson:     </th> <td>   1.969</td>\n",
       "</tr>\n",
       "<tr>\n",
       "  <th>Prob(Omnibus):</th> <td> 0.720</td> <th>  Jarque-Bera (JB):  </th> <td>   0.415</td>\n",
       "</tr>\n",
       "<tr>\n",
       "  <th>Skew:</th>          <td>-0.093</td> <th>  Prob(JB):          </th> <td>   0.813</td>\n",
       "</tr>\n",
       "<tr>\n",
       "  <th>Kurtosis:</th>      <td> 3.122</td> <th>  Cond. No.          </th> <td>    410.</td>\n",
       "</tr>\n",
       "</table><br/><br/>Notes:<br/>[1] Standard Errors assume that the covariance matrix of the errors is correctly specified."
      ],
      "text/plain": [
       "<class 'statsmodels.iolib.summary.Summary'>\n",
       "\"\"\"\n",
       "                            OLS Regression Results                            \n",
       "==============================================================================\n",
       "Dep. Variable:                  Sales   R-squared:                       0.646\n",
       "Model:                            OLS   Adj. R-squared:                  0.642\n",
       "Method:                 Least Squares   F-statistic:                     179.6\n",
       "Date:                Fri, 29 Oct 2021   Prob (F-statistic):           3.95e-45\n",
       "Time:                        09:48:32   Log-Likelihood:                -509.89\n",
       "No. Observations:                 200   AIC:                             1026.\n",
       "Df Residuals:                     197   BIC:                             1036.\n",
       "Df Model:                           2                                         \n",
       "Covariance Type:            nonrobust                                         \n",
       "==============================================================================\n",
       "                 coef    std err          t      P>|t|      [0.025      0.975]\n",
       "------------------------------------------------------------------------------\n",
       "Intercept      5.7749      0.525     10.993      0.000       4.739       6.811\n",
       "TV             0.0469      0.003     18.173      0.000       0.042       0.052\n",
       "Newspaper      0.0442      0.010      4.346      0.000       0.024       0.064\n",
       "==============================================================================\n",
       "Omnibus:                        0.658   Durbin-Watson:                   1.969\n",
       "Prob(Omnibus):                  0.720   Jarque-Bera (JB):                0.415\n",
       "Skew:                          -0.093   Prob(JB):                        0.813\n",
       "Kurtosis:                       3.122   Cond. No.                         410.\n",
       "==============================================================================\n",
       "\n",
       "Notes:\n",
       "[1] Standard Errors assume that the covariance matrix of the errors is correctly specified.\n",
       "\"\"\""
      ]
     },
     "execution_count": 46,
     "metadata": {},
     "output_type": "execute_result"
    }
   ],
   "source": [
    "lm2.summary()"
   ]
  },
  {
   "cell_type": "markdown",
   "id": "72f9c854-ae23-42ca-a925-46a9614db5ce",
   "metadata": {},
   "source": [
    "*CONCLUSION:* **Añadir el Newspaper al modelo original, no ha aportado nada**"
   ]
  },
  {
   "cell_type": "code",
   "execution_count": 47,
   "id": "f3961568-9508-43c8-8f06-875dd0121c44",
   "metadata": {},
   "outputs": [],
   "source": [
    "# Añadir Radio al modelo original\n",
    "lm3 = smf.ols(formula=\"Sales~TV+Radio\", data=data).fit()"
   ]
  },
  {
   "cell_type": "code",
   "execution_count": 48,
   "id": "2aec2aa5-7954-4281-9229-2f7a8faaf13c",
   "metadata": {},
   "outputs": [
    {
     "data": {
      "text/html": [
       "<table class=\"simpletable\">\n",
       "<caption>OLS Regression Results</caption>\n",
       "<tr>\n",
       "  <th>Dep. Variable:</th>          <td>Sales</td>      <th>  R-squared:         </th> <td>   0.897</td>\n",
       "</tr>\n",
       "<tr>\n",
       "  <th>Model:</th>                   <td>OLS</td>       <th>  Adj. R-squared:    </th> <td>   0.896</td>\n",
       "</tr>\n",
       "<tr>\n",
       "  <th>Method:</th>             <td>Least Squares</td>  <th>  F-statistic:       </th> <td>   859.6</td>\n",
       "</tr>\n",
       "<tr>\n",
       "  <th>Date:</th>             <td>Fri, 29 Oct 2021</td> <th>  Prob (F-statistic):</th> <td>4.83e-98</td>\n",
       "</tr>\n",
       "<tr>\n",
       "  <th>Time:</th>                 <td>09:52:27</td>     <th>  Log-Likelihood:    </th> <td> -386.20</td>\n",
       "</tr>\n",
       "<tr>\n",
       "  <th>No. Observations:</th>      <td>   200</td>      <th>  AIC:               </th> <td>   778.4</td>\n",
       "</tr>\n",
       "<tr>\n",
       "  <th>Df Residuals:</th>          <td>   197</td>      <th>  BIC:               </th> <td>   788.3</td>\n",
       "</tr>\n",
       "<tr>\n",
       "  <th>Df Model:</th>              <td>     2</td>      <th>                     </th>     <td> </td>   \n",
       "</tr>\n",
       "<tr>\n",
       "  <th>Covariance Type:</th>      <td>nonrobust</td>    <th>                     </th>     <td> </td>   \n",
       "</tr>\n",
       "</table>\n",
       "<table class=\"simpletable\">\n",
       "<tr>\n",
       "      <td></td>         <th>coef</th>     <th>std err</th>      <th>t</th>      <th>P>|t|</th>  <th>[0.025</th>    <th>0.975]</th>  \n",
       "</tr>\n",
       "<tr>\n",
       "  <th>Intercept</th> <td>    2.9211</td> <td>    0.294</td> <td>    9.919</td> <td> 0.000</td> <td>    2.340</td> <td>    3.502</td>\n",
       "</tr>\n",
       "<tr>\n",
       "  <th>TV</th>        <td>    0.0458</td> <td>    0.001</td> <td>   32.909</td> <td> 0.000</td> <td>    0.043</td> <td>    0.048</td>\n",
       "</tr>\n",
       "<tr>\n",
       "  <th>Radio</th>     <td>    0.1880</td> <td>    0.008</td> <td>   23.382</td> <td> 0.000</td> <td>    0.172</td> <td>    0.204</td>\n",
       "</tr>\n",
       "</table>\n",
       "<table class=\"simpletable\">\n",
       "<tr>\n",
       "  <th>Omnibus:</th>       <td>60.022</td> <th>  Durbin-Watson:     </th> <td>   2.081</td>\n",
       "</tr>\n",
       "<tr>\n",
       "  <th>Prob(Omnibus):</th> <td> 0.000</td> <th>  Jarque-Bera (JB):  </th> <td> 148.679</td>\n",
       "</tr>\n",
       "<tr>\n",
       "  <th>Skew:</th>          <td>-1.323</td> <th>  Prob(JB):          </th> <td>5.19e-33</td>\n",
       "</tr>\n",
       "<tr>\n",
       "  <th>Kurtosis:</th>      <td> 6.292</td> <th>  Cond. No.          </th> <td>    425.</td>\n",
       "</tr>\n",
       "</table><br/><br/>Notes:<br/>[1] Standard Errors assume that the covariance matrix of the errors is correctly specified."
      ],
      "text/plain": [
       "<class 'statsmodels.iolib.summary.Summary'>\n",
       "\"\"\"\n",
       "                            OLS Regression Results                            \n",
       "==============================================================================\n",
       "Dep. Variable:                  Sales   R-squared:                       0.897\n",
       "Model:                            OLS   Adj. R-squared:                  0.896\n",
       "Method:                 Least Squares   F-statistic:                     859.6\n",
       "Date:                Fri, 29 Oct 2021   Prob (F-statistic):           4.83e-98\n",
       "Time:                        09:52:27   Log-Likelihood:                -386.20\n",
       "No. Observations:                 200   AIC:                             778.4\n",
       "Df Residuals:                     197   BIC:                             788.3\n",
       "Df Model:                           2                                         \n",
       "Covariance Type:            nonrobust                                         \n",
       "==============================================================================\n",
       "                 coef    std err          t      P>|t|      [0.025      0.975]\n",
       "------------------------------------------------------------------------------\n",
       "Intercept      2.9211      0.294      9.919      0.000       2.340       3.502\n",
       "TV             0.0458      0.001     32.909      0.000       0.043       0.048\n",
       "Radio          0.1880      0.008     23.382      0.000       0.172       0.204\n",
       "==============================================================================\n",
       "Omnibus:                       60.022   Durbin-Watson:                   2.081\n",
       "Prob(Omnibus):                  0.000   Jarque-Bera (JB):              148.679\n",
       "Skew:                          -1.323   Prob(JB):                     5.19e-33\n",
       "Kurtosis:                       6.292   Cond. No.                         425.\n",
       "==============================================================================\n",
       "\n",
       "Notes:\n",
       "[1] Standard Errors assume that the covariance matrix of the errors is correctly specified.\n",
       "\"\"\""
      ]
     },
     "execution_count": 48,
     "metadata": {},
     "output_type": "execute_result"
    }
   ],
   "source": [
    "lm3.summary()"
   ]
  },
  {
   "cell_type": "code",
   "execution_count": 50,
   "id": "e381edd5-6665-4062-8f6b-f10c20d8bba6",
   "metadata": {},
   "outputs": [
    {
     "data": {
      "text/plain": [
       "1.6813609125080011"
      ]
     },
     "execution_count": 50,
     "metadata": {},
     "output_type": "execute_result"
    }
   ],
   "source": [
    "sales_pred = lm3.predict(data[[\"TV\", \"Radio\"]])\n",
    "SSD = sum((data[\"Sales\"] - sales_pred)**2)\n",
    "RSE = np.sqrt(SSD/(len(data) - 3)) # -3 = 2 variables + (-1)\n",
    "RSE"
   ]
  },
  {
   "cell_type": "code",
   "execution_count": 52,
   "id": "daa05208-6bdb-482e-9a1a-dbfc8dae9187",
   "metadata": {},
   "outputs": [
    {
     "data": {
      "text/plain": [
       "0.1199045043685506"
      ]
     },
     "execution_count": 52,
     "metadata": {},
     "output_type": "execute_result"
    }
   ],
   "source": [
    "error = RSE/sales_m\n",
    "error"
   ]
  },
  {
   "cell_type": "markdown",
   "id": "14f23c14-c0b8-4cd9-999b-d9001b4d1895",
   "metadata": {},
   "source": [
    "*CONCLUSION:* **Los gastos en Radio y TV describen de forma más precisa las ventas**"
   ]
  },
  {
   "cell_type": "code",
   "execution_count": 53,
   "id": "220934da-5cb2-4918-b890-a96c423873bd",
   "metadata": {},
   "outputs": [],
   "source": [
    "# Añadir TV, Radio y Newspaper al modelo original\n",
    "lm4 = smf.ols(formula=\"Sales~TV+Radio+Newspaper\", data=data).fit()"
   ]
  },
  {
   "cell_type": "code",
   "execution_count": 54,
   "id": "a8785402-729e-482a-9ccf-37af009ed0c5",
   "metadata": {},
   "outputs": [
    {
     "data": {
      "text/html": [
       "<table class=\"simpletable\">\n",
       "<caption>OLS Regression Results</caption>\n",
       "<tr>\n",
       "  <th>Dep. Variable:</th>          <td>Sales</td>      <th>  R-squared:         </th> <td>   0.897</td>\n",
       "</tr>\n",
       "<tr>\n",
       "  <th>Model:</th>                   <td>OLS</td>       <th>  Adj. R-squared:    </th> <td>   0.896</td>\n",
       "</tr>\n",
       "<tr>\n",
       "  <th>Method:</th>             <td>Least Squares</td>  <th>  F-statistic:       </th> <td>   570.3</td>\n",
       "</tr>\n",
       "<tr>\n",
       "  <th>Date:</th>             <td>Fri, 29 Oct 2021</td> <th>  Prob (F-statistic):</th> <td>1.58e-96</td>\n",
       "</tr>\n",
       "<tr>\n",
       "  <th>Time:</th>                 <td>10:03:41</td>     <th>  Log-Likelihood:    </th> <td> -386.18</td>\n",
       "</tr>\n",
       "<tr>\n",
       "  <th>No. Observations:</th>      <td>   200</td>      <th>  AIC:               </th> <td>   780.4</td>\n",
       "</tr>\n",
       "<tr>\n",
       "  <th>Df Residuals:</th>          <td>   196</td>      <th>  BIC:               </th> <td>   793.6</td>\n",
       "</tr>\n",
       "<tr>\n",
       "  <th>Df Model:</th>              <td>     3</td>      <th>                     </th>     <td> </td>   \n",
       "</tr>\n",
       "<tr>\n",
       "  <th>Covariance Type:</th>      <td>nonrobust</td>    <th>                     </th>     <td> </td>   \n",
       "</tr>\n",
       "</table>\n",
       "<table class=\"simpletable\">\n",
       "<tr>\n",
       "      <td></td>         <th>coef</th>     <th>std err</th>      <th>t</th>      <th>P>|t|</th>  <th>[0.025</th>    <th>0.975]</th>  \n",
       "</tr>\n",
       "<tr>\n",
       "  <th>Intercept</th> <td>    2.9389</td> <td>    0.312</td> <td>    9.422</td> <td> 0.000</td> <td>    2.324</td> <td>    3.554</td>\n",
       "</tr>\n",
       "<tr>\n",
       "  <th>TV</th>        <td>    0.0458</td> <td>    0.001</td> <td>   32.809</td> <td> 0.000</td> <td>    0.043</td> <td>    0.049</td>\n",
       "</tr>\n",
       "<tr>\n",
       "  <th>Radio</th>     <td>    0.1885</td> <td>    0.009</td> <td>   21.893</td> <td> 0.000</td> <td>    0.172</td> <td>    0.206</td>\n",
       "</tr>\n",
       "<tr>\n",
       "  <th>Newspaper</th> <td>   -0.0010</td> <td>    0.006</td> <td>   -0.177</td> <td> 0.860</td> <td>   -0.013</td> <td>    0.011</td>\n",
       "</tr>\n",
       "</table>\n",
       "<table class=\"simpletable\">\n",
       "<tr>\n",
       "  <th>Omnibus:</th>       <td>60.414</td> <th>  Durbin-Watson:     </th> <td>   2.084</td>\n",
       "</tr>\n",
       "<tr>\n",
       "  <th>Prob(Omnibus):</th> <td> 0.000</td> <th>  Jarque-Bera (JB):  </th> <td> 151.241</td>\n",
       "</tr>\n",
       "<tr>\n",
       "  <th>Skew:</th>          <td>-1.327</td> <th>  Prob(JB):          </th> <td>1.44e-33</td>\n",
       "</tr>\n",
       "<tr>\n",
       "  <th>Kurtosis:</th>      <td> 6.332</td> <th>  Cond. No.          </th> <td>    454.</td>\n",
       "</tr>\n",
       "</table><br/><br/>Notes:<br/>[1] Standard Errors assume that the covariance matrix of the errors is correctly specified."
      ],
      "text/plain": [
       "<class 'statsmodels.iolib.summary.Summary'>\n",
       "\"\"\"\n",
       "                            OLS Regression Results                            \n",
       "==============================================================================\n",
       "Dep. Variable:                  Sales   R-squared:                       0.897\n",
       "Model:                            OLS   Adj. R-squared:                  0.896\n",
       "Method:                 Least Squares   F-statistic:                     570.3\n",
       "Date:                Fri, 29 Oct 2021   Prob (F-statistic):           1.58e-96\n",
       "Time:                        10:03:41   Log-Likelihood:                -386.18\n",
       "No. Observations:                 200   AIC:                             780.4\n",
       "Df Residuals:                     196   BIC:                             793.6\n",
       "Df Model:                           3                                         \n",
       "Covariance Type:            nonrobust                                         \n",
       "==============================================================================\n",
       "                 coef    std err          t      P>|t|      [0.025      0.975]\n",
       "------------------------------------------------------------------------------\n",
       "Intercept      2.9389      0.312      9.422      0.000       2.324       3.554\n",
       "TV             0.0458      0.001     32.809      0.000       0.043       0.049\n",
       "Radio          0.1885      0.009     21.893      0.000       0.172       0.206\n",
       "Newspaper     -0.0010      0.006     -0.177      0.860      -0.013       0.011\n",
       "==============================================================================\n",
       "Omnibus:                       60.414   Durbin-Watson:                   2.084\n",
       "Prob(Omnibus):                  0.000   Jarque-Bera (JB):              151.241\n",
       "Skew:                          -1.327   Prob(JB):                     1.44e-33\n",
       "Kurtosis:                       6.332   Cond. No.                         454.\n",
       "==============================================================================\n",
       "\n",
       "Notes:\n",
       "[1] Standard Errors assume that the covariance matrix of the errors is correctly specified.\n",
       "\"\"\""
      ]
     },
     "execution_count": 54,
     "metadata": {},
     "output_type": "execute_result"
    }
   ],
   "source": [
    "lm4.summary()"
   ]
  },
  {
   "cell_type": "code",
   "execution_count": 55,
   "id": "4b046d8c-f18e-4a71-9a13-148f661e0ec3",
   "metadata": {},
   "outputs": [
    {
     "data": {
      "text/plain": [
       "1.6856446415208186"
      ]
     },
     "execution_count": 55,
     "metadata": {},
     "output_type": "execute_result"
    }
   ],
   "source": [
    "sales_pred = lm3.predict(data[[\"TV\", \"Radio\", \"Newspaper\"]])\n",
    "SSD = sum((data[\"Sales\"] - sales_pred)**2)\n",
    "RSE = np.sqrt(SSD/(len(data) - 4)) # -4 = 3 variables + (-1)\n",
    "RSE"
   ]
  },
  {
   "cell_type": "code",
   "execution_count": 57,
   "id": "7f223f98-9cfd-424d-931d-51e487c56132",
   "metadata": {},
   "outputs": [
    {
     "data": {
      "text/plain": [
       "0.120209994046769"
      ]
     },
     "execution_count": 57,
     "metadata": {},
     "output_type": "execute_result"
    }
   ],
   "source": [
    "RSE/sales_m"
   ]
  },
  {
   "cell_type": "markdown",
   "id": "f161866f-b4f8-48b2-8e9e-0c0743e6a35c",
   "metadata": {},
   "source": [
    "*CONCLUSION:* **Añadir TV, Radio y Newspaper no aporta al modelo**"
   ]
  },
  {
   "cell_type": "markdown",
   "id": "22e5c08a-3806-4279-bfd1-716b35bd8cc0",
   "metadata": {},
   "source": []
  }
 ],
 "metadata": {
  "kernelspec": {
   "display_name": "Python 3",
   "language": "python",
   "name": "python3"
  },
  "language_info": {
   "codemirror_mode": {
    "name": "ipython",
    "version": 3
   },
   "file_extension": ".py",
   "mimetype": "text/x-python",
   "name": "python",
   "nbconvert_exporter": "python",
   "pygments_lexer": "ipython3",
   "version": "3.8.8"
  }
 },
 "nbformat": 4,
 "nbformat_minor": 5
}
