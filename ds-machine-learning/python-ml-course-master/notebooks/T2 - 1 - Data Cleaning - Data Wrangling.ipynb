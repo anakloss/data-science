{
 "cells": [
  {
   "cell_type": "markdown",
   "metadata": {
    "colab_type": "text",
    "id": "view-in-github"
   },
   "source": [
    "<a href=\"https://colab.research.google.com/github/joanby/python-ml-course/blob/Collab---v-3.8/notebooks/T2%20-%201%20-%20Data%20Cleaning%20-%20Data%20Wrangling.ipynb\" target=\"_parent\"><img src=\"https://colab.research.google.com/assets/colab-badge.svg\" alt=\"Open In Colab\"/></a>"
   ]
  },
  {
   "cell_type": "markdown",
   "metadata": {
    "colab_type": "text",
    "id": "SMxTLuTc-NLS"
   },
   "source": [
    "# Data Wrangling - La cirugía de los datos"
   ]
  },
  {
   "cell_type": "code",
   "execution_count": 6,
   "metadata": {
    "colab": {
     "base_uri": "https://localhost:8080/",
     "height": 122
    },
    "colab_type": "code",
    "id": "WMXo2rua-i2A",
    "outputId": "e83f8f80-b976-4208-d4ba-ccbb92b53d24"
   },
   "outputs": [
    {
     "ename": "ModuleNotFoundError",
     "evalue": "No module named 'google'",
     "output_type": "error",
     "traceback": [
      "\u001b[0;31m---------------------------------------------------------------------------\u001b[0m",
      "\u001b[0;31mModuleNotFoundError\u001b[0m                       Traceback (most recent call last)",
      "\u001b[0;32m<ipython-input-6-d5df0069828e>\u001b[0m in \u001b[0;36m<module>\u001b[0;34m\u001b[0m\n\u001b[0;32m----> 1\u001b[0;31m \u001b[0;32mfrom\u001b[0m \u001b[0mgoogle\u001b[0m\u001b[0;34m.\u001b[0m\u001b[0mcolab\u001b[0m \u001b[0;32mimport\u001b[0m \u001b[0mdrive\u001b[0m\u001b[0;34m\u001b[0m\u001b[0;34m\u001b[0m\u001b[0m\n\u001b[0m\u001b[1;32m      2\u001b[0m \u001b[0mdrive\u001b[0m\u001b[0;34m.\u001b[0m\u001b[0mmount\u001b[0m\u001b[0;34m(\u001b[0m\u001b[0;34m'/content/drive'\u001b[0m\u001b[0;34m)\u001b[0m\u001b[0;34m\u001b[0m\u001b[0;34m\u001b[0m\u001b[0m\n",
      "\u001b[0;31mModuleNotFoundError\u001b[0m: No module named 'google'"
     ]
    }
   ],
   "source": [
    "from google.colab import drive\n",
    "drive.mount('/content/drive')"
   ]
  },
  {
   "cell_type": "markdown",
   "metadata": {
    "colab_type": "text",
    "id": "8uA3DRdv-NLT"
   },
   "source": [
    "El **data wrangling**, a veces denominada **data munging**, es el proceso de transformar y mapear datos de un dataset *raw* (en bruto) en otro formato con la intención de hacerlo más apropiado y valioso para una variedad de propósitos posteriores, como el análisis. Un **data wrangler** es una persona que realiza estas operaciones de transformación.\n",
    "\n",
    "Esto puede incluir munging, visualización de datos, agregación de datos, entrenamiento de un modelo estadístico, así como muchos otros usos potenciales. La oscilación de datos como proceso generalmente sigue un conjunto de pasos generales que comienzan extrayendo los datos en forma cruda del origen de datos, dividiendo los datos en bruto usando algoritmos (por ejemplo, clasificación) o analizando los datos en estructuras de datos predefinidas, y finalmente depositando el contenido resultante en un sistema de almacenamiento (o silo) para su uso futuro."
   ]
  },
  {
   "cell_type": "code",
   "execution_count": null,
   "metadata": {
    "colab": {},
    "colab_type": "code",
    "id": "Tn3uN9w6-NLU"
   },
   "outputs": [],
   "source": [
    "import pandas as pd"
   ]
  },
  {
   "cell_type": "code",
   "execution_count": null,
   "metadata": {
    "colab": {},
    "colab_type": "code",
    "id": "HejeQ93y-NLY"
   },
   "outputs": [],
   "source": [
    "data = pd.read_csv(\"/content/drive/My Drive/Curso Machine Learning con Python/datasets/customer-churn-model/Customer Churn Model.txt\")"
   ]
  },
  {
   "cell_type": "code",
   "execution_count": null,
   "metadata": {
    "colab": {
     "base_uri": "https://localhost:8080/",
     "height": 204
    },
    "colab_type": "code",
    "id": "JG55qLHb-NLb",
    "outputId": "a10b1e9d-2e00-4fa6-b691-497c05124e4e"
   },
   "outputs": [],
   "source": [
    "data.head()"
   ]
  },
  {
   "cell_type": "markdown",
   "metadata": {
    "colab_type": "text",
    "id": "DLXD3g5j-NLe"
   },
   "source": [
    "### Crear un subconjunto de datos"
   ]
  },
  {
   "cell_type": "markdown",
   "metadata": {
    "colab_type": "text",
    "id": "lAEQlD7b-NLf"
   },
   "source": [
    "#### Subconjunto de columna o columnas"
   ]
  },
  {
   "cell_type": "code",
   "execution_count": null,
   "metadata": {
    "colab": {},
    "colab_type": "code",
    "id": "0qXIL9iu-NLf"
   },
   "outputs": [],
   "source": [
    "account_length = data[\"Account Length\"]"
   ]
  },
  {
   "cell_type": "code",
   "execution_count": null,
   "metadata": {
    "colab": {
     "base_uri": "https://localhost:8080/",
     "height": 119
    },
    "colab_type": "code",
    "id": "G-SKobd4-NLh",
    "outputId": "6bdfa6e5-e945-4a2b-afbd-c8ed587ac5a4"
   },
   "outputs": [],
   "source": [
    "account_length.head()"
   ]
  },
  {
   "cell_type": "code",
   "execution_count": 7,
   "metadata": {
    "colab": {
     "base_uri": "https://localhost:8080/",
     "height": 34
    },
    "colab_type": "code",
    "id": "4CksBm4N-NLk",
    "outputId": "3f762849-dc1e-46e5-f13d-54bc6f6e2bda"
   },
   "outputs": [
    {
     "ename": "NameError",
     "evalue": "name 'account_length' is not defined",
     "output_type": "error",
     "traceback": [
      "\u001b[0;31m---------------------------------------------------------------------------\u001b[0m",
      "\u001b[0;31mNameError\u001b[0m                                 Traceback (most recent call last)",
      "\u001b[0;32m<ipython-input-7-60a910d1311f>\u001b[0m in \u001b[0;36m<module>\u001b[0;34m\u001b[0m\n\u001b[0;32m----> 1\u001b[0;31m \u001b[0mtype\u001b[0m\u001b[0;34m(\u001b[0m\u001b[0maccount_length\u001b[0m\u001b[0;34m)\u001b[0m\u001b[0;34m\u001b[0m\u001b[0;34m\u001b[0m\u001b[0m\n\u001b[0m",
      "\u001b[0;31mNameError\u001b[0m: name 'account_length' is not defined"
     ]
    }
   ],
   "source": [
    "type(account_length)"
   ]
  },
  {
   "cell_type": "code",
   "execution_count": null,
   "metadata": {
    "colab": {},
    "colab_type": "code",
    "id": "34W1Dmuo-NLn"
   },
   "outputs": [],
   "source": [
    "subset = data[[\"Account Length\", \"Phone\", \"Eve Charge\", \"Day Calls\"]]"
   ]
  },
  {
   "cell_type": "code",
   "execution_count": null,
   "metadata": {
    "colab": {
     "base_uri": "https://localhost:8080/",
     "height": 204
    },
    "colab_type": "code",
    "id": "zeFRzWhp-NLq",
    "outputId": "72a021f8-a5c9-493b-ca18-b2401068b8d8"
   },
   "outputs": [],
   "source": [
    "subset.head()"
   ]
  },
  {
   "cell_type": "code",
   "execution_count": null,
   "metadata": {
    "colab": {
     "base_uri": "https://localhost:8080/",
     "height": 34
    },
    "colab_type": "code",
    "id": "pOiG-qk1-NLs",
    "outputId": "a2a355d8-7a1e-40ec-cc88-69413fa9d92a"
   },
   "outputs": [],
   "source": [
    "type(subset)"
   ]
  },
  {
   "cell_type": "code",
   "execution_count": null,
   "metadata": {
    "colab": {
     "base_uri": "https://localhost:8080/",
     "height": 204
    },
    "colab_type": "code",
    "id": "9xaANT1k-NLu",
    "outputId": "fb7d536c-3f48-4270-f9a0-f836ab00259b"
   },
   "outputs": [],
   "source": [
    "desired_columns = [\"Account Length\", \"Phone\", \"Eve Charge\", \"Night Calls\"]\n",
    "subset = data[desired_columns]\n",
    "subset.head()"
   ]
  },
  {
   "cell_type": "code",
   "execution_count": null,
   "metadata": {
    "colab": {
     "base_uri": "https://localhost:8080/",
     "height": 34
    },
    "colab_type": "code",
    "id": "SLaaTCkk-NLw",
    "outputId": "8bba1dc1-055a-494b-9d82-c7d3d7a8c47a"
   },
   "outputs": [],
   "source": [
    "desired_columns = [\"Account Length\", \"VMail Message\", \"Day Calls\"]\n",
    "desired_columns"
   ]
  },
  {
   "cell_type": "code",
   "execution_count": null,
   "metadata": {
    "colab": {
     "base_uri": "https://localhost:8080/",
     "height": 374
    },
    "colab_type": "code",
    "id": "LwqEtdkD-NLy",
    "outputId": "dede79c7-5567-41c6-83e6-b6e879fd543a"
   },
   "outputs": [],
   "source": [
    "all_columns_list = data.columns.values.tolist()\n",
    "all_columns_list"
   ]
  },
  {
   "cell_type": "code",
   "execution_count": null,
   "metadata": {
    "colab": {
     "base_uri": "https://localhost:8080/",
     "height": 323
    },
    "colab_type": "code",
    "id": "2pJn5sdI-NL0",
    "outputId": "5845fdb5-10ef-49d3-c217-a9c506952452"
   },
   "outputs": [],
   "source": [
    "sublist = [x for x in all_columns_list if x not in desired_columns]\n",
    "sublist"
   ]
  },
  {
   "cell_type": "code",
   "execution_count": null,
   "metadata": {
    "colab": {
     "base_uri": "https://localhost:8080/",
     "height": 204
    },
    "colab_type": "code",
    "id": "BPtSQxkz-NL2",
    "outputId": "7210b64f-fa0e-44a7-af4f-3b4b6e8dc23f"
   },
   "outputs": [],
   "source": [
    "subset = data[sublist]\n",
    "subset.head()"
   ]
  },
  {
   "cell_type": "markdown",
   "metadata": {
    "colab_type": "text",
    "id": "haxlKpjS-NL4"
   },
   "source": [
    "#### Subconjunto de filas"
   ]
  },
  {
   "cell_type": "code",
   "execution_count": null,
   "metadata": {
    "colab": {
     "base_uri": "https://localhost:8080/",
     "height": 793
    },
    "colab_type": "code",
    "id": "buNFSltI-NL4",
    "outputId": "08a76b7a-69c1-40a5-8163-54d64f8b6795"
   },
   "outputs": [],
   "source": [
    "data[1:25]"
   ]
  },
  {
   "cell_type": "code",
   "execution_count": null,
   "metadata": {
    "colab": {
     "base_uri": "https://localhost:8080/",
     "height": 824
    },
    "colab_type": "code",
    "id": "B6yso4ho-NL5",
    "outputId": "e9ac1877-fc96-470f-f66d-7a506d3d542c"
   },
   "outputs": [],
   "source": [
    "data[10:35]"
   ]
  },
  {
   "cell_type": "code",
   "execution_count": null,
   "metadata": {
    "colab": {
     "base_uri": "https://localhost:8080/",
     "height": 297
    },
    "colab_type": "code",
    "id": "qti5Qah2-NL6",
    "outputId": "64cecb49-d016-4772-b8e5-ca067a780560"
   },
   "outputs": [],
   "source": [
    "data[:8] # CORRECCIÓN: es lo mismo que data[0:8]"
   ]
  },
  {
   "cell_type": "code",
   "execution_count": null,
   "metadata": {
    "colab": {
     "base_uri": "https://localhost:8080/",
     "height": 452
    },
    "colab_type": "code",
    "id": "RQSc-Wa3-NL8",
    "outputId": "8f00de7a-f053-4594-dd3e-7fd398733d46"
   },
   "outputs": [],
   "source": [
    "data[3320:]"
   ]
  },
  {
   "cell_type": "markdown",
   "metadata": {
    "colab_type": "text",
    "id": "8Z6R4bxt-NL9"
   },
   "source": [
    "#### Subconjuntos de filas con condiciones booleanas"
   ]
  },
  {
   "cell_type": "code",
   "execution_count": null,
   "metadata": {
    "colab": {
     "base_uri": "https://localhost:8080/",
     "height": 34
    },
    "colab_type": "code",
    "id": "Wb62I5i6-NL-",
    "outputId": "c8712e83-cd21-4657-b490-f1f9df3d44b0"
   },
   "outputs": [],
   "source": [
    "##Usuarios con Day Mins > 300\n",
    "data1 = data[data[\"Day Mins\"]>300]\n",
    "data1.shape"
   ]
  },
  {
   "cell_type": "code",
   "execution_count": null,
   "metadata": {
    "colab": {
     "base_uri": "https://localhost:8080/",
     "height": 34
    },
    "colab_type": "code",
    "id": "V1S_csPL-NL_",
    "outputId": "1d93a643-7310-43de-c515-f214caec9274"
   },
   "outputs": [],
   "source": [
    "##Usuarios de Nueva York (State = \"NY\")\n",
    "data2 = data[data[\"State\"]==\"NY\"]\n",
    "data2.shape"
   ]
  },
  {
   "cell_type": "code",
   "execution_count": null,
   "metadata": {
    "colab": {
     "base_uri": "https://localhost:8080/",
     "height": 34
    },
    "colab_type": "code",
    "id": "V55Hp0tc-NMA",
    "outputId": "8052d52c-dcc7-4171-88df-9964a1605007"
   },
   "outputs": [],
   "source": [
    "##AND -> &\n",
    "data3 = data[(data[\"Day Mins\"]>300) & (data[\"State\"]==\"NY\")]\n",
    "data3.shape"
   ]
  },
  {
   "cell_type": "code",
   "execution_count": null,
   "metadata": {
    "colab": {
     "base_uri": "https://localhost:8080/",
     "height": 34
    },
    "colab_type": "code",
    "id": "NA-MO0DB-NMB",
    "outputId": "a68c21a5-0628-4357-ae0e-e973eeaa27bc"
   },
   "outputs": [],
   "source": [
    "##OR -> |\n",
    "data4 = data[(data[\"Day Mins\"]>300) | (data[\"State\"]==\"NY\")]\n",
    "data4.shape"
   ]
  },
  {
   "cell_type": "code",
   "execution_count": null,
   "metadata": {
    "colab": {
     "base_uri": "https://localhost:8080/",
     "height": 34
    },
    "colab_type": "code",
    "id": "hXf8QEJM-NMC",
    "outputId": "b8ed4887-1307-46b5-f563-7f057dcdf9b1"
   },
   "outputs": [],
   "source": [
    "data5 = data[data[\"Day Calls\"]<data[\"Night Calls\"]]\n",
    "data5.shape"
   ]
  },
  {
   "cell_type": "code",
   "execution_count": null,
   "metadata": {
    "colab": {
     "base_uri": "https://localhost:8080/",
     "height": 34
    },
    "colab_type": "code",
    "id": "8_OXaGHI-NMD",
    "outputId": "8c9dbabc-3647-4cde-9b36-0a61c758b61f"
   },
   "outputs": [],
   "source": [
    "data6 = data[data[\"Day Mins\"]<data[\"Night Mins\"]]\n",
    "data6.shape"
   ]
  },
  {
   "cell_type": "code",
   "execution_count": null,
   "metadata": {
    "colab": {
     "base_uri": "https://localhost:8080/",
     "height": 204
    },
    "colab_type": "code",
    "id": "BIdhM5eh-NME",
    "outputId": "5127d67c-d7ea-4956-f218-3a7cac878413"
   },
   "outputs": [],
   "source": [
    "##Minutos de día, de noche y Longitud de la Cuenta de los primeros 50 individuos\n",
    "subset_first_50 = data[[\"Day Mins\", \"Night Mins\", \"Account Length\"]][:50]\n",
    "subset_first_50.head()"
   ]
  },
  {
   "cell_type": "code",
   "execution_count": null,
   "metadata": {
    "colab": {
     "base_uri": "https://localhost:8080/",
     "height": 359
    },
    "colab_type": "code",
    "id": "2xYGI76f-NMF",
    "outputId": "19abf650-e77b-4f5a-e2c8-b46bafadb806"
   },
   "outputs": [],
   "source": [
    "subset[:10]"
   ]
  },
  {
   "cell_type": "markdown",
   "metadata": {
    "colab_type": "text",
    "id": "9fOFwprb-NMG"
   },
   "source": [
    "#### Filtrado con ix -> loc e iloc"
   ]
  },
  {
   "cell_type": "code",
   "execution_count": null,
   "metadata": {
    "colab": {},
    "colab_type": "code",
    "id": "A9ojz-2u-NMG",
    "outputId": "290cc3ae-4a98-4fa7-c26c-f9221a913b63"
   },
   "outputs": [],
   "source": [
    "data.ix[1:10, 3:6] ## Primeras 10 filas, columnas de la 3 a la 6"
   ]
  },
  {
   "cell_type": "code",
   "execution_count": null,
   "metadata": {
    "colab": {
     "base_uri": "https://localhost:8080/",
     "height": 328
    },
    "colab_type": "code",
    "id": "_AafoPsa-NMH",
    "outputId": "97d8102d-1657-4bd3-ce1c-800d9fcfc1ad"
   },
   "outputs": [],
   "source": [
    "data.iloc[1:10, 3:6]"
   ]
  },
  {
   "cell_type": "code",
   "execution_count": null,
   "metadata": {
    "colab": {
     "base_uri": "https://localhost:8080/",
     "height": 328
    },
    "colab_type": "code",
    "id": "8oDWI-Lk-NMI",
    "outputId": "8d1c4ccd-0f88-4356-9b24-91b1c1a040de"
   },
   "outputs": [],
   "source": [
    "data.iloc[:,3:6] ##Todas las filas para las columnas entre la 3 y la 6\n",
    "data.iloc[1:10,:] ##Todas las columnas para las filas de la 1 a la 10"
   ]
  },
  {
   "cell_type": "code",
   "execution_count": null,
   "metadata": {
    "colab": {
     "base_uri": "https://localhost:8080/",
     "height": 328
    },
    "colab_type": "code",
    "id": "4q2QyqM3-NMJ",
    "outputId": "ea48cf26-115e-4621-84b8-6fd4c804a048"
   },
   "outputs": [],
   "source": [
    "data.iloc[1:10, [2,5,7]]"
   ]
  },
  {
   "cell_type": "code",
   "execution_count": null,
   "metadata": {
    "colab": {
     "base_uri": "https://localhost:8080/",
     "height": 173
    },
    "colab_type": "code",
    "id": "NmOSEz3A-NMK",
    "outputId": "9b8835f6-1489-4954-9e3e-89f927cf74af"
   },
   "outputs": [],
   "source": [
    "data.iloc[[1,5,8,36], [2,5,7]]"
   ]
  },
  {
   "cell_type": "code",
   "execution_count": 8,
   "metadata": {
    "colab": {
     "base_uri": "https://localhost:8080/",
     "height": 173
    },
    "colab_type": "code",
    "id": "1aZxP683-NML",
    "outputId": "5eea626a-93cb-4d4c-e49d-5362962643b5"
   },
   "outputs": [
    {
     "ename": "NameError",
     "evalue": "name 'data' is not defined",
     "output_type": "error",
     "traceback": [
      "\u001b[0;31m---------------------------------------------------------------------------\u001b[0m",
      "\u001b[0;31mNameError\u001b[0m                                 Traceback (most recent call last)",
      "\u001b[0;32m<ipython-input-8-59b79deef9f4>\u001b[0m in \u001b[0;36m<module>\u001b[0;34m\u001b[0m\n\u001b[0;32m----> 1\u001b[0;31m \u001b[0mdata\u001b[0m\u001b[0;34m.\u001b[0m\u001b[0mloc\u001b[0m\u001b[0;34m[\u001b[0m\u001b[0;34m[\u001b[0m\u001b[0;36m1\u001b[0m\u001b[0;34m,\u001b[0m\u001b[0;36m5\u001b[0m\u001b[0;34m,\u001b[0m\u001b[0;36m8\u001b[0m\u001b[0;34m,\u001b[0m\u001b[0;36m36\u001b[0m\u001b[0;34m]\u001b[0m\u001b[0;34m,\u001b[0m \u001b[0;34m[\u001b[0m\u001b[0;34m\"Area Code\"\u001b[0m\u001b[0;34m,\u001b[0m \u001b[0;34m\"VMail Plan\"\u001b[0m\u001b[0;34m,\u001b[0m \u001b[0;34m\"Day Mins\"\u001b[0m\u001b[0;34m]\u001b[0m\u001b[0;34m]\u001b[0m\u001b[0;34m\u001b[0m\u001b[0;34m\u001b[0m\u001b[0m\n\u001b[0m",
      "\u001b[0;31mNameError\u001b[0m: name 'data' is not defined"
     ]
    }
   ],
   "source": [
    "data.loc[[1,5,8,36], [\"Area Code\", \"VMail Plan\", \"Day Mins\"]]"
   ]
  },
  {
   "cell_type": "markdown",
   "metadata": {
    "colab_type": "text",
    "id": "jKj3sOSf-NMM"
   },
   "source": [
    "#### Insertar nuevas filas en el dataframe"
   ]
  },
  {
   "cell_type": "code",
   "execution_count": null,
   "metadata": {
    "colab": {},
    "colab_type": "code",
    "id": "WbPrEZVu-NMM"
   },
   "outputs": [],
   "source": [
    "data[\"Total Mins\"] = data[\"Day Mins\"] + data[\"Night Mins\"] + data[\"Eve Mins\"]"
   ]
  },
  {
   "cell_type": "code",
   "execution_count": null,
   "metadata": {
    "colab": {
     "base_uri": "https://localhost:8080/",
     "height": 119
    },
    "colab_type": "code",
    "id": "S41vxiTL-NMN",
    "outputId": "77783b76-081d-410a-a700-2783b8115943"
   },
   "outputs": [],
   "source": [
    "data[\"Total Mins\"].head()"
   ]
  },
  {
   "cell_type": "code",
   "execution_count": null,
   "metadata": {
    "colab": {},
    "colab_type": "code",
    "id": "kz04R87g-NMO"
   },
   "outputs": [],
   "source": [
    "data[\"Total Calls\"] = data[\"Day Calls\"] + data[\"Night Calls\"] + data[\"Eve Calls\"]"
   ]
  },
  {
   "cell_type": "code",
   "execution_count": null,
   "metadata": {
    "colab": {
     "base_uri": "https://localhost:8080/",
     "height": 119
    },
    "colab_type": "code",
    "id": "cx5JFZa3-NMP",
    "outputId": "7a10ebcf-ed97-46fe-d5ae-ad99131bdff9"
   },
   "outputs": [],
   "source": [
    "data[\"Total Calls\"].head()"
   ]
  },
  {
   "cell_type": "code",
   "execution_count": null,
   "metadata": {
    "colab": {
     "base_uri": "https://localhost:8080/",
     "height": 34
    },
    "colab_type": "code",
    "id": "AmR-jcnF-NMP",
    "outputId": "641d25d4-6d48-4649-ba4c-8e57d4b36750"
   },
   "outputs": [],
   "source": [
    "data.shape"
   ]
  },
  {
   "cell_type": "code",
   "execution_count": null,
   "metadata": {
    "colab": {
     "base_uri": "https://localhost:8080/",
     "height": 204
    },
    "colab_type": "code",
    "id": "MB472-er-NMQ",
    "outputId": "7f421f9a-1c06-4313-dc84-1eb3e71bbe72"
   },
   "outputs": [],
   "source": [
    "data.head()"
   ]
  },
  {
   "cell_type": "markdown",
   "metadata": {
    "colab_type": "text",
    "id": "u6QeuXs_-NMR"
   },
   "source": [
    "### Generación aleatoria de números"
   ]
  },
  {
   "cell_type": "code",
   "execution_count": null,
   "metadata": {
    "colab": {},
    "colab_type": "code",
    "id": "K_yOfvJl-NMR"
   },
   "outputs": [],
   "source": [
    "import numpy as np"
   ]
  },
  {
   "cell_type": "code",
   "execution_count": null,
   "metadata": {
    "colab": {
     "base_uri": "https://localhost:8080/",
     "height": 34
    },
    "colab_type": "code",
    "id": "UXCbacXE-NMS",
    "outputId": "a8bfd98a-ac49-4148-fc05-990081951e43"
   },
   "outputs": [],
   "source": [
    "##Generar un número aleatorio entero entre 1 y 100\n",
    "np.random.randint(1,100)"
   ]
  },
  {
   "cell_type": "code",
   "execution_count": null,
   "metadata": {
    "colab": {
     "base_uri": "https://localhost:8080/",
     "height": 34
    },
    "colab_type": "code",
    "id": "a2wx0lEK-NMT",
    "outputId": "485c8b49-a01a-4159-d7d6-b0659c76ac4d"
   },
   "outputs": [],
   "source": [
    "##La forma más clásica de generar un número aleatorio es entre 0 y 1 (con decimales)\n",
    "np.random.random()"
   ]
  },
  {
   "cell_type": "code",
   "execution_count": null,
   "metadata": {
    "colab": {},
    "colab_type": "code",
    "id": "-xlzcWw7-NMU"
   },
   "outputs": [],
   "source": [
    "##Función que genera una lista de n números aleatorios enteros dentro del intervalo [a,b]\n",
    "def randint_list(n, a, b):\n",
    "    x = []\n",
    "    for i in range(n):\n",
    "        x.append(np.random.randint(a,b))\n",
    "    return x"
   ]
  },
  {
   "cell_type": "code",
   "execution_count": null,
   "metadata": {
    "colab": {
     "base_uri": "https://localhost:8080/",
     "height": 442
    },
    "colab_type": "code",
    "id": "K6CxKlDj-NMU",
    "outputId": "03d4ade8-bb35-462b-a95b-475d11f04201"
   },
   "outputs": [],
   "source": [
    "randint_list(25, 1, 50)"
   ]
  },
  {
   "cell_type": "code",
   "execution_count": null,
   "metadata": {
    "colab": {},
    "colab_type": "code",
    "id": "Rk9OkLbS-NMV"
   },
   "outputs": [],
   "source": [
    "import random"
   ]
  },
  {
   "cell_type": "code",
   "execution_count": null,
   "metadata": {
    "colab": {
     "base_uri": "https://localhost:8080/",
     "height": 187
    },
    "colab_type": "code",
    "id": "zNLCJ6G8-NMW",
    "outputId": "06f304a4-cf4b-4b1a-fa0f-2f8493c6de39"
   },
   "outputs": [],
   "source": [
    "for i in range(10):\n",
    "    print(random.randrange(0, 100,7))"
   ]
  },
  {
   "cell_type": "markdown",
   "metadata": {
    "colab_type": "text",
    "id": "XrB-zDrP-NMX"
   },
   "source": [
    "#### Shuffling"
   ]
  },
  {
   "cell_type": "code",
   "execution_count": null,
   "metadata": {
    "colab": {
     "base_uri": "https://localhost:8080/",
     "height": 119
    },
    "colab_type": "code",
    "id": "5lfMHVIO-NMX",
    "outputId": "c194c366-5de2-4f46-dfd0-40835a95d119"
   },
   "outputs": [],
   "source": [
    "a = np.arange(100)\n",
    "a"
   ]
  },
  {
   "cell_type": "code",
   "execution_count": null,
   "metadata": {
    "colab": {},
    "colab_type": "code",
    "id": "O-rvs3AL-NMY"
   },
   "outputs": [],
   "source": [
    "np.random.shuffle(a)"
   ]
  },
  {
   "cell_type": "code",
   "execution_count": null,
   "metadata": {
    "colab": {
     "base_uri": "https://localhost:8080/",
     "height": 119
    },
    "colab_type": "code",
    "id": "E4VsNWz--NMZ",
    "outputId": "321583bb-30e5-49e3-fbeb-c1c9ee906d58"
   },
   "outputs": [],
   "source": [
    "a"
   ]
  },
  {
   "cell_type": "markdown",
   "metadata": {
    "colab_type": "text",
    "id": "nVxDud5W-NMZ"
   },
   "source": [
    "#### Choice"
   ]
  },
  {
   "cell_type": "code",
   "execution_count": null,
   "metadata": {
    "colab": {
     "base_uri": "https://localhost:8080/",
     "height": 204
    },
    "colab_type": "code",
    "id": "bXMy1YjU-NMZ",
    "outputId": "adb24c16-382b-4e44-e886-e1d9d49b8b72"
   },
   "outputs": [],
   "source": [
    "data.head()"
   ]
  },
  {
   "cell_type": "code",
   "execution_count": null,
   "metadata": {
    "colab": {
     "base_uri": "https://localhost:8080/",
     "height": 34
    },
    "colab_type": "code",
    "id": "D_BQW3A6-NMa",
    "outputId": "9af1227a-b6ce-46a0-d789-23ede85431c9"
   },
   "outputs": [],
   "source": [
    "data.shape"
   ]
  },
  {
   "cell_type": "code",
   "execution_count": null,
   "metadata": {
    "colab": {
     "base_uri": "https://localhost:8080/",
     "height": 408
    },
    "colab_type": "code",
    "id": "dDl3G-dr-NMb",
    "outputId": "47d7487c-860b-4c20-d2ea-09f5eba971c3"
   },
   "outputs": [],
   "source": [
    "column_list = data.columns.values.tolist()\n",
    "column_list"
   ]
  },
  {
   "cell_type": "code",
   "execution_count": null,
   "metadata": {
    "colab": {
     "base_uri": "https://localhost:8080/",
     "height": 34
    },
    "colab_type": "code",
    "id": "gWWpBhGN-NMc",
    "outputId": "c837ad96-aa26-4465-8a2d-6b0104886eeb"
   },
   "outputs": [],
   "source": [
    "np.random.choice(column_list)"
   ]
  },
  {
   "cell_type": "markdown",
   "metadata": {
    "colab_type": "text",
    "id": "ggTVQLbC-NMd"
   },
   "source": [
    "#### Seed"
   ]
  },
  {
   "cell_type": "code",
   "execution_count": null,
   "metadata": {
    "colab": {
     "base_uri": "https://localhost:8080/",
     "height": 102
    },
    "colab_type": "code",
    "id": "PYEZWOcu-NMd",
    "outputId": "a0954dc4-0a28-41e8-f732-ad2f4e23d578"
   },
   "outputs": [],
   "source": [
    "np.random.seed(2018)\n",
    "for i in range(5):\n",
    "    print(np.random.random())"
   ]
  },
  {
   "cell_type": "code",
   "execution_count": null,
   "metadata": {
    "colab": {},
    "colab_type": "code",
    "id": "I6hUoptf_gqj"
   },
   "outputs": [],
   "source": []
  }
 ],
 "metadata": {
  "colab": {
   "include_colab_link": true,
   "name": "T2 - 1 - Data Cleaning - Data Wrangling.ipynb",
   "provenance": []
  },
  "kernelspec": {
   "display_name": "Python 3",
   "language": "python",
   "name": "python3"
  },
  "language_info": {
   "codemirror_mode": {
    "name": "ipython",
    "version": 3
   },
   "file_extension": ".py",
   "mimetype": "text/x-python",
   "name": "python",
   "nbconvert_exporter": "python",
   "pygments_lexer": "ipython3",
   "version": "3.8.8"
  }
 },
 "nbformat": 4,
 "nbformat_minor": 4
}
